{
  "cells": [
    {
      "cell_type": "markdown",
      "id": "778ff440",
      "metadata": {
        "id": "778ff440"
      },
      "source": [
        "# Intercomparison\n",
        "\n",
        "**Author:** Adebowale Adebayo\n",
        "\n",
        "**Last updated:** March 23, 2024\n",
        "\n",
        "**Description:** Runs intercomparison and **area estimate** for Senegal 2022\n",
        "\n",
        "## 1. Setup"
      ]
    },
    {
      "cell_type": "code",
      "execution_count": null,
      "id": "fb42d13c",
      "metadata": {
        "id": "fb42d13c"
      },
      "outputs": [],
      "source": [
        "# !earthengine authenticate"
      ]
    },
    {
      "cell_type": "code",
      "execution_count": 70,
      "id": "hZ8qzSlB75kl",
      "metadata": {
        "id": "hZ8qzSlB75kl",
        "outputId": "ab136daf-c3e3-44ea-9257-26d60d10053a",
        "colab": {
          "base_uri": "https://localhost:8080/",
          "height": 160
        }
      },
      "outputs": [
        {
          "output_type": "display_data",
          "data": {
            "text/plain": [
              "<IPython.core.display.HTML object>"
            ],
            "text/html": [
              "\n",
              "            <style>\n",
              "                .geemap-dark {\n",
              "                    --jp-widgets-color: white;\n",
              "                    --jp-widgets-label-color: white;\n",
              "                    --jp-ui-font-color1: white;\n",
              "                    --jp-layout-color2: #454545;\n",
              "                    background-color: #383838;\n",
              "                }\n",
              "\n",
              "                .geemap-dark .jupyter-button {\n",
              "                    --jp-layout-color3: #383838;\n",
              "                }\n",
              "\n",
              "                .geemap-colab {\n",
              "                    background-color: var(--colab-primary-surface-color, white);\n",
              "                }\n",
              "\n",
              "                .geemap-colab .jupyter-button {\n",
              "                    --jp-layout-color3: var(--colab-primary-surface-color, white);\n",
              "                }\n",
              "            </style>\n",
              "            "
            ]
          },
          "metadata": {}
        },
        {
          "output_type": "stream",
          "name": "stdout",
          "text": [
            "Cloning into 'crop-mask'...\n",
            "remote: Enumerating objects: 12171, done.\u001b[K\n",
            "remote: Counting objects: 100% (1603/1603), done.\u001b[K\n",
            "remote: Compressing objects: 100% (441/441), done.\u001b[K\n",
            "remote: Total 12171 (delta 1209), reused 1380 (delta 1135), pack-reused 10568\u001b[K\n",
            "Receiving objects: 100% (12171/12171), 125.89 MiB | 11.33 MiB/s, done.\n",
            "Resolving deltas: 100% (7902/7902), done.\n",
            "Updating files: 100% (212/212), done.\n"
          ]
        }
      ],
      "source": [
        "!git clone https://github.com/nasaharvest/crop-mask.git"
      ]
    },
    {
      "cell_type": "code",
      "execution_count": 71,
      "id": "1fe-6D3f8LTb",
      "metadata": {
        "colab": {
          "base_uri": "https://localhost:8080/",
          "height": 35
        },
        "id": "1fe-6D3f8LTb",
        "outputId": "39e61b33-f367-42a0-e115-1e4e61d322ab"
      },
      "outputs": [
        {
          "output_type": "display_data",
          "data": {
            "text/plain": [
              "<IPython.core.display.HTML object>"
            ],
            "text/html": [
              "\n",
              "            <style>\n",
              "                .geemap-dark {\n",
              "                    --jp-widgets-color: white;\n",
              "                    --jp-widgets-label-color: white;\n",
              "                    --jp-ui-font-color1: white;\n",
              "                    --jp-layout-color2: #454545;\n",
              "                    background-color: #383838;\n",
              "                }\n",
              "\n",
              "                .geemap-dark .jupyter-button {\n",
              "                    --jp-layout-color3: #383838;\n",
              "                }\n",
              "\n",
              "                .geemap-colab {\n",
              "                    background-color: var(--colab-primary-surface-color, white);\n",
              "                }\n",
              "\n",
              "                .geemap-colab .jupyter-button {\n",
              "                    --jp-layout-color3: var(--colab-primary-surface-color, white);\n",
              "                }\n",
              "            </style>\n",
              "            "
            ]
          },
          "metadata": {}
        },
        {
          "output_type": "stream",
          "name": "stdout",
          "text": [
            "/content/crop-mask/crop-mask\n"
          ]
        }
      ],
      "source": [
        "%cd crop-mask/"
      ]
    },
    {
      "cell_type": "code",
      "execution_count": null,
      "id": "V6lTs8Z9Pt-T",
      "metadata": {
        "id": "V6lTs8Z9Pt-T"
      },
      "outputs": [],
      "source": [
        "!git checkout area-estimate-from-multi-land-cover"
      ]
    },
    {
      "cell_type": "code",
      "execution_count": 73,
      "id": "gEUyxHk9MEU2",
      "metadata": {
        "id": "gEUyxHk9MEU2",
        "outputId": "5d4a0b49-6f3e-452b-8865-139a7775b11e",
        "colab": {
          "base_uri": "https://localhost:8080/",
          "height": 17
        }
      },
      "outputs": [
        {
          "output_type": "display_data",
          "data": {
            "text/plain": [
              "<IPython.core.display.HTML object>"
            ],
            "text/html": [
              "\n",
              "            <style>\n",
              "                .geemap-dark {\n",
              "                    --jp-widgets-color: white;\n",
              "                    --jp-widgets-label-color: white;\n",
              "                    --jp-ui-font-color1: white;\n",
              "                    --jp-layout-color2: #454545;\n",
              "                    background-color: #383838;\n",
              "                }\n",
              "\n",
              "                .geemap-dark .jupyter-button {\n",
              "                    --jp-layout-color3: #383838;\n",
              "                }\n",
              "\n",
              "                .geemap-colab {\n",
              "                    background-color: var(--colab-primary-surface-color, white);\n",
              "                }\n",
              "\n",
              "                .geemap-colab .jupyter-button {\n",
              "                    --jp-layout-color3: var(--colab-primary-surface-color, white);\n",
              "                }\n",
              "            </style>\n",
              "            "
            ]
          },
          "metadata": {}
        }
      ],
      "source": [
        "!pip install cartopy -qq\n",
        "!pip install rasterio -qq\n",
        "!pip install dvc[gs] -qq"
      ]
    },
    {
      "cell_type": "code",
      "execution_count": 74,
      "id": "9907f9a5",
      "metadata": {
        "colab": {
          "base_uri": "https://localhost:8080/",
          "height": 17
        },
        "id": "9907f9a5",
        "outputId": "593b90ea-fe30-4b14-9a78-ae61a142e9a9"
      },
      "outputs": [
        {
          "output_type": "display_data",
          "data": {
            "text/plain": [
              "<IPython.core.display.HTML object>"
            ],
            "text/html": [
              "\n",
              "            <style>\n",
              "                .geemap-dark {\n",
              "                    --jp-widgets-color: white;\n",
              "                    --jp-widgets-label-color: white;\n",
              "                    --jp-ui-font-color1: white;\n",
              "                    --jp-layout-color2: #454545;\n",
              "                    background-color: #383838;\n",
              "                }\n",
              "\n",
              "                .geemap-dark .jupyter-button {\n",
              "                    --jp-layout-color3: #383838;\n",
              "                }\n",
              "\n",
              "                .geemap-colab {\n",
              "                    background-color: var(--colab-primary-surface-color, white);\n",
              "                }\n",
              "\n",
              "                .geemap-colab .jupyter-button {\n",
              "                    --jp-layout-color3: var(--colab-primary-surface-color, white);\n",
              "                }\n",
              "            </style>\n",
              "            "
            ]
          },
          "metadata": {}
        }
      ],
      "source": [
        "import ee\n",
        "import geemap\n",
        "import sys\n",
        "import pandas as pd\n",
        "import numpy as np\n",
        "\n",
        "import geopandas as gpd\n",
        "from pathlib import Path\n",
        "\n",
        "ee.Authenticate()\n",
        "ee.Initialize(project=\"bsos-geog-harvest1\")\n",
        "\n",
        "sys.path.append(\"../..\")\n",
        "\n",
        "from src.compare_covermaps import TARGETS, filter_by_bounds, generate_report, CLASS_COL, COUNTRY_COL, get_ensemble_area\n",
        "from src.compare_covermaps import TEST_COUNTRIES, TEST_CODE"
      ]
    },
    {
      "cell_type": "markdown",
      "id": "c61ea4f8",
      "metadata": {
        "id": "c61ea4f8"
      },
      "source": [
        "## 2. Read in evaluation set"
      ]
    },
    {
      "cell_type": "code",
      "execution_count": 75,
      "id": "7f75e567",
      "metadata": {
        "colab": {
          "base_uri": "https://localhost:8080/",
          "height": 17
        },
        "id": "7f75e567",
        "outputId": "2dea5488-5790-4ec2-f2cf-35e17ac6cda8"
      },
      "outputs": [
        {
          "output_type": "display_data",
          "data": {
            "text/plain": [
              "<IPython.core.display.HTML object>"
            ],
            "text/html": [
              "\n",
              "            <style>\n",
              "                .geemap-dark {\n",
              "                    --jp-widgets-color: white;\n",
              "                    --jp-widgets-label-color: white;\n",
              "                    --jp-ui-font-color1: white;\n",
              "                    --jp-layout-color2: #454545;\n",
              "                    background-color: #383838;\n",
              "                }\n",
              "\n",
              "                .geemap-dark .jupyter-button {\n",
              "                    --jp-layout-color3: #383838;\n",
              "                }\n",
              "\n",
              "                .geemap-colab {\n",
              "                    background-color: var(--colab-primary-surface-color, white);\n",
              "                }\n",
              "\n",
              "                .geemap-colab .jupyter-button {\n",
              "                    --jp-layout-color3: var(--colab-primary-surface-color, white);\n",
              "                }\n",
              "            </style>\n",
              "            "
            ]
          },
          "metadata": {}
        }
      ],
      "source": [
        "country = \"Senegal\"\n",
        "\n",
        "if country not in TEST_CODE:\n",
        "    print(f\"WARNING: {country} not found in TEST_CODE in src/compare_covermaps.py\")\n",
        "if country not in TEST_COUNTRIES:\n",
        "    print(f\"WARNING: {country} not found in TEST_COUNTRIES in src/compare_covermaps.py\")\n",
        "if country not in TEST_CODE or country not in TEST_COUNTRIES:\n",
        "    print(\"Please update src/compare_covermaps.py and restart the notebook.\")\n",
        "else:\n",
        "    country_code = TEST_CODE[country]\n",
        "    # dataset_path = \"../\" + TEST_COUNTRIES[country]"
      ]
    },
    {
      "cell_type": "code",
      "execution_count": null,
      "id": "prvHkUXTOe7P",
      "metadata": {
        "colab": {
          "base_uri": "https://localhost:8080/",
          "height": 17
        },
        "id": "prvHkUXTOe7P",
        "outputId": "2bcc021f-673d-4178-be56-1a9608dad321"
      },
      "outputs": [
        {
          "output_type": "display_data",
          "data": {
            "text/plain": [
              "<IPython.core.display.HTML object>"
            ],
            "text/html": [
              "\n",
              "            <style>\n",
              "                .geemap-dark {\n",
              "                    --jp-widgets-color: white;\n",
              "                    --jp-widgets-label-color: white;\n",
              "                    --jp-ui-font-color1: white;\n",
              "                    --jp-layout-color2: #454545;\n",
              "                    background-color: #383838;\n",
              "                }\n",
              "\n",
              "                .geemap-dark .jupyter-button {\n",
              "                    --jp-layout-color3: #383838;\n",
              "                }\n",
              "\n",
              "                .geemap-colab {\n",
              "                    background-color: var(--colab-primary-surface-color, white);\n",
              "                }\n",
              "\n",
              "                .geemap-colab .jupyter-button {\n",
              "                    --jp-layout-color3: var(--colab-primary-surface-color, white);\n",
              "                }\n",
              "            </style>\n",
              "            "
            ]
          },
          "metadata": {}
        }
      ],
      "source": [
        "# dataset_path = TEST_COUNTRIES[country]\n",
        "dataset_path = 'data/datasets/Senegal_CEO_2022.csv'"
      ]
    },
    {
      "cell_type": "code",
      "execution_count": null,
      "id": "vbVX8gFd_N3J",
      "metadata": {
        "id": "vbVX8gFd_N3J"
      },
      "outputs": [],
      "source": [
        "!dvc pull data/datasets"
      ]
    },
    {
      "cell_type": "code",
      "execution_count": null,
      "id": "V8XeT-qci7VG",
      "metadata": {
        "colab": {
          "base_uri": "https://localhost:8080/",
          "height": 17
        },
        "id": "V8XeT-qci7VG",
        "outputId": "c109753f-d46d-465d-8080-295c1783661e"
      },
      "outputs": [
        {
          "output_type": "display_data",
          "data": {
            "text/plain": [
              "<IPython.core.display.HTML object>"
            ],
            "text/html": [
              "\n",
              "            <style>\n",
              "                .geemap-dark {\n",
              "                    --jp-widgets-color: white;\n",
              "                    --jp-widgets-label-color: white;\n",
              "                    --jp-ui-font-color1: white;\n",
              "                    --jp-layout-color2: #454545;\n",
              "                    background-color: #383838;\n",
              "                }\n",
              "\n",
              "                .geemap-dark .jupyter-button {\n",
              "                    --jp-layout-color3: #383838;\n",
              "                }\n",
              "\n",
              "                .geemap-colab {\n",
              "                    background-color: var(--colab-primary-surface-color, white);\n",
              "                }\n",
              "\n",
              "                .geemap-colab .jupyter-button {\n",
              "                    --jp-layout-color3: var(--colab-primary-surface-color, white);\n",
              "                }\n",
              "            </style>\n",
              "            "
            ]
          },
          "metadata": {}
        }
      ],
      "source": [
        "if not Path(dataset_path).exists():\n",
        "    print(f\"WARNING: Dataset: {dataset_path} not found, run `dvc pull data/datasets from root.\")\n",
        "else:\n",
        "    df = pd.read_csv(dataset_path)[[\"lat\", \"lon\", \"class_probability\", \"subset\"]]\n",
        "    df = df[(df[\"class_probability\"] != 0.5)].copy()\n",
        "    # use only test data because validation points used for harvest-dev map\n",
        "    df = df[(df[\"subset\"] == \"validation\") | (df[\"subset\"] == \"testing\")].copy()\n",
        "    df[CLASS_COL] = (df[\"class_probability\"] > 0.5).astype(int)\n",
        "    df[COUNTRY_COL] = country\n",
        "\n",
        "    gdf = gpd.GeoDataFrame(df, geometry=gpd.points_from_xy(df.lon, df.lat), crs=\"epsg:4326\")\n",
        "    gdf = filter_by_bounds(country_code=country_code, gdf=gdf)"
      ]
    },
    {
      "cell_type": "markdown",
      "id": "31341d98",
      "metadata": {
        "id": "31341d98"
      },
      "source": [
        "## 3. Run intercomparison"
      ]
    },
    {
      "cell_type": "code",
      "execution_count": null,
      "id": "ImkKe6cEB4aB",
      "metadata": {
        "colab": {
          "base_uri": "https://localhost:8080/",
          "height": 206
        },
        "id": "ImkKe6cEB4aB",
        "outputId": "b944d6a8-e92c-4e2d-9fad-6d4ee5d257f6"
      },
      "outputs": [
        {
          "output_type": "display_data",
          "data": {
            "text/plain": [
              "<IPython.core.display.HTML object>"
            ],
            "text/html": [
              "\n",
              "            <style>\n",
              "                .geemap-dark {\n",
              "                    --jp-widgets-color: white;\n",
              "                    --jp-widgets-label-color: white;\n",
              "                    --jp-ui-font-color1: white;\n",
              "                    --jp-layout-color2: #454545;\n",
              "                    background-color: #383838;\n",
              "                }\n",
              "\n",
              "                .geemap-dark .jupyter-button {\n",
              "                    --jp-layout-color3: #383838;\n",
              "                }\n",
              "\n",
              "                .geemap-colab {\n",
              "                    background-color: var(--colab-primary-surface-color, white);\n",
              "                }\n",
              "\n",
              "                .geemap-colab .jupyter-button {\n",
              "                    --jp-layout-color3: var(--colab-primary-surface-color, white);\n",
              "                }\n",
              "            </style>\n",
              "            "
            ]
          },
          "metadata": {}
        },
        {
          "output_type": "execute_result",
          "data": {
            "text/plain": [
              "         lat        lon  class_probability      subset  binary  country  \\\n",
              "0  15.033306 -16.937735           0.000000     testing       0  Senegal   \n",
              "2  16.192133 -14.772795           0.000000  validation       0  Senegal   \n",
              "3  15.015340 -13.173794           0.000000  validation       0  Senegal   \n",
              "4  14.799744 -15.329750           0.000000     testing       0  Senegal   \n",
              "5  14.260755 -14.656014           0.333333     testing       0  Senegal   \n",
              "\n",
              "                     geometry  \n",
              "0  POINT (-16.93773 15.03331)  \n",
              "2  POINT (-14.77279 16.19213)  \n",
              "3  POINT (-13.17379 15.01534)  \n",
              "4  POINT (-15.32975 14.79974)  \n",
              "5  POINT (-14.65601 14.26076)  "
            ],
            "text/html": [
              "\n",
              "  <div id=\"df-74e9a31d-ed4f-482e-8ee3-42955557fa25\" class=\"colab-df-container\">\n",
              "    <div>\n",
              "<style scoped>\n",
              "    .dataframe tbody tr th:only-of-type {\n",
              "        vertical-align: middle;\n",
              "    }\n",
              "\n",
              "    .dataframe tbody tr th {\n",
              "        vertical-align: top;\n",
              "    }\n",
              "\n",
              "    .dataframe thead th {\n",
              "        text-align: right;\n",
              "    }\n",
              "</style>\n",
              "<table border=\"1\" class=\"dataframe\">\n",
              "  <thead>\n",
              "    <tr style=\"text-align: right;\">\n",
              "      <th></th>\n",
              "      <th>lat</th>\n",
              "      <th>lon</th>\n",
              "      <th>class_probability</th>\n",
              "      <th>subset</th>\n",
              "      <th>binary</th>\n",
              "      <th>country</th>\n",
              "      <th>geometry</th>\n",
              "    </tr>\n",
              "  </thead>\n",
              "  <tbody>\n",
              "    <tr>\n",
              "      <th>0</th>\n",
              "      <td>15.033306</td>\n",
              "      <td>-16.937735</td>\n",
              "      <td>0.000000</td>\n",
              "      <td>testing</td>\n",
              "      <td>0</td>\n",
              "      <td>Senegal</td>\n",
              "      <td>POINT (-16.93773 15.03331)</td>\n",
              "    </tr>\n",
              "    <tr>\n",
              "      <th>2</th>\n",
              "      <td>16.192133</td>\n",
              "      <td>-14.772795</td>\n",
              "      <td>0.000000</td>\n",
              "      <td>validation</td>\n",
              "      <td>0</td>\n",
              "      <td>Senegal</td>\n",
              "      <td>POINT (-14.77279 16.19213)</td>\n",
              "    </tr>\n",
              "    <tr>\n",
              "      <th>3</th>\n",
              "      <td>15.015340</td>\n",
              "      <td>-13.173794</td>\n",
              "      <td>0.000000</td>\n",
              "      <td>validation</td>\n",
              "      <td>0</td>\n",
              "      <td>Senegal</td>\n",
              "      <td>POINT (-13.17379 15.01534)</td>\n",
              "    </tr>\n",
              "    <tr>\n",
              "      <th>4</th>\n",
              "      <td>14.799744</td>\n",
              "      <td>-15.329750</td>\n",
              "      <td>0.000000</td>\n",
              "      <td>testing</td>\n",
              "      <td>0</td>\n",
              "      <td>Senegal</td>\n",
              "      <td>POINT (-15.32975 14.79974)</td>\n",
              "    </tr>\n",
              "    <tr>\n",
              "      <th>5</th>\n",
              "      <td>14.260755</td>\n",
              "      <td>-14.656014</td>\n",
              "      <td>0.333333</td>\n",
              "      <td>testing</td>\n",
              "      <td>0</td>\n",
              "      <td>Senegal</td>\n",
              "      <td>POINT (-14.65601 14.26076)</td>\n",
              "    </tr>\n",
              "  </tbody>\n",
              "</table>\n",
              "</div>\n",
              "    <div class=\"colab-df-buttons\">\n",
              "\n",
              "  <div class=\"colab-df-container\">\n",
              "    <button class=\"colab-df-convert\" onclick=\"convertToInteractive('df-74e9a31d-ed4f-482e-8ee3-42955557fa25')\"\n",
              "            title=\"Convert this dataframe to an interactive table.\"\n",
              "            style=\"display:none;\">\n",
              "\n",
              "  <svg xmlns=\"http://www.w3.org/2000/svg\" height=\"24px\" viewBox=\"0 -960 960 960\">\n",
              "    <path d=\"M120-120v-720h720v720H120Zm60-500h600v-160H180v160Zm220 220h160v-160H400v160Zm0 220h160v-160H400v160ZM180-400h160v-160H180v160Zm440 0h160v-160H620v160ZM180-180h160v-160H180v160Zm440 0h160v-160H620v160Z\"/>\n",
              "  </svg>\n",
              "    </button>\n",
              "\n",
              "  <style>\n",
              "    .colab-df-container {\n",
              "      display:flex;\n",
              "      gap: 12px;\n",
              "    }\n",
              "\n",
              "    .colab-df-convert {\n",
              "      background-color: #E8F0FE;\n",
              "      border: none;\n",
              "      border-radius: 50%;\n",
              "      cursor: pointer;\n",
              "      display: none;\n",
              "      fill: #1967D2;\n",
              "      height: 32px;\n",
              "      padding: 0 0 0 0;\n",
              "      width: 32px;\n",
              "    }\n",
              "\n",
              "    .colab-df-convert:hover {\n",
              "      background-color: #E2EBFA;\n",
              "      box-shadow: 0px 1px 2px rgba(60, 64, 67, 0.3), 0px 1px 3px 1px rgba(60, 64, 67, 0.15);\n",
              "      fill: #174EA6;\n",
              "    }\n",
              "\n",
              "    .colab-df-buttons div {\n",
              "      margin-bottom: 4px;\n",
              "    }\n",
              "\n",
              "    [theme=dark] .colab-df-convert {\n",
              "      background-color: #3B4455;\n",
              "      fill: #D2E3FC;\n",
              "    }\n",
              "\n",
              "    [theme=dark] .colab-df-convert:hover {\n",
              "      background-color: #434B5C;\n",
              "      box-shadow: 0px 1px 3px 1px rgba(0, 0, 0, 0.15);\n",
              "      filter: drop-shadow(0px 1px 2px rgba(0, 0, 0, 0.3));\n",
              "      fill: #FFFFFF;\n",
              "    }\n",
              "  </style>\n",
              "\n",
              "    <script>\n",
              "      const buttonEl =\n",
              "        document.querySelector('#df-74e9a31d-ed4f-482e-8ee3-42955557fa25 button.colab-df-convert');\n",
              "      buttonEl.style.display =\n",
              "        google.colab.kernel.accessAllowed ? 'block' : 'none';\n",
              "\n",
              "      async function convertToInteractive(key) {\n",
              "        const element = document.querySelector('#df-74e9a31d-ed4f-482e-8ee3-42955557fa25');\n",
              "        const dataTable =\n",
              "          await google.colab.kernel.invokeFunction('convertToInteractive',\n",
              "                                                    [key], {});\n",
              "        if (!dataTable) return;\n",
              "\n",
              "        const docLinkHtml = 'Like what you see? Visit the ' +\n",
              "          '<a target=\"_blank\" href=https://colab.research.google.com/notebooks/data_table.ipynb>data table notebook</a>'\n",
              "          + ' to learn more about interactive tables.';\n",
              "        element.innerHTML = '';\n",
              "        dataTable['output_type'] = 'display_data';\n",
              "        await google.colab.output.renderOutput(dataTable, element);\n",
              "        const docLink = document.createElement('div');\n",
              "        docLink.innerHTML = docLinkHtml;\n",
              "        element.appendChild(docLink);\n",
              "      }\n",
              "    </script>\n",
              "  </div>\n",
              "\n",
              "\n",
              "<div id=\"df-3aed5f31-cd99-4c14-91fc-cdd4f6219209\">\n",
              "  <button class=\"colab-df-quickchart\" onclick=\"quickchart('df-3aed5f31-cd99-4c14-91fc-cdd4f6219209')\"\n",
              "            title=\"Suggest charts\"\n",
              "            style=\"display:none;\">\n",
              "\n",
              "<svg xmlns=\"http://www.w3.org/2000/svg\" height=\"24px\"viewBox=\"0 0 24 24\"\n",
              "     width=\"24px\">\n",
              "    <g>\n",
              "        <path d=\"M19 3H5c-1.1 0-2 .9-2 2v14c0 1.1.9 2 2 2h14c1.1 0 2-.9 2-2V5c0-1.1-.9-2-2-2zM9 17H7v-7h2v7zm4 0h-2V7h2v10zm4 0h-2v-4h2v4z\"/>\n",
              "    </g>\n",
              "</svg>\n",
              "  </button>\n",
              "\n",
              "<style>\n",
              "  .colab-df-quickchart {\n",
              "      --bg-color: #E8F0FE;\n",
              "      --fill-color: #1967D2;\n",
              "      --hover-bg-color: #E2EBFA;\n",
              "      --hover-fill-color: #174EA6;\n",
              "      --disabled-fill-color: #AAA;\n",
              "      --disabled-bg-color: #DDD;\n",
              "  }\n",
              "\n",
              "  [theme=dark] .colab-df-quickchart {\n",
              "      --bg-color: #3B4455;\n",
              "      --fill-color: #D2E3FC;\n",
              "      --hover-bg-color: #434B5C;\n",
              "      --hover-fill-color: #FFFFFF;\n",
              "      --disabled-bg-color: #3B4455;\n",
              "      --disabled-fill-color: #666;\n",
              "  }\n",
              "\n",
              "  .colab-df-quickchart {\n",
              "    background-color: var(--bg-color);\n",
              "    border: none;\n",
              "    border-radius: 50%;\n",
              "    cursor: pointer;\n",
              "    display: none;\n",
              "    fill: var(--fill-color);\n",
              "    height: 32px;\n",
              "    padding: 0;\n",
              "    width: 32px;\n",
              "  }\n",
              "\n",
              "  .colab-df-quickchart:hover {\n",
              "    background-color: var(--hover-bg-color);\n",
              "    box-shadow: 0 1px 2px rgba(60, 64, 67, 0.3), 0 1px 3px 1px rgba(60, 64, 67, 0.15);\n",
              "    fill: var(--button-hover-fill-color);\n",
              "  }\n",
              "\n",
              "  .colab-df-quickchart-complete:disabled,\n",
              "  .colab-df-quickchart-complete:disabled:hover {\n",
              "    background-color: var(--disabled-bg-color);\n",
              "    fill: var(--disabled-fill-color);\n",
              "    box-shadow: none;\n",
              "  }\n",
              "\n",
              "  .colab-df-spinner {\n",
              "    border: 2px solid var(--fill-color);\n",
              "    border-color: transparent;\n",
              "    border-bottom-color: var(--fill-color);\n",
              "    animation:\n",
              "      spin 1s steps(1) infinite;\n",
              "  }\n",
              "\n",
              "  @keyframes spin {\n",
              "    0% {\n",
              "      border-color: transparent;\n",
              "      border-bottom-color: var(--fill-color);\n",
              "      border-left-color: var(--fill-color);\n",
              "    }\n",
              "    20% {\n",
              "      border-color: transparent;\n",
              "      border-left-color: var(--fill-color);\n",
              "      border-top-color: var(--fill-color);\n",
              "    }\n",
              "    30% {\n",
              "      border-color: transparent;\n",
              "      border-left-color: var(--fill-color);\n",
              "      border-top-color: var(--fill-color);\n",
              "      border-right-color: var(--fill-color);\n",
              "    }\n",
              "    40% {\n",
              "      border-color: transparent;\n",
              "      border-right-color: var(--fill-color);\n",
              "      border-top-color: var(--fill-color);\n",
              "    }\n",
              "    60% {\n",
              "      border-color: transparent;\n",
              "      border-right-color: var(--fill-color);\n",
              "    }\n",
              "    80% {\n",
              "      border-color: transparent;\n",
              "      border-right-color: var(--fill-color);\n",
              "      border-bottom-color: var(--fill-color);\n",
              "    }\n",
              "    90% {\n",
              "      border-color: transparent;\n",
              "      border-bottom-color: var(--fill-color);\n",
              "    }\n",
              "  }\n",
              "</style>\n",
              "\n",
              "  <script>\n",
              "    async function quickchart(key) {\n",
              "      const quickchartButtonEl =\n",
              "        document.querySelector('#' + key + ' button');\n",
              "      quickchartButtonEl.disabled = true;  // To prevent multiple clicks.\n",
              "      quickchartButtonEl.classList.add('colab-df-spinner');\n",
              "      try {\n",
              "        const charts = await google.colab.kernel.invokeFunction(\n",
              "            'suggestCharts', [key], {});\n",
              "      } catch (error) {\n",
              "        console.error('Error during call to suggestCharts:', error);\n",
              "      }\n",
              "      quickchartButtonEl.classList.remove('colab-df-spinner');\n",
              "      quickchartButtonEl.classList.add('colab-df-quickchart-complete');\n",
              "    }\n",
              "    (() => {\n",
              "      let quickchartButtonEl =\n",
              "        document.querySelector('#df-3aed5f31-cd99-4c14-91fc-cdd4f6219209 button');\n",
              "      quickchartButtonEl.style.display =\n",
              "        google.colab.kernel.accessAllowed ? 'block' : 'none';\n",
              "    })();\n",
              "  </script>\n",
              "</div>\n",
              "    </div>\n",
              "  </div>\n"
            ],
            "application/vnd.google.colaboratory.intrinsic+json": {
              "type": "dataframe",
              "variable_name": "gdf",
              "summary": "{\n  \"name\": \"gdf\",\n  \"rows\": 1174,\n  \"fields\": [\n    {\n      \"column\": \"lat\",\n      \"properties\": {\n        \"dtype\": \"number\",\n        \"std\": 1.1419422148869118,\n        \"min\": 12.33836043,\n        \"max\": 16.64129064,\n        \"num_unique_values\": 414,\n        \"samples\": [\n          13.33549039,\n          12.76955176,\n          12.84141699\n        ],\n        \"semantic_type\": \"\",\n        \"description\": \"\"\n      }\n    },\n    {\n      \"column\": \"lon\",\n      \"properties\": {\n        \"dtype\": \"number\",\n        \"std\": 1.398664516536919,\n        \"min\": -17.17129666,\n        \"max\": -11.39512938,\n        \"num_unique_values\": 527,\n        \"samples\": [\n          -14.16194045,\n          -14.35058666,\n          -15.29381771\n        ],\n        \"semantic_type\": \"\",\n        \"description\": \"\"\n      }\n    },\n    {\n      \"column\": \"class_probability\",\n      \"properties\": {\n        \"dtype\": \"number\",\n        \"std\": 0.2867099180404072,\n        \"min\": 0.0,\n        \"max\": 1.0,\n        \"num_unique_values\": 4,\n        \"samples\": [\n          0.3333333333333333,\n          0.6666666666666666,\n          0.0\n        ],\n        \"semantic_type\": \"\",\n        \"description\": \"\"\n      }\n    },\n    {\n      \"column\": \"subset\",\n      \"properties\": {\n        \"dtype\": \"category\",\n        \"num_unique_values\": 2,\n        \"samples\": [\n          \"validation\",\n          \"testing\"\n        ],\n        \"semantic_type\": \"\",\n        \"description\": \"\"\n      }\n    },\n    {\n      \"column\": \"binary\",\n      \"properties\": {\n        \"dtype\": \"number\",\n        \"std\": 0,\n        \"min\": 0,\n        \"max\": 1,\n        \"num_unique_values\": 2,\n        \"samples\": [\n          1,\n          0\n        ],\n        \"semantic_type\": \"\",\n        \"description\": \"\"\n      }\n    },\n    {\n      \"column\": \"country\",\n      \"properties\": {\n        \"dtype\": \"category\",\n        \"num_unique_values\": 1,\n        \"samples\": [\n          \"Senegal\"\n        ],\n        \"semantic_type\": \"\",\n        \"description\": \"\"\n      }\n    },\n    {\n      \"column\": \"geometry\",\n      \"properties\": {\n        \"dtype\": \"geometry\",\n        \"num_unique_values\": 1174,\n        \"samples\": [\n          \"POINT (-16.52450965 14.92550845)\"\n        ],\n        \"semantic_type\": \"\",\n        \"description\": \"\"\n      }\n    }\n  ]\n}"
            }
          },
          "metadata": {},
          "execution_count": 69
        }
      ],
      "source": [
        "gdf.head()"
      ]
    },
    {
      "cell_type": "code",
      "execution_count": null,
      "id": "54c4cc0f",
      "metadata": {
        "colab": {
          "base_uri": "https://localhost:8080/",
          "height": 17
        },
        "id": "54c4cc0f",
        "outputId": "5d6bfbea-8783-4736-b85a-7573a83be4c2"
      },
      "outputs": [
        {
          "output_type": "display_data",
          "data": {
            "text/plain": [
              "<IPython.core.display.HTML object>"
            ],
            "text/html": [
              "\n",
              "            <style>\n",
              "                .geemap-dark {\n",
              "                    --jp-widgets-color: white;\n",
              "                    --jp-widgets-label-color: white;\n",
              "                    --jp-ui-font-color1: white;\n",
              "                    --jp-layout-color2: #454545;\n",
              "                    background-color: #383838;\n",
              "                }\n",
              "\n",
              "                .geemap-dark .jupyter-button {\n",
              "                    --jp-layout-color3: #383838;\n",
              "                }\n",
              "\n",
              "                .geemap-colab {\n",
              "                    background-color: var(--colab-primary-surface-color, white);\n",
              "                }\n",
              "\n",
              "                .geemap-colab .jupyter-button {\n",
              "                    --jp-layout-color3: var(--colab-primary-surface-color, white);\n",
              "                }\n",
              "            </style>\n",
              "            "
            ]
          },
          "metadata": {}
        }
      ],
      "source": [
        "TARGETS = {k:v for k,v in TARGETS.items()}\n",
        "for k, v in TARGETS.items():\n",
        "    if country not in v.countries:\n",
        "        continue\n",
        "    if v.year is None:\n",
        "        v.year = v.collection_years[v.countries.index(country)]"
      ]
    },
    {
      "cell_type": "code",
      "execution_count": null,
      "id": "1oQjubrHjkBi",
      "metadata": {
        "colab": {
          "base_uri": "https://localhost:8080/",
          "height": 17
        },
        "id": "1oQjubrHjkBi",
        "outputId": "da49f633-e609-4cc5-c946-24d0a28c153d"
      },
      "outputs": [
        {
          "output_type": "display_data",
          "data": {
            "text/plain": [
              "<IPython.core.display.HTML object>"
            ],
            "text/html": [
              "\n",
              "            <style>\n",
              "                .geemap-dark {\n",
              "                    --jp-widgets-color: white;\n",
              "                    --jp-widgets-label-color: white;\n",
              "                    --jp-ui-font-color1: white;\n",
              "                    --jp-layout-color2: #454545;\n",
              "                    background-color: #383838;\n",
              "                }\n",
              "\n",
              "                .geemap-dark .jupyter-button {\n",
              "                    --jp-layout-color3: #383838;\n",
              "                }\n",
              "\n",
              "                .geemap-colab {\n",
              "                    background-color: var(--colab-primary-surface-color, white);\n",
              "                }\n",
              "\n",
              "                .geemap-colab .jupyter-button {\n",
              "                    --jp-layout-color3: var(--colab-primary-surface-color, white);\n",
              "                }\n",
              "            </style>\n",
              "            "
            ]
          },
          "metadata": {}
        }
      ],
      "source": [
        "reference_year = 2022\n",
        "TARGETS = {k: v for k, v in TARGETS.items() if v.year in range(reference_year - 2, reference_year + 2)} # Adjusted the year range to include more map products\n",
        "# TARGETS = {k: v for k, v in TARGETS.items() if v.year in [reference_year - 2, reference_year, reference_year + 2]}"
      ]
    },
    {
      "cell_type": "code",
      "execution_count": null,
      "id": "98e241d2",
      "metadata": {
        "colab": {
          "base_uri": "https://localhost:8080/",
          "height": 71
        },
        "id": "98e241d2",
        "outputId": "613d619e-b08c-4b3a-df2d-4719b35c4fb9"
      },
      "outputs": [
        {
          "output_type": "display_data",
          "data": {
            "text/plain": [
              "<IPython.core.display.HTML object>"
            ],
            "text/html": [
              "\n",
              "            <style>\n",
              "                .geemap-dark {\n",
              "                    --jp-widgets-color: white;\n",
              "                    --jp-widgets-label-color: white;\n",
              "                    --jp-ui-font-color1: white;\n",
              "                    --jp-layout-color2: #454545;\n",
              "                    background-color: #383838;\n",
              "                }\n",
              "\n",
              "                .geemap-dark .jupyter-button {\n",
              "                    --jp-layout-color3: #383838;\n",
              "                }\n",
              "\n",
              "                .geemap-colab {\n",
              "                    background-color: var(--colab-primary-surface-color, white);\n",
              "                }\n",
              "\n",
              "                .geemap-colab .jupyter-button {\n",
              "                    --jp-layout-color3: var(--colab-primary-surface-color, white);\n",
              "                }\n",
              "            </style>\n",
              "            "
            ]
          },
          "metadata": {}
        },
        {
          "output_type": "stream",
          "name": "stdout",
          "text": [
            "[Senegal] sampling worldcover-v100...\n",
            "[Senegal] sampling worldcover-v200...\n",
            "[Senegal] sampling worldcereal-v100...\n"
          ]
        }
      ],
      "source": [
        "for cropmap in TARGETS.values():\n",
        "    if country not in cropmap.countries:\n",
        "        continue\n",
        "    print(f\"[{country}] sampling \" + cropmap.title + \"...\")\n",
        "    map_sampled = cropmap.extract_test(gdf).copy()\n",
        "    gdf = pd.merge(gdf, map_sampled, on=[\"lat\", \"lon\"], how=\"left\")\n",
        "    gdf.drop_duplicates(inplace=True)  # TODO find why points get duplicated"
      ]
    },
    {
      "cell_type": "code",
      "execution_count": null,
      "id": "95a0f536",
      "metadata": {
        "colab": {
          "base_uri": "https://localhost:8080/",
          "height": 71
        },
        "id": "95a0f536",
        "outputId": "b2c3ab38-6f4f-4e6a-a838-8b5c3d50326c"
      },
      "outputs": [
        {
          "output_type": "display_data",
          "data": {
            "text/plain": [
              "<IPython.core.display.HTML object>"
            ],
            "text/html": [
              "\n",
              "            <style>\n",
              "                .geemap-dark {\n",
              "                    --jp-widgets-color: white;\n",
              "                    --jp-widgets-label-color: white;\n",
              "                    --jp-ui-font-color1: white;\n",
              "                    --jp-layout-color2: #454545;\n",
              "                    background-color: #383838;\n",
              "                }\n",
              "\n",
              "                .geemap-dark .jupyter-button {\n",
              "                    --jp-layout-color3: #383838;\n",
              "                }\n",
              "\n",
              "                .geemap-colab {\n",
              "                    background-color: var(--colab-primary-surface-color, white);\n",
              "                }\n",
              "\n",
              "                .geemap-colab .jupyter-button {\n",
              "                    --jp-layout-color3: var(--colab-primary-surface-color, white);\n",
              "                }\n",
              "            </style>\n",
              "            "
            ]
          },
          "metadata": {}
        },
        {
          "output_type": "stream",
          "name": "stdout",
          "text": [
            "[Senegal] calculating pixel area for worldcover-v100...\n",
            "[Senegal] calculating pixel area for worldcover-v200...\n",
            "[Senegal] calculating pixel area for worldcereal-v100...\n"
          ]
        }
      ],
      "source": [
        "a_j = {}\n",
        "for cropmap in TARGETS.values():\n",
        "    if country not in cropmap.countries:\n",
        "        continue\n",
        "    print(f\"[{country}] calculating pixel area for \" + cropmap.title + \"...\")\n",
        "    # a_j[cropmap.title] = cropmap.compute_map_area(country, export=True, dataset_name=cropmap.title).copy() # I already have the export map areas\n",
        "    a_j[cropmap.title] = np.array([None,None])"
      ]
    },
    {
      "cell_type": "code",
      "execution_count": null,
      "id": "5fJPzvOeUo9G",
      "metadata": {
        "colab": {
          "base_uri": "https://localhost:8080/",
          "height": 17
        },
        "id": "5fJPzvOeUo9G",
        "outputId": "03eeee33-19b5-45fc-8df2-5feb8aade1f2"
      },
      "outputs": [
        {
          "output_type": "display_data",
          "data": {
            "text/plain": [
              "<IPython.core.display.HTML object>"
            ],
            "text/html": [
              "\n",
              "            <style>\n",
              "                .geemap-dark {\n",
              "                    --jp-widgets-color: white;\n",
              "                    --jp-widgets-label-color: white;\n",
              "                    --jp-ui-font-color1: white;\n",
              "                    --jp-layout-color2: #454545;\n",
              "                    background-color: #383838;\n",
              "                }\n",
              "\n",
              "                .geemap-dark .jupyter-button {\n",
              "                    --jp-layout-color3: #383838;\n",
              "                }\n",
              "\n",
              "                .geemap-colab {\n",
              "                    background-color: var(--colab-primary-surface-color, white);\n",
              "                }\n",
              "\n",
              "                .geemap-colab .jupyter-button {\n",
              "                    --jp-layout-color3: var(--colab-primary-surface-color, white);\n",
              "                }\n",
              "            </style>\n",
              "            "
            ]
          },
          "metadata": {}
        }
      ],
      "source": [
        "# update a_j values with exported values\n",
        "for cropmap in a_j.keys():\n",
        "    try:\n",
        "        area_df = pd.read_csv(f'./Crop_NonCrop_Area_Sum_Export-{country}-{cropmap}.csv')\n",
        "    except:\n",
        "        continue\n",
        "    crop_area = int(area_df['crop_sum'][0])\n",
        "    noncrop_area = int(area_df['noncrop_sum'][0])\n",
        "    a_j[cropmap] = np.array([noncrop_area, crop_area])"
      ]
    },
    {
      "cell_type": "code",
      "execution_count": null,
      "id": "zyR4qCJ49Rh5",
      "metadata": {
        "colab": {
          "base_uri": "https://localhost:8080/",
          "height": 17
        },
        "id": "zyR4qCJ49Rh5",
        "outputId": "e4d11d48-53e2-4a9e-bd99-72efb379d0a5"
      },
      "outputs": [
        {
          "output_type": "display_data",
          "data": {
            "text/plain": [
              "<IPython.core.display.HTML object>"
            ],
            "text/html": [
              "\n",
              "            <style>\n",
              "                .geemap-dark {\n",
              "                    --jp-widgets-color: white;\n",
              "                    --jp-widgets-label-color: white;\n",
              "                    --jp-ui-font-color1: white;\n",
              "                    --jp-layout-color2: #454545;\n",
              "                    background-color: #383838;\n",
              "                }\n",
              "\n",
              "                .geemap-dark .jupyter-button {\n",
              "                    --jp-layout-color3: #383838;\n",
              "                }\n",
              "\n",
              "                .geemap-colab {\n",
              "                    background-color: var(--colab-primary-surface-color, white);\n",
              "                }\n",
              "\n",
              "                .geemap-colab .jupyter-button {\n",
              "                    --jp-layout-color3: var(--colab-primary-surface-color, white);\n",
              "                }\n",
              "            </style>\n",
              "            "
            ]
          },
          "metadata": {}
        }
      ],
      "source": [
        "# Change None to nan\n",
        "a_j = {k: np.array([np.nan, np.nan]) if np.any(v == None) else v for k,v in a_j.items()}"
      ]
    },
    {
      "cell_type": "code",
      "execution_count": null,
      "id": "LY6Q_QtUgME_",
      "metadata": {
        "colab": {
          "base_uri": "https://localhost:8080/",
          "height": 17
        },
        "id": "LY6Q_QtUgME_",
        "outputId": "691142c7-c26c-4eb7-e91c-7ac4ce59b000"
      },
      "outputs": [
        {
          "output_type": "display_data",
          "data": {
            "text/plain": [
              "<IPython.core.display.HTML object>"
            ],
            "text/html": [
              "\n",
              "            <style>\n",
              "                .geemap-dark {\n",
              "                    --jp-widgets-color: white;\n",
              "                    --jp-widgets-label-color: white;\n",
              "                    --jp-ui-font-color1: white;\n",
              "                    --jp-layout-color2: #454545;\n",
              "                    background-color: #383838;\n",
              "                }\n",
              "\n",
              "                .geemap-dark .jupyter-button {\n",
              "                    --jp-layout-color3: #383838;\n",
              "                }\n",
              "\n",
              "                .geemap-colab {\n",
              "                    background-color: var(--colab-primary-surface-color, white);\n",
              "                }\n",
              "\n",
              "                .geemap-colab .jupyter-button {\n",
              "                    --jp-layout-color3: var(--colab-primary-surface-color, white);\n",
              "                }\n",
              "            </style>\n",
              "            "
            ]
          },
          "metadata": {}
        }
      ],
      "source": [
        "from src.area_utils import compute_area_estimate, compute_area_error_matrix, compute_std_p_i\n",
        "from sklearn.metrics import confusion_matrix"
      ]
    },
    {
      "cell_type": "code",
      "execution_count": null,
      "id": "oojPqwSboiWU",
      "metadata": {
        "colab": {
          "base_uri": "https://localhost:8080/",
          "height": 17
        },
        "id": "oojPqwSboiWU",
        "outputId": "f83877e9-55a7-43d3-ec9f-8e30752f0c69"
      },
      "outputs": [
        {
          "output_type": "display_data",
          "data": {
            "text/plain": [
              "<IPython.core.display.HTML object>"
            ],
            "text/html": [
              "\n",
              "            <style>\n",
              "                .geemap-dark {\n",
              "                    --jp-widgets-color: white;\n",
              "                    --jp-widgets-label-color: white;\n",
              "                    --jp-ui-font-color1: white;\n",
              "                    --jp-layout-color2: #454545;\n",
              "                    background-color: #383838;\n",
              "                }\n",
              "\n",
              "                .geemap-dark .jupyter-button {\n",
              "                    --jp-layout-color3: #383838;\n",
              "                }\n",
              "\n",
              "                .geemap-colab {\n",
              "                    background-color: var(--colab-primary-surface-color, white);\n",
              "                }\n",
              "\n",
              "                .geemap-colab .jupyter-button {\n",
              "                    --jp-layout-color3: var(--colab-primary-surface-color, white);\n",
              "                }\n",
              "            </style>\n",
              "            "
            ]
          },
          "metadata": {}
        }
      ],
      "source": [
        "def compute_area_estimate(dataset, true, pred, a_j, resolution, year):\n",
        "    cm = confusion_matrix(true, pred)\n",
        "    total_px = a_j.sum()\n",
        "    w_j = a_j / total_px\n",
        "\n",
        "    am = compute_area_error_matrix(cm, w_j)\n",
        "    a_i = am.sum(axis=1)\n",
        "    std_a_i = compute_std_p_i(w_j, am, cm)\n",
        "    err_a_i = 1.96 * std_a_i\n",
        "\n",
        "    a_px = total_px * a_i\n",
        "    err_px = err_a_i * total_px\n",
        "    return pd.DataFrame(\n",
        "        data={\n",
        "            \"dataset\": dataset,\n",
        "            \"area_ha\": a_px[1] * (resolution**2) / (100**2),\n",
        "            \"err_ha\": err_px[1] * (resolution**2) / (100**2),\n",
        "            \"year\": int(year),\n",
        "        },\n",
        "        index=[0],\n",
        "    ).round(2)"
      ]
    },
    {
      "cell_type": "code",
      "execution_count": null,
      "id": "ti5ZXmbyn6Mm",
      "metadata": {
        "colab": {
          "base_uri": "https://localhost:8080/",
          "height": 17
        },
        "id": "ti5ZXmbyn6Mm",
        "outputId": "9a1da855-5908-46bf-c0be-82945f64c788"
      },
      "outputs": [
        {
          "output_type": "display_data",
          "data": {
            "text/plain": [
              "<IPython.core.display.HTML object>"
            ],
            "text/html": [
              "\n",
              "            <style>\n",
              "                .geemap-dark {\n",
              "                    --jp-widgets-color: white;\n",
              "                    --jp-widgets-label-color: white;\n",
              "                    --jp-ui-font-color1: white;\n",
              "                    --jp-layout-color2: #454545;\n",
              "                    background-color: #383838;\n",
              "                }\n",
              "\n",
              "                .geemap-dark .jupyter-button {\n",
              "                    --jp-layout-color3: #383838;\n",
              "                }\n",
              "\n",
              "                .geemap-colab {\n",
              "                    background-color: var(--colab-primary-surface-color, white);\n",
              "                }\n",
              "\n",
              "                .geemap-colab .jupyter-button {\n",
              "                    --jp-layout-color3: var(--colab-primary-surface-color, white);\n",
              "                }\n",
              "            </style>\n",
              "            "
            ]
          },
          "metadata": {}
        }
      ],
      "source": [
        "comparisons = []\n",
        "area_est = []\n",
        "for cropmap in TARGETS.values():\n",
        "    cropmap, resolution, year = cropmap.title, cropmap.resolution, cropmap.year\n",
        "    if cropmap not in gdf.columns:\n",
        "        continue\n",
        "    temp = gdf[[CLASS_COL, cropmap]].dropna()\n",
        "    area = compute_area_estimate(cropmap, temp[CLASS_COL], temp[cropmap], a_j[cropmap], resolution, year)\n",
        "    comparison = generate_report(cropmap, country, temp[CLASS_COL], temp[cropmap], a_j[cropmap], area_weighted=True)\n",
        "    comparisons.append(comparison)\n",
        "    area_est.append(area)\n",
        "\n",
        "# # Add ensemble\n",
        "# ensemble_maps = [\"glad\", \"esri-lulc\"] # Should be odd number\n",
        "\n",
        "# print(f\"Ensemble maps: {ensemble_maps}\")\n",
        "# ensemble = gdf[ensemble_maps].mode(axis='columns')\n",
        "# a_j['ensemble-subset'] = get_ensemble_area(country, [TARGETS[name] for name in ensemble_maps])\n",
        "# comparison = generate_report(\"ensemble-subset\", country, gdf[CLASS_COL], ensemble, a_j['ensemble-subset'], area_weighted=True)\n",
        "# area = compute_area_estimate(\"ensemble-subset\", gdf[CLASS_COL], ensemble, a_j['ensemble-subset'], 10)\n",
        "# comparisons.append(comparison)\n",
        "# area_est.append(area)\n",
        "\n",
        "comparisons = pd.concat(comparisons).set_index(['dataset'])\n",
        "area_est = pd.concat(area_est).set_index(['dataset'])\n",
        "\n",
        "results = comparisons.merge(area_est, on='dataset')"
      ]
    },
    {
      "cell_type": "code",
      "execution_count": null,
      "id": "QrAgv7pP1lcz",
      "metadata": {
        "colab": {
          "base_uri": "https://localhost:8080/",
          "height": 17
        },
        "id": "QrAgv7pP1lcz",
        "outputId": "6f33c955-6ceb-4295-84ed-4aaf65c1512f"
      },
      "outputs": [
        {
          "data": {
            "text/html": [
              "\n",
              "            <style>\n",
              "                .geemap-dark {\n",
              "                    --jp-widgets-color: white;\n",
              "                    --jp-widgets-label-color: white;\n",
              "                    --jp-ui-font-color1: white;\n",
              "                    --jp-layout-color2: #454545;\n",
              "                    background-color: #383838;\n",
              "                }\n",
              "                    \n",
              "                .geemap-dark .jupyter-button {\n",
              "                    --jp-layout-color3: #383838;\n",
              "                }\n",
              "                \n",
              "                .geemap-colab {\n",
              "                    background-color: var(--colab-primary-surface-color, white);\n",
              "                }\n",
              "                    \n",
              "                .geemap-colab .jupyter-button {\n",
              "                    --jp-layout-color3: var(--colab-primary-surface-color, white);\n",
              "                }\n",
              "            </style>\n",
              "            "
            ],
            "text/plain": [
              "<IPython.core.display.HTML object>"
            ]
          },
          "metadata": {},
          "output_type": "display_data"
        }
      ],
      "source": [
        "results.to_csv('results.csv')"
      ]
    },
    {
      "cell_type": "code",
      "execution_count": null,
      "id": "nAj0p7VS1_2K",
      "metadata": {
        "colab": {
          "base_uri": "https://localhost:8080/",
          "height": 175
        },
        "id": "nAj0p7VS1_2K",
        "outputId": "b3fe8257-7e90-43e7-cecf-095c2d328aa8"
      },
      "outputs": [
        {
          "output_type": "display_data",
          "data": {
            "text/plain": [
              "<IPython.core.display.HTML object>"
            ],
            "text/html": [
              "\n",
              "            <style>\n",
              "                .geemap-dark {\n",
              "                    --jp-widgets-color: white;\n",
              "                    --jp-widgets-label-color: white;\n",
              "                    --jp-ui-font-color1: white;\n",
              "                    --jp-layout-color2: #454545;\n",
              "                    background-color: #383838;\n",
              "                }\n",
              "\n",
              "                .geemap-dark .jupyter-button {\n",
              "                    --jp-layout-color3: #383838;\n",
              "                }\n",
              "\n",
              "                .geemap-colab {\n",
              "                    background-color: var(--colab-primary-surface-color, white);\n",
              "                }\n",
              "\n",
              "                .geemap-colab .jupyter-button {\n",
              "                    --jp-layout-color3: var(--colab-primary-surface-color, white);\n",
              "                }\n",
              "            </style>\n",
              "            "
            ]
          },
          "metadata": {}
        },
        {
          "output_type": "execute_result",
          "data": {
            "text/plain": [
              "                  crop_f1  accuracy  std_acc  crop_recall_pa  std_crop_pa  \\\n",
              "dataset                                                                     \n",
              "worldcover-v100      0.65      0.89     0.01            0.70         0.03   \n",
              "worldcover-v200      0.67      0.90     0.01            0.73         0.03   \n",
              "worldcereal-v100     0.64      0.89     0.01            0.68         0.03   \n",
              "\n",
              "                  crop_precision_ua  std_crop_ua     area_ha     err_ha  year  \n",
              "dataset                                                                        \n",
              "worldcover-v100                0.62         0.04  2991154.22  343812.58  2020  \n",
              "worldcover-v200                0.63         0.04  2974111.70  334988.16  2021  \n",
              "worldcereal-v100               0.61         0.04  3013651.69  351020.07  2021  "
            ],
            "text/html": [
              "\n",
              "  <div id=\"df-a5893ae4-54cd-40db-8786-2f936165fe2a\" class=\"colab-df-container\">\n",
              "    <div>\n",
              "<style scoped>\n",
              "    .dataframe tbody tr th:only-of-type {\n",
              "        vertical-align: middle;\n",
              "    }\n",
              "\n",
              "    .dataframe tbody tr th {\n",
              "        vertical-align: top;\n",
              "    }\n",
              "\n",
              "    .dataframe thead th {\n",
              "        text-align: right;\n",
              "    }\n",
              "</style>\n",
              "<table border=\"1\" class=\"dataframe\">\n",
              "  <thead>\n",
              "    <tr style=\"text-align: right;\">\n",
              "      <th></th>\n",
              "      <th>crop_f1</th>\n",
              "      <th>accuracy</th>\n",
              "      <th>std_acc</th>\n",
              "      <th>crop_recall_pa</th>\n",
              "      <th>std_crop_pa</th>\n",
              "      <th>crop_precision_ua</th>\n",
              "      <th>std_crop_ua</th>\n",
              "      <th>area_ha</th>\n",
              "      <th>err_ha</th>\n",
              "      <th>year</th>\n",
              "    </tr>\n",
              "    <tr>\n",
              "      <th>dataset</th>\n",
              "      <th></th>\n",
              "      <th></th>\n",
              "      <th></th>\n",
              "      <th></th>\n",
              "      <th></th>\n",
              "      <th></th>\n",
              "      <th></th>\n",
              "      <th></th>\n",
              "      <th></th>\n",
              "      <th></th>\n",
              "    </tr>\n",
              "  </thead>\n",
              "  <tbody>\n",
              "    <tr>\n",
              "      <th>worldcover-v100</th>\n",
              "      <td>0.65</td>\n",
              "      <td>0.89</td>\n",
              "      <td>0.01</td>\n",
              "      <td>0.70</td>\n",
              "      <td>0.03</td>\n",
              "      <td>0.62</td>\n",
              "      <td>0.04</td>\n",
              "      <td>2991154.22</td>\n",
              "      <td>343812.58</td>\n",
              "      <td>2020</td>\n",
              "    </tr>\n",
              "    <tr>\n",
              "      <th>worldcover-v200</th>\n",
              "      <td>0.67</td>\n",
              "      <td>0.90</td>\n",
              "      <td>0.01</td>\n",
              "      <td>0.73</td>\n",
              "      <td>0.03</td>\n",
              "      <td>0.63</td>\n",
              "      <td>0.04</td>\n",
              "      <td>2974111.70</td>\n",
              "      <td>334988.16</td>\n",
              "      <td>2021</td>\n",
              "    </tr>\n",
              "    <tr>\n",
              "      <th>worldcereal-v100</th>\n",
              "      <td>0.64</td>\n",
              "      <td>0.89</td>\n",
              "      <td>0.01</td>\n",
              "      <td>0.68</td>\n",
              "      <td>0.03</td>\n",
              "      <td>0.61</td>\n",
              "      <td>0.04</td>\n",
              "      <td>3013651.69</td>\n",
              "      <td>351020.07</td>\n",
              "      <td>2021</td>\n",
              "    </tr>\n",
              "  </tbody>\n",
              "</table>\n",
              "</div>\n",
              "    <div class=\"colab-df-buttons\">\n",
              "\n",
              "  <div class=\"colab-df-container\">\n",
              "    <button class=\"colab-df-convert\" onclick=\"convertToInteractive('df-a5893ae4-54cd-40db-8786-2f936165fe2a')\"\n",
              "            title=\"Convert this dataframe to an interactive table.\"\n",
              "            style=\"display:none;\">\n",
              "\n",
              "  <svg xmlns=\"http://www.w3.org/2000/svg\" height=\"24px\" viewBox=\"0 -960 960 960\">\n",
              "    <path d=\"M120-120v-720h720v720H120Zm60-500h600v-160H180v160Zm220 220h160v-160H400v160Zm0 220h160v-160H400v160ZM180-400h160v-160H180v160Zm440 0h160v-160H620v160ZM180-180h160v-160H180v160Zm440 0h160v-160H620v160Z\"/>\n",
              "  </svg>\n",
              "    </button>\n",
              "\n",
              "  <style>\n",
              "    .colab-df-container {\n",
              "      display:flex;\n",
              "      gap: 12px;\n",
              "    }\n",
              "\n",
              "    .colab-df-convert {\n",
              "      background-color: #E8F0FE;\n",
              "      border: none;\n",
              "      border-radius: 50%;\n",
              "      cursor: pointer;\n",
              "      display: none;\n",
              "      fill: #1967D2;\n",
              "      height: 32px;\n",
              "      padding: 0 0 0 0;\n",
              "      width: 32px;\n",
              "    }\n",
              "\n",
              "    .colab-df-convert:hover {\n",
              "      background-color: #E2EBFA;\n",
              "      box-shadow: 0px 1px 2px rgba(60, 64, 67, 0.3), 0px 1px 3px 1px rgba(60, 64, 67, 0.15);\n",
              "      fill: #174EA6;\n",
              "    }\n",
              "\n",
              "    .colab-df-buttons div {\n",
              "      margin-bottom: 4px;\n",
              "    }\n",
              "\n",
              "    [theme=dark] .colab-df-convert {\n",
              "      background-color: #3B4455;\n",
              "      fill: #D2E3FC;\n",
              "    }\n",
              "\n",
              "    [theme=dark] .colab-df-convert:hover {\n",
              "      background-color: #434B5C;\n",
              "      box-shadow: 0px 1px 3px 1px rgba(0, 0, 0, 0.15);\n",
              "      filter: drop-shadow(0px 1px 2px rgba(0, 0, 0, 0.3));\n",
              "      fill: #FFFFFF;\n",
              "    }\n",
              "  </style>\n",
              "\n",
              "    <script>\n",
              "      const buttonEl =\n",
              "        document.querySelector('#df-a5893ae4-54cd-40db-8786-2f936165fe2a button.colab-df-convert');\n",
              "      buttonEl.style.display =\n",
              "        google.colab.kernel.accessAllowed ? 'block' : 'none';\n",
              "\n",
              "      async function convertToInteractive(key) {\n",
              "        const element = document.querySelector('#df-a5893ae4-54cd-40db-8786-2f936165fe2a');\n",
              "        const dataTable =\n",
              "          await google.colab.kernel.invokeFunction('convertToInteractive',\n",
              "                                                    [key], {});\n",
              "        if (!dataTable) return;\n",
              "\n",
              "        const docLinkHtml = 'Like what you see? Visit the ' +\n",
              "          '<a target=\"_blank\" href=https://colab.research.google.com/notebooks/data_table.ipynb>data table notebook</a>'\n",
              "          + ' to learn more about interactive tables.';\n",
              "        element.innerHTML = '';\n",
              "        dataTable['output_type'] = 'display_data';\n",
              "        await google.colab.output.renderOutput(dataTable, element);\n",
              "        const docLink = document.createElement('div');\n",
              "        docLink.innerHTML = docLinkHtml;\n",
              "        element.appendChild(docLink);\n",
              "      }\n",
              "    </script>\n",
              "  </div>\n",
              "\n",
              "\n",
              "<div id=\"df-8b499663-4b89-4764-a17d-cecbf1aadd99\">\n",
              "  <button class=\"colab-df-quickchart\" onclick=\"quickchart('df-8b499663-4b89-4764-a17d-cecbf1aadd99')\"\n",
              "            title=\"Suggest charts\"\n",
              "            style=\"display:none;\">\n",
              "\n",
              "<svg xmlns=\"http://www.w3.org/2000/svg\" height=\"24px\"viewBox=\"0 0 24 24\"\n",
              "     width=\"24px\">\n",
              "    <g>\n",
              "        <path d=\"M19 3H5c-1.1 0-2 .9-2 2v14c0 1.1.9 2 2 2h14c1.1 0 2-.9 2-2V5c0-1.1-.9-2-2-2zM9 17H7v-7h2v7zm4 0h-2V7h2v10zm4 0h-2v-4h2v4z\"/>\n",
              "    </g>\n",
              "</svg>\n",
              "  </button>\n",
              "\n",
              "<style>\n",
              "  .colab-df-quickchart {\n",
              "      --bg-color: #E8F0FE;\n",
              "      --fill-color: #1967D2;\n",
              "      --hover-bg-color: #E2EBFA;\n",
              "      --hover-fill-color: #174EA6;\n",
              "      --disabled-fill-color: #AAA;\n",
              "      --disabled-bg-color: #DDD;\n",
              "  }\n",
              "\n",
              "  [theme=dark] .colab-df-quickchart {\n",
              "      --bg-color: #3B4455;\n",
              "      --fill-color: #D2E3FC;\n",
              "      --hover-bg-color: #434B5C;\n",
              "      --hover-fill-color: #FFFFFF;\n",
              "      --disabled-bg-color: #3B4455;\n",
              "      --disabled-fill-color: #666;\n",
              "  }\n",
              "\n",
              "  .colab-df-quickchart {\n",
              "    background-color: var(--bg-color);\n",
              "    border: none;\n",
              "    border-radius: 50%;\n",
              "    cursor: pointer;\n",
              "    display: none;\n",
              "    fill: var(--fill-color);\n",
              "    height: 32px;\n",
              "    padding: 0;\n",
              "    width: 32px;\n",
              "  }\n",
              "\n",
              "  .colab-df-quickchart:hover {\n",
              "    background-color: var(--hover-bg-color);\n",
              "    box-shadow: 0 1px 2px rgba(60, 64, 67, 0.3), 0 1px 3px 1px rgba(60, 64, 67, 0.15);\n",
              "    fill: var(--button-hover-fill-color);\n",
              "  }\n",
              "\n",
              "  .colab-df-quickchart-complete:disabled,\n",
              "  .colab-df-quickchart-complete:disabled:hover {\n",
              "    background-color: var(--disabled-bg-color);\n",
              "    fill: var(--disabled-fill-color);\n",
              "    box-shadow: none;\n",
              "  }\n",
              "\n",
              "  .colab-df-spinner {\n",
              "    border: 2px solid var(--fill-color);\n",
              "    border-color: transparent;\n",
              "    border-bottom-color: var(--fill-color);\n",
              "    animation:\n",
              "      spin 1s steps(1) infinite;\n",
              "  }\n",
              "\n",
              "  @keyframes spin {\n",
              "    0% {\n",
              "      border-color: transparent;\n",
              "      border-bottom-color: var(--fill-color);\n",
              "      border-left-color: var(--fill-color);\n",
              "    }\n",
              "    20% {\n",
              "      border-color: transparent;\n",
              "      border-left-color: var(--fill-color);\n",
              "      border-top-color: var(--fill-color);\n",
              "    }\n",
              "    30% {\n",
              "      border-color: transparent;\n",
              "      border-left-color: var(--fill-color);\n",
              "      border-top-color: var(--fill-color);\n",
              "      border-right-color: var(--fill-color);\n",
              "    }\n",
              "    40% {\n",
              "      border-color: transparent;\n",
              "      border-right-color: var(--fill-color);\n",
              "      border-top-color: var(--fill-color);\n",
              "    }\n",
              "    60% {\n",
              "      border-color: transparent;\n",
              "      border-right-color: var(--fill-color);\n",
              "    }\n",
              "    80% {\n",
              "      border-color: transparent;\n",
              "      border-right-color: var(--fill-color);\n",
              "      border-bottom-color: var(--fill-color);\n",
              "    }\n",
              "    90% {\n",
              "      border-color: transparent;\n",
              "      border-bottom-color: var(--fill-color);\n",
              "    }\n",
              "  }\n",
              "</style>\n",
              "\n",
              "  <script>\n",
              "    async function quickchart(key) {\n",
              "      const quickchartButtonEl =\n",
              "        document.querySelector('#' + key + ' button');\n",
              "      quickchartButtonEl.disabled = true;  // To prevent multiple clicks.\n",
              "      quickchartButtonEl.classList.add('colab-df-spinner');\n",
              "      try {\n",
              "        const charts = await google.colab.kernel.invokeFunction(\n",
              "            'suggestCharts', [key], {});\n",
              "      } catch (error) {\n",
              "        console.error('Error during call to suggestCharts:', error);\n",
              "      }\n",
              "      quickchartButtonEl.classList.remove('colab-df-spinner');\n",
              "      quickchartButtonEl.classList.add('colab-df-quickchart-complete');\n",
              "    }\n",
              "    (() => {\n",
              "      let quickchartButtonEl =\n",
              "        document.querySelector('#df-8b499663-4b89-4764-a17d-cecbf1aadd99 button');\n",
              "      quickchartButtonEl.style.display =\n",
              "        google.colab.kernel.accessAllowed ? 'block' : 'none';\n",
              "    })();\n",
              "  </script>\n",
              "</div>\n",
              "    </div>\n",
              "  </div>\n"
            ],
            "application/vnd.google.colaboratory.intrinsic+json": {
              "type": "dataframe",
              "summary": "{\n  \"name\": \"results[['crop_f1','accuracy','std_acc','crop_recall_pa','std_crop_pa','crop_precision_ua','std_crop_ua','area_ha','err_ha', 'year']] # include User and producer's accuracy with their 95% CI\",\n  \"rows\": 3,\n  \"fields\": [\n    {\n      \"column\": \"dataset\",\n      \"properties\": {\n        \"dtype\": \"string\",\n        \"num_unique_values\": 3,\n        \"samples\": [\n          \"worldcover-v100\",\n          \"worldcover-v200\",\n          \"worldcereal-v100\"\n        ],\n        \"semantic_type\": \"\",\n        \"description\": \"\"\n      }\n    },\n    {\n      \"column\": \"crop_f1\",\n      \"properties\": {\n        \"dtype\": \"number\",\n        \"std\": 0.01527525231651948,\n        \"min\": 0.64,\n        \"max\": 0.67,\n        \"num_unique_values\": 3,\n        \"samples\": [\n          0.65,\n          0.67,\n          0.64\n        ],\n        \"semantic_type\": \"\",\n        \"description\": \"\"\n      }\n    },\n    {\n      \"column\": \"accuracy\",\n      \"properties\": {\n        \"dtype\": \"number\",\n        \"std\": 0.005773502691896263,\n        \"min\": 0.89,\n        \"max\": 0.9,\n        \"num_unique_values\": 2,\n        \"samples\": [\n          0.9,\n          0.89\n        ],\n        \"semantic_type\": \"\",\n        \"description\": \"\"\n      }\n    },\n    {\n      \"column\": \"std_acc\",\n      \"properties\": {\n        \"dtype\": \"number\",\n        \"std\": 0.0,\n        \"min\": 0.01,\n        \"max\": 0.01,\n        \"num_unique_values\": 1,\n        \"samples\": [\n          0.01\n        ],\n        \"semantic_type\": \"\",\n        \"description\": \"\"\n      }\n    },\n    {\n      \"column\": \"crop_recall_pa\",\n      \"properties\": {\n        \"dtype\": \"number\",\n        \"std\": 0.025166114784235805,\n        \"min\": 0.68,\n        \"max\": 0.73,\n        \"num_unique_values\": 3,\n        \"samples\": [\n          0.7\n        ],\n        \"semantic_type\": \"\",\n        \"description\": \"\"\n      }\n    },\n    {\n      \"column\": \"std_crop_pa\",\n      \"properties\": {\n        \"dtype\": \"number\",\n        \"std\": 0.0,\n        \"min\": 0.03,\n        \"max\": 0.03,\n        \"num_unique_values\": 1,\n        \"samples\": [\n          0.03\n        ],\n        \"semantic_type\": \"\",\n        \"description\": \"\"\n      }\n    },\n    {\n      \"column\": \"crop_precision_ua\",\n      \"properties\": {\n        \"dtype\": \"number\",\n        \"std\": 0.010000000000000009,\n        \"min\": 0.61,\n        \"max\": 0.63,\n        \"num_unique_values\": 3,\n        \"samples\": [\n          0.62\n        ],\n        \"semantic_type\": \"\",\n        \"description\": \"\"\n      }\n    },\n    {\n      \"column\": \"std_crop_ua\",\n      \"properties\": {\n        \"dtype\": \"number\",\n        \"std\": 0.0,\n        \"min\": 0.04,\n        \"max\": 0.04,\n        \"num_unique_values\": 1,\n        \"samples\": [\n          0.04\n        ],\n        \"semantic_type\": \"\",\n        \"description\": \"\"\n      }\n    },\n    {\n      \"column\": \"area_ha\",\n      \"properties\": {\n        \"dtype\": \"number\",\n        \"std\": 19832.60973561544,\n        \"min\": 2974111.7,\n        \"max\": 3013651.69,\n        \"num_unique_values\": 3,\n        \"samples\": [\n          2991154.22\n        ],\n        \"semantic_type\": \"\",\n        \"description\": \"\"\n      }\n    },\n    {\n      \"column\": \"err_ha\",\n      \"properties\": {\n        \"dtype\": \"number\",\n        \"std\": 8029.533389147442,\n        \"min\": 334988.16,\n        \"max\": 351020.07,\n        \"num_unique_values\": 3,\n        \"samples\": [\n          343812.58\n        ],\n        \"semantic_type\": \"\",\n        \"description\": \"\"\n      }\n    },\n    {\n      \"column\": \"year\",\n      \"properties\": {\n        \"dtype\": \"number\",\n        \"std\": 0,\n        \"min\": 2020,\n        \"max\": 2021,\n        \"num_unique_values\": 2,\n        \"samples\": [\n          2021\n        ],\n        \"semantic_type\": \"\",\n        \"description\": \"\"\n      }\n    }\n  ]\n}"
            }
          },
          "metadata": {},
          "execution_count": 58
        }
      ],
      "source": [
        "results[['crop_f1','accuracy','std_acc','crop_recall_pa','std_crop_pa','crop_precision_ua','std_crop_ua','area_ha','err_ha', 'year']] # include User and producer's accuracy with their 95% CI"
      ]
    },
    {
      "cell_type": "markdown",
      "id": "fa969373",
      "metadata": {
        "id": "fa969373"
      },
      "source": [
        "## 4. Visualize best available map"
      ]
    },
    {
      "cell_type": "code",
      "execution_count": null,
      "id": "qenOtnORfGTR",
      "metadata": {
        "colab": {
          "base_uri": "https://localhost:8080/",
          "height": 17
        },
        "id": "qenOtnORfGTR",
        "outputId": "b1db1068-4c95-45f5-bf5a-9c3603a49c1d"
      },
      "outputs": [
        {
          "output_type": "display_data",
          "data": {
            "text/plain": [
              "<IPython.core.display.HTML object>"
            ],
            "text/html": [
              "\n",
              "            <style>\n",
              "                .geemap-dark {\n",
              "                    --jp-widgets-color: white;\n",
              "                    --jp-widgets-label-color: white;\n",
              "                    --jp-ui-font-color1: white;\n",
              "                    --jp-layout-color2: #454545;\n",
              "                    background-color: #383838;\n",
              "                }\n",
              "\n",
              "                .geemap-dark .jupyter-button {\n",
              "                    --jp-layout-color3: #383838;\n",
              "                }\n",
              "\n",
              "                .geemap-colab {\n",
              "                    background-color: var(--colab-primary-surface-color, white);\n",
              "                }\n",
              "\n",
              "                .geemap-colab .jupyter-button {\n",
              "                    --jp-layout-color3: var(--colab-primary-surface-color, white);\n",
              "                }\n",
              "            </style>\n",
              "            "
            ]
          },
          "metadata": {}
        }
      ],
      "source": [
        "results.dropna(inplace=True)"
      ]
    },
    {
      "cell_type": "code",
      "execution_count": null,
      "id": "fraQjcTMpTwp",
      "metadata": {
        "colab": {
          "base_uri": "https://localhost:8080/",
          "height": 1000
        },
        "id": "fraQjcTMpTwp",
        "outputId": "c0189358-63bf-4109-e863-557d3af39789"
      },
      "outputs": [
        {
          "output_type": "display_data",
          "data": {
            "text/plain": [
              "<IPython.core.display.HTML object>"
            ],
            "text/html": [
              "\n",
              "            <style>\n",
              "                .geemap-dark {\n",
              "                    --jp-widgets-color: white;\n",
              "                    --jp-widgets-label-color: white;\n",
              "                    --jp-ui-font-color1: white;\n",
              "                    --jp-layout-color2: #454545;\n",
              "                    background-color: #383838;\n",
              "                }\n",
              "\n",
              "                .geemap-dark .jupyter-button {\n",
              "                    --jp-layout-color3: #383838;\n",
              "                }\n",
              "\n",
              "                .geemap-colab {\n",
              "                    background-color: var(--colab-primary-surface-color, white);\n",
              "                }\n",
              "\n",
              "                .geemap-colab .jupyter-button {\n",
              "                    --jp-layout-color3: var(--colab-primary-surface-color, white);\n",
              "                }\n",
              "            </style>\n",
              "            "
            ]
          },
          "metadata": {}
        },
        {
          "output_type": "display_data",
          "data": {
            "text/plain": [
              "<Figure size 600x1400 with 1 Axes>"
            ],
            "image/png": "[encoded data removed]"
          },
          "metadata": {}
        }
      ],
      "source": [
        "crop_proportion = round(gdf[CLASS_COL].value_counts(normalize=True)[1], 4) * 100\n",
        "ax = results.sort_values(\"crop_f1\").plot(\n",
        "    y=[\"accuracy\", \"crop_recall_pa\", \"crop_precision_ua\", \"crop_f1\"],\n",
        "    xerr=\"std_crop_f1\",\n",
        "    kind=\"barh\",\n",
        "    figsize=(6, 14),\n",
        "    width=0.8,\n",
        "    title=f\"{country}: {len(gdf)} points (crop proportion: {crop_proportion}%)\",\n",
        ");\n",
        "\n",
        "for c in ax.containers[1::2]:\n",
        "    ax.bar_label(c)\n",
        "\n",
        "for border in [\"top\", \"right\", \"bottom\", \"left\"]:\n",
        "    ax.spines[border].set_visible(False)\n",
        "\n",
        "ax.legend(bbox_to_anchor=(1, 1), reverse=True);"
      ]
    },
    {
      "cell_type": "code",
      "execution_count": null,
      "id": "L-nrhBekPfcp",
      "metadata": {
        "colab": {
          "base_uri": "https://localhost:8080/",
          "height": 17
        },
        "id": "L-nrhBekPfcp",
        "outputId": "0d05922f-af8a-4bf2-f03d-d01caeb45e73"
      },
      "outputs": [
        {
          "output_type": "display_data",
          "data": {
            "text/plain": [
              "<IPython.core.display.HTML object>"
            ],
            "text/html": [
              "\n",
              "            <style>\n",
              "                .geemap-dark {\n",
              "                    --jp-widgets-color: white;\n",
              "                    --jp-widgets-label-color: white;\n",
              "                    --jp-ui-font-color1: white;\n",
              "                    --jp-layout-color2: #454545;\n",
              "                    background-color: #383838;\n",
              "                }\n",
              "\n",
              "                .geemap-dark .jupyter-button {\n",
              "                    --jp-layout-color3: #383838;\n",
              "                }\n",
              "\n",
              "                .geemap-colab {\n",
              "                    background-color: var(--colab-primary-surface-color, white);\n",
              "                }\n",
              "\n",
              "                .geemap-colab .jupyter-button {\n",
              "                    --jp-layout-color3: var(--colab-primary-surface-color, white);\n",
              "                }\n",
              "            </style>\n",
              "            "
            ]
          },
          "metadata": {}
        }
      ],
      "source": [
        "fao_stat = pd.read_csv(\"./data/ref_samples_area/FAOSTAT_data_en_3-13-2024.csv\")\n",
        "fao_stat = fao_stat[fao_stat['Area'] == country]\n",
        "fao_stat = fao_stat[fao_stat['Year'] == 2021]['Value'] * 1000 # Using 2021, no data for 2022\n",
        "results = pd.concat([results, pd.DataFrame({'dataset':['FAOSTAT'], 'area_ha':fao_stat, 'err_ha':0, 'year':2021}).set_index(['dataset'])])"
      ]
    },
    {
      "cell_type": "code",
      "execution_count": 76,
      "id": "a0XEODxnBXW3",
      "metadata": {
        "colab": {
          "base_uri": "https://localhost:8080/",
          "height": 472
        },
        "id": "a0XEODxnBXW3",
        "outputId": "3224743f-4d61-4603-9441-3ec098bc90c3"
      },
      "outputs": [
        {
          "output_type": "display_data",
          "data": {
            "text/plain": [
              "<IPython.core.display.HTML object>"
            ],
            "text/html": [
              "\n",
              "            <style>\n",
              "                .geemap-dark {\n",
              "                    --jp-widgets-color: white;\n",
              "                    --jp-widgets-label-color: white;\n",
              "                    --jp-ui-font-color1: white;\n",
              "                    --jp-layout-color2: #454545;\n",
              "                    background-color: #383838;\n",
              "                }\n",
              "\n",
              "                .geemap-dark .jupyter-button {\n",
              "                    --jp-layout-color3: #383838;\n",
              "                }\n",
              "\n",
              "                .geemap-colab {\n",
              "                    background-color: var(--colab-primary-surface-color, white);\n",
              "                }\n",
              "\n",
              "                .geemap-colab .jupyter-button {\n",
              "                    --jp-layout-color3: var(--colab-primary-surface-color, white);\n",
              "                }\n",
              "            </style>\n",
              "            "
            ]
          },
          "metadata": {}
        },
        {
          "output_type": "display_data",
          "data": {
            "text/plain": [
              "<Figure size 640x480 with 1 Axes>"
            ],
            "image/png": "[encoded data removed]"
          },
          "metadata": {}
        }
      ],
      "source": [
        "import numpy as np\n",
        "import matplotlib.pyplot as plt\n",
        "\n",
        "import matplotlib.pyplot as plt\n",
        "fig, ax = plt.subplots()\n",
        "\n",
        "n = len(results)\n",
        "colors = plt.cm.viridis(np.linspace(0, 1, n))\n",
        "\n",
        "ax.barh(\n",
        "    results.index,\n",
        "    results[\"area_ha\"],\n",
        "    xerr=results[\"err_ha\"],\n",
        "    align=\"center\",\n",
        "    alpha=0.5,\n",
        "    ecolor=\"black\",\n",
        "    color= colors\n",
        ")\n",
        "\n",
        "ax.set_xticks(ax.get_xticks()); ax.set_yticks(ax.get_yticks())\n",
        "ax.set_yticklabels([f\"{dataset} ({int(results.year[dataset])})\" for dataset in results.index])\n",
        "\n",
        "for i, (value, err) in enumerate(zip(results[\"area_ha\"], results[\"err_ha\"])):\n",
        "    ax.text(value, i, f\"{value:,} ± {err:,}\", ha=\"center\", va=\"bottom\")\n",
        "ax.set_xlabel(\"Area (ha)\")\n",
        "ax.set_ylabel(\"dataset\")\n",
        "ax.set_title(\"Area of cropland\")\n",
        "ax.spines[\"right\"].set_visible(False)\n",
        "plt.show()"
      ]
    },
    {
      "cell_type": "code",
      "source": [],
      "metadata": {
        "id": "vedCX18xNNR-"
      },
      "id": "vedCX18xNNR-",
      "execution_count": null,
      "outputs": []
    }
  ],
  "metadata": {
    "colab": {
      "provenance": []
    },
    "kernelspec": {
      "display_name": "Python 3 (ipykernel)",
      "language": "python",
      "name": "python3"
    },
    "language_info": {
      "codemirror_mode": {
        "name": "ipython",
        "version": 3
      },
      "file_extension": ".py",
      "mimetype": "text/x-python",
      "name": "python",
      "nbconvert_exporter": "python",
      "pygments_lexer": "ipython3",
      "version": "3.8.15"
    }
  },
  "nbformat": 4,
  "nbformat_minor": 5
}
