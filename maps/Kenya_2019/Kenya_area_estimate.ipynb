{
  "cells": [
    {
      "cell_type": "markdown",
      "metadata": {
        "id": "778ff440"
      },
      "source": [
        "# Intercomparison\n",
        "\n",
        "**Author:** Adebowale Adebayo\n",
        "\n",
        "**Last updated:** March 23, 2024\n",
        "\n",
        "**Description:** Runs intercomparison and **area estimate** for Kenya 2019\n",
        "\n",
        "## 1. Setup"
      ],
      "id": "778ff440"
    },
    {
      "cell_type": "code",
      "execution_count": null,
      "metadata": {
        "id": "fb42d13c"
      },
      "outputs": [],
      "source": [
        "# !earthengine authenticate"
      ],
      "id": "fb42d13c"
    },
    {
      "cell_type": "code",
      "execution_count": null,
      "metadata": {
        "id": "hZ8qzSlB75kl"
      },
      "outputs": [],
      "source": [
        "!git clone https://github.com/nasaharvest/crop-mask.git"
      ],
      "id": "hZ8qzSlB75kl"
    },
    {
      "cell_type": "code",
      "execution_count": 12,
      "metadata": {
        "colab": {
          "base_uri": "https://localhost:8080/",
          "height": 35
        },
        "id": "1fe-6D3f8LTb",
        "outputId": "66566b67-ed93-4144-a4a1-25142c893d4e"
      },
      "outputs": [
        {
          "output_type": "display_data",
          "data": {
            "text/plain": [
              "<IPython.core.display.HTML object>"
            ],
            "text/html": [
              "\n",
              "            <style>\n",
              "                .geemap-dark {\n",
              "                    --jp-widgets-color: white;\n",
              "                    --jp-widgets-label-color: white;\n",
              "                    --jp-ui-font-color1: white;\n",
              "                    --jp-layout-color2: #454545;\n",
              "                    background-color: #383838;\n",
              "                }\n",
              "\n",
              "                .geemap-dark .jupyter-button {\n",
              "                    --jp-layout-color3: #383838;\n",
              "                }\n",
              "\n",
              "                .geemap-colab {\n",
              "                    background-color: var(--colab-primary-surface-color, white);\n",
              "                }\n",
              "\n",
              "                .geemap-colab .jupyter-button {\n",
              "                    --jp-layout-color3: var(--colab-primary-surface-color, white);\n",
              "                }\n",
              "            </style>\n",
              "            "
            ]
          },
          "metadata": {}
        },
        {
          "output_type": "stream",
          "name": "stdout",
          "text": [
            "/content/crop-mask\n"
          ]
        }
      ],
      "source": [
        "%cd crop-mask/"
      ],
      "id": "1fe-6D3f8LTb"
    },
    {
      "cell_type": "code",
      "execution_count": null,
      "metadata": {
        "id": "gEUyxHk9MEU2"
      },
      "outputs": [],
      "source": [
        "!pip install cartopy -qq\n",
        "!pip install rasterio -qq\n",
        "!pip install dvc[gs] -qq"
      ],
      "id": "gEUyxHk9MEU2"
    },
    {
      "cell_type": "code",
      "source": [
        "!git checkout area-estimate-from-multi-land-cover"
      ],
      "metadata": {
        "id": "V-RT5I2kXJt4"
      },
      "id": "V-RT5I2kXJt4",
      "execution_count": null,
      "outputs": []
    },
    {
      "cell_type": "code",
      "execution_count": 6,
      "metadata": {
        "id": "9907f9a5",
        "colab": {
          "base_uri": "https://localhost:8080/",
          "height": 73
        },
        "outputId": "a5344002-4c63-4f07-860c-179f995d958c"
      },
      "outputs": [
        {
          "output_type": "display_data",
          "data": {
            "text/plain": [
              "<IPython.core.display.HTML object>"
            ],
            "text/html": [
              "\n",
              "            <style>\n",
              "                .geemap-dark {\n",
              "                    --jp-widgets-color: white;\n",
              "                    --jp-widgets-label-color: white;\n",
              "                    --jp-ui-font-color1: white;\n",
              "                    --jp-layout-color2: #454545;\n",
              "                    background-color: #383838;\n",
              "                }\n",
              "\n",
              "                .geemap-dark .jupyter-button {\n",
              "                    --jp-layout-color3: #383838;\n",
              "                }\n",
              "\n",
              "                .geemap-colab {\n",
              "                    background-color: var(--colab-primary-surface-color, white);\n",
              "                }\n",
              "\n",
              "                .geemap-colab .jupyter-button {\n",
              "                    --jp-layout-color3: var(--colab-primary-surface-color, white);\n",
              "                }\n",
              "            </style>\n",
              "            "
            ]
          },
          "metadata": {}
        },
        {
          "output_type": "stream",
          "name": "stderr",
          "text": [
            "/usr/local/lib/python3.10/dist-packages/cartopy/io/__init__.py:241: DownloadWarning: Downloading: https://naturalearth.s3.amazonaws.com/10m_cultural/ne_10m_admin_1_states_provinces.zip\n",
            "  warnings.warn(f'Downloading: {url}', DownloadWarning)\n"
          ]
        }
      ],
      "source": [
        "import ee\n",
        "import geemap\n",
        "import sys\n",
        "import pandas as pd\n",
        "import numpy as np\n",
        "\n",
        "import geopandas as gpd\n",
        "from pathlib import Path\n",
        "\n",
        "ee.Authenticate()\n",
        "ee.Initialize(project=\"bsos-geog-harvest1\")\n",
        "\n",
        "sys.path.append(\"../..\")\n",
        "\n",
        "from src.compare_covermaps import TARGETS, filter_by_bounds, generate_report, CLASS_COL, COUNTRY_COL, get_ensemble_area\n",
        "from src.compare_covermaps import TEST_COUNTRIES, TEST_CODE"
      ],
      "id": "9907f9a5"
    },
    {
      "cell_type": "markdown",
      "metadata": {
        "id": "c61ea4f8"
      },
      "source": [
        "## 2. Read in evaluation set"
      ],
      "id": "c61ea4f8"
    },
    {
      "cell_type": "code",
      "execution_count": 7,
      "metadata": {
        "colab": {
          "base_uri": "https://localhost:8080/",
          "height": 17
        },
        "id": "7f75e567",
        "outputId": "4eeacc2e-61f1-41a8-bbef-f082001aa56d"
      },
      "outputs": [
        {
          "output_type": "display_data",
          "data": {
            "text/plain": [
              "<IPython.core.display.HTML object>"
            ],
            "text/html": [
              "\n",
              "            <style>\n",
              "                .geemap-dark {\n",
              "                    --jp-widgets-color: white;\n",
              "                    --jp-widgets-label-color: white;\n",
              "                    --jp-ui-font-color1: white;\n",
              "                    --jp-layout-color2: #454545;\n",
              "                    background-color: #383838;\n",
              "                }\n",
              "\n",
              "                .geemap-dark .jupyter-button {\n",
              "                    --jp-layout-color3: #383838;\n",
              "                }\n",
              "\n",
              "                .geemap-colab {\n",
              "                    background-color: var(--colab-primary-surface-color, white);\n",
              "                }\n",
              "\n",
              "                .geemap-colab .jupyter-button {\n",
              "                    --jp-layout-color3: var(--colab-primary-surface-color, white);\n",
              "                }\n",
              "            </style>\n",
              "            "
            ]
          },
          "metadata": {}
        }
      ],
      "source": [
        "country = \"Kenya\"\n",
        "\n",
        "if country not in TEST_CODE:\n",
        "    print(f\"WARNING: {country} not found in TEST_CODE in src/compare_covermaps.py\")\n",
        "if country not in TEST_COUNTRIES:\n",
        "    print(f\"WARNING: {country} not found in TEST_COUNTRIES in src/compare_covermaps.py\")\n",
        "if country not in TEST_CODE or country not in TEST_COUNTRIES:\n",
        "    print(\"Please update src/compare_covermaps.py and restart the notebook.\")\n",
        "else:\n",
        "    country_code = TEST_CODE[country]"
      ],
      "id": "7f75e567"
    },
    {
      "cell_type": "code",
      "source": [
        "ceo_set1 = './data/ref_samples_area/ceo-Kenya-Crop-Area-Estimation-Reference-Sample-2019---Set-1-sample-data-2024-03-14.csv'\n",
        "ceo_set2 = './data/ref_samples_area/ceo-Kenya-Crop-Area-Estimation-Reference-Sample-2019---Set-2-sample-data-2024-03-14.csv'"
      ],
      "metadata": {
        "colab": {
          "base_uri": "https://localhost:8080/",
          "height": 17
        },
        "id": "66-YJBNxYAdF",
        "outputId": "ad46f2f6-7de6-402c-99e1-9bde45648b34"
      },
      "id": "66-YJBNxYAdF",
      "execution_count": 13,
      "outputs": [
        {
          "output_type": "display_data",
          "data": {
            "text/plain": [
              "<IPython.core.display.HTML object>"
            ],
            "text/html": [
              "\n",
              "            <style>\n",
              "                .geemap-dark {\n",
              "                    --jp-widgets-color: white;\n",
              "                    --jp-widgets-label-color: white;\n",
              "                    --jp-ui-font-color1: white;\n",
              "                    --jp-layout-color2: #454545;\n",
              "                    background-color: #383838;\n",
              "                }\n",
              "\n",
              "                .geemap-dark .jupyter-button {\n",
              "                    --jp-layout-color3: #383838;\n",
              "                }\n",
              "\n",
              "                .geemap-colab {\n",
              "                    background-color: var(--colab-primary-surface-color, white);\n",
              "                }\n",
              "\n",
              "                .geemap-colab .jupyter-button {\n",
              "                    --jp-layout-color3: var(--colab-primary-surface-color, white);\n",
              "                }\n",
              "            </style>\n",
              "            "
            ]
          },
          "metadata": {}
        }
      ]
    },
    {
      "cell_type": "code",
      "source": [
        "def reference_sample_agree(ceo_ref1, ceo_ref2):\n",
        "    ceo_ref1 = pd.read_csv(ceo_ref1)\n",
        "    ceo_ref2 = pd.read_csv(ceo_ref2)\n",
        "\n",
        "    assert ceo_ref1.columns[-1] == ceo_ref2.columns[-1]\n",
        "\n",
        "    label_question = ceo_ref1.columns[-1]\n",
        "\n",
        "    print(f\"Number of NANs/ missing answers in set 1: {ceo_ref1[label_question].isna().sum()}\")\n",
        "    print(f\"Number of NANs/ missing answers in set 2: {ceo_ref2[label_question].isna().sum()}\")\n",
        "\n",
        "    if ceo_ref1.shape[0] != ceo_ref2.shape[0]:\n",
        "        print(\"The number of rows in the reference sets are not equal.\")\n",
        "        print(\"Checking for duplictes on 'plotid'..\")\n",
        "        print(\n",
        "            \" Number of duplicated in set 1: %s\" % ceo_ref1[ceo_ref1.plotid.duplicated()].shape[0]\n",
        "        )\n",
        "        print(\n",
        "            \" Number of duplicated in set 2: %s\" % ceo_ref2[ceo_ref2.plotid.duplicated()].shape[0]\n",
        "        )\n",
        "        print(\"Removing duplicates and keeping the first...\")\n",
        "        ceo_ref1 = ceo_ref1.drop_duplicates(subset=\"plotid\", keep=\"first\")\n",
        "        ceo_ref2 = ceo_ref2.drop_duplicates(subset=\"plotid\", keep=\"first\")\n",
        "\n",
        "        ceo_ref1.set_index(\"plotid\", inplace=True)\n",
        "        ceo_ref2.set_index(\"plotid\", inplace=True)\n",
        "    else:\n",
        "        print(\"The number of rows in the reference sets are equal.\")\n",
        "\n",
        "    ceo_agree = ceo_ref1[ceo_ref1[label_question] == ceo_ref2[label_question]]\n",
        "\n",
        "    print(\n",
        "        \"Number of samples that are in agreement: %d out of %d (%.2f%%)\"\n",
        "        % (\n",
        "            ceo_agree.shape[0],\n",
        "            ceo_ref1.shape[0],\n",
        "            ceo_agree.shape[0] / ceo_ref1.shape[0] * 100,\n",
        "        )\n",
        "    )\n",
        "    ceo_agree_geom = gpd.GeoDataFrame(\n",
        "        ceo_agree,\n",
        "        geometry=gpd.points_from_xy(ceo_agree.lon, ceo_agree.lat),\n",
        "        crs=\"EPSG:4326\",\n",
        "    )\n",
        "\n",
        "    label_responses = ceo_agree_geom[label_question].unique()\n",
        "    assert len(label_responses) == 2\n",
        "\n",
        "    for r, row in ceo_agree_geom.iterrows():\n",
        "\n",
        "        try:\n",
        "            if (\n",
        "                row[label_question].lower() == \"crop\"\n",
        "                or row[label_question].lower() == \"cropland\"\n",
        "                or row[label_question].lower() == \"planted\"\n",
        "            ):\n",
        "                ceo_agree_geom.loc[r, CLASS_COL] = 1\n",
        "            elif(\n",
        "                row[label_question].lower() == \"non-crop\"\n",
        "                or row[label_question].lower() == \"non-cropland\"\n",
        "                or row[label_question].lower() == \"not planted\"\n",
        "            ):\n",
        "                ceo_agree_geom.loc[r, CLASS_COL] = 0\n",
        "        except IndexError:\n",
        "            ceo_agree_geom.loc[r, CLASS_COL] = 255\n",
        "\n",
        "    ceo_agree_geom = ceo_agree_geom[ceo_agree_geom[CLASS_COL] != 255]\n",
        "\n",
        "    ceo_agree_geom[CLASS_COL] = ceo_agree_geom[CLASS_COL].astype(int)\n",
        "    ceo_agree_geom[COUNTRY_COL] = country\n",
        "    ceo_agree_geom = ceo_agree_geom[['lat','lon',CLASS_COL, COUNTRY_COL, 'geometry']]\n",
        "\n",
        "    return ceo_agree_geom"
      ],
      "metadata": {
        "colab": {
          "base_uri": "https://localhost:8080/",
          "height": 17
        },
        "id": "24QIyHfcZOeG",
        "outputId": "94a3b69d-9f02-4dd3-df91-cc6618ec3cfa"
      },
      "id": "24QIyHfcZOeG",
      "execution_count": 14,
      "outputs": [
        {
          "output_type": "display_data",
          "data": {
            "text/plain": [
              "<IPython.core.display.HTML object>"
            ],
            "text/html": [
              "\n",
              "            <style>\n",
              "                .geemap-dark {\n",
              "                    --jp-widgets-color: white;\n",
              "                    --jp-widgets-label-color: white;\n",
              "                    --jp-ui-font-color1: white;\n",
              "                    --jp-layout-color2: #454545;\n",
              "                    background-color: #383838;\n",
              "                }\n",
              "\n",
              "                .geemap-dark .jupyter-button {\n",
              "                    --jp-layout-color3: #383838;\n",
              "                }\n",
              "\n",
              "                .geemap-colab {\n",
              "                    background-color: var(--colab-primary-surface-color, white);\n",
              "                }\n",
              "\n",
              "                .geemap-colab .jupyter-button {\n",
              "                    --jp-layout-color3: var(--colab-primary-surface-color, white);\n",
              "                }\n",
              "            </style>\n",
              "            "
            ]
          },
          "metadata": {}
        }
      ]
    },
    {
      "cell_type": "code",
      "source": [
        "gdf = reference_sample_agree(ceo_set1,ceo_set2)\n",
        "gdf = filter_by_bounds(country_code=country_code, gdf=gdf)"
      ],
      "metadata": {
        "colab": {
          "base_uri": "https://localhost:8080/",
          "height": 88
        },
        "id": "QXMdHSHVauqV",
        "outputId": "bf082047-7270-4f61-c914-61ab732171ab"
      },
      "id": "QXMdHSHVauqV",
      "execution_count": 15,
      "outputs": [
        {
          "output_type": "display_data",
          "data": {
            "text/plain": [
              "<IPython.core.display.HTML object>"
            ],
            "text/html": [
              "\n",
              "            <style>\n",
              "                .geemap-dark {\n",
              "                    --jp-widgets-color: white;\n",
              "                    --jp-widgets-label-color: white;\n",
              "                    --jp-ui-font-color1: white;\n",
              "                    --jp-layout-color2: #454545;\n",
              "                    background-color: #383838;\n",
              "                }\n",
              "\n",
              "                .geemap-dark .jupyter-button {\n",
              "                    --jp-layout-color3: #383838;\n",
              "                }\n",
              "\n",
              "                .geemap-colab {\n",
              "                    background-color: var(--colab-primary-surface-color, white);\n",
              "                }\n",
              "\n",
              "                .geemap-colab .jupyter-button {\n",
              "                    --jp-layout-color3: var(--colab-primary-surface-color, white);\n",
              "                }\n",
              "            </style>\n",
              "            "
            ]
          },
          "metadata": {}
        },
        {
          "output_type": "stream",
          "name": "stdout",
          "text": [
            "Number of NANs/ missing answers in set 1: 2\n",
            "Number of NANs/ missing answers in set 2: 0\n",
            "The number of rows in the reference sets are equal.\n",
            "Number of samples that are in agreement: 487 out of 544 (89.52%)\n"
          ]
        }
      ]
    },
    {
      "cell_type": "markdown",
      "metadata": {
        "id": "31341d98"
      },
      "source": [
        "## 3. Run intercomparison and area estimation"
      ],
      "id": "31341d98"
    },
    {
      "cell_type": "code",
      "execution_count": 16,
      "metadata": {
        "colab": {
          "base_uri": "https://localhost:8080/",
          "height": 206
        },
        "id": "ImkKe6cEB4aB",
        "outputId": "c3865269-5698-41bb-f3a7-8ee6927df9a0"
      },
      "outputs": [
        {
          "output_type": "display_data",
          "data": {
            "text/plain": [
              "<IPython.core.display.HTML object>"
            ],
            "text/html": [
              "\n",
              "            <style>\n",
              "                .geemap-dark {\n",
              "                    --jp-widgets-color: white;\n",
              "                    --jp-widgets-label-color: white;\n",
              "                    --jp-ui-font-color1: white;\n",
              "                    --jp-layout-color2: #454545;\n",
              "                    background-color: #383838;\n",
              "                }\n",
              "\n",
              "                .geemap-dark .jupyter-button {\n",
              "                    --jp-layout-color3: #383838;\n",
              "                }\n",
              "\n",
              "                .geemap-colab {\n",
              "                    background-color: var(--colab-primary-surface-color, white);\n",
              "                }\n",
              "\n",
              "                .geemap-colab .jupyter-button {\n",
              "                    --jp-layout-color3: var(--colab-primary-surface-color, white);\n",
              "                }\n",
              "            </style>\n",
              "            "
            ]
          },
          "metadata": {}
        },
        {
          "output_type": "execute_result",
          "data": {
            "text/plain": [
              "        lat        lon  binary country                   geometry\n",
              "0  2.403553  34.988630       0   Kenya   POINT (34.98863 2.40355)\n",
              "1  0.237452  40.436913       0   Kenya   POINT (40.43691 0.23745)\n",
              "2  4.203261  35.525785       0   Kenya   POINT (35.52579 4.20326)\n",
              "3  1.786133  35.345029       0   Kenya   POINT (35.34503 1.78613)\n",
              "4 -2.088707  41.092916       1   Kenya  POINT (41.09292 -2.08871)"
            ],
            "text/html": [
              "\n",
              "  <div id=\"df-9f825a85-3147-4c88-9edf-376d2124bde0\" class=\"colab-df-container\">\n",
              "    <div>\n",
              "<style scoped>\n",
              "    .dataframe tbody tr th:only-of-type {\n",
              "        vertical-align: middle;\n",
              "    }\n",
              "\n",
              "    .dataframe tbody tr th {\n",
              "        vertical-align: top;\n",
              "    }\n",
              "\n",
              "    .dataframe thead th {\n",
              "        text-align: right;\n",
              "    }\n",
              "</style>\n",
              "<table border=\"1\" class=\"dataframe\">\n",
              "  <thead>\n",
              "    <tr style=\"text-align: right;\">\n",
              "      <th></th>\n",
              "      <th>lat</th>\n",
              "      <th>lon</th>\n",
              "      <th>binary</th>\n",
              "      <th>country</th>\n",
              "      <th>geometry</th>\n",
              "    </tr>\n",
              "  </thead>\n",
              "  <tbody>\n",
              "    <tr>\n",
              "      <th>0</th>\n",
              "      <td>2.403553</td>\n",
              "      <td>34.988630</td>\n",
              "      <td>0</td>\n",
              "      <td>Kenya</td>\n",
              "      <td>POINT (34.98863 2.40355)</td>\n",
              "    </tr>\n",
              "    <tr>\n",
              "      <th>1</th>\n",
              "      <td>0.237452</td>\n",
              "      <td>40.436913</td>\n",
              "      <td>0</td>\n",
              "      <td>Kenya</td>\n",
              "      <td>POINT (40.43691 0.23745)</td>\n",
              "    </tr>\n",
              "    <tr>\n",
              "      <th>2</th>\n",
              "      <td>4.203261</td>\n",
              "      <td>35.525785</td>\n",
              "      <td>0</td>\n",
              "      <td>Kenya</td>\n",
              "      <td>POINT (35.52579 4.20326)</td>\n",
              "    </tr>\n",
              "    <tr>\n",
              "      <th>3</th>\n",
              "      <td>1.786133</td>\n",
              "      <td>35.345029</td>\n",
              "      <td>0</td>\n",
              "      <td>Kenya</td>\n",
              "      <td>POINT (35.34503 1.78613)</td>\n",
              "    </tr>\n",
              "    <tr>\n",
              "      <th>4</th>\n",
              "      <td>-2.088707</td>\n",
              "      <td>41.092916</td>\n",
              "      <td>1</td>\n",
              "      <td>Kenya</td>\n",
              "      <td>POINT (41.09292 -2.08871)</td>\n",
              "    </tr>\n",
              "  </tbody>\n",
              "</table>\n",
              "</div>\n",
              "    <div class=\"colab-df-buttons\">\n",
              "\n",
              "  <div class=\"colab-df-container\">\n",
              "    <button class=\"colab-df-convert\" onclick=\"convertToInteractive('df-9f825a85-3147-4c88-9edf-376d2124bde0')\"\n",
              "            title=\"Convert this dataframe to an interactive table.\"\n",
              "            style=\"display:none;\">\n",
              "\n",
              "  <svg xmlns=\"http://www.w3.org/2000/svg\" height=\"24px\" viewBox=\"0 -960 960 960\">\n",
              "    <path d=\"M120-120v-720h720v720H120Zm60-500h600v-160H180v160Zm220 220h160v-160H400v160Zm0 220h160v-160H400v160ZM180-400h160v-160H180v160Zm440 0h160v-160H620v160ZM180-180h160v-160H180v160Zm440 0h160v-160H620v160Z\"/>\n",
              "  </svg>\n",
              "    </button>\n",
              "\n",
              "  <style>\n",
              "    .colab-df-container {\n",
              "      display:flex;\n",
              "      gap: 12px;\n",
              "    }\n",
              "\n",
              "    .colab-df-convert {\n",
              "      background-color: #E8F0FE;\n",
              "      border: none;\n",
              "      border-radius: 50%;\n",
              "      cursor: pointer;\n",
              "      display: none;\n",
              "      fill: #1967D2;\n",
              "      height: 32px;\n",
              "      padding: 0 0 0 0;\n",
              "      width: 32px;\n",
              "    }\n",
              "\n",
              "    .colab-df-convert:hover {\n",
              "      background-color: #E2EBFA;\n",
              "      box-shadow: 0px 1px 2px rgba(60, 64, 67, 0.3), 0px 1px 3px 1px rgba(60, 64, 67, 0.15);\n",
              "      fill: #174EA6;\n",
              "    }\n",
              "\n",
              "    .colab-df-buttons div {\n",
              "      margin-bottom: 4px;\n",
              "    }\n",
              "\n",
              "    [theme=dark] .colab-df-convert {\n",
              "      background-color: #3B4455;\n",
              "      fill: #D2E3FC;\n",
              "    }\n",
              "\n",
              "    [theme=dark] .colab-df-convert:hover {\n",
              "      background-color: #434B5C;\n",
              "      box-shadow: 0px 1px 3px 1px rgba(0, 0, 0, 0.15);\n",
              "      filter: drop-shadow(0px 1px 2px rgba(0, 0, 0, 0.3));\n",
              "      fill: #FFFFFF;\n",
              "    }\n",
              "  </style>\n",
              "\n",
              "    <script>\n",
              "      const buttonEl =\n",
              "        document.querySelector('#df-9f825a85-3147-4c88-9edf-376d2124bde0 button.colab-df-convert');\n",
              "      buttonEl.style.display =\n",
              "        google.colab.kernel.accessAllowed ? 'block' : 'none';\n",
              "\n",
              "      async function convertToInteractive(key) {\n",
              "        const element = document.querySelector('#df-9f825a85-3147-4c88-9edf-376d2124bde0');\n",
              "        const dataTable =\n",
              "          await google.colab.kernel.invokeFunction('convertToInteractive',\n",
              "                                                    [key], {});\n",
              "        if (!dataTable) return;\n",
              "\n",
              "        const docLinkHtml = 'Like what you see? Visit the ' +\n",
              "          '<a target=\"_blank\" href=https://colab.research.google.com/notebooks/data_table.ipynb>data table notebook</a>'\n",
              "          + ' to learn more about interactive tables.';\n",
              "        element.innerHTML = '';\n",
              "        dataTable['output_type'] = 'display_data';\n",
              "        await google.colab.output.renderOutput(dataTable, element);\n",
              "        const docLink = document.createElement('div');\n",
              "        docLink.innerHTML = docLinkHtml;\n",
              "        element.appendChild(docLink);\n",
              "      }\n",
              "    </script>\n",
              "  </div>\n",
              "\n",
              "\n",
              "<div id=\"df-4143330b-b171-4e85-9a38-24325a9901e8\">\n",
              "  <button class=\"colab-df-quickchart\" onclick=\"quickchart('df-4143330b-b171-4e85-9a38-24325a9901e8')\"\n",
              "            title=\"Suggest charts\"\n",
              "            style=\"display:none;\">\n",
              "\n",
              "<svg xmlns=\"http://www.w3.org/2000/svg\" height=\"24px\"viewBox=\"0 0 24 24\"\n",
              "     width=\"24px\">\n",
              "    <g>\n",
              "        <path d=\"M19 3H5c-1.1 0-2 .9-2 2v14c0 1.1.9 2 2 2h14c1.1 0 2-.9 2-2V5c0-1.1-.9-2-2-2zM9 17H7v-7h2v7zm4 0h-2V7h2v10zm4 0h-2v-4h2v4z\"/>\n",
              "    </g>\n",
              "</svg>\n",
              "  </button>\n",
              "\n",
              "<style>\n",
              "  .colab-df-quickchart {\n",
              "      --bg-color: #E8F0FE;\n",
              "      --fill-color: #1967D2;\n",
              "      --hover-bg-color: #E2EBFA;\n",
              "      --hover-fill-color: #174EA6;\n",
              "      --disabled-fill-color: #AAA;\n",
              "      --disabled-bg-color: #DDD;\n",
              "  }\n",
              "\n",
              "  [theme=dark] .colab-df-quickchart {\n",
              "      --bg-color: #3B4455;\n",
              "      --fill-color: #D2E3FC;\n",
              "      --hover-bg-color: #434B5C;\n",
              "      --hover-fill-color: #FFFFFF;\n",
              "      --disabled-bg-color: #3B4455;\n",
              "      --disabled-fill-color: #666;\n",
              "  }\n",
              "\n",
              "  .colab-df-quickchart {\n",
              "    background-color: var(--bg-color);\n",
              "    border: none;\n",
              "    border-radius: 50%;\n",
              "    cursor: pointer;\n",
              "    display: none;\n",
              "    fill: var(--fill-color);\n",
              "    height: 32px;\n",
              "    padding: 0;\n",
              "    width: 32px;\n",
              "  }\n",
              "\n",
              "  .colab-df-quickchart:hover {\n",
              "    background-color: var(--hover-bg-color);\n",
              "    box-shadow: 0 1px 2px rgba(60, 64, 67, 0.3), 0 1px 3px 1px rgba(60, 64, 67, 0.15);\n",
              "    fill: var(--button-hover-fill-color);\n",
              "  }\n",
              "\n",
              "  .colab-df-quickchart-complete:disabled,\n",
              "  .colab-df-quickchart-complete:disabled:hover {\n",
              "    background-color: var(--disabled-bg-color);\n",
              "    fill: var(--disabled-fill-color);\n",
              "    box-shadow: none;\n",
              "  }\n",
              "\n",
              "  .colab-df-spinner {\n",
              "    border: 2px solid var(--fill-color);\n",
              "    border-color: transparent;\n",
              "    border-bottom-color: var(--fill-color);\n",
              "    animation:\n",
              "      spin 1s steps(1) infinite;\n",
              "  }\n",
              "\n",
              "  @keyframes spin {\n",
              "    0% {\n",
              "      border-color: transparent;\n",
              "      border-bottom-color: var(--fill-color);\n",
              "      border-left-color: var(--fill-color);\n",
              "    }\n",
              "    20% {\n",
              "      border-color: transparent;\n",
              "      border-left-color: var(--fill-color);\n",
              "      border-top-color: var(--fill-color);\n",
              "    }\n",
              "    30% {\n",
              "      border-color: transparent;\n",
              "      border-left-color: var(--fill-color);\n",
              "      border-top-color: var(--fill-color);\n",
              "      border-right-color: var(--fill-color);\n",
              "    }\n",
              "    40% {\n",
              "      border-color: transparent;\n",
              "      border-right-color: var(--fill-color);\n",
              "      border-top-color: var(--fill-color);\n",
              "    }\n",
              "    60% {\n",
              "      border-color: transparent;\n",
              "      border-right-color: var(--fill-color);\n",
              "    }\n",
              "    80% {\n",
              "      border-color: transparent;\n",
              "      border-right-color: var(--fill-color);\n",
              "      border-bottom-color: var(--fill-color);\n",
              "    }\n",
              "    90% {\n",
              "      border-color: transparent;\n",
              "      border-bottom-color: var(--fill-color);\n",
              "    }\n",
              "  }\n",
              "</style>\n",
              "\n",
              "  <script>\n",
              "    async function quickchart(key) {\n",
              "      const quickchartButtonEl =\n",
              "        document.querySelector('#' + key + ' button');\n",
              "      quickchartButtonEl.disabled = true;  // To prevent multiple clicks.\n",
              "      quickchartButtonEl.classList.add('colab-df-spinner');\n",
              "      try {\n",
              "        const charts = await google.colab.kernel.invokeFunction(\n",
              "            'suggestCharts', [key], {});\n",
              "      } catch (error) {\n",
              "        console.error('Error during call to suggestCharts:', error);\n",
              "      }\n",
              "      quickchartButtonEl.classList.remove('colab-df-spinner');\n",
              "      quickchartButtonEl.classList.add('colab-df-quickchart-complete');\n",
              "    }\n",
              "    (() => {\n",
              "      let quickchartButtonEl =\n",
              "        document.querySelector('#df-4143330b-b171-4e85-9a38-24325a9901e8 button');\n",
              "      quickchartButtonEl.style.display =\n",
              "        google.colab.kernel.accessAllowed ? 'block' : 'none';\n",
              "    })();\n",
              "  </script>\n",
              "</div>\n",
              "    </div>\n",
              "  </div>\n"
            ],
            "application/vnd.google.colaboratory.intrinsic+json": {
              "type": "dataframe",
              "variable_name": "gdf",
              "summary": "{\n  \"name\": \"gdf\",\n  \"rows\": 487,\n  \"fields\": [\n    {\n      \"column\": \"lat\",\n      \"properties\": {\n        \"dtype\": \"number\",\n        \"std\": 1.9148026720101181,\n        \"min\": -4.3996825162698165,\n        \"max\": 4.509081535107014,\n        \"num_unique_values\": 487,\n        \"samples\": [\n          -0.3086155983480622,\n          0.2319312752100853,\n          -0.7040441877978902\n        ],\n        \"semantic_type\": \"\",\n        \"description\": \"\"\n      }\n    },\n    {\n      \"column\": \"lon\",\n      \"properties\": {\n        \"dtype\": \"number\",\n        \"std\": 1.9654035941659458,\n        \"min\": 33.98152361411099,\n        \"max\": 41.80068122597383,\n        \"num_unique_values\": 487,\n        \"samples\": [\n          35.89383258961963,\n          37.34840090595225,\n          35.0036305876314\n        ],\n        \"semantic_type\": \"\",\n        \"description\": \"\"\n      }\n    },\n    {\n      \"column\": \"binary\",\n      \"properties\": {\n        \"dtype\": \"number\",\n        \"std\": 0,\n        \"min\": 0,\n        \"max\": 1,\n        \"num_unique_values\": 2,\n        \"samples\": [\n          1,\n          0\n        ],\n        \"semantic_type\": \"\",\n        \"description\": \"\"\n      }\n    },\n    {\n      \"column\": \"country\",\n      \"properties\": {\n        \"dtype\": \"category\",\n        \"num_unique_values\": 1,\n        \"samples\": [\n          \"Kenya\"\n        ],\n        \"semantic_type\": \"\",\n        \"description\": \"\"\n      }\n    },\n    {\n      \"column\": \"geometry\",\n      \"properties\": {\n        \"dtype\": \"geometry\",\n        \"num_unique_values\": 487,\n        \"samples\": [\n          \"POINT (35.89383258961963 -0.3086155983480622)\"\n        ],\n        \"semantic_type\": \"\",\n        \"description\": \"\"\n      }\n    }\n  ]\n}"
            }
          },
          "metadata": {},
          "execution_count": 16
        }
      ],
      "source": [
        "gdf.head()"
      ],
      "id": "ImkKe6cEB4aB"
    },
    {
      "cell_type": "code",
      "execution_count": 17,
      "metadata": {
        "colab": {
          "base_uri": "https://localhost:8080/",
          "height": 17
        },
        "id": "54c4cc0f",
        "outputId": "301462fd-139e-4c90-f4d8-1ff074dc5bc8"
      },
      "outputs": [
        {
          "output_type": "display_data",
          "data": {
            "text/plain": [
              "<IPython.core.display.HTML object>"
            ],
            "text/html": [
              "\n",
              "            <style>\n",
              "                .geemap-dark {\n",
              "                    --jp-widgets-color: white;\n",
              "                    --jp-widgets-label-color: white;\n",
              "                    --jp-ui-font-color1: white;\n",
              "                    --jp-layout-color2: #454545;\n",
              "                    background-color: #383838;\n",
              "                }\n",
              "\n",
              "                .geemap-dark .jupyter-button {\n",
              "                    --jp-layout-color3: #383838;\n",
              "                }\n",
              "\n",
              "                .geemap-colab {\n",
              "                    background-color: var(--colab-primary-surface-color, white);\n",
              "                }\n",
              "\n",
              "                .geemap-colab .jupyter-button {\n",
              "                    --jp-layout-color3: var(--colab-primary-surface-color, white);\n",
              "                }\n",
              "            </style>\n",
              "            "
            ]
          },
          "metadata": {}
        }
      ],
      "source": [
        "TARGETS = {k:v for k,v in TARGETS.items()}\n",
        "for k, v in TARGETS.items():\n",
        "    if country not in v.countries:\n",
        "        continue\n",
        "    if v.year is None:\n",
        "        v.year = v.collection_years[v.countries.index(country)]"
      ],
      "id": "54c4cc0f"
    },
    {
      "cell_type": "code",
      "execution_count": 19,
      "metadata": {
        "colab": {
          "base_uri": "https://localhost:8080/",
          "height": 17
        },
        "id": "1oQjubrHjkBi",
        "outputId": "7faeaf18-9f29-4c84-a608-c54b83c4b908"
      },
      "outputs": [
        {
          "output_type": "display_data",
          "data": {
            "text/plain": [
              "<IPython.core.display.HTML object>"
            ],
            "text/html": [
              "\n",
              "            <style>\n",
              "                .geemap-dark {\n",
              "                    --jp-widgets-color: white;\n",
              "                    --jp-widgets-label-color: white;\n",
              "                    --jp-ui-font-color1: white;\n",
              "                    --jp-layout-color2: #454545;\n",
              "                    background-color: #383838;\n",
              "                }\n",
              "\n",
              "                .geemap-dark .jupyter-button {\n",
              "                    --jp-layout-color3: #383838;\n",
              "                }\n",
              "\n",
              "                .geemap-colab {\n",
              "                    background-color: var(--colab-primary-surface-color, white);\n",
              "                }\n",
              "\n",
              "                .geemap-colab .jupyter-button {\n",
              "                    --jp-layout-color3: var(--colab-primary-surface-color, white);\n",
              "                }\n",
              "            </style>\n",
              "            "
            ]
          },
          "metadata": {}
        }
      ],
      "source": [
        "reference_year = 2019\n",
        "# for i in range(reference_year -1, reference_year+2):\n",
        "    # print(i)\n",
        "TARGETS = {k: v for k, v in TARGETS.items() if v.year in range(reference_year - 1, reference_year + 2)} #[reference_year - 1, reference_year, reference_year + 1]}"
      ],
      "id": "1oQjubrHjkBi"
    },
    {
      "cell_type": "code",
      "execution_count": 20,
      "metadata": {
        "colab": {
          "base_uri": "https://localhost:8080/",
          "height": 142
        },
        "id": "98e241d2",
        "outputId": "e14e0bcb-1a28-4d0e-f6a9-cf97e869531c"
      },
      "outputs": [
        {
          "output_type": "display_data",
          "data": {
            "text/plain": [
              "<IPython.core.display.HTML object>"
            ],
            "text/html": [
              "\n",
              "            <style>\n",
              "                .geemap-dark {\n",
              "                    --jp-widgets-color: white;\n",
              "                    --jp-widgets-label-color: white;\n",
              "                    --jp-ui-font-color1: white;\n",
              "                    --jp-layout-color2: #454545;\n",
              "                    background-color: #383838;\n",
              "                }\n",
              "\n",
              "                .geemap-dark .jupyter-button {\n",
              "                    --jp-layout-color3: #383838;\n",
              "                }\n",
              "\n",
              "                .geemap-colab {\n",
              "                    background-color: var(--colab-primary-surface-color, white);\n",
              "                }\n",
              "\n",
              "                .geemap-colab .jupyter-button {\n",
              "                    --jp-layout-color3: var(--colab-primary-surface-color, white);\n",
              "                }\n",
              "            </style>\n",
              "            "
            ]
          },
          "metadata": {}
        },
        {
          "output_type": "stream",
          "name": "stdout",
          "text": [
            "[Kenya] sampling copernicus...\n",
            "[Kenya] sampling worldcover-v100...\n",
            "[Kenya] sampling glad...\n",
            "[Kenya] sampling dynamicworld...\n",
            "[Kenya] sampling digital-earth-africa...\n",
            "[Kenya] sampling esri-lulc...\n",
            "[Kenya] sampling harvest-crop-maps...\n"
          ]
        }
      ],
      "source": [
        "for cropmap in TARGETS.values():\n",
        "    if country not in cropmap.countries:\n",
        "        continue\n",
        "    print(f\"[{country}] sampling \" + cropmap.title + \"...\")\n",
        "    map_sampled = cropmap.extract_test(gdf).copy()\n",
        "    gdf = pd.merge(gdf, map_sampled, on=[\"lat\", \"lon\"], how=\"left\")\n",
        "    gdf.drop_duplicates(inplace=True)  # TODO find why points get duplicated"
      ],
      "id": "98e241d2"
    },
    {
      "cell_type": "code",
      "execution_count": 21,
      "metadata": {
        "id": "95a0f536",
        "colab": {
          "base_uri": "https://localhost:8080/",
          "height": 142
        },
        "outputId": "c3fd777f-601a-48b3-d4d9-82ae315be913"
      },
      "outputs": [
        {
          "output_type": "display_data",
          "data": {
            "text/plain": [
              "<IPython.core.display.HTML object>"
            ],
            "text/html": [
              "\n",
              "            <style>\n",
              "                .geemap-dark {\n",
              "                    --jp-widgets-color: white;\n",
              "                    --jp-widgets-label-color: white;\n",
              "                    --jp-ui-font-color1: white;\n",
              "                    --jp-layout-color2: #454545;\n",
              "                    background-color: #383838;\n",
              "                }\n",
              "\n",
              "                .geemap-dark .jupyter-button {\n",
              "                    --jp-layout-color3: #383838;\n",
              "                }\n",
              "\n",
              "                .geemap-colab {\n",
              "                    background-color: var(--colab-primary-surface-color, white);\n",
              "                }\n",
              "\n",
              "                .geemap-colab .jupyter-button {\n",
              "                    --jp-layout-color3: var(--colab-primary-surface-color, white);\n",
              "                }\n",
              "            </style>\n",
              "            "
            ]
          },
          "metadata": {}
        },
        {
          "output_type": "stream",
          "name": "stdout",
          "text": [
            "[Kenya] calculating pixel area for copernicus...\n",
            "[Kenya] calculating pixel area for worldcover-v100...\n",
            "[Kenya] calculating pixel area for glad...\n",
            "[Kenya] calculating pixel area for dynamicworld...\n",
            "[Kenya] calculating pixel area for digital-earth-africa...\n",
            "[Kenya] calculating pixel area for esri-lulc...\n",
            "[Kenya] calculating pixel area for harvest-crop-maps...\n"
          ]
        }
      ],
      "source": [
        "a_j = {}\n",
        "for cropmap in TARGETS.values():\n",
        "    if country not in cropmap.countries:\n",
        "        continue\n",
        "    print(f\"[{country}] calculating pixel area for \" + cropmap.title + \"...\")\n",
        "    a_j[cropmap.title] = cropmap.compute_map_area(country, export=True, dataset_name=cropmap.title).copy()"
      ],
      "id": "95a0f536"
    },
    {
      "cell_type": "code",
      "source": [
        "# update a_j values with exported values\n",
        "for cropmap in a_j.keys():\n",
        "    try:\n",
        "        area_df = pd.read_csv(f'./Crop_NonCrop_Area_Sum_Export-{country}-{cropmap}.csv')\n",
        "    except:\n",
        "        continue\n",
        "    crop_area = int(area_df['crop_sum'][0])\n",
        "    noncrop_area = int(area_df['noncrop_sum'][0])\n",
        "    a_j[cropmap] = np.array([noncrop_area, crop_area])"
      ],
      "metadata": {
        "colab": {
          "base_uri": "https://localhost:8080/",
          "height": 17
        },
        "id": "5fJPzvOeUo9G",
        "outputId": "89c27437-3525-4327-c436-c381c400b5c2"
      },
      "id": "5fJPzvOeUo9G",
      "execution_count": 22,
      "outputs": [
        {
          "output_type": "display_data",
          "data": {
            "text/plain": [
              "<IPython.core.display.HTML object>"
            ],
            "text/html": [
              "\n",
              "            <style>\n",
              "                .geemap-dark {\n",
              "                    --jp-widgets-color: white;\n",
              "                    --jp-widgets-label-color: white;\n",
              "                    --jp-ui-font-color1: white;\n",
              "                    --jp-layout-color2: #454545;\n",
              "                    background-color: #383838;\n",
              "                }\n",
              "\n",
              "                .geemap-dark .jupyter-button {\n",
              "                    --jp-layout-color3: #383838;\n",
              "                }\n",
              "\n",
              "                .geemap-colab {\n",
              "                    background-color: var(--colab-primary-surface-color, white);\n",
              "                }\n",
              "\n",
              "                .geemap-colab .jupyter-button {\n",
              "                    --jp-layout-color3: var(--colab-primary-surface-color, white);\n",
              "                }\n",
              "            </style>\n",
              "            "
            ]
          },
          "metadata": {}
        }
      ]
    },
    {
      "cell_type": "code",
      "source": [
        "# Change None to nan\n",
        "a_j = {k: np.array([np.nan, np.nan]) if np.any(v == None) else v for k,v in a_j.items()}"
      ],
      "metadata": {
        "colab": {
          "base_uri": "https://localhost:8080/",
          "height": 17
        },
        "id": "zyR4qCJ49Rh5",
        "outputId": "2b9fd61b-6963-4ada-eae8-f107d619b013"
      },
      "id": "zyR4qCJ49Rh5",
      "execution_count": 23,
      "outputs": [
        {
          "output_type": "display_data",
          "data": {
            "text/plain": [
              "<IPython.core.display.HTML object>"
            ],
            "text/html": [
              "\n",
              "            <style>\n",
              "                .geemap-dark {\n",
              "                    --jp-widgets-color: white;\n",
              "                    --jp-widgets-label-color: white;\n",
              "                    --jp-ui-font-color1: white;\n",
              "                    --jp-layout-color2: #454545;\n",
              "                    background-color: #383838;\n",
              "                }\n",
              "\n",
              "                .geemap-dark .jupyter-button {\n",
              "                    --jp-layout-color3: #383838;\n",
              "                }\n",
              "\n",
              "                .geemap-colab {\n",
              "                    background-color: var(--colab-primary-surface-color, white);\n",
              "                }\n",
              "\n",
              "                .geemap-colab .jupyter-button {\n",
              "                    --jp-layout-color3: var(--colab-primary-surface-color, white);\n",
              "                }\n",
              "            </style>\n",
              "            "
            ]
          },
          "metadata": {}
        }
      ]
    },
    {
      "cell_type": "code",
      "execution_count": 24,
      "metadata": {
        "colab": {
          "base_uri": "https://localhost:8080/",
          "height": 17
        },
        "id": "LY6Q_QtUgME_",
        "outputId": "49c1b572-af57-41aa-a39b-18fbcb56ead6"
      },
      "outputs": [
        {
          "output_type": "display_data",
          "data": {
            "text/plain": [
              "<IPython.core.display.HTML object>"
            ],
            "text/html": [
              "\n",
              "            <style>\n",
              "                .geemap-dark {\n",
              "                    --jp-widgets-color: white;\n",
              "                    --jp-widgets-label-color: white;\n",
              "                    --jp-ui-font-color1: white;\n",
              "                    --jp-layout-color2: #454545;\n",
              "                    background-color: #383838;\n",
              "                }\n",
              "\n",
              "                .geemap-dark .jupyter-button {\n",
              "                    --jp-layout-color3: #383838;\n",
              "                }\n",
              "\n",
              "                .geemap-colab {\n",
              "                    background-color: var(--colab-primary-surface-color, white);\n",
              "                }\n",
              "\n",
              "                .geemap-colab .jupyter-button {\n",
              "                    --jp-layout-color3: var(--colab-primary-surface-color, white);\n",
              "                }\n",
              "            </style>\n",
              "            "
            ]
          },
          "metadata": {}
        }
      ],
      "source": [
        "from src.area_utils import compute_area_estimate, compute_area_error_matrix, compute_std_p_i\n",
        "from sklearn.metrics import confusion_matrix"
      ],
      "id": "LY6Q_QtUgME_"
    },
    {
      "cell_type": "code",
      "execution_count": 25,
      "metadata": {
        "colab": {
          "base_uri": "https://localhost:8080/",
          "height": 17
        },
        "id": "oojPqwSboiWU",
        "outputId": "71bab38b-1247-4086-ed50-86c4d9ddcd00"
      },
      "outputs": [
        {
          "output_type": "display_data",
          "data": {
            "text/plain": [
              "<IPython.core.display.HTML object>"
            ],
            "text/html": [
              "\n",
              "            <style>\n",
              "                .geemap-dark {\n",
              "                    --jp-widgets-color: white;\n",
              "                    --jp-widgets-label-color: white;\n",
              "                    --jp-ui-font-color1: white;\n",
              "                    --jp-layout-color2: #454545;\n",
              "                    background-color: #383838;\n",
              "                }\n",
              "\n",
              "                .geemap-dark .jupyter-button {\n",
              "                    --jp-layout-color3: #383838;\n",
              "                }\n",
              "\n",
              "                .geemap-colab {\n",
              "                    background-color: var(--colab-primary-surface-color, white);\n",
              "                }\n",
              "\n",
              "                .geemap-colab .jupyter-button {\n",
              "                    --jp-layout-color3: var(--colab-primary-surface-color, white);\n",
              "                }\n",
              "            </style>\n",
              "            "
            ]
          },
          "metadata": {}
        }
      ],
      "source": [
        "def compute_area_estimate(dataset, true, pred, a_j, resolution, year):\n",
        "    cm = confusion_matrix(true, pred)\n",
        "    total_px = a_j.sum()\n",
        "    w_j = a_j / total_px\n",
        "\n",
        "    am = compute_area_error_matrix(cm, w_j)\n",
        "    a_i = am.sum(axis=1)\n",
        "    std_a_i = compute_std_p_i(w_j, am, cm)\n",
        "    err_a_i = 1.96 * std_a_i\n",
        "\n",
        "    a_px = total_px * a_i\n",
        "    err_px = err_a_i * total_px\n",
        "    return pd.DataFrame(\n",
        "        data={\n",
        "            \"dataset\": dataset,\n",
        "            \"area_ha\": a_px[1] * (resolution**2) / (100**2),\n",
        "            \"err_ha\": err_px[1] * (resolution**2) / (100**2),\n",
        "            \"year\": int(year),\n",
        "        },\n",
        "        index=[0],\n",
        "    ).round(2)"
      ],
      "id": "oojPqwSboiWU"
    },
    {
      "cell_type": "code",
      "execution_count": null,
      "metadata": {
        "id": "ti5ZXmbyn6Mm"
      },
      "outputs": [],
      "source": [
        "comparisons = []\n",
        "area_est = []\n",
        "for cropmap in TARGETS.values():\n",
        "    cropmap, resolution, year = cropmap.title, cropmap.resolution, cropmap.year\n",
        "    if cropmap not in gdf.columns:\n",
        "        continue\n",
        "    temp = gdf[[CLASS_COL, cropmap]].dropna()\n",
        "    area = compute_area_estimate(cropmap, temp[CLASS_COL], temp[cropmap], a_j[cropmap], resolution, year)\n",
        "    comparison = generate_report(cropmap, country, temp[CLASS_COL], temp[cropmap], a_j[cropmap], area_weighted=True)\n",
        "    comparisons.append(comparison)\n",
        "    area_est.append(area)\n",
        "\n",
        "comparisons = pd.concat(comparisons).set_index(['dataset'])\n",
        "area_est = pd.concat(area_est).set_index(['dataset'])\n",
        "\n",
        "results = comparisons.merge(area_est, on='dataset')"
      ],
      "id": "ti5ZXmbyn6Mm"
    },
    {
      "cell_type": "code",
      "execution_count": null,
      "metadata": {
        "colab": {
          "base_uri": "https://localhost:8080/",
          "height": 17
        },
        "id": "QrAgv7pP1lcz",
        "outputId": "6f33c955-6ceb-4295-84ed-4aaf65c1512f"
      },
      "outputs": [
        {
          "data": {
            "text/html": [
              "\n",
              "            <style>\n",
              "                .geemap-dark {\n",
              "                    --jp-widgets-color: white;\n",
              "                    --jp-widgets-label-color: white;\n",
              "                    --jp-ui-font-color1: white;\n",
              "                    --jp-layout-color2: #454545;\n",
              "                    background-color: #383838;\n",
              "                }\n",
              "                    \n",
              "                .geemap-dark .jupyter-button {\n",
              "                    --jp-layout-color3: #383838;\n",
              "                }\n",
              "                \n",
              "                .geemap-colab {\n",
              "                    background-color: var(--colab-primary-surface-color, white);\n",
              "                }\n",
              "                    \n",
              "                .geemap-colab .jupyter-button {\n",
              "                    --jp-layout-color3: var(--colab-primary-surface-color, white);\n",
              "                }\n",
              "            </style>\n",
              "            "
            ],
            "text/plain": [
              "<IPython.core.display.HTML object>"
            ]
          },
          "metadata": {},
          "output_type": "display_data"
        }
      ],
      "source": [
        "results.to_csv('results.csv')"
      ],
      "id": "QrAgv7pP1lcz"
    },
    {
      "cell_type": "code",
      "execution_count": 27,
      "metadata": {
        "colab": {
          "base_uri": "https://localhost:8080/",
          "height": 300
        },
        "id": "nAj0p7VS1_2K",
        "outputId": "24843685-4f51-4e78-aaf5-1009f0413432"
      },
      "outputs": [
        {
          "output_type": "display_data",
          "data": {
            "text/plain": [
              "<IPython.core.display.HTML object>"
            ],
            "text/html": [
              "\n",
              "            <style>\n",
              "                .geemap-dark {\n",
              "                    --jp-widgets-color: white;\n",
              "                    --jp-widgets-label-color: white;\n",
              "                    --jp-ui-font-color1: white;\n",
              "                    --jp-layout-color2: #454545;\n",
              "                    background-color: #383838;\n",
              "                }\n",
              "\n",
              "                .geemap-dark .jupyter-button {\n",
              "                    --jp-layout-color3: #383838;\n",
              "                }\n",
              "\n",
              "                .geemap-colab {\n",
              "                    background-color: var(--colab-primary-surface-color, white);\n",
              "                }\n",
              "\n",
              "                .geemap-colab .jupyter-button {\n",
              "                    --jp-layout-color3: var(--colab-primary-surface-color, white);\n",
              "                }\n",
              "            </style>\n",
              "            "
            ]
          },
          "metadata": {}
        },
        {
          "output_type": "execute_result",
          "data": {
            "text/plain": [
              "                      crop_f1  accuracy  std_acc  crop_recall_pa  std_crop_pa  \\\n",
              "dataset                                                                         \n",
              "copernicus               0.52      0.86     0.01            0.49         0.05   \n",
              "worldcover-v100          0.29      0.84     0.02            0.17         0.01   \n",
              "glad                     0.56      0.89     0.01            0.47         0.05   \n",
              "dynamicworld              NaN      0.00      NaN             NaN          NaN   \n",
              "digital-earth-africa     0.54      0.88     0.01            0.52         0.03   \n",
              "esri-lulc                0.55      0.89     0.01            0.42         0.03   \n",
              "harvest-crop-maps        0.47      0.92     0.01            0.47         0.05   \n",
              "\n",
              "                      crop_precision_ua  std_crop_ua      area_ha      err_ha  \\\n",
              "dataset                                                                         \n",
              "copernicus                         0.54         0.04   8775032.13  1674917.82   \n",
              "worldcover-v100                    0.91         0.04  11181466.37  1964935.17   \n",
              "glad                               0.69         0.04   8504157.39  1587943.81   \n",
              "dynamicworld                       0.00         0.00          NaN         NaN   \n",
              "digital-earth-africa               0.56         0.04   8104337.54  1585223.55   \n",
              "esri-lulc                          0.76         0.04   8957165.29  1635602.01   \n",
              "harvest-crop-maps                  0.47         0.03   4536249.04  1366958.88   \n",
              "\n",
              "                      year  \n",
              "dataset                     \n",
              "copernicus            2019  \n",
              "worldcover-v100       2020  \n",
              "glad                  2019  \n",
              "dynamicworld          2019  \n",
              "digital-earth-africa  2019  \n",
              "esri-lulc             2019  \n",
              "harvest-crop-maps     2019  "
            ],
            "text/html": [
              "\n",
              "  <div id=\"df-5fe9c57a-3bf0-471e-b86f-27cb163a6c0e\" class=\"colab-df-container\">\n",
              "    <div>\n",
              "<style scoped>\n",
              "    .dataframe tbody tr th:only-of-type {\n",
              "        vertical-align: middle;\n",
              "    }\n",
              "\n",
              "    .dataframe tbody tr th {\n",
              "        vertical-align: top;\n",
              "    }\n",
              "\n",
              "    .dataframe thead th {\n",
              "        text-align: right;\n",
              "    }\n",
              "</style>\n",
              "<table border=\"1\" class=\"dataframe\">\n",
              "  <thead>\n",
              "    <tr style=\"text-align: right;\">\n",
              "      <th></th>\n",
              "      <th>crop_f1</th>\n",
              "      <th>accuracy</th>\n",
              "      <th>std_acc</th>\n",
              "      <th>crop_recall_pa</th>\n",
              "      <th>std_crop_pa</th>\n",
              "      <th>crop_precision_ua</th>\n",
              "      <th>std_crop_ua</th>\n",
              "      <th>area_ha</th>\n",
              "      <th>err_ha</th>\n",
              "      <th>year</th>\n",
              "    </tr>\n",
              "    <tr>\n",
              "      <th>dataset</th>\n",
              "      <th></th>\n",
              "      <th></th>\n",
              "      <th></th>\n",
              "      <th></th>\n",
              "      <th></th>\n",
              "      <th></th>\n",
              "      <th></th>\n",
              "      <th></th>\n",
              "      <th></th>\n",
              "      <th></th>\n",
              "    </tr>\n",
              "  </thead>\n",
              "  <tbody>\n",
              "    <tr>\n",
              "      <th>copernicus</th>\n",
              "      <td>0.52</td>\n",
              "      <td>0.86</td>\n",
              "      <td>0.01</td>\n",
              "      <td>0.49</td>\n",
              "      <td>0.05</td>\n",
              "      <td>0.54</td>\n",
              "      <td>0.04</td>\n",
              "      <td>8775032.13</td>\n",
              "      <td>1674917.82</td>\n",
              "      <td>2019</td>\n",
              "    </tr>\n",
              "    <tr>\n",
              "      <th>worldcover-v100</th>\n",
              "      <td>0.29</td>\n",
              "      <td>0.84</td>\n",
              "      <td>0.02</td>\n",
              "      <td>0.17</td>\n",
              "      <td>0.01</td>\n",
              "      <td>0.91</td>\n",
              "      <td>0.04</td>\n",
              "      <td>11181466.37</td>\n",
              "      <td>1964935.17</td>\n",
              "      <td>2020</td>\n",
              "    </tr>\n",
              "    <tr>\n",
              "      <th>glad</th>\n",
              "      <td>0.56</td>\n",
              "      <td>0.89</td>\n",
              "      <td>0.01</td>\n",
              "      <td>0.47</td>\n",
              "      <td>0.05</td>\n",
              "      <td>0.69</td>\n",
              "      <td>0.04</td>\n",
              "      <td>8504157.39</td>\n",
              "      <td>1587943.81</td>\n",
              "      <td>2019</td>\n",
              "    </tr>\n",
              "    <tr>\n",
              "      <th>dynamicworld</th>\n",
              "      <td>NaN</td>\n",
              "      <td>0.00</td>\n",
              "      <td>NaN</td>\n",
              "      <td>NaN</td>\n",
              "      <td>NaN</td>\n",
              "      <td>0.00</td>\n",
              "      <td>0.00</td>\n",
              "      <td>NaN</td>\n",
              "      <td>NaN</td>\n",
              "      <td>2019</td>\n",
              "    </tr>\n",
              "    <tr>\n",
              "      <th>digital-earth-africa</th>\n",
              "      <td>0.54</td>\n",
              "      <td>0.88</td>\n",
              "      <td>0.01</td>\n",
              "      <td>0.52</td>\n",
              "      <td>0.03</td>\n",
              "      <td>0.56</td>\n",
              "      <td>0.04</td>\n",
              "      <td>8104337.54</td>\n",
              "      <td>1585223.55</td>\n",
              "      <td>2019</td>\n",
              "    </tr>\n",
              "    <tr>\n",
              "      <th>esri-lulc</th>\n",
              "      <td>0.55</td>\n",
              "      <td>0.89</td>\n",
              "      <td>0.01</td>\n",
              "      <td>0.42</td>\n",
              "      <td>0.03</td>\n",
              "      <td>0.76</td>\n",
              "      <td>0.04</td>\n",
              "      <td>8957165.29</td>\n",
              "      <td>1635602.01</td>\n",
              "      <td>2019</td>\n",
              "    </tr>\n",
              "    <tr>\n",
              "      <th>harvest-crop-maps</th>\n",
              "      <td>0.47</td>\n",
              "      <td>0.92</td>\n",
              "      <td>0.01</td>\n",
              "      <td>0.47</td>\n",
              "      <td>0.05</td>\n",
              "      <td>0.47</td>\n",
              "      <td>0.03</td>\n",
              "      <td>4536249.04</td>\n",
              "      <td>1366958.88</td>\n",
              "      <td>2019</td>\n",
              "    </tr>\n",
              "  </tbody>\n",
              "</table>\n",
              "</div>\n",
              "    <div class=\"colab-df-buttons\">\n",
              "\n",
              "  <div class=\"colab-df-container\">\n",
              "    <button class=\"colab-df-convert\" onclick=\"convertToInteractive('df-5fe9c57a-3bf0-471e-b86f-27cb163a6c0e')\"\n",
              "            title=\"Convert this dataframe to an interactive table.\"\n",
              "            style=\"display:none;\">\n",
              "\n",
              "  <svg xmlns=\"http://www.w3.org/2000/svg\" height=\"24px\" viewBox=\"0 -960 960 960\">\n",
              "    <path d=\"M120-120v-720h720v720H120Zm60-500h600v-160H180v160Zm220 220h160v-160H400v160Zm0 220h160v-160H400v160ZM180-400h160v-160H180v160Zm440 0h160v-160H620v160ZM180-180h160v-160H180v160Zm440 0h160v-160H620v160Z\"/>\n",
              "  </svg>\n",
              "    </button>\n",
              "\n",
              "  <style>\n",
              "    .colab-df-container {\n",
              "      display:flex;\n",
              "      gap: 12px;\n",
              "    }\n",
              "\n",
              "    .colab-df-convert {\n",
              "      background-color: #E8F0FE;\n",
              "      border: none;\n",
              "      border-radius: 50%;\n",
              "      cursor: pointer;\n",
              "      display: none;\n",
              "      fill: #1967D2;\n",
              "      height: 32px;\n",
              "      padding: 0 0 0 0;\n",
              "      width: 32px;\n",
              "    }\n",
              "\n",
              "    .colab-df-convert:hover {\n",
              "      background-color: #E2EBFA;\n",
              "      box-shadow: 0px 1px 2px rgba(60, 64, 67, 0.3), 0px 1px 3px 1px rgba(60, 64, 67, 0.15);\n",
              "      fill: #174EA6;\n",
              "    }\n",
              "\n",
              "    .colab-df-buttons div {\n",
              "      margin-bottom: 4px;\n",
              "    }\n",
              "\n",
              "    [theme=dark] .colab-df-convert {\n",
              "      background-color: #3B4455;\n",
              "      fill: #D2E3FC;\n",
              "    }\n",
              "\n",
              "    [theme=dark] .colab-df-convert:hover {\n",
              "      background-color: #434B5C;\n",
              "      box-shadow: 0px 1px 3px 1px rgba(0, 0, 0, 0.15);\n",
              "      filter: drop-shadow(0px 1px 2px rgba(0, 0, 0, 0.3));\n",
              "      fill: #FFFFFF;\n",
              "    }\n",
              "  </style>\n",
              "\n",
              "    <script>\n",
              "      const buttonEl =\n",
              "        document.querySelector('#df-5fe9c57a-3bf0-471e-b86f-27cb163a6c0e button.colab-df-convert');\n",
              "      buttonEl.style.display =\n",
              "        google.colab.kernel.accessAllowed ? 'block' : 'none';\n",
              "\n",
              "      async function convertToInteractive(key) {\n",
              "        const element = document.querySelector('#df-5fe9c57a-3bf0-471e-b86f-27cb163a6c0e');\n",
              "        const dataTable =\n",
              "          await google.colab.kernel.invokeFunction('convertToInteractive',\n",
              "                                                    [key], {});\n",
              "        if (!dataTable) return;\n",
              "\n",
              "        const docLinkHtml = 'Like what you see? Visit the ' +\n",
              "          '<a target=\"_blank\" href=https://colab.research.google.com/notebooks/data_table.ipynb>data table notebook</a>'\n",
              "          + ' to learn more about interactive tables.';\n",
              "        element.innerHTML = '';\n",
              "        dataTable['output_type'] = 'display_data';\n",
              "        await google.colab.output.renderOutput(dataTable, element);\n",
              "        const docLink = document.createElement('div');\n",
              "        docLink.innerHTML = docLinkHtml;\n",
              "        element.appendChild(docLink);\n",
              "      }\n",
              "    </script>\n",
              "  </div>\n",
              "\n",
              "\n",
              "<div id=\"df-ac11b8b2-e4f2-48f0-9672-12410996a46e\">\n",
              "  <button class=\"colab-df-quickchart\" onclick=\"quickchart('df-ac11b8b2-e4f2-48f0-9672-12410996a46e')\"\n",
              "            title=\"Suggest charts\"\n",
              "            style=\"display:none;\">\n",
              "\n",
              "<svg xmlns=\"http://www.w3.org/2000/svg\" height=\"24px\"viewBox=\"0 0 24 24\"\n",
              "     width=\"24px\">\n",
              "    <g>\n",
              "        <path d=\"M19 3H5c-1.1 0-2 .9-2 2v14c0 1.1.9 2 2 2h14c1.1 0 2-.9 2-2V5c0-1.1-.9-2-2-2zM9 17H7v-7h2v7zm4 0h-2V7h2v10zm4 0h-2v-4h2v4z\"/>\n",
              "    </g>\n",
              "</svg>\n",
              "  </button>\n",
              "\n",
              "<style>\n",
              "  .colab-df-quickchart {\n",
              "      --bg-color: #E8F0FE;\n",
              "      --fill-color: #1967D2;\n",
              "      --hover-bg-color: #E2EBFA;\n",
              "      --hover-fill-color: #174EA6;\n",
              "      --disabled-fill-color: #AAA;\n",
              "      --disabled-bg-color: #DDD;\n",
              "  }\n",
              "\n",
              "  [theme=dark] .colab-df-quickchart {\n",
              "      --bg-color: #3B4455;\n",
              "      --fill-color: #D2E3FC;\n",
              "      --hover-bg-color: #434B5C;\n",
              "      --hover-fill-color: #FFFFFF;\n",
              "      --disabled-bg-color: #3B4455;\n",
              "      --disabled-fill-color: #666;\n",
              "  }\n",
              "\n",
              "  .colab-df-quickchart {\n",
              "    background-color: var(--bg-color);\n",
              "    border: none;\n",
              "    border-radius: 50%;\n",
              "    cursor: pointer;\n",
              "    display: none;\n",
              "    fill: var(--fill-color);\n",
              "    height: 32px;\n",
              "    padding: 0;\n",
              "    width: 32px;\n",
              "  }\n",
              "\n",
              "  .colab-df-quickchart:hover {\n",
              "    background-color: var(--hover-bg-color);\n",
              "    box-shadow: 0 1px 2px rgba(60, 64, 67, 0.3), 0 1px 3px 1px rgba(60, 64, 67, 0.15);\n",
              "    fill: var(--button-hover-fill-color);\n",
              "  }\n",
              "\n",
              "  .colab-df-quickchart-complete:disabled,\n",
              "  .colab-df-quickchart-complete:disabled:hover {\n",
              "    background-color: var(--disabled-bg-color);\n",
              "    fill: var(--disabled-fill-color);\n",
              "    box-shadow: none;\n",
              "  }\n",
              "\n",
              "  .colab-df-spinner {\n",
              "    border: 2px solid var(--fill-color);\n",
              "    border-color: transparent;\n",
              "    border-bottom-color: var(--fill-color);\n",
              "    animation:\n",
              "      spin 1s steps(1) infinite;\n",
              "  }\n",
              "\n",
              "  @keyframes spin {\n",
              "    0% {\n",
              "      border-color: transparent;\n",
              "      border-bottom-color: var(--fill-color);\n",
              "      border-left-color: var(--fill-color);\n",
              "    }\n",
              "    20% {\n",
              "      border-color: transparent;\n",
              "      border-left-color: var(--fill-color);\n",
              "      border-top-color: var(--fill-color);\n",
              "    }\n",
              "    30% {\n",
              "      border-color: transparent;\n",
              "      border-left-color: var(--fill-color);\n",
              "      border-top-color: var(--fill-color);\n",
              "      border-right-color: var(--fill-color);\n",
              "    }\n",
              "    40% {\n",
              "      border-color: transparent;\n",
              "      border-right-color: var(--fill-color);\n",
              "      border-top-color: var(--fill-color);\n",
              "    }\n",
              "    60% {\n",
              "      border-color: transparent;\n",
              "      border-right-color: var(--fill-color);\n",
              "    }\n",
              "    80% {\n",
              "      border-color: transparent;\n",
              "      border-right-color: var(--fill-color);\n",
              "      border-bottom-color: var(--fill-color);\n",
              "    }\n",
              "    90% {\n",
              "      border-color: transparent;\n",
              "      border-bottom-color: var(--fill-color);\n",
              "    }\n",
              "  }\n",
              "</style>\n",
              "\n",
              "  <script>\n",
              "    async function quickchart(key) {\n",
              "      const quickchartButtonEl =\n",
              "        document.querySelector('#' + key + ' button');\n",
              "      quickchartButtonEl.disabled = true;  // To prevent multiple clicks.\n",
              "      quickchartButtonEl.classList.add('colab-df-spinner');\n",
              "      try {\n",
              "        const charts = await google.colab.kernel.invokeFunction(\n",
              "            'suggestCharts', [key], {});\n",
              "      } catch (error) {\n",
              "        console.error('Error during call to suggestCharts:', error);\n",
              "      }\n",
              "      quickchartButtonEl.classList.remove('colab-df-spinner');\n",
              "      quickchartButtonEl.classList.add('colab-df-quickchart-complete');\n",
              "    }\n",
              "    (() => {\n",
              "      let quickchartButtonEl =\n",
              "        document.querySelector('#df-ac11b8b2-e4f2-48f0-9672-12410996a46e button');\n",
              "      quickchartButtonEl.style.display =\n",
              "        google.colab.kernel.accessAllowed ? 'block' : 'none';\n",
              "    })();\n",
              "  </script>\n",
              "</div>\n",
              "    </div>\n",
              "  </div>\n"
            ],
            "application/vnd.google.colaboratory.intrinsic+json": {
              "type": "dataframe",
              "summary": "{\n  \"name\": \"results[['crop_f1','accuracy','std_acc','crop_recall_pa','std_crop_pa','crop_precision_ua','std_crop_ua','area_ha','err_ha', 'year']]\",\n  \"rows\": 7,\n  \"fields\": [\n    {\n      \"column\": \"dataset\",\n      \"properties\": {\n        \"dtype\": \"string\",\n        \"num_unique_values\": 7,\n        \"samples\": [\n          \"copernicus\",\n          \"worldcover-v100\",\n          \"esri-lulc\"\n        ],\n        \"semantic_type\": \"\",\n        \"description\": \"\"\n      }\n    },\n    {\n      \"column\": \"crop_f1\",\n      \"properties\": {\n        \"dtype\": \"number\",\n        \"std\": 0.10225784403490362,\n        \"min\": 0.29,\n        \"max\": 0.56,\n        \"num_unique_values\": 6,\n        \"samples\": [\n          0.52,\n          0.29,\n          0.47\n        ],\n        \"semantic_type\": \"\",\n        \"description\": \"\"\n      }\n    },\n    {\n      \"column\": \"accuracy\",\n      \"properties\": {\n        \"dtype\": \"number\",\n        \"std\": 0.33355944711835817,\n        \"min\": 0.0,\n        \"max\": 0.92,\n        \"num_unique_values\": 6,\n        \"samples\": [\n          0.86,\n          0.84,\n          0.92\n        ],\n        \"semantic_type\": \"\",\n        \"description\": \"\"\n      }\n    },\n    {\n      \"column\": \"std_acc\",\n      \"properties\": {\n        \"dtype\": \"number\",\n        \"std\": 0.00408248290463863,\n        \"min\": 0.01,\n        \"max\": 0.02,\n        \"num_unique_values\": 2,\n        \"samples\": [\n          0.02,\n          0.01\n        ],\n        \"semantic_type\": \"\",\n        \"description\": \"\"\n      }\n    },\n    {\n      \"column\": \"crop_recall_pa\",\n      \"properties\": {\n        \"dtype\": \"number\",\n        \"std\": 0.12832251036613437,\n        \"min\": 0.17,\n        \"max\": 0.52,\n        \"num_unique_values\": 5,\n        \"samples\": [\n          0.17,\n          0.42\n        ],\n        \"semantic_type\": \"\",\n        \"description\": \"\"\n      }\n    },\n    {\n      \"column\": \"std_crop_pa\",\n      \"properties\": {\n        \"dtype\": \"number\",\n        \"std\": 0.016329931618554522,\n        \"min\": 0.01,\n        \"max\": 0.05,\n        \"num_unique_values\": 3,\n        \"samples\": [\n          0.05,\n          0.01\n        ],\n        \"semantic_type\": \"\",\n        \"description\": \"\"\n      }\n    },\n    {\n      \"column\": \"crop_precision_ua\",\n      \"properties\": {\n        \"dtype\": \"number\",\n        \"std\": 0.2891037052355995,\n        \"min\": 0.0,\n        \"max\": 0.91,\n        \"num_unique_values\": 7,\n        \"samples\": [\n          0.54,\n          0.91\n        ],\n        \"semantic_type\": \"\",\n        \"description\": \"\"\n      }\n    },\n    {\n      \"column\": \"std_crop_ua\",\n      \"properties\": {\n        \"dtype\": \"number\",\n        \"std\": 0.014960264830861913,\n        \"min\": 0.0,\n        \"max\": 0.04,\n        \"num_unique_values\": 3,\n        \"samples\": [\n          0.04,\n          0.0\n        ],\n        \"semantic_type\": \"\",\n        \"description\": \"\"\n      }\n    },\n    {\n      \"column\": \"area_ha\",\n      \"properties\": {\n        \"dtype\": \"number\",\n        \"std\": 2153835.017652397,\n        \"min\": 4536249.04,\n        \"max\": 11181466.37,\n        \"num_unique_values\": 6,\n        \"samples\": [\n          8775032.13,\n          11181466.37\n        ],\n        \"semantic_type\": \"\",\n        \"description\": \"\"\n      }\n    },\n    {\n      \"column\": \"err_ha\",\n      \"properties\": {\n        \"dtype\": \"number\",\n        \"std\": 193382.44049997826,\n        \"min\": 1366958.88,\n        \"max\": 1964935.17,\n        \"num_unique_values\": 6,\n        \"samples\": [\n          1674917.82,\n          1964935.17\n        ],\n        \"semantic_type\": \"\",\n        \"description\": \"\"\n      }\n    },\n    {\n      \"column\": \"year\",\n      \"properties\": {\n        \"dtype\": \"number\",\n        \"std\": 0,\n        \"min\": 2019,\n        \"max\": 2020,\n        \"num_unique_values\": 2,\n        \"samples\": [\n          2020,\n          2019\n        ],\n        \"semantic_type\": \"\",\n        \"description\": \"\"\n      }\n    }\n  ]\n}"
            }
          },
          "metadata": {},
          "execution_count": 27
        }
      ],
      "source": [
        "results[['crop_f1','accuracy','std_acc','crop_recall_pa','std_crop_pa','crop_precision_ua','std_crop_ua','area_ha','err_ha', 'year']]"
      ],
      "id": "nAj0p7VS1_2K"
    },
    {
      "cell_type": "code",
      "source": [
        "results.dropna(inplace=True)"
      ],
      "metadata": {
        "colab": {
          "base_uri": "https://localhost:8080/",
          "height": 17
        },
        "id": "qenOtnORfGTR",
        "outputId": "fcd99cee-a1f5-4db0-bbe1-c6d918d65a53"
      },
      "id": "qenOtnORfGTR",
      "execution_count": 28,
      "outputs": [
        {
          "output_type": "display_data",
          "data": {
            "text/plain": [
              "<IPython.core.display.HTML object>"
            ],
            "text/html": [
              "\n",
              "            <style>\n",
              "                .geemap-dark {\n",
              "                    --jp-widgets-color: white;\n",
              "                    --jp-widgets-label-color: white;\n",
              "                    --jp-ui-font-color1: white;\n",
              "                    --jp-layout-color2: #454545;\n",
              "                    background-color: #383838;\n",
              "                }\n",
              "\n",
              "                .geemap-dark .jupyter-button {\n",
              "                    --jp-layout-color3: #383838;\n",
              "                }\n",
              "\n",
              "                .geemap-colab {\n",
              "                    background-color: var(--colab-primary-surface-color, white);\n",
              "                }\n",
              "\n",
              "                .geemap-colab .jupyter-button {\n",
              "                    --jp-layout-color3: var(--colab-primary-surface-color, white);\n",
              "                }\n",
              "            </style>\n",
              "            "
            ]
          },
          "metadata": {}
        }
      ]
    },
    {
      "cell_type": "code",
      "execution_count": 29,
      "metadata": {
        "colab": {
          "base_uri": "https://localhost:8080/",
          "height": 1000
        },
        "id": "fraQjcTMpTwp",
        "outputId": "914a654c-2f5c-42ea-c520-ae6467f32580"
      },
      "outputs": [
        {
          "output_type": "display_data",
          "data": {
            "text/plain": [
              "<IPython.core.display.HTML object>"
            ],
            "text/html": [
              "\n",
              "            <style>\n",
              "                .geemap-dark {\n",
              "                    --jp-widgets-color: white;\n",
              "                    --jp-widgets-label-color: white;\n",
              "                    --jp-ui-font-color1: white;\n",
              "                    --jp-layout-color2: #454545;\n",
              "                    background-color: #383838;\n",
              "                }\n",
              "\n",
              "                .geemap-dark .jupyter-button {\n",
              "                    --jp-layout-color3: #383838;\n",
              "                }\n",
              "\n",
              "                .geemap-colab {\n",
              "                    background-color: var(--colab-primary-surface-color, white);\n",
              "                }\n",
              "\n",
              "                .geemap-colab .jupyter-button {\n",
              "                    --jp-layout-color3: var(--colab-primary-surface-color, white);\n",
              "                }\n",
              "            </style>\n",
              "            "
            ]
          },
          "metadata": {}
        },
        {
          "output_type": "display_data",
          "data": {
            "text/plain": [
              "<Figure size 600x1400 with 1 Axes>"
            ],
            "image/png": "[encoded data removed]"
          },
          "metadata": {}
        }
      ],
      "source": [
        "crop_proportion = round(gdf[CLASS_COL].value_counts(normalize=True)[1], 4) * 100\n",
        "ax = results.sort_values(\"crop_f1\").plot(\n",
        "    y=[\"accuracy\", \"crop_recall_pa\", \"crop_precision_ua\", \"crop_f1\"],\n",
        "    xerr=\"std_crop_f1\",\n",
        "    kind=\"barh\",\n",
        "    figsize=(6, 14),\n",
        "    width=0.8,\n",
        "    title=f\"{country}: {len(gdf)} points (crop proportion: {crop_proportion}%)\",\n",
        ");\n",
        "\n",
        "for c in ax.containers[1::2]:\n",
        "    ax.bar_label(c)\n",
        "\n",
        "for border in [\"top\", \"right\", \"bottom\", \"left\"]:\n",
        "    ax.spines[border].set_visible(False)\n",
        "\n",
        "ax.legend(bbox_to_anchor=(1, 1), reverse=True);"
      ],
      "id": "fraQjcTMpTwp"
    },
    {
      "cell_type": "markdown",
      "source": [
        "## 4. Cropland Area estimates comparsion (FAOSTAT-cropland area included)"
      ],
      "metadata": {
        "id": "ya4gJVqRQYPh"
      },
      "id": "ya4gJVqRQYPh"
    },
    {
      "cell_type": "code",
      "source": [
        "fao_stat = pd.read_csv(\"./data/ref_samples_area/FAOSTAT_data_en_3-13-2024.csv\")\n",
        "fao_stat = fao_stat[fao_stat['Area'] == country]\n",
        "fao_stat = fao_stat[fao_stat['Year Code'] == reference_year]['Value'] * 1000\n",
        "results = pd.concat([results, pd.DataFrame({'dataset':['FAOSTAT'], 'area_ha':fao_stat, 'err_ha':0, 'year':reference_year}).set_index(['dataset'])])"
      ],
      "metadata": {
        "colab": {
          "base_uri": "https://localhost:8080/",
          "height": 17
        },
        "id": "L-nrhBekPfcp",
        "outputId": "2e692893-dc70-49ec-dff0-5f6ce8d5b417"
      },
      "id": "L-nrhBekPfcp",
      "execution_count": 30,
      "outputs": [
        {
          "output_type": "display_data",
          "data": {
            "text/plain": [
              "<IPython.core.display.HTML object>"
            ],
            "text/html": [
              "\n",
              "            <style>\n",
              "                .geemap-dark {\n",
              "                    --jp-widgets-color: white;\n",
              "                    --jp-widgets-label-color: white;\n",
              "                    --jp-ui-font-color1: white;\n",
              "                    --jp-layout-color2: #454545;\n",
              "                    background-color: #383838;\n",
              "                }\n",
              "\n",
              "                .geemap-dark .jupyter-button {\n",
              "                    --jp-layout-color3: #383838;\n",
              "                }\n",
              "\n",
              "                .geemap-colab {\n",
              "                    background-color: var(--colab-primary-surface-color, white);\n",
              "                }\n",
              "\n",
              "                .geemap-colab .jupyter-button {\n",
              "                    --jp-layout-color3: var(--colab-primary-surface-color, white);\n",
              "                }\n",
              "            </style>\n",
              "            "
            ]
          },
          "metadata": {}
        }
      ]
    },
    {
      "cell_type": "code",
      "source": [
        "import numpy as np\n",
        "import matplotlib.pyplot as plt\n",
        "\n",
        "import matplotlib.pyplot as plt\n",
        "fig, ax = plt.subplots()\n",
        "\n",
        "n = len(results)\n",
        "colors = plt.cm.viridis(np.linspace(0, 1, n))\n",
        "\n",
        "ax.barh(\n",
        "    results.index,\n",
        "    results[\"area_ha\"],\n",
        "    xerr=results[\"err_ha\"],\n",
        "    align=\"center\",\n",
        "    alpha=0.5,\n",
        "    ecolor=\"black\",\n",
        "    color= colors\n",
        ")\n",
        "\n",
        "ax.set_xticks(ax.get_xticks()); ax.set_yticks(ax.get_yticks())\n",
        "ax.set_yticklabels([f\"{dataset} [{int(results.year[dataset])}]\" for dataset in results.index])\n",
        "\n",
        "for i, (value, err) in enumerate(zip(results[\"area_ha\"], results[\"err_ha\"])):\n",
        "    ax.text(value, i, f\"{value:,} ± {err:,}\", ha=\"center\", va=\"bottom\")\n",
        "ax.set_xlabel(\"Area (ha)\")\n",
        "ax.set_ylabel('dataset')\n",
        "ax.set_title(\"Area of cropland\")\n",
        "ax.spines[\"right\"].set_visible(False)\n",
        "plt.show()"
      ],
      "metadata": {
        "id": "a0XEODxnBXW3",
        "colab": {
          "base_uri": "https://localhost:8080/",
          "height": 472
        },
        "outputId": "b64e3e87-a749-4f63-88d5-e54cff82a8d4"
      },
      "id": "a0XEODxnBXW3",
      "execution_count": 33,
      "outputs": [
        {
          "output_type": "display_data",
          "data": {
            "text/plain": [
              "<IPython.core.display.HTML object>"
            ],
            "text/html": [
              "\n",
              "            <style>\n",
              "                .geemap-dark {\n",
              "                    --jp-widgets-color: white;\n",
              "                    --jp-widgets-label-color: white;\n",
              "                    --jp-ui-font-color1: white;\n",
              "                    --jp-layout-color2: #454545;\n",
              "                    background-color: #383838;\n",
              "                }\n",
              "\n",
              "                .geemap-dark .jupyter-button {\n",
              "                    --jp-layout-color3: #383838;\n",
              "                }\n",
              "\n",
              "                .geemap-colab {\n",
              "                    background-color: var(--colab-primary-surface-color, white);\n",
              "                }\n",
              "\n",
              "                .geemap-colab .jupyter-button {\n",
              "                    --jp-layout-color3: var(--colab-primary-surface-color, white);\n",
              "                }\n",
              "            </style>\n",
              "            "
            ]
          },
          "metadata": {}
        },
        {
          "output_type": "display_data",
          "data": {
            "text/plain": [
              "<Figure size 640x480 with 1 Axes>"
            ],
            "image/png": "[encoded data removed]"
          },
          "metadata": {}
        }
      ]
    },
    {
      "cell_type": "code",
      "source": [],
      "metadata": {
        "id": "gfTIBg6cwwAZ"
      },
      "id": "gfTIBg6cwwAZ",
      "execution_count": null,
      "outputs": []
    }
  ],
  "metadata": {
    "colab": {
      "provenance": []
    },
    "kernelspec": {
      "display_name": "Python 3 (ipykernel)",
      "language": "python",
      "name": "python3"
    },
    "language_info": {
      "codemirror_mode": {
        "name": "ipython",
        "version": 3
      },
      "file_extension": ".py",
      "mimetype": "text/x-python",
      "name": "python",
      "nbconvert_exporter": "python",
      "pygments_lexer": "ipython3",
      "version": "3.8.15"
    }
  },
  "nbformat": 4,
  "nbformat_minor": 5
}
