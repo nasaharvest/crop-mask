{
 "cells": [
  {
   "cell_type": "markdown",
   "id": "4627f1a5",
   "metadata": {},
   "source": [
    "This notebook creates a random uniform sample of N points within the bounds of a shapefile and outputs files to load into CEO for labeling."
   ]
  },
  {
   "cell_type": "code",
   "execution_count": 1,
   "id": "a08fec09",
   "metadata": {},
   "outputs": [],
   "source": [
    "# Import libraries\n",
    "from shapely.geometry import Point\n",
    "import geopandas as gpd\n",
    "import numpy as np\n",
    "import random\n",
    "import matplotlib.pyplot as plt"
   ]
  },
  {
   "cell_type": "code",
   "execution_count": 2,
   "id": "ecce1dcb",
   "metadata": {},
   "outputs": [],
   "source": [
    "# Specify the number of points\n",
    "n = 10"
   ]
  },
  {
   "cell_type": "code",
   "execution_count": 3,
   "id": "8c02cbbd",
   "metadata": {},
   "outputs": [],
   "source": [
    "# Specify the path to the shapefile\n",
    "shp = '/Users/hkerner/data/china/china_aoi_bounds/provinces/Provinces.shp'"
   ]
  },
  {
   "cell_type": "code",
   "execution_count": 4,
   "id": "eca06751",
   "metadata": {},
   "outputs": [],
   "source": [
    "# Specify the desired output file path\n",
    "out_shp = 'random_sample_ceo_format.shp'"
   ]
  },
  {
   "cell_type": "code",
   "execution_count": 5,
   "id": "59948aaa",
   "metadata": {},
   "outputs": [
    {
     "data": {
      "text/plain": [
       "<AxesSubplot:>"
      ]
     },
     "execution_count": 5,
     "metadata": {},
     "output_type": "execute_result"
    },
    {
     "data": {
      "image/png": "[encoded data removed]",
      "text/plain": [
       "<Figure size 432x288 with 1 Axes>"
      ]
     },
     "metadata": {
      "needs_background": "light"
     },
     "output_type": "display_data"
    }
   ],
   "source": [
    "# Load the shapefile and plot the boundary\n",
    "boundary = gpd.read_file(shp)\n",
    "boundary.plot()"
   ]
  },
  {
   "cell_type": "code",
   "execution_count": 6,
   "id": "6327c3bb",
   "metadata": {},
   "outputs": [
    {
     "data": {
      "text/html": [
       "<div>\n",
       "<style scoped>\n",
       "    .dataframe tbody tr th:only-of-type {\n",
       "        vertical-align: middle;\n",
       "    }\n",
       "\n",
       "    .dataframe tbody tr th {\n",
       "        vertical-align: top;\n",
       "    }\n",
       "\n",
       "    .dataframe thead th {\n",
       "        text-align: right;\n",
       "    }\n",
       "</style>\n",
       "<table border=\"1\" class=\"dataframe\">\n",
       "  <thead>\n",
       "    <tr style=\"text-align: right;\">\n",
       "      <th></th>\n",
       "      <th>ADM1_NAME</th>\n",
       "      <th>ADM0_NAME</th>\n",
       "      <th>Name</th>\n",
       "      <th>perimeter</th>\n",
       "      <th>area</th>\n",
       "      <th>geometry</th>\n",
       "    </tr>\n",
       "  </thead>\n",
       "  <tbody>\n",
       "    <tr>\n",
       "      <th>0</th>\n",
       "      <td>Heilongjiang Sheng</td>\n",
       "      <td>China</td>\n",
       "      <td>Heilongjiang</td>\n",
       "      <td>5517851.752</td>\n",
       "      <td>4.482682e+10</td>\n",
       "      <td>POLYGON ((123.38851 53.53572, 123.40188 53.534...</td>\n",
       "    </tr>\n",
       "    <tr>\n",
       "      <th>1</th>\n",
       "      <td>Jilin Sheng</td>\n",
       "      <td>China</td>\n",
       "      <td>Jilin</td>\n",
       "      <td>3665255.203</td>\n",
       "      <td>1.916902e+10</td>\n",
       "      <td>POLYGON ((123.97379 46.27779, 123.98667 46.240...</td>\n",
       "    </tr>\n",
       "    <tr>\n",
       "      <th>2</th>\n",
       "      <td>Liaoning Sheng</td>\n",
       "      <td>China</td>\n",
       "      <td>Liaoning</td>\n",
       "      <td>3330468.127</td>\n",
       "      <td>1.466655e+10</td>\n",
       "      <td>MULTIPOLYGON (((121.57840 39.18047, 121.57403 ...</td>\n",
       "    </tr>\n",
       "  </tbody>\n",
       "</table>\n",
       "</div>"
      ],
      "text/plain": [
       "            ADM1_NAME ADM0_NAME          Name    perimeter          area  \\\n",
       "0  Heilongjiang Sheng     China  Heilongjiang  5517851.752  4.482682e+10   \n",
       "1         Jilin Sheng     China         Jilin  3665255.203  1.916902e+10   \n",
       "2      Liaoning Sheng     China      Liaoning  3330468.127  1.466655e+10   \n",
       "\n",
       "                                            geometry  \n",
       "0  POLYGON ((123.38851 53.53572, 123.40188 53.534...  \n",
       "1  POLYGON ((123.97379 46.27779, 123.98667 46.240...  \n",
       "2  MULTIPOLYGON (((121.57840 39.18047, 121.57403 ...  "
      ]
     },
     "execution_count": 6,
     "metadata": {},
     "output_type": "execute_result"
    }
   ],
   "source": [
    "boundary"
   ]
  },
  {
   "cell_type": "code",
   "execution_count": 7,
   "id": "6416bfaf",
   "metadata": {},
   "outputs": [
    {
     "name": "stdout",
     "output_type": "stream",
     "text": [
      "Boundary shapefile CRS is epsg:4326\n"
     ]
    }
   ],
   "source": [
    "# Make sure the shapefile has EPSG:4326, otherwise convert it\n",
    "print('Boundary shapefile CRS is %s' % boundary.crs)\n",
    "if boundary.crs != 'epsg:4326':\n",
    "    boundary = boundary.to_crs('epsg:4326')\n",
    "    print('Boundary shapefile converted to %s' % boundary.crs)"
   ]
  },
  {
   "cell_type": "code",
   "execution_count": 8,
   "id": "377c9406",
   "metadata": {},
   "outputs": [],
   "source": [
    "# Function for sampling random points. \n",
    "# From https://gis.stackexchange.com/questions/294394/randomly-sample-from-geopandas-dataframe-in-python\n",
    "def random_points_in_polygon(num_points, polygon):\n",
    "    points = []\n",
    "    min_x, min_y, max_x, max_y = polygon.bounds\n",
    "    i= 0\n",
    "    while i < num_points:\n",
    "        point = Point(random.uniform(min_x, max_x), random.uniform(min_y, max_y))\n",
    "        if polygon.contains(point):\n",
    "            points.append(point)\n",
    "            i += 1\n",
    "    return points  # returns list of shapely points"
   ]
  },
  {
   "cell_type": "code",
   "execution_count": 9,
   "id": "063f35a1",
   "metadata": {},
   "outputs": [],
   "source": [
    "# Sample n points within the shapefile\n",
    "# Note: this assumes we want to sample N points within each shape/row in the shapefile/geodataframe\n",
    "# Most shapefiles will likely only have one row if it is for a single region, but this allows us to\n",
    "# stratify the samples by sub-regions if desired.\n",
    "points = []\n",
    "for i in range(boundary.shape[0]):\n",
    "    points += random_points_in_polygon(n, boundary.iloc[i].geometry)"
   ]
  },
  {
   "cell_type": "code",
   "execution_count": 10,
   "id": "dc09c3fc",
   "metadata": {},
   "outputs": [],
   "source": [
    "# Convert the list of points to a geodataframe\n",
    "points_gdf = gpd.GeoDataFrame([], geometry=gpd.points_from_xy(x=[p.x for p in points], \n",
    "                                                                  y=[p.y for p in points]))"
   ]
  },
  {
   "cell_type": "code",
   "execution_count": 11,
   "id": "3b36f061",
   "metadata": {},
   "outputs": [
    {
     "data": {
      "text/plain": [
       "<AxesSubplot:>"
      ]
     },
     "execution_count": 11,
     "metadata": {},
     "output_type": "execute_result"
    },
    {
     "data": {
      "image/png": "[encoded data removed]",
      "text/plain": [
       "<Figure size 432x288 with 1 Axes>"
      ]
     },
     "metadata": {
      "needs_background": "light"
     },
     "output_type": "display_data"
    }
   ],
   "source": [
    "# Plot the random points\n",
    "fig, ax = plt.subplots(1)\n",
    "boundary.plot(ax=ax)\n",
    "points_gdf.plot(ax=ax, color='pink')"
   ]
  },
  {
   "cell_type": "code",
   "execution_count": 12,
   "id": "e9176399",
   "metadata": {},
   "outputs": [],
   "source": [
    "# Add columns for CEO formatting\n",
    "points_gdf['PLOTID'] = points_gdf.index\n",
    "points_gdf['SAMPLEID'] = points_gdf.index"
   ]
  },
  {
   "cell_type": "code",
   "execution_count": 13,
   "id": "2e4e05be",
   "metadata": {},
   "outputs": [],
   "source": [
    "# Set the data type of the IDs to be integers\n",
    "points_gdf['SAMPLEID'] = points_gdf['SAMPLEID'].astype(np.int64)\n",
    "points_gdf['PLOTID'] = points_gdf['PLOTID'].astype(np.int64)"
   ]
  },
  {
   "cell_type": "code",
   "execution_count": 14,
   "id": "62a1fafa",
   "metadata": {},
   "outputs": [
    {
     "data": {
      "text/html": [
       "<div>\n",
       "<style scoped>\n",
       "    .dataframe tbody tr th:only-of-type {\n",
       "        vertical-align: middle;\n",
       "    }\n",
       "\n",
       "    .dataframe tbody tr th {\n",
       "        vertical-align: top;\n",
       "    }\n",
       "\n",
       "    .dataframe thead th {\n",
       "        text-align: right;\n",
       "    }\n",
       "</style>\n",
       "<table border=\"1\" class=\"dataframe\">\n",
       "  <thead>\n",
       "    <tr style=\"text-align: right;\">\n",
       "      <th></th>\n",
       "      <th>geometry</th>\n",
       "      <th>PLOTID</th>\n",
       "      <th>SAMPLEID</th>\n",
       "    </tr>\n",
       "  </thead>\n",
       "  <tbody>\n",
       "    <tr>\n",
       "      <th>0</th>\n",
       "      <td>POINT (128.98141 48.69101)</td>\n",
       "      <td>0</td>\n",
       "      <td>0</td>\n",
       "    </tr>\n",
       "    <tr>\n",
       "      <th>1</th>\n",
       "      <td>POINT (127.93320 49.00728)</td>\n",
       "      <td>1</td>\n",
       "      <td>1</td>\n",
       "    </tr>\n",
       "    <tr>\n",
       "      <th>2</th>\n",
       "      <td>POINT (130.06799 43.95006)</td>\n",
       "      <td>2</td>\n",
       "      <td>2</td>\n",
       "    </tr>\n",
       "    <tr>\n",
       "      <th>3</th>\n",
       "      <td>POINT (130.44110 48.24944)</td>\n",
       "      <td>3</td>\n",
       "      <td>3</td>\n",
       "    </tr>\n",
       "    <tr>\n",
       "      <th>4</th>\n",
       "      <td>POINT (130.86827 46.04898)</td>\n",
       "      <td>4</td>\n",
       "      <td>4</td>\n",
       "    </tr>\n",
       "    <tr>\n",
       "      <th>5</th>\n",
       "      <td>POINT (126.54009 50.61003)</td>\n",
       "      <td>5</td>\n",
       "      <td>5</td>\n",
       "    </tr>\n",
       "    <tr>\n",
       "      <th>6</th>\n",
       "      <td>POINT (125.99972 45.20296)</td>\n",
       "      <td>6</td>\n",
       "      <td>6</td>\n",
       "    </tr>\n",
       "    <tr>\n",
       "      <th>7</th>\n",
       "      <td>POINT (125.77318 48.25872)</td>\n",
       "      <td>7</td>\n",
       "      <td>7</td>\n",
       "    </tr>\n",
       "    <tr>\n",
       "      <th>8</th>\n",
       "      <td>POINT (131.08189 46.12811)</td>\n",
       "      <td>8</td>\n",
       "      <td>8</td>\n",
       "    </tr>\n",
       "    <tr>\n",
       "      <th>9</th>\n",
       "      <td>POINT (133.73506 46.75883)</td>\n",
       "      <td>9</td>\n",
       "      <td>9</td>\n",
       "    </tr>\n",
       "    <tr>\n",
       "      <th>10</th>\n",
       "      <td>POINT (124.31123 43.53905)</td>\n",
       "      <td>10</td>\n",
       "      <td>10</td>\n",
       "    </tr>\n",
       "    <tr>\n",
       "      <th>11</th>\n",
       "      <td>POINT (126.47680 42.61452)</td>\n",
       "      <td>11</td>\n",
       "      <td>11</td>\n",
       "    </tr>\n",
       "    <tr>\n",
       "      <th>12</th>\n",
       "      <td>POINT (127.52507 42.74768)</td>\n",
       "      <td>12</td>\n",
       "      <td>12</td>\n",
       "    </tr>\n",
       "    <tr>\n",
       "      <th>13</th>\n",
       "      <td>POINT (125.52733 41.53139)</td>\n",
       "      <td>13</td>\n",
       "      <td>13</td>\n",
       "    </tr>\n",
       "    <tr>\n",
       "      <th>14</th>\n",
       "      <td>POINT (127.00351 43.46873)</td>\n",
       "      <td>14</td>\n",
       "      <td>14</td>\n",
       "    </tr>\n",
       "    <tr>\n",
       "      <th>15</th>\n",
       "      <td>POINT (128.11514 44.20269)</td>\n",
       "      <td>15</td>\n",
       "      <td>15</td>\n",
       "    </tr>\n",
       "    <tr>\n",
       "      <th>16</th>\n",
       "      <td>POINT (125.30852 43.81429)</td>\n",
       "      <td>16</td>\n",
       "      <td>16</td>\n",
       "    </tr>\n",
       "    <tr>\n",
       "      <th>17</th>\n",
       "      <td>POINT (127.78495 43.77969)</td>\n",
       "      <td>17</td>\n",
       "      <td>17</td>\n",
       "    </tr>\n",
       "    <tr>\n",
       "      <th>18</th>\n",
       "      <td>POINT (126.53120 43.27915)</td>\n",
       "      <td>18</td>\n",
       "      <td>18</td>\n",
       "    </tr>\n",
       "    <tr>\n",
       "      <th>19</th>\n",
       "      <td>POINT (125.75410 43.76212)</td>\n",
       "      <td>19</td>\n",
       "      <td>19</td>\n",
       "    </tr>\n",
       "    <tr>\n",
       "      <th>20</th>\n",
       "      <td>POINT (125.24357 40.92483)</td>\n",
       "      <td>20</td>\n",
       "      <td>20</td>\n",
       "    </tr>\n",
       "    <tr>\n",
       "      <th>21</th>\n",
       "      <td>POINT (124.40708 41.37316)</td>\n",
       "      <td>21</td>\n",
       "      <td>21</td>\n",
       "    </tr>\n",
       "    <tr>\n",
       "      <th>22</th>\n",
       "      <td>POINT (124.50716 40.92933)</td>\n",
       "      <td>22</td>\n",
       "      <td>22</td>\n",
       "    </tr>\n",
       "    <tr>\n",
       "      <th>23</th>\n",
       "      <td>POINT (125.25409 41.14566)</td>\n",
       "      <td>23</td>\n",
       "      <td>23</td>\n",
       "    </tr>\n",
       "    <tr>\n",
       "      <th>24</th>\n",
       "      <td>POINT (122.58016 40.37423)</td>\n",
       "      <td>24</td>\n",
       "      <td>24</td>\n",
       "    </tr>\n",
       "    <tr>\n",
       "      <th>25</th>\n",
       "      <td>POINT (121.84686 41.55159)</td>\n",
       "      <td>25</td>\n",
       "      <td>25</td>\n",
       "    </tr>\n",
       "    <tr>\n",
       "      <th>26</th>\n",
       "      <td>POINT (119.67149 41.29839)</td>\n",
       "      <td>26</td>\n",
       "      <td>26</td>\n",
       "    </tr>\n",
       "    <tr>\n",
       "      <th>27</th>\n",
       "      <td>POINT (123.03744 41.61521)</td>\n",
       "      <td>27</td>\n",
       "      <td>27</td>\n",
       "    </tr>\n",
       "    <tr>\n",
       "      <th>28</th>\n",
       "      <td>POINT (120.98578 42.28296)</td>\n",
       "      <td>28</td>\n",
       "      <td>28</td>\n",
       "    </tr>\n",
       "    <tr>\n",
       "      <th>29</th>\n",
       "      <td>POINT (121.02790 41.12583)</td>\n",
       "      <td>29</td>\n",
       "      <td>29</td>\n",
       "    </tr>\n",
       "  </tbody>\n",
       "</table>\n",
       "</div>"
      ],
      "text/plain": [
       "                      geometry  PLOTID  SAMPLEID\n",
       "0   POINT (128.98141 48.69101)       0         0\n",
       "1   POINT (127.93320 49.00728)       1         1\n",
       "2   POINT (130.06799 43.95006)       2         2\n",
       "3   POINT (130.44110 48.24944)       3         3\n",
       "4   POINT (130.86827 46.04898)       4         4\n",
       "5   POINT (126.54009 50.61003)       5         5\n",
       "6   POINT (125.99972 45.20296)       6         6\n",
       "7   POINT (125.77318 48.25872)       7         7\n",
       "8   POINT (131.08189 46.12811)       8         8\n",
       "9   POINT (133.73506 46.75883)       9         9\n",
       "10  POINT (124.31123 43.53905)      10        10\n",
       "11  POINT (126.47680 42.61452)      11        11\n",
       "12  POINT (127.52507 42.74768)      12        12\n",
       "13  POINT (125.52733 41.53139)      13        13\n",
       "14  POINT (127.00351 43.46873)      14        14\n",
       "15  POINT (128.11514 44.20269)      15        15\n",
       "16  POINT (125.30852 43.81429)      16        16\n",
       "17  POINT (127.78495 43.77969)      17        17\n",
       "18  POINT (126.53120 43.27915)      18        18\n",
       "19  POINT (125.75410 43.76212)      19        19\n",
       "20  POINT (125.24357 40.92483)      20        20\n",
       "21  POINT (124.40708 41.37316)      21        21\n",
       "22  POINT (124.50716 40.92933)      22        22\n",
       "23  POINT (125.25409 41.14566)      23        23\n",
       "24  POINT (122.58016 40.37423)      24        24\n",
       "25  POINT (121.84686 41.55159)      25        25\n",
       "26  POINT (119.67149 41.29839)      26        26\n",
       "27  POINT (123.03744 41.61521)      27        27\n",
       "28  POINT (120.98578 42.28296)      28        28\n",
       "29  POINT (121.02790 41.12583)      29        29"
      ]
     },
     "execution_count": 14,
     "metadata": {},
     "output_type": "execute_result"
    }
   ],
   "source": [
    "points_gdf"
   ]
  },
  {
   "cell_type": "code",
   "execution_count": 15,
   "id": "2f3499fb",
   "metadata": {},
   "outputs": [],
   "source": [
    "points_gdf.crs = 'epsg:4326'"
   ]
  },
  {
   "cell_type": "code",
   "execution_count": 16,
   "id": "d6e97983",
   "metadata": {},
   "outputs": [],
   "source": [
    "# Save the file as a new shapefile\n",
    "points_gdf[['geometry', 'PLOTID', 'SAMPLEID']].to_file(out_shp, index=False)\n",
    "\n",
    "# When creating the labeling project in CEO, use this file for 'Plot Design' and 'Sample Design' \n",
    "# (select SHP in the drop-down). You will need to zip the files before uploading."
   ]
  },
  {
   "cell_type": "code",
   "execution_count": null,
   "id": "8d0d0b91",
   "metadata": {},
   "outputs": [],
   "source": []
  }
 ],
 "metadata": {
  "kernelspec": {
   "display_name": "Python 3 (ipykernel)",
   "language": "python",
   "name": "python3"
  },
  "language_info": {
   "codemirror_mode": {
    "name": "ipython",
    "version": 3
   },
   "file_extension": ".py",
   "mimetype": "text/x-python",
   "name": "python",
   "nbconvert_exporter": "python",
   "pygments_lexer": "ipython3",
   "version": "3.7.12"
  }
 },
 "nbformat": 4,
 "nbformat_minor": 5
}
