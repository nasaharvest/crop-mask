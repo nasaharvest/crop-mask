{
 "cells": [
  {
   "cell_type": "markdown",
   "id": "4627f1a5",
   "metadata": {},
   "source": [
    "This notebook creates a random uniform sample of N points within the bounds of a shapefile and outputs files to load into CEO for labeling."
   ]
  },
  {
   "cell_type": "code",
   "execution_count": 3,
   "id": "a08fec09",
   "metadata": {},
   "outputs": [],
   "source": [
    "# Import libraries\n",
    "from shapely.geometry import Point\n",
    "import cartopy.io.shapereader as shpreader\n",
    "import geopandas as gpd\n",
    "import numpy as np\n",
    "import random\n",
    "import matplotlib.pyplot as plt"
   ]
  },
  {
   "cell_type": "code",
   "execution_count": 4,
   "id": "ecce1dcb",
   "metadata": {},
   "outputs": [],
   "source": [
    "# Specify the number of points\n",
    "n = 10"
   ]
  },
  {
   "cell_type": "markdown",
   "id": "00ca4877",
   "metadata": {},
   "source": [
    "The boundary can either be loaded from a private shapefile or the natural earth shapefile. Therefore, only one of the two below cells needs to be executed."
   ]
  },
  {
   "cell_type": "code",
   "execution_count": null,
   "id": "5dffa9ca",
   "metadata": {},
   "outputs": [],
   "source": [
    "# Load in custom shapefile\n",
    "custom_shapefile = '/Users/hkerner/data/china/china_aoi_bounds/provinces/Provinces.shp'\n",
    "boundary = gpd.read_file(custom_shapefile)\n",
    "boundary.plot();"
   ]
  },
  {
   "cell_type": "code",
   "execution_count": 5,
   "id": "2884bd2e",
   "metadata": {},
   "outputs": [
    {
     "data": {
      "image/png": "[encoded data removed]",
      "text/plain": [
       "<Figure size 432x288 with 1 Axes>"
      ]
     },
     "metadata": {
      "needs_background": "light"
     },
     "output_type": "display_data"
    }
   ],
   "source": [
    "# Load in shapefile from natural earth\n",
    "ne_shapefile = shpreader.natural_earth(resolution='110m', category='cultural', name='admin_0_countries')\n",
    "boundary = gpd.read_file(ne_shapefile)\n",
    "boundary = boundary[boundary[\"SOVEREIGNT\"] == \"Ethiopia\"]\n",
    "boundary.plot();"
   ]
  },
  {
   "cell_type": "code",
   "execution_count": 6,
   "id": "eca06751",
   "metadata": {},
   "outputs": [],
   "source": [
    "# Specify the desired output file path\n",
    "out_shp = '../data/random_sample_ceo_format.shp'"
   ]
  },
  {
   "cell_type": "code",
   "execution_count": 7,
   "id": "6327c3bb",
   "metadata": {},
   "outputs": [
    {
     "data": {
      "text/html": [
       "<div>\n",
       "<style scoped>\n",
       "    .dataframe tbody tr th:only-of-type {\n",
       "        vertical-align: middle;\n",
       "    }\n",
       "\n",
       "    .dataframe tbody tr th {\n",
       "        vertical-align: top;\n",
       "    }\n",
       "\n",
       "    .dataframe thead th {\n",
       "        text-align: right;\n",
       "    }\n",
       "</style>\n",
       "<table border=\"1\" class=\"dataframe\">\n",
       "  <thead>\n",
       "    <tr style=\"text-align: right;\">\n",
       "      <th></th>\n",
       "      <th>featurecla</th>\n",
       "      <th>scalerank</th>\n",
       "      <th>LABELRANK</th>\n",
       "      <th>SOVEREIGNT</th>\n",
       "      <th>SOV_A3</th>\n",
       "      <th>ADM0_DIF</th>\n",
       "      <th>LEVEL</th>\n",
       "      <th>TYPE</th>\n",
       "      <th>ADMIN</th>\n",
       "      <th>ADM0_A3</th>\n",
       "      <th>...</th>\n",
       "      <th>FCLASS_TR</th>\n",
       "      <th>FCLASS_ID</th>\n",
       "      <th>FCLASS_PL</th>\n",
       "      <th>FCLASS_GR</th>\n",
       "      <th>FCLASS_IT</th>\n",
       "      <th>FCLASS_NL</th>\n",
       "      <th>FCLASS_SE</th>\n",
       "      <th>FCLASS_BD</th>\n",
       "      <th>FCLASS_UA</th>\n",
       "      <th>geometry</th>\n",
       "    </tr>\n",
       "  </thead>\n",
       "  <tbody>\n",
       "    <tr>\n",
       "      <th>165</th>\n",
       "      <td>Admin-0 country</td>\n",
       "      <td>1</td>\n",
       "      <td>2</td>\n",
       "      <td>Ethiopia</td>\n",
       "      <td>ETH</td>\n",
       "      <td>0</td>\n",
       "      <td>2</td>\n",
       "      <td>Sovereign country</td>\n",
       "      <td>Ethiopia</td>\n",
       "      <td>ETH</td>\n",
       "      <td>...</td>\n",
       "      <td>None</td>\n",
       "      <td>None</td>\n",
       "      <td>None</td>\n",
       "      <td>None</td>\n",
       "      <td>None</td>\n",
       "      <td>None</td>\n",
       "      <td>None</td>\n",
       "      <td>None</td>\n",
       "      <td>None</td>\n",
       "      <td>POLYGON ((47.78942 8.00300, 44.96360 5.00162, ...</td>\n",
       "    </tr>\n",
       "  </tbody>\n",
       "</table>\n",
       "<p>1 rows × 162 columns</p>\n",
       "</div>"
      ],
      "text/plain": [
       "          featurecla  scalerank  LABELRANK SOVEREIGNT SOV_A3  ADM0_DIF  LEVEL  \\\n",
       "165  Admin-0 country          1          2   Ethiopia    ETH         0      2   \n",
       "\n",
       "                  TYPE     ADMIN ADM0_A3  ...  FCLASS_TR FCLASS_ID FCLASS_PL  \\\n",
       "165  Sovereign country  Ethiopia     ETH  ...       None      None      None   \n",
       "\n",
       "     FCLASS_GR FCLASS_IT FCLASS_NL  FCLASS_SE FCLASS_BD FCLASS_UA  \\\n",
       "165       None      None      None       None      None      None   \n",
       "\n",
       "                                              geometry  \n",
       "165  POLYGON ((47.78942 8.00300, 44.96360 5.00162, ...  \n",
       "\n",
       "[1 rows x 162 columns]"
      ]
     },
     "execution_count": 7,
     "metadata": {},
     "output_type": "execute_result"
    }
   ],
   "source": [
    "boundary"
   ]
  },
  {
   "cell_type": "code",
   "execution_count": 8,
   "id": "6416bfaf",
   "metadata": {},
   "outputs": [
    {
     "name": "stdout",
     "output_type": "stream",
     "text": [
      "Boundary shapefile CRS is epsg:4326\n"
     ]
    }
   ],
   "source": [
    "# Make sure the shapefile has EPSG:4326, otherwise convert it\n",
    "print('Boundary shapefile CRS is %s' % boundary.crs)\n",
    "if boundary.crs != 'epsg:4326':\n",
    "    boundary = boundary.to_crs('epsg:4326')\n",
    "    print('Boundary shapefile converted to %s' % boundary.crs)"
   ]
  },
  {
   "cell_type": "code",
   "execution_count": 9,
   "id": "377c9406",
   "metadata": {},
   "outputs": [],
   "source": [
    "# Function for sampling random points. \n",
    "# From https://gis.stackexchange.com/questions/294394/randomly-sample-from-geopandas-dataframe-in-python\n",
    "def random_points_in_polygon(num_points, polygon):\n",
    "    points = []\n",
    "    min_x, min_y, max_x, max_y = polygon.bounds\n",
    "    i= 0\n",
    "    while i < num_points:\n",
    "        point = Point(random.uniform(min_x, max_x), random.uniform(min_y, max_y))\n",
    "        if polygon.contains(point):\n",
    "            points.append(point)\n",
    "            i += 1\n",
    "    return points  # returns list of shapely points"
   ]
  },
  {
   "cell_type": "code",
   "execution_count": 10,
   "id": "063f35a1",
   "metadata": {},
   "outputs": [],
   "source": [
    "# Sample n points within the shapefile\n",
    "# Note: this assumes we want to sample N points within each shape/row in the shapefile/geodataframe\n",
    "# Most shapefiles will likely only have one row if it is for a single region, but this allows us to\n",
    "# stratify the samples by sub-regions if desired.\n",
    "points = []\n",
    "for i in range(boundary.shape[0]):\n",
    "    points += random_points_in_polygon(n, boundary.iloc[i].geometry)"
   ]
  },
  {
   "cell_type": "code",
   "execution_count": 11,
   "id": "dc09c3fc",
   "metadata": {},
   "outputs": [],
   "source": [
    "# Convert the list of points to a geodataframe\n",
    "points_gdf = gpd.GeoDataFrame([], geometry=gpd.points_from_xy(x=[p.x for p in points], \n",
    "                                                                  y=[p.y for p in points]))"
   ]
  },
  {
   "cell_type": "code",
   "execution_count": 12,
   "id": "3b36f061",
   "metadata": {},
   "outputs": [
    {
     "data": {
      "text/plain": [
       "<AxesSubplot:>"
      ]
     },
     "execution_count": 12,
     "metadata": {},
     "output_type": "execute_result"
    },
    {
     "data": {
      "image/png": "[encoded data removed]",
      "text/plain": [
       "<Figure size 432x288 with 1 Axes>"
      ]
     },
     "metadata": {
      "needs_background": "light"
     },
     "output_type": "display_data"
    }
   ],
   "source": [
    "# Plot the random points\n",
    "fig, ax = plt.subplots(1)\n",
    "boundary.plot(ax=ax)\n",
    "points_gdf.plot(ax=ax, color='pink')"
   ]
  },
  {
   "cell_type": "code",
   "execution_count": 13,
   "id": "e9176399",
   "metadata": {},
   "outputs": [],
   "source": [
    "# Add columns for CEO formatting\n",
    "points_gdf['PLOTID'] = points_gdf.index\n",
    "points_gdf['SAMPLEID'] = points_gdf.index"
   ]
  },
  {
   "cell_type": "code",
   "execution_count": 14,
   "id": "2e4e05be",
   "metadata": {},
   "outputs": [],
   "source": [
    "# Set the data type of the IDs to be integers\n",
    "points_gdf['SAMPLEID'] = points_gdf['SAMPLEID'].astype(np.int64)\n",
    "points_gdf['PLOTID'] = points_gdf['PLOTID'].astype(np.int64)"
   ]
  },
  {
   "cell_type": "code",
   "execution_count": 15,
   "id": "62a1fafa",
   "metadata": {},
   "outputs": [
    {
     "data": {
      "text/html": [
       "<div>\n",
       "<style scoped>\n",
       "    .dataframe tbody tr th:only-of-type {\n",
       "        vertical-align: middle;\n",
       "    }\n",
       "\n",
       "    .dataframe tbody tr th {\n",
       "        vertical-align: top;\n",
       "    }\n",
       "\n",
       "    .dataframe thead th {\n",
       "        text-align: right;\n",
       "    }\n",
       "</style>\n",
       "<table border=\"1\" class=\"dataframe\">\n",
       "  <thead>\n",
       "    <tr style=\"text-align: right;\">\n",
       "      <th></th>\n",
       "      <th>geometry</th>\n",
       "      <th>PLOTID</th>\n",
       "      <th>SAMPLEID</th>\n",
       "    </tr>\n",
       "  </thead>\n",
       "  <tbody>\n",
       "    <tr>\n",
       "      <th>0</th>\n",
       "      <td>POINT (41.92771 8.40684)</td>\n",
       "      <td>0</td>\n",
       "      <td>0</td>\n",
       "    </tr>\n",
       "    <tr>\n",
       "      <th>1</th>\n",
       "      <td>POINT (39.33086 4.65141)</td>\n",
       "      <td>1</td>\n",
       "      <td>1</td>\n",
       "    </tr>\n",
       "    <tr>\n",
       "      <th>2</th>\n",
       "      <td>POINT (39.46721 12.31591)</td>\n",
       "      <td>2</td>\n",
       "      <td>2</td>\n",
       "    </tr>\n",
       "    <tr>\n",
       "      <th>3</th>\n",
       "      <td>POINT (38.36060 10.83449)</td>\n",
       "      <td>3</td>\n",
       "      <td>3</td>\n",
       "    </tr>\n",
       "    <tr>\n",
       "      <th>4</th>\n",
       "      <td>POINT (40.71931 8.95098)</td>\n",
       "      <td>4</td>\n",
       "      <td>4</td>\n",
       "    </tr>\n",
       "    <tr>\n",
       "      <th>5</th>\n",
       "      <td>POINT (39.80816 6.46415)</td>\n",
       "      <td>5</td>\n",
       "      <td>5</td>\n",
       "    </tr>\n",
       "    <tr>\n",
       "      <th>6</th>\n",
       "      <td>POINT (39.95362 13.68884)</td>\n",
       "      <td>6</td>\n",
       "      <td>6</td>\n",
       "    </tr>\n",
       "    <tr>\n",
       "      <th>7</th>\n",
       "      <td>POINT (39.36751 11.67843)</td>\n",
       "      <td>7</td>\n",
       "      <td>7</td>\n",
       "    </tr>\n",
       "    <tr>\n",
       "      <th>8</th>\n",
       "      <td>POINT (35.07386 8.91298)</td>\n",
       "      <td>8</td>\n",
       "      <td>8</td>\n",
       "    </tr>\n",
       "    <tr>\n",
       "      <th>9</th>\n",
       "      <td>POINT (40.98872 6.97552)</td>\n",
       "      <td>9</td>\n",
       "      <td>9</td>\n",
       "    </tr>\n",
       "  </tbody>\n",
       "</table>\n",
       "</div>"
      ],
      "text/plain": [
       "                    geometry  PLOTID  SAMPLEID\n",
       "0   POINT (41.92771 8.40684)       0         0\n",
       "1   POINT (39.33086 4.65141)       1         1\n",
       "2  POINT (39.46721 12.31591)       2         2\n",
       "3  POINT (38.36060 10.83449)       3         3\n",
       "4   POINT (40.71931 8.95098)       4         4\n",
       "5   POINT (39.80816 6.46415)       5         5\n",
       "6  POINT (39.95362 13.68884)       6         6\n",
       "7  POINT (39.36751 11.67843)       7         7\n",
       "8   POINT (35.07386 8.91298)       8         8\n",
       "9   POINT (40.98872 6.97552)       9         9"
      ]
     },
     "execution_count": 15,
     "metadata": {},
     "output_type": "execute_result"
    }
   ],
   "source": [
    "points_gdf"
   ]
  },
  {
   "cell_type": "code",
   "execution_count": 16,
   "id": "2f3499fb",
   "metadata": {},
   "outputs": [],
   "source": [
    "points_gdf.crs = 'epsg:4326'"
   ]
  },
  {
   "cell_type": "code",
   "execution_count": 17,
   "id": "d6e97983",
   "metadata": {},
   "outputs": [],
   "source": [
    "# Save the file as a new shapefile\n",
    "points_gdf[['geometry', 'PLOTID', 'SAMPLEID']].to_file(out_shp, index=False)\n",
    "\n",
    "# When creating the labeling project in CEO, use this file for 'Plot Design' and 'Sample Design' \n",
    "# (select SHP in the drop-down). You will need to zip the files before uploading."
   ]
  },
  {
   "cell_type": "code",
   "execution_count": null,
   "id": "8d0d0b91",
   "metadata": {},
   "outputs": [],
   "source": []
  }
 ],
 "metadata": {
  "kernelspec": {
   "display_name": "Python 3 (ipykernel)",
   "language": "python",
   "name": "python3"
  },
  "language_info": {
   "codemirror_mode": {
    "name": "ipython",
    "version": 3
   },
   "file_extension": ".py",
   "mimetype": "text/x-python",
   "name": "python",
   "nbconvert_exporter": "python",
   "pygments_lexer": "ipython3",
   "version": "3.10.1"
  }
 },
 "nbformat": 4,
 "nbformat_minor": 5
}
