{
 "cells": [
  {
   "cell_type": "code",
   "execution_count": 1,
   "metadata": {},
   "outputs": [],
   "source": [
    "# Setup\n",
    "import os\n",
    "os.chdir(\"c:\\\\Users\\\\Benjamin\\\\OneDrive\\\\github\\\\crop-mask\")"
   ]
  },
  {
   "cell_type": "code",
   "execution_count": 2,
   "metadata": {},
   "outputs": [],
   "source": [
    "# Imports\n",
    "from openmapflow.config import PROJECT_ROOT, DataPaths\n",
    "from src.bboxes import bboxes"
   ]
  },
  {
   "cell_type": "code",
   "execution_count": 3,
   "metadata": {},
   "outputs": [],
   "source": [
    "# # Pull in latest training data\n",
    "# !dvc pull data/models -q\n",
    "# !dvc pull data/datasets -q"
   ]
  },
  {
   "cell_type": "code",
   "execution_count": 4,
   "metadata": {},
   "outputs": [],
   "source": [
    "selected_bbox = bboxes[\"Ethiopia_Tigray\"]\n",
    "model_name = input(\"Model name (suggested format: <country>-<region>-<year>): \")\n",
    "eval_datasets = input(\"Evaluation dataset(s): \") "
   ]
  },
  {
   "cell_type": "code",
   "execution_count": 5,
   "metadata": {},
   "outputs": [],
   "source": [
    "# Train a new model (may take up to 30 minutes)\n",
    "!python train.py \\\n",
    "    --min_lon {selected_bbox.min_lon} \\\n",
    "    --max_lon {selected_bbox.max_lon} \\\n",
    "    --min_lat {selected_bbox.min_lat} \\\n",
    "    --max_lat {selected_bbox.max_lat} \\\n",
    "    --model_name {model_name} \\\n",
    "    --eval_datasets {eval_datasets} \\\n",
    "    --up_to_year 2021 \\\n",
    "    --epochs 3"
   ]
  },
  {
   "cell_type": "code",
   "execution_count": null,
   "metadata": {},
   "outputs": [],
   "source": [
    "!dvc commit data/models.dvc      # Saves model to repository\n",
    "!dvc push data/models            # Uploads model to remote storage "
   ]
  },
  {
   "cell_type": "code",
   "execution_count": null,
   "metadata": {},
   "outputs": [],
   "source": [
    "# Push changes to github\n",
    "!git checkout -b'$model_name'\n",
    "!git add .\n",
    "!git commit -m 'Trained new: $model_name'\n",
    "!git push --set-upstream origin \"$model_name\""
   ]
  }
 ],
 "metadata": {
  "kernelspec": {
   "display_name": "landcover-mapping",
   "language": "python",
   "name": "python3"
  },
  "language_info": {
   "codemirror_mode": {
    "name": "ipython",
    "version": 3
   },
   "file_extension": ".py",
   "mimetype": "text/x-python",
   "name": "python",
   "nbconvert_exporter": "python",
   "pygments_lexer": "ipython3",
   "version": "3.7.12"
  },
  "orig_nbformat": 4,
  "vscode": {
   "interpreter": {
    "hash": "d41fa3fa35337bdf4963486ed5f37f07a5fdef19d251c638467c604fd9e6056a"
   }
  }
 },
 "nbformat": 4,
 "nbformat_minor": 2
}
