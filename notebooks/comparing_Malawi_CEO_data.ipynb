{
 "cells": [
  {
   "cell_type": "code",
   "execution_count": 28,
   "id": "b42c48a6",
   "metadata": {},
   "outputs": [],
   "source": [
    "import pandas as pd\n",
    "import sys\n",
    "import matplotlib.pyplot as plt\n",
    "\n",
    "sys.path.append(\"..\")\n",
    "from src.datasets_labeled import labeled_datasets\n",
    "from src.utils import raw_dir"
   ]
  },
  {
   "cell_type": "code",
   "execution_count": 17,
   "id": "3d699813",
   "metadata": {},
   "outputs": [],
   "source": [
    "malawi_CEO_2019 = [d for d in labeled_datasets if d.dataset == \"Malawi_CEO_2019\"][0]\n",
    "malawi_CEO_2020 = [d for d in labeled_datasets if d.dataset == \"Malawi_CEO_2020\"][0]"
   ]
  },
  {
   "cell_type": "code",
   "execution_count": 39,
   "id": "6bc87cf6",
   "metadata": {},
   "outputs": [],
   "source": [
    "malawi_CEO_2019_raw_file_1 = pd.read_csv(raw_dir / malawi_CEO_2019.dataset / malawi_CEO_2019.processors[0].filename)\n",
    "malawi_CEO_2020_raw_file_1 = pd.read_csv(raw_dir / malawi_CEO_2020.dataset / malawi_CEO_2020.processors[0].filename)\n",
    "malawi_CEO_2019_raw_file_2 = pd.read_csv(raw_dir / malawi_CEO_2019.dataset / malawi_CEO_2019.processors[1].filename)\n",
    "malawi_CEO_2020_raw_file_2 = pd.read_csv(raw_dir / malawi_CEO_2020.dataset / malawi_CEO_2020.processors[1].filename)"
   ]
  },
  {
   "cell_type": "code",
   "execution_count": 40,
   "id": "ad655e5e",
   "metadata": {},
   "outputs": [
    {
     "data": {
      "text/plain": [
       "lon    True\n",
       "lat    True\n",
       "dtype: bool"
      ]
     },
     "execution_count": 40,
     "metadata": {},
     "output_type": "execute_result"
    }
   ],
   "source": [
    "(malawi_CEO_2019_raw_file_1[[\"lon\", \"lat\"]] == malawi_CEO_2020_raw_file_1[[\"lon\", \"lat\"]]).all()"
   ]
  },
  {
   "cell_type": "code",
   "execution_count": 55,
   "id": "ca9843f6",
   "metadata": {},
   "outputs": [
    {
     "data": {
      "text/plain": [
       "7.8"
      ]
     },
     "execution_count": 55,
     "metadata": {},
     "output_type": "execute_result"
    }
   ],
   "source": [
    "malawi_CEO_2019_raw_file_1[\"analysis_duration\"].str.replace(\" secs\", \"\").astype(float).median()"
   ]
  },
  {
   "cell_type": "code",
   "execution_count": 56,
   "id": "a9f38c85",
   "metadata": {},
   "outputs": [
    {
     "data": {
      "text/plain": [
       "9.350000000000001"
      ]
     },
     "execution_count": 56,
     "metadata": {},
     "output_type": "execute_result"
    }
   ],
   "source": [
    "malawi_CEO_2020_raw_file_1[\"analysis_duration\"].str.replace(\" secs\", \"\").astype(float).median()"
   ]
  },
  {
   "cell_type": "code",
   "execution_count": 62,
   "id": "00bf07ea",
   "metadata": {},
   "outputs": [
    {
     "data": {
      "text/plain": [
       "True     935\n",
       "False    265\n",
       "dtype: int64"
      ]
     },
     "execution_count": 62,
     "metadata": {},
     "output_type": "execute_result"
    }
   ],
   "source": [
    "(malawi_CEO_2020_raw_file_1[\"Does this pixel contain active cropland?\"] == malawi_CEO_2019_raw_file_1[\"Crop/non\"]).value_counts()"
   ]
  },
  {
   "cell_type": "code",
   "execution_count": 46,
   "id": "1468ed7a",
   "metadata": {},
   "outputs": [
    {
     "data": {
      "text/plain": [
       "<AxesSubplot:title={'center':'Malawi RCMRD'}>"
      ]
     },
     "execution_count": 46,
     "metadata": {},
     "output_type": "execute_result"
    },
    {
     "data": {
      "image/png": "[encoded data removed]",
      "text/plain": [
       "<Figure size 432x288 with 1 Axes>"
      ]
     },
     "metadata": {
      "needs_background": "light"
     },
     "output_type": "display_data"
    }
   ],
   "source": [
    "malawi_CEO_2019_raw_file_1[\"imagery_title\"].value_counts(normalize=True).plot(kind=\"barh\", title=\"Malawi RCMRD\")"
   ]
  },
  {
   "cell_type": "code",
   "execution_count": 45,
   "id": "003928b0",
   "metadata": {},
   "outputs": [
    {
     "data": {
      "image/png": "[encoded data removed]",
      "text/plain": [
       "<Figure size 432x288 with 1 Axes>"
      ]
     },
     "metadata": {
      "needs_background": "light"
     },
     "output_type": "display_data"
    }
   ],
   "source": [
    "malawi_CEO_2020_raw_file_1[\"imagery_title\"].value_counts(normalize=True).plot(kind=\"barh\", title=\"Malawi 2020\");"
   ]
  },
  {
   "cell_type": "code",
   "execution_count": null,
   "id": "c3fcf6ba",
   "metadata": {},
   "outputs": [],
   "source": []
  }
 ],
 "metadata": {
  "kernelspec": {
   "display_name": "Python 3",
   "language": "python",
   "name": "python3"
  },
  "language_info": {
   "codemirror_mode": {
    "name": "ipython",
    "version": 3
   },
   "file_extension": ".py",
   "mimetype": "text/x-python",
   "name": "python",
   "nbconvert_exporter": "python",
   "pygments_lexer": "ipython3",
   "version": "3.6.13"
  }
 },
 "nbformat": 4,
 "nbformat_minor": 5
}
