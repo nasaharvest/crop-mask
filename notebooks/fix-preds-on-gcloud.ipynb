{
 "cells": [
  {
   "cell_type": "markdown",
   "id": "a5fc4a81",
   "metadata": {},
   "source": [
    "# Predicting missed tifs\n",
    "### Context\n",
    "\n",
    "Crop mask inference is setup such that:\n",
    "\n",
    "- one tif file (satellite time series) added to `crop-mask-earthengine` -> one prediction file (crop/non-crop class) in `crop-mask-preds`\n",
    "\n",
    "Similarly\n",
    "- 10 tif files added to `crop-mask-earthengine` -> 10 prediction files in `crop-mask-preds`\n",
    "- 10,000 tif files added to `crop-mask-earthengine` -> 10,000 prediction files in `crop-mask-preds`\n",
    "\n",
    "### Problem\n",
    "\n",
    "However, when processing > 10,000s of tif files at the same time, the system may fail on a few tif files due to inability to scale up fast enough. \n",
    "- 100,000 tif files added to `crop-mask-earthengine` -> 99,823 prediction files in `crop-mask-preds`\n",
    "\n",
    "### Solution\n",
    "\n",
    "In this event this notebook can be used to:\n",
    "1. Identify the tif files that failed to produce a prediction file \n",
    "2. Rename only those tif files to trigger crop-mask inference on only those files and produce prediction files:\n",
    "\n",
    "Example\n",
    "1. 100,000 tif files added to `crop-mask-earthengine` -> 99,823 prediction files in `crop-mask-preds`\n",
    "2. Notebook identifies missing 177 files (100,000-99,823)\n",
    "3. 177 tif files renamed in `crop-mask-earthengine` -> 177 prediction files in `crop-mask-preds`\n",
    "4. Now `crop-mask-preds` contains 100,000\n"
   ]
  },
  {
   "cell_type": "markdown",
   "id": "668c6e83",
   "metadata": {},
   "source": [
    "## 1. Setup"
   ]
  },
  {
   "cell_type": "code",
   "execution_count": 104,
   "id": "cc9e138f",
   "metadata": {},
   "outputs": [],
   "source": [
    "#!gcloud auth login\n",
    "#!gcloud config set project bsos-geog-harvest1"
   ]
  },
  {
   "cell_type": "code",
   "execution_count": 78,
   "id": "37f356b1",
   "metadata": {},
   "outputs": [],
   "source": [
    "import os\n",
    "from collections import defaultdict\n",
    "from google.cloud import storage\n",
    "from pathlib import Path\n",
    "from tqdm.notebook import tqdm"
   ]
  },
  {
   "cell_type": "code",
   "execution_count": 79,
   "id": "e74d7795",
   "metadata": {},
   "outputs": [],
   "source": [
    "client = storage.Client()"
   ]
  },
  {
   "cell_type": "code",
   "execution_count": 80,
   "id": "69e72ec3",
   "metadata": {},
   "outputs": [],
   "source": [
    "tifs_bucket_name = \"crop-mask-earthengine\"\n",
    "preds_bucket_name = \"crop-mask-preds\""
   ]
  },
  {
   "cell_type": "code",
   "execution_count": 116,
   "id": "1b6a6a1e",
   "metadata": {},
   "outputs": [],
   "source": [
    "def get_files_dict(bucket_name, prefix=prefix):\n",
    "    blobs = client.list_blobs(bucket_name, prefix=prefix)\n",
    "    files_dict = defaultdict(lambda: [])\n",
    "    amount = 0\n",
    "    for blob in tqdm(blobs, desc=f\"From {bucket_name}\"):\n",
    "        p = Path(blob.name)\n",
    "        files_dict[str(p.parent)].append(p.stem.replace(\"pred_\", \"\"))\n",
    "        amount += 1\n",
    "    return files_dict, amount"
   ]
  },
  {
   "cell_type": "markdown",
   "id": "9db95708",
   "metadata": {},
   "source": [
    "## 2. Identifying tif files with missing predictions"
   ]
  },
  {
   "cell_type": "code",
   "execution_count": 135,
   "id": "eae5360f",
   "metadata": {},
   "outputs": [],
   "source": [
    "prefix = \"Kenya/Kenya_2019_7/\""
   ]
  },
  {
   "cell_type": "code",
   "execution_count": 136,
   "id": "d071bb09",
   "metadata": {},
   "outputs": [
    {
     "data": {
      "application/vnd.jupyter.widget-view+json": {
       "model_id": "badd4e7d42744e54b67a05ee5faba95c",
       "version_major": 2,
       "version_minor": 0
      },
      "text/plain": [
       "From crop-mask-earthengine: 0it [00:00, ?it/s]"
      ]
     },
     "metadata": {},
     "output_type": "display_data"
    },
    {
     "data": {
      "application/vnd.jupyter.widget-view+json": {
       "model_id": "d03957846f974b689aa122a9808f0b26",
       "version_major": 2,
       "version_minor": 0
      },
      "text/plain": [
       "From crop-mask-preds: 0it [00:00, ?it/s]"
      ]
     },
     "metadata": {},
     "output_type": "display_data"
    },
    {
     "data": {
      "application/vnd.jupyter.widget-view+json": {
       "model_id": "abaa517ba2b3428b823f27beb5df8213",
       "version_major": 2,
       "version_minor": 0
      },
      "text/plain": [
       "Missing files: 0it [00:00, ?it/s]"
      ]
     },
     "metadata": {},
     "output_type": "display_data"
    },
    {
     "name": "stdout",
     "output_type": "stream",
     "text": [
      "------------------------------------------------------------------------------\n",
      "Kenya/Kenya_2019_7/\n",
      "------------------------------------------------------------------------------\n",
      "✔ all files in each batch match\n"
     ]
    }
   ],
   "source": [
    "# This may take some time, if the cell fails try running it again\n",
    "tif_files, tif_amount = get_files_dict(tifs_bucket_name, prefix=prefix)\n",
    "pred_files, pred_amount  = get_files_dict(preds_bucket_name, prefix=prefix)\n",
    "\n",
    "missing = {}\n",
    "for full_k in tqdm(tif_files.keys(), desc=\"Missing files\"):\n",
    "    if full_k not in pred_files:\n",
    "        diffs = tif_files[full_k]\n",
    "    else:\n",
    "        diffs = list(set(tif_files[full_k]) - set(pred_files[full_k]))\n",
    "    if len(diffs) > 0:\n",
    "        missing[full_k] = diffs\n",
    "\n",
    "batches_with_issues = len(missing.keys())\n",
    "print(\"------------------------------------------------------------------------------\")\n",
    "print(prefix) \n",
    "print(\"------------------------------------------------------------------------------\")\n",
    "if batches_with_issues > 0:\n",
    "    print(f\"\\u2716 {batches_with_issues}/{len(tif_files.keys())} batches have a total {tif_amount - pred_amount} missing predictions:\")\n",
    "    for batch, files in missing.items():\n",
    "        print(\"\\t--------------------------------------------------\")\n",
    "        print(f\"\\t{Path(batch).stem}: {len(files)}\")\n",
    "        print(\"\\t--------------------------------------------------\")\n",
    "        [print(f\"\\t{f}\") for f in files]\n",
    "else:\n",
    "    print(f\"\\u2714 all files in each batch match\")"
   ]
  },
  {
   "cell_type": "markdown",
   "id": "fdbcaa66",
   "metadata": {},
   "source": [
    "## 3. Renaming the missing files to retrigger crop-mask inference\n",
    "Only execute this cell if you are sure that crop-mask inference has completed and missed these files."
   ]
  },
  {
   "cell_type": "code",
   "execution_count": 134,
   "id": "47219fb5",
   "metadata": {},
   "outputs": [
    {
     "data": {
      "application/vnd.jupyter.widget-view+json": {
       "model_id": "290a5be26ea043cab6eb189e791659fe",
       "version_major": 2,
       "version_minor": 0
      },
      "text/plain": [
       "Going through batches:   0%|          | 0/10 [00:00<?, ?it/s]"
      ]
     },
     "metadata": {},
     "output_type": "display_data"
    },
    {
     "data": {
      "application/vnd.jupyter.widget-view+json": {
       "model_id": "",
       "version_major": 2,
       "version_minor": 0
      },
      "text/plain": [
       "Renaming files:   0%|          | 0/10 [00:00<?, ?it/s]"
      ]
     },
     "metadata": {},
     "output_type": "display_data"
    },
    {
     "data": {
      "application/vnd.jupyter.widget-view+json": {
       "model_id": "",
       "version_major": 2,
       "version_minor": 0
      },
      "text/plain": [
       "Renaming files:   0%|          | 0/3 [00:00<?, ?it/s]"
      ]
     },
     "metadata": {},
     "output_type": "display_data"
    },
    {
     "data": {
      "application/vnd.jupyter.widget-view+json": {
       "model_id": "",
       "version_major": 2,
       "version_minor": 0
      },
      "text/plain": [
       "Renaming files:   0%|          | 0/30 [00:00<?, ?it/s]"
      ]
     },
     "metadata": {},
     "output_type": "display_data"
    },
    {
     "data": {
      "application/vnd.jupyter.widget-view+json": {
       "model_id": "",
       "version_major": 2,
       "version_minor": 0
      },
      "text/plain": [
       "Renaming files:   0%|          | 0/10 [00:00<?, ?it/s]"
      ]
     },
     "metadata": {},
     "output_type": "display_data"
    },
    {
     "data": {
      "application/vnd.jupyter.widget-view+json": {
       "model_id": "",
       "version_major": 2,
       "version_minor": 0
      },
      "text/plain": [
       "Renaming files:   0%|          | 0/10 [00:00<?, ?it/s]"
      ]
     },
     "metadata": {},
     "output_type": "display_data"
    },
    {
     "data": {
      "application/vnd.jupyter.widget-view+json": {
       "model_id": "",
       "version_major": 2,
       "version_minor": 0
      },
      "text/plain": [
       "Renaming files:   0%|          | 0/10 [00:00<?, ?it/s]"
      ]
     },
     "metadata": {},
     "output_type": "display_data"
    },
    {
     "data": {
      "application/vnd.jupyter.widget-view+json": {
       "model_id": "",
       "version_major": 2,
       "version_minor": 0
      },
      "text/plain": [
       "Renaming files:   0%|          | 0/10 [00:00<?, ?it/s]"
      ]
     },
     "metadata": {},
     "output_type": "display_data"
    },
    {
     "data": {
      "application/vnd.jupyter.widget-view+json": {
       "model_id": "",
       "version_major": 2,
       "version_minor": 0
      },
      "text/plain": [
       "Renaming files:   0%|          | 0/10 [00:00<?, ?it/s]"
      ]
     },
     "metadata": {},
     "output_type": "display_data"
    },
    {
     "data": {
      "application/vnd.jupyter.widget-view+json": {
       "model_id": "",
       "version_major": 2,
       "version_minor": 0
      },
      "text/plain": [
       "Renaming files:   0%|          | 0/10 [00:00<?, ?it/s]"
      ]
     },
     "metadata": {},
     "output_type": "display_data"
    },
    {
     "data": {
      "application/vnd.jupyter.widget-view+json": {
       "model_id": "",
       "version_major": 2,
       "version_minor": 0
      },
      "text/plain": [
       "Renaming files:   0%|          | 0/10 [00:00<?, ?it/s]"
      ]
     },
     "metadata": {},
     "output_type": "display_data"
    }
   ],
   "source": [
    "bucket = client.bucket(tifs_bucket_name)\n",
    "for batch, files in tqdm(missing.items(), desc=\"Going through batches\"):\n",
    "    for file in tqdm(files, desc=\"Renaming files\", leave=False):\n",
    "        blob_name = f\"{batch}/{file}.tif\"\n",
    "        blob = bucket.blob(blob_name)\n",
    "        if blob.exists():\n",
    "            new_blob_name = f\"{batch}/{file}-retry1.tif\"\n",
    "            bucket.rename_blob(blob, new_blob_name)\n",
    "        else:\n",
    "            print(f\"Could not find: {file_name}\")        "
   ]
  },
  {
   "cell_type": "code",
   "execution_count": null,
   "id": "5cd10378",
   "metadata": {},
   "outputs": [],
   "source": []
  }
 ],
 "metadata": {
  "kernelspec": {
   "display_name": "Python 3",
   "language": "python",
   "name": "python3"
  },
  "language_info": {
   "codemirror_mode": {
    "name": "ipython",
    "version": 3
   },
   "file_extension": ".py",
   "mimetype": "text/x-python",
   "name": "python",
   "nbconvert_exporter": "python",
   "pygments_lexer": "ipython3",
   "version": "3.6.13"
  }
 },
 "nbformat": 4,
 "nbformat_minor": 5
}
