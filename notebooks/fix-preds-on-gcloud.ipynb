{
 "cells": [
  {
   "cell_type": "markdown",
   "id": "a5fc4a81",
   "metadata": {},
   "source": [
    "# Predicting missed tifs\n",
    "### Context\n",
    "\n",
    "Crop mask inference is setup such that:\n",
    "\n",
    "- one tif file (satellite time series) added to `crop-mask-earthengine` -> one prediction file (crop/non-crop class) in `crop-mask-preds`\n",
    "\n",
    "Similarly\n",
    "- 10 tif files added to `crop-mask-earthengine` -> 10 prediction files in `crop-mask-preds`\n",
    "- 10,000 tif files added to `crop-mask-earthengine` -> 10,000 prediction files in `crop-mask-preds`\n",
    "\n",
    "### Problem\n",
    "\n",
    "However, when processing > 10,000s of tif files at the same time, the system may fail on a few tif files due to inability to scale up fast enough. \n",
    "- 100,000 tif files added to `crop-mask-earthengine` -> 99,823 prediction files in `crop-mask-preds`\n",
    "\n",
    "### Solution\n",
    "\n",
    "In this event this notebook can be used to:\n",
    "1. Identify the tif files that failed to produce a prediction file \n",
    "2. Rename only those tif files to trigger crop-mask inference on only those files and produce prediction files:\n",
    "\n",
    "Example\n",
    "1. 100,000 tif files added to `crop-mask-earthengine` -> 99,823 prediction files in `crop-mask-preds`\n",
    "2. Notebook identifies missing 177 files (100,000-99,823)\n",
    "3. 177 tif files renamed in `crop-mask-earthengine` -> 177 prediction files in `crop-mask-preds`\n",
    "4. Now `crop-mask-preds` contains 100,000\n"
   ]
  },
  {
   "cell_type": "markdown",
   "id": "668c6e83",
   "metadata": {},
   "source": [
    "## 1. Setup"
   ]
  },
  {
   "cell_type": "code",
   "execution_count": 1,
   "id": "cc9e138f",
   "metadata": {},
   "outputs": [],
   "source": [
    "#!gcloud auth login\n",
    "#!gcloud config set project bsos-geog-harvest1"
   ]
  },
  {
   "cell_type": "code",
   "execution_count": 2,
   "id": "37f356b1",
   "metadata": {},
   "outputs": [],
   "source": [
    "import os\n",
    "from collections import defaultdict\n",
    "from google.cloud import storage\n",
    "from pathlib import Path\n",
    "from tqdm.notebook import tqdm"
   ]
  },
  {
   "cell_type": "code",
   "execution_count": 3,
   "id": "e74d7795",
   "metadata": {},
   "outputs": [],
   "source": [
    "client = storage.Client()"
   ]
  },
  {
   "cell_type": "code",
   "execution_count": 4,
   "id": "69e72ec3",
   "metadata": {},
   "outputs": [],
   "source": [
    "tifs_bucket_name = \"crop-mask-earthengine\"\n",
    "preds_bucket_name = \"crop-mask-preds\""
   ]
  },
  {
   "cell_type": "code",
   "execution_count": 5,
   "id": "1b6a6a1e",
   "metadata": {},
   "outputs": [],
   "source": [
    "def get_files_dict(bucket_name, prefix):\n",
    "    blobs = client.list_blobs(bucket_name, prefix=prefix)\n",
    "    files_dict = defaultdict(lambda: [])\n",
    "    amount = 0\n",
    "    for blob in tqdm(blobs, desc=f\"From {bucket_name}\"):\n",
    "        p = Path(blob.name)\n",
    "        files_dict[str(p.parent)].append(p.stem.replace(\"pred_\", \"\"))\n",
    "        amount += 1\n",
    "    return files_dict, amount"
   ]
  },
  {
   "cell_type": "markdown",
   "id": "9db95708",
   "metadata": {},
   "source": [
    "## 2. Identifying tif files with missing predictions"
   ]
  },
  {
   "cell_type": "code",
   "execution_count": 14,
   "id": "eae5360f",
   "metadata": {},
   "outputs": [],
   "source": [
    "prefix = \"Malawi_2021/Malawi_2021_v2_bbox2\""
   ]
  },
  {
   "cell_type": "code",
   "execution_count": 15,
   "id": "d071bb09",
   "metadata": {},
   "outputs": [
    {
     "data": {
      "application/vnd.jupyter.widget-view+json": {
       "model_id": "87c64a74ff0e49c39544281bc035af3e",
       "version_major": 2,
       "version_minor": 0
      },
      "text/plain": [
       "From crop-mask-earthengine: 0it [00:00, ?it/s]"
      ]
     },
     "metadata": {},
     "output_type": "display_data"
    },
    {
     "data": {
      "application/vnd.jupyter.widget-view+json": {
       "model_id": "dc32721bdf8342c396a7c94066663191",
       "version_major": 2,
       "version_minor": 0
      },
      "text/plain": [
       "From crop-mask-preds: 0it [00:00, ?it/s]"
      ]
     },
     "metadata": {},
     "output_type": "display_data"
    },
    {
     "data": {
      "application/vnd.jupyter.widget-view+json": {
       "model_id": "50a44793eb3448e79590852020f34a6f",
       "version_major": 2,
       "version_minor": 0
      },
      "text/plain": [
       "Missing files:   0%|          | 0/72 [00:00<?, ?it/s]"
      ]
     },
     "metadata": {},
     "output_type": "display_data"
    },
    {
     "name": "stdout",
     "output_type": "stream",
     "text": [
      "------------------------------------------------------------------------------\n",
      "Malawi_2021/Malawi_2021_v2_bbox2\n",
      "------------------------------------------------------------------------------\n",
      "✖ 11/72 batches have a total 19 missing predictions:\n",
      "\t--------------------------------------------------\n",
      "\tbatch_10_Malawi_2021_v1_bbox2_2020-04-21_2021-04-16: 4\n",
      "\t--------------------------------------------------\n",
      "\t10_Malawi_2021_v1_bbox2_2020-04-21_2021-04-160000002560-0000003072\n",
      "\t10_Malawi_2021_v1_bbox2_2020-04-21_2021-04-160000004096-0000002816\n",
      "\t10_Malawi_2021_v1_bbox2_2020-04-21_2021-04-160000002304-0000004096\n",
      "\t10_Malawi_2021_v1_bbox2_2020-04-21_2021-04-160000000000-0000002560\n",
      "\t--------------------------------------------------\n",
      "\tbatch_11_Malawi_2021_v1_bbox2_2020-04-21_2021-04-16: 1\n",
      "\t--------------------------------------------------\n",
      "\t11_Malawi_2021_v1_bbox2_2020-04-21_2021-04-160000000000-0000000768\n",
      "\t--------------------------------------------------\n",
      "\tbatch_12_Malawi_2021_v1_bbox2_2020-04-21_2021-04-16: 1\n",
      "\t--------------------------------------------------\n",
      "\t12_Malawi_2021_v1_bbox2_2020-04-21_2021-04-160000001536-0000001024\n",
      "\t--------------------------------------------------\n",
      "\tbatch_13_Malawi_2021_v1_bbox2_2020-04-21_2021-04-16: 1\n",
      "\t--------------------------------------------------\n",
      "\t13_Malawi_2021_v1_bbox2_2020-04-21_2021-04-160000005120-0000000000\n",
      "\t--------------------------------------------------\n",
      "\tbatch_14_Malawi_2021_v1_bbox2_2020-04-21_2021-04-16: 2\n",
      "\t--------------------------------------------------\n",
      "\t14_Malawi_2021_v1_bbox2_2020-04-21_2021-04-160000004864-0000001024\n",
      "\t14_Malawi_2021_v1_bbox2_2020-04-21_2021-04-160000001536-0000000256\n",
      "\t--------------------------------------------------\n",
      "\tbatch_15_Malawi_2021_v1_bbox2_2020-04-21_2021-04-16: 1\n",
      "\t--------------------------------------------------\n",
      "\t15_Malawi_2021_v1_bbox2_2020-04-21_2021-04-160000001536-0000000000\n",
      "\t--------------------------------------------------\n",
      "\tbatch_35_Malawi_2021_v1_bbox2_2020-04-21_2021-04-16: 1\n",
      "\t--------------------------------------------------\n",
      "\t35_Malawi_2021_v1_bbox2_2020-04-21_2021-04-160000003584-0000000768\n",
      "\t--------------------------------------------------\n",
      "\tbatch_56_Malawi_2021_v1_bbox2_2020-04-21_2021-04-16: 1\n",
      "\t--------------------------------------------------\n",
      "\t56_Malawi_2021_v1_bbox2_2020-04-21_2021-04-160000004864-0000002048\n",
      "\t--------------------------------------------------\n",
      "\tbatch_59_Malawi_2021_v1_bbox2_2020-04-21_2021-04-16: 2\n",
      "\t--------------------------------------------------\n",
      "\t59_Malawi_2021_v1_bbox2_2020-04-21_2021-04-160000001280-0000002816\n",
      "\t59_Malawi_2021_v1_bbox2_2020-04-21_2021-04-160000002560-0000002560\n",
      "\t--------------------------------------------------\n",
      "\tbatch_5_Malawi_2021_v1_bbox2_2020-04-21_2021-04-16: 2\n",
      "\t--------------------------------------------------\n",
      "\t5_Malawi_2021_v1_bbox2_2020-04-21_2021-04-160000005120-0000001024\n",
      "\t5_Malawi_2021_v1_bbox2_2020-04-21_2021-04-160000001536-0000000768\n",
      "\t--------------------------------------------------\n",
      "\tbatch_60_Malawi_2021_v1_bbox2_2020-04-21_2021-04-16: 3\n",
      "\t--------------------------------------------------\n",
      "\t60_Malawi_2021_v1_bbox2_2020-04-21_2021-04-160000001536-0000000000\n",
      "\t60_Malawi_2021_v1_bbox2_2020-04-21_2021-04-160000000768-0000000512\n",
      "\t60_Malawi_2021_v1_bbox2_2020-04-21_2021-04-160000003840-0000003328\n"
     ]
    }
   ],
   "source": [
    "# This may take some time, if the cell fails try running it again\n",
    "tif_files, tif_amount = get_files_dict(tifs_bucket_name, prefix=prefix)\n",
    "pred_files, pred_amount  = get_files_dict(preds_bucket_name, prefix=prefix)\n",
    "\n",
    "missing = {}\n",
    "for full_k in tqdm(tif_files.keys(), desc=\"Missing files\"):\n",
    "    if full_k not in pred_files:\n",
    "        diffs = tif_files[full_k]\n",
    "    else:\n",
    "        diffs = list(set(tif_files[full_k]) - set(pred_files[full_k]))\n",
    "    if len(diffs) > 0:\n",
    "        missing[full_k] = diffs\n",
    "\n",
    "batches_with_issues = len(missing.keys())\n",
    "print(\"------------------------------------------------------------------------------\")\n",
    "print(prefix) \n",
    "print(\"------------------------------------------------------------------------------\")\n",
    "if batches_with_issues > 0:\n",
    "    print(f\"\\u2716 {batches_with_issues}/{len(tif_files.keys())} batches have a total {tif_amount - pred_amount} missing predictions:\")\n",
    "    for batch, files in missing.items():\n",
    "        print(\"\\t--------------------------------------------------\")\n",
    "        print(f\"\\t{Path(batch).stem}: {len(files)}\")\n",
    "        print(\"\\t--------------------------------------------------\")\n",
    "        [print(f\"\\t{f}\") for f in files]\n",
    "else:\n",
    "    print(f\"\\u2714 all files in each batch match\")"
   ]
  },
  {
   "cell_type": "markdown",
   "id": "fdbcaa66",
   "metadata": {},
   "source": [
    "## 3. Renaming the missing files to retrigger crop-mask inference\n",
    "Only execute this cell if you are sure that crop-mask inference has completed and missed these files."
   ]
  },
  {
   "cell_type": "code",
   "execution_count": 16,
   "id": "47219fb5",
   "metadata": {},
   "outputs": [
    {
     "data": {
      "application/vnd.jupyter.widget-view+json": {
       "model_id": "fac0eac713db48ae94538dcec42ce60c",
       "version_major": 2,
       "version_minor": 0
      },
      "text/plain": [
       "Going through batches:   0%|          | 0/11 [00:00<?, ?it/s]"
      ]
     },
     "metadata": {},
     "output_type": "display_data"
    },
    {
     "data": {
      "application/vnd.jupyter.widget-view+json": {
       "model_id": "",
       "version_major": 2,
       "version_minor": 0
      },
      "text/plain": [
       "Renaming files:   0%|          | 0/4 [00:00<?, ?it/s]"
      ]
     },
     "metadata": {},
     "output_type": "display_data"
    },
    {
     "data": {
      "application/vnd.jupyter.widget-view+json": {
       "model_id": "",
       "version_major": 2,
       "version_minor": 0
      },
      "text/plain": [
       "Renaming files:   0%|          | 0/1 [00:00<?, ?it/s]"
      ]
     },
     "metadata": {},
     "output_type": "display_data"
    },
    {
     "data": {
      "application/vnd.jupyter.widget-view+json": {
       "model_id": "",
       "version_major": 2,
       "version_minor": 0
      },
      "text/plain": [
       "Renaming files:   0%|          | 0/1 [00:00<?, ?it/s]"
      ]
     },
     "metadata": {},
     "output_type": "display_data"
    },
    {
     "data": {
      "application/vnd.jupyter.widget-view+json": {
       "model_id": "",
       "version_major": 2,
       "version_minor": 0
      },
      "text/plain": [
       "Renaming files:   0%|          | 0/1 [00:00<?, ?it/s]"
      ]
     },
     "metadata": {},
     "output_type": "display_data"
    },
    {
     "data": {
      "application/vnd.jupyter.widget-view+json": {
       "model_id": "",
       "version_major": 2,
       "version_minor": 0
      },
      "text/plain": [
       "Renaming files:   0%|          | 0/2 [00:00<?, ?it/s]"
      ]
     },
     "metadata": {},
     "output_type": "display_data"
    },
    {
     "data": {
      "application/vnd.jupyter.widget-view+json": {
       "model_id": "",
       "version_major": 2,
       "version_minor": 0
      },
      "text/plain": [
       "Renaming files:   0%|          | 0/1 [00:00<?, ?it/s]"
      ]
     },
     "metadata": {},
     "output_type": "display_data"
    },
    {
     "data": {
      "application/vnd.jupyter.widget-view+json": {
       "model_id": "",
       "version_major": 2,
       "version_minor": 0
      },
      "text/plain": [
       "Renaming files:   0%|          | 0/1 [00:00<?, ?it/s]"
      ]
     },
     "metadata": {},
     "output_type": "display_data"
    },
    {
     "data": {
      "application/vnd.jupyter.widget-view+json": {
       "model_id": "",
       "version_major": 2,
       "version_minor": 0
      },
      "text/plain": [
       "Renaming files:   0%|          | 0/1 [00:00<?, ?it/s]"
      ]
     },
     "metadata": {},
     "output_type": "display_data"
    },
    {
     "data": {
      "application/vnd.jupyter.widget-view+json": {
       "model_id": "",
       "version_major": 2,
       "version_minor": 0
      },
      "text/plain": [
       "Renaming files:   0%|          | 0/2 [00:00<?, ?it/s]"
      ]
     },
     "metadata": {},
     "output_type": "display_data"
    },
    {
     "data": {
      "application/vnd.jupyter.widget-view+json": {
       "model_id": "",
       "version_major": 2,
       "version_minor": 0
      },
      "text/plain": [
       "Renaming files:   0%|          | 0/2 [00:00<?, ?it/s]"
      ]
     },
     "metadata": {},
     "output_type": "display_data"
    },
    {
     "data": {
      "application/vnd.jupyter.widget-view+json": {
       "model_id": "",
       "version_major": 2,
       "version_minor": 0
      },
      "text/plain": [
       "Renaming files:   0%|          | 0/3 [00:00<?, ?it/s]"
      ]
     },
     "metadata": {},
     "output_type": "display_data"
    }
   ],
   "source": [
    "bucket = client.bucket(tifs_bucket_name)\n",
    "for batch, files in tqdm(missing.items(), desc=\"Going through batches\"):\n",
    "    for file in tqdm(files, desc=\"Renaming files\", leave=False):\n",
    "        blob_name = f\"{batch}/{file}.tif\"\n",
    "        blob = bucket.blob(blob_name)\n",
    "        if blob.exists():\n",
    "            new_blob_name = f\"{batch}/{file}-retry1.tif\"\n",
    "            bucket.rename_blob(blob, new_blob_name)\n",
    "        else:\n",
    "            print(f\"Could not find: {file_name}\")        "
   ]
  },
  {
   "cell_type": "code",
   "execution_count": null,
   "id": "5cd10378",
   "metadata": {},
   "outputs": [],
   "source": []
  }
 ],
 "metadata": {
  "kernelspec": {
   "display_name": "Python 3",
   "language": "python",
   "name": "python3"
  },
  "language_info": {
   "codemirror_mode": {
    "name": "ipython",
    "version": 3
   },
   "file_extension": ".py",
   "mimetype": "text/x-python",
   "name": "python",
   "nbconvert_exporter": "python",
   "pygments_lexer": "ipython3",
   "version": "3.6.13"
  }
 },
 "nbformat": 4,
 "nbformat_minor": 5
}
