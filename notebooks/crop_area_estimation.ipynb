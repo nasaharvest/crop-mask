{
 "cells": [
  {
   "cell_type": "markdown",
   "id": "c333c361",
   "metadata": {},
   "source": [
    "## Estimate crop area based on crop mask\n",
    "\n",
    "**Author**: Hannah Kerner (hkerner@umd.edu)\n",
    "\n",
    "**Description**: This notebook contains:\n",
    "1. Code for computing the confusion matrix between the labeled reference sample and the crop mask\n",
    "2. Calculations for the crop and noncrop area and accuracy estimates based on [Olofsson et al., 2014](https://www.sciencedirect.com/science/article/abs/pii/S0034425714000704)\n",
    "\n",
    "To be added in the future:\n",
    "- Code for thresholding the crop mask to a binary mask of 0 (noncrop) or 1 (crop)\n",
    "- Code for clipping the rectangular crop mask to the bounds of a regional shapefile\n",
    "- Code for creating a random stratified sample from the crop mask for labeling in CEO\n",
    "- A separate notebook for estimating area from a change map (based on crop masks from 2 years)\n",
    "- Code for sub-regional estimates (subsetting the reference sample according to admin2 bounds, e.g.), probably as a separate notebook"
   ]
  },
  {
   "cell_type": "code",
   "execution_count": null,
   "id": "9d8e7086",
   "metadata": {},
   "outputs": [],
   "source": [
    "# Import libraries\n",
    "import numpy as np\n",
    "import pandas as pd\n",
    "import geopandas as gpd\n",
    "import rasterio as rio\n",
    "from sklearn.metrics import confusion_matrix\n",
    "import matplotlib.pyplot as plt"
   ]
  },
  {
   "cell_type": "code",
   "execution_count": null,
   "id": "875dc1b5",
   "metadata": {},
   "outputs": [],
   "source": [
    "################################################################\n",
    "### Set the custom paths that will be used for your analysis ###\n",
    "### This should be the only code you need to change          ###\n",
    "################################################################\n",
    "mask_path = '/Users/hkerner/data/china/binary_masks/epsg32652_HLJ_2016.tif'\n",
    "ceo_set1_path = '/Users/hkerner/src/china-crop-mask/area_estimation/reference_samples/labeled_ceo/ceo-Heilongjiang-2016-(Set-2)---v2-sample-data-2022-01-21.csv'\n",
    "ceo_set2_path = '/Users/hkerner/src/china-crop-mask/area_estimation/reference_samples/labeled_ceo/ceo-Heilongjiang-2016-(Set-2)---v2-sample-data-2022-01-21.csv'"
   ]
  },
  {
   "cell_type": "markdown",
   "id": "c921bff3",
   "metadata": {},
   "source": [
    "## 1. Load the crop mask"
   ]
  },
  {
   "cell_type": "code",
   "execution_count": null,
   "id": "14ad79ca",
   "metadata": {},
   "outputs": [],
   "source": [
    "with rio.open(mask_path) as src:\n",
    "    if src.meta['crs'] == 'epsg:4326':\n",
    "        print('''WARNING: The map CRS is EPSG:4326. This means the map unit is degrees \n",
    "              and the pixel-wise areas will not be in meters. You need to reproject the map\n",
    "              to the projection defined for the map's primary UTM zone (e.g., EPSG:32652).''')\n",
    "    if src.meta['dtype'] != 'uint8':\n",
    "        print('''WARNING: The map data type is %s but should be uint8. Make sure the map has\n",
    "              been thresholded to convert to a binary mask of 0 (noncrop) or 1 (crop).''')\n",
    "    else:\n",
    "        print('Map CRS is %s. Loading map into memory.' % src.crs)\n",
    "        crop_map = src.read(1).astype(np.uint8)"
   ]
  },
  {
   "cell_type": "code",
   "execution_count": null,
   "id": "4ad8cdff",
   "metadata": {},
   "outputs": [],
   "source": [
    "# Plot the map to make sure it looks as expected\n",
    "# This may take a while depending on the size of the map,\n",
    "# so you may choose not to run this every time.\n",
    "# plt.imshow(crop_map, cmap='YlGn');\n",
    "# plt.axis('off');"
   ]
  },
  {
   "cell_type": "markdown",
   "id": "28f13e66",
   "metadata": {},
   "source": [
    "## 2. Calculate the mapped area for each class"
   ]
  },
  {
   "cell_type": "code",
   "execution_count": null,
   "id": "b8d09a20",
   "metadata": {},
   "outputs": [],
   "source": [
    "pixel_size = src.transform[0]\n",
    "print('The pixel size is %f meters.' % pixel_size)"
   ]
  },
  {
   "cell_type": "code",
   "execution_count": null,
   "id": "af5e29a5",
   "metadata": {},
   "outputs": [],
   "source": [
    "# Function to calculate mapped area in pixels or ha\n",
    "def mapped_area(pred_map, unit='pixels', px_size=10):\n",
    "    crop_px = np.where(pred_map.flatten() == 1)\n",
    "    noncrop_px = np.where(pred_map.flatten() == 0)\n",
    "    if unit == 'ha':\n",
    "        # Multiply pixels by area per pixel and convert m to hectares\n",
    "        crop_area = crop_px[0].shape[0] * (px_size*px_size) / 100000\n",
    "        noncrop_area = noncrop_px[0].shape[0] * (px_size*px_size) / 100000\n",
    "    elif unit == 'pixels':\n",
    "        crop_area = int(crop_px[0].shape[0])\n",
    "        noncrop_area = int(noncrop_px[0].shape[0])\n",
    "    return crop_area, noncrop_area"
   ]
  },
  {
   "cell_type": "code",
   "execution_count": null,
   "id": "992b463b",
   "metadata": {},
   "outputs": [],
   "source": [
    "crop_area_px, noncrop_area_px = mapped_area(crop_map)\n",
    "\n",
    "print('Crop area [pixels] = %d' % crop_area_px)\n",
    "print('Non-crop area [pixels] = %d' % noncrop_area_px)"
   ]
  },
  {
   "cell_type": "code",
   "execution_count": null,
   "id": "4176a012",
   "metadata": {},
   "outputs": [],
   "source": [
    "tot_area_px = crop_area_px + noncrop_area_px\n",
    "print('Total area [pixels] = %d' % tot_area_px)"
   ]
  },
  {
   "cell_type": "code",
   "execution_count": null,
   "id": "79c423b8",
   "metadata": {},
   "outputs": [],
   "source": [
    "crop_area_ha, noncrop_area_ha = mapped_area(crop_map, unit='ha', px_size=pixel_size)\n",
    "\n",
    "print('Crop area [ha] = %d' % crop_area_ha)\n",
    "print('Non-crop area [ha] = %d' % noncrop_area_ha)"
   ]
  },
  {
   "cell_type": "markdown",
   "id": "d0120fd7",
   "metadata": {},
   "source": [
    "## 3. Load the labeled reference samples\n",
    "\n",
    "There should be two sets of labels for the reference sample. We compare the labels from each set to filter out labels for which the labelers did not agree and thus we can't be confident about the true label."
   ]
  },
  {
   "cell_type": "code",
   "execution_count": null,
   "id": "383188f9",
   "metadata": {},
   "outputs": [],
   "source": [
    "ceo_set1 = pd.read_csv(ceo_set1_path)\n",
    "ceo_set1.head()"
   ]
  },
  {
   "cell_type": "code",
   "execution_count": null,
   "id": "c818dfae",
   "metadata": {},
   "outputs": [],
   "source": [
    "ceo_set2 = pd.read_csv(ceo_set2_path)\n",
    "ceo_set2.head()"
   ]
  },
  {
   "cell_type": "code",
   "execution_count": null,
   "id": "716b7df4",
   "metadata": {},
   "outputs": [],
   "source": [
    "# Make sure the question and thus column name is correct for the project you are working on\n",
    "ceo_agree = ceo_set1[ceo_set1['Does this point lie on active cropland?'] == \n",
    "                         ceo_set2['Does this point lie on active cropland?']]\n",
    "\n",
    "print('Number of samples that are in agreement: %d out of %d (%.2f%%)' % \n",
    "          (ceo_agree.shape[0], ceo_set1.shape[0], ceo_agree.shape[0]/ceo_set1.shape[0]*100))"
   ]
  },
  {
   "cell_type": "code",
   "execution_count": null,
   "id": "173fe924",
   "metadata": {},
   "outputs": [],
   "source": [
    "# Convert the pandas dataframe to a geodataframe\n",
    "ceo_agree_geom = gpd.GeoDataFrame(ceo_agree, geometry=gpd.points_from_xy(ceo_agree.lon, ceo_agree.lat, crs='EPSG:4326'))"
   ]
  },
  {
   "cell_type": "code",
   "execution_count": null,
   "id": "a436f57b",
   "metadata": {},
   "outputs": [],
   "source": [
    "# The labeling platform CEO requires points to be in EPSG:4326. \n",
    "# Reproject to the same crs as the map.\n",
    "ceo_agree_geom = ceo_agree_geom.to_crs(src.crs)"
   ]
  },
  {
   "cell_type": "code",
   "execution_count": null,
   "id": "31b2188f",
   "metadata": {},
   "outputs": [],
   "source": [
    "# Plot them to make sure they look as expected\n",
    "ceo_agree_geom.plot();"
   ]
  },
  {
   "cell_type": "markdown",
   "id": "69064fac",
   "metadata": {},
   "source": [
    "## 4. Get the mapped class for each of the reference samples"
   ]
  },
  {
   "cell_type": "code",
   "execution_count": null,
   "id": "3affebb1",
   "metadata": {},
   "outputs": [],
   "source": [
    "for r, row in ceo_agree_geom.iterrows():\n",
    "    # transform lon, lat to pixel coordinates\n",
    "    lon, lat = row['geometry'].y, row['geometry'].x\n",
    "    px, py = src.index(lat, lon)\n",
    "    ceo_agree_geom.loc[r,'Mapped class'] = crop_map[px, py]"
   ]
  },
  {
   "cell_type": "code",
   "execution_count": null,
   "id": "9d6798d4",
   "metadata": {},
   "outputs": [],
   "source": [
    "ceo_agree_geom.head()"
   ]
  },
  {
   "cell_type": "code",
   "execution_count": null,
   "id": "5c5f51fb",
   "metadata": {},
   "outputs": [],
   "source": [
    "# Make sure none of them are nodata\n",
    "ceo_agree[ceo_agree_geom['Mapped class'] == 3]"
   ]
  },
  {
   "cell_type": "markdown",
   "id": "541591ce",
   "metadata": {},
   "source": [
    "## 5. Compute the confusion matrix between the mapped classes and reference labels"
   ]
  },
  {
   "cell_type": "code",
   "execution_count": null,
   "id": "6d7ae8fd",
   "metadata": {},
   "outputs": [],
   "source": [
    "# Convert the CEO string label to an integer label\n",
    "ceo_agree_geom.loc[ceo_agree_geom['Does this point lie on active cropland?'] == 'Crop', 'Reference label'] = 1\n",
    "ceo_agree_geom.loc[ceo_agree_geom['Does this point lie on active cropland?'] == 'Non-crop', 'Reference label'] = 0\n",
    "ceo_agree_geom['Reference label'] = ceo_agree_geom['Reference label'].astype(np.uint8)\n",
    "ceo_agree_geom.head()"
   ]
  },
  {
   "cell_type": "code",
   "execution_count": null,
   "id": "ef273899",
   "metadata": {},
   "outputs": [],
   "source": [
    "# Compute confusion matrix\n",
    "y_true = np.array(ceo_agree_geom['Reference label']).astype(np.uint8)\n",
    "y_pred = np.array(ceo_agree_geom['Mapped class']).astype(np.uint8)\n",
    "confusion_matrix(y_true, y_pred)"
   ]
  },
  {
   "cell_type": "code",
   "execution_count": null,
   "id": "0e9d04ef",
   "metadata": {},
   "outputs": [],
   "source": [
    "# Extract and print confusion matrix values with element descriptions\n",
    "tn, fp, fn, tp = confusion_matrix(y_true, y_pred).ravel()\n",
    "print('True negatives: %d' % tn)\n",
    "print('False positives: %d' % fp)\n",
    "print('False negatives: %d' % fn)\n",
    "print('True positives: %d' % tp)"
   ]
  },
  {
   "cell_type": "markdown",
   "id": "f04d2bdb",
   "metadata": {},
   "source": [
    "## 6. Adjust mapped area using confusion matrix to compute area estimates"
   ]
  },
  {
   "cell_type": "markdown",
   "id": "e1f87ff1",
   "metadata": {},
   "source": [
    "$W_h$ is the proportion of mapped area for each class "
   ]
  },
  {
   "cell_type": "code",
   "execution_count": null,
   "id": "25413db1",
   "metadata": {},
   "outputs": [],
   "source": [
    "wh_crop = crop_area_px / tot_area_px\n",
    "print('Wh_crop = %f' % wh_crop)\n",
    "\n",
    "wh_noncrop = noncrop_area_px / tot_area_px\n",
    "print('Wh_noncrop = %f' % wh_noncrop)"
   ]
  },
  {
   "cell_type": "markdown",
   "id": "f9d2bc03",
   "metadata": {},
   "source": [
    "Compute the fraction of the proportional area of each class that was mapped as each category in the confusion matrix"
   ]
  },
  {
   "cell_type": "code",
   "execution_count": null,
   "id": "9903d1d0",
   "metadata": {},
   "outputs": [],
   "source": [
    "tp_area = tp / (tp + fp) * wh_crop\n",
    "fp_area = fp / (tp + fp) * wh_crop\n",
    "fn_area = fn / (fn + tn) * wh_noncrop\n",
    "tn_area = tn / (fn + tn) * wh_noncrop\n",
    "\n",
    "print('%f \\t %f \\n %f \\t %f' % (tp_area, fp_area, fn_area, tn_area))"
   ]
  },
  {
   "cell_type": "markdown",
   "id": "ecdbea25",
   "metadata": {},
   "source": [
    "$U_i$ is the user's accuracy (i.e., precision) for each mapped class. We calculate it here in terms of proportion of area computed in the last cell."
   ]
  },
  {
   "cell_type": "code",
   "execution_count": null,
   "id": "3464d8f5",
   "metadata": {},
   "outputs": [],
   "source": [
    "u_crop = tp_area / (tp_area + fp_area)\n",
    "print('U_crop = %f' % u_crop)\n",
    "\n",
    "u_noncrop = tn_area / (tn_area + fn_area)\n",
    "print('U_noncrop = %f' % u_noncrop)"
   ]
  },
  {
   "cell_type": "markdown",
   "id": "bb9db289",
   "metadata": {},
   "source": [
    "$V(U_i)$ is the estimated variance of user accuracy for each mapped class."
   ]
  },
  {
   "cell_type": "code",
   "execution_count": null,
   "id": "cb93c95b",
   "metadata": {},
   "outputs": [],
   "source": [
    "v_u_crop = u_crop * (1-u_crop) / (tp + fp)\n",
    "print('V(U)_crop = %f' % v_u_crop)\n",
    "\n",
    "v_u_noncrop = u_noncrop * (1-u_noncrop) / (fn + tn)\n",
    "print('V(U)_noncrop = %f' % v_u_noncrop)"
   ]
  },
  {
   "cell_type": "markdown",
   "id": "ce58e47f",
   "metadata": {},
   "source": [
    "$S(U_i)$ is the estimated standard error of user accuracy for each mapped class."
   ]
  },
  {
   "cell_type": "code",
   "execution_count": null,
   "id": "161945fc",
   "metadata": {},
   "outputs": [],
   "source": [
    "s_u_crop = np.sqrt(v_u_crop)\n",
    "print('S(U)_crop = %f' % s_u_crop)\n",
    "\n",
    "s_u_noncrop = np.sqrt(v_u_noncrop)\n",
    "print('S(U)_noncrop = %f' % s_u_noncrop)"
   ]
  },
  {
   "cell_type": "markdown",
   "id": "69157be1",
   "metadata": {},
   "source": [
    "Get the 95% confidence interval for User's accuracy"
   ]
  },
  {
   "cell_type": "code",
   "execution_count": null,
   "id": "605b6dcd",
   "metadata": {},
   "outputs": [],
   "source": [
    "u_crop_err = s_u_crop * 1.96\n",
    "print('95%% CI of User accuracy for crop = %f' % u_crop_err)\n",
    "\n",
    "u_noncrop_err = s_u_noncrop * 1.96\n",
    "print('95%% CI of User accuracy for noncrop = %f' % u_noncrop_err)"
   ]
  },
  {
   "cell_type": "markdown",
   "id": "9ffefeaa",
   "metadata": {},
   "source": [
    "$P$ is the producer's accuracy (i.e., recall). We calculate it here in terms of proportion of area."
   ]
  },
  {
   "cell_type": "code",
   "execution_count": null,
   "id": "e9bc08f2",
   "metadata": {},
   "outputs": [],
   "source": [
    "p_crop = tp_area / (tp_area + fn_area)\n",
    "print('P_crop = %f' % p_crop)\n",
    "\n",
    "p_noncrop = tn_area / (tn_area + fp_area)\n",
    "print('P_noncrop = %f' % p_noncrop)"
   ]
  },
  {
   "cell_type": "markdown",
   "id": "c6acf266",
   "metadata": {},
   "source": [
    "$N_j$ is the estimated marginal total number of pixels of each reference class $j$"
   ]
  },
  {
   "cell_type": "code",
   "execution_count": null,
   "id": "7614c7d6",
   "metadata": {},
   "outputs": [],
   "source": [
    "n_j_crop = (crop_area_px * tp) / (tp + fp) + (noncrop_area_px * fn) / (fn + tn)\n",
    "print('N_j_crop = %f' % n_j_crop)\n",
    "\n",
    "n_j_noncrop = (crop_area_px * fp) / (tp + fp) + (noncrop_area_px * tn) / (fn + tn)\n",
    "print('N_j_crop = %f' % n_j_noncrop)"
   ]
  },
  {
   "cell_type": "code",
   "execution_count": null,
   "id": "067e8a33",
   "metadata": {},
   "outputs": [],
   "source": [
    "expr1_crop = crop_area_px**2 * (1-p_crop)**2 * u_crop * (1-u_crop) / (tp + fp - 1)\n",
    "print('expr1 crop = %f' % expr1_crop)\n",
    "\n",
    "expr1_noncrop = noncrop_area_px**2 * (1-p_noncrop)**2 * u_noncrop * (1-u_noncrop) / (fp + tn - 1)\n",
    "print('expr1 noncrop = %f' % expr1_noncrop)"
   ]
  },
  {
   "cell_type": "code",
   "execution_count": null,
   "id": "87470961",
   "metadata": {},
   "outputs": [],
   "source": [
    "# Warning: depending on the size of your map, you may get an overflow warning here, e.g.\n",
    "# RuntimeWarning: overflow encountered in long_scalars\n",
    "# Need to figure out if we can correct this...\n",
    "expr2_crop = p_crop**2 * (noncrop_area_px**2 * fn / (fn + tn) * (1 - fn / (fn + tn)) / (fn + tn - 1))\n",
    "print('expr2 crop = %f' % expr2_crop)\n",
    "\n",
    "expr2_noncrop = p_crop**2 * (crop_area_px**2 * fp / (fp + tp) * (1 - fp / (fp + tp)) / (fp + tp - 1))\n",
    "print('expr2 noncrop = %f' % expr2_noncrop)"
   ]
  },
  {
   "cell_type": "markdown",
   "id": "f1477e88",
   "metadata": {},
   "source": [
    "$V(P_i)$ is the estimated variance of producer's accuracy for each mapped class."
   ]
  },
  {
   "cell_type": "code",
   "execution_count": null,
   "id": "41705ea5",
   "metadata": {},
   "outputs": [],
   "source": [
    "v_p_crop = (1 / n_j_crop**2) * (expr1_crop + expr2_crop)\n",
    "print('V(P) crop = %f' % v_p_crop)\n",
    "\n",
    "v_p_noncrop = (1 / n_j_noncrop**2) * (expr1_noncrop + expr2_noncrop)\n",
    "print('V(P) noncrop = %f' % v_p_noncrop)"
   ]
  },
  {
   "cell_type": "markdown",
   "id": "f389ddf9",
   "metadata": {},
   "source": [
    "$S(P_i)$ is the estimated standard error of producer accuracy for each mapped class."
   ]
  },
  {
   "cell_type": "code",
   "execution_count": null,
   "id": "e93313ab",
   "metadata": {},
   "outputs": [],
   "source": [
    "# Warning: depending on the size of your map, you may get an overflow warning here, e.g.\n",
    "# RuntimeWarning: overflow encountered in long_scalars\n",
    "# Need to figure out if we can correct this...\n",
    "s_p_crop = np.sqrt(v_p_crop)\n",
    "print('S(P) crop = %f' % s_p_crop)\n",
    "\n",
    "s_p_noncrop = np.sqrt(v_p_noncrop)\n",
    "print('S(P) noncrop = %f' % s_p_noncrop)"
   ]
  },
  {
   "cell_type": "markdown",
   "id": "b1235e83",
   "metadata": {},
   "source": [
    "Get the 95% confidence interval for Producer's accuracy"
   ]
  },
  {
   "cell_type": "code",
   "execution_count": null,
   "id": "de8b6e40",
   "metadata": {},
   "outputs": [],
   "source": [
    "p_crop_err = s_p_crop * 1.96\n",
    "print('95%% CI of Producer accuracy for crop = %f' % p_crop_err)\n",
    "\n",
    "p_noncrop_err = s_p_noncrop * 1.96\n",
    "print('95%% CI of Producer accuracy for noncrop = %f' % p_noncrop_err)"
   ]
  },
  {
   "cell_type": "markdown",
   "id": "14608099",
   "metadata": {},
   "source": [
    "$O$ is the overall accuracy. We calculate it here in terms of proportion of area."
   ]
  },
  {
   "cell_type": "code",
   "execution_count": null,
   "id": "c8bd0c31",
   "metadata": {},
   "outputs": [],
   "source": [
    "acc = tp_area + tn_area\n",
    "print('Overall accuracy = %f' % acc)"
   ]
  },
  {
   "cell_type": "markdown",
   "id": "64935a9f",
   "metadata": {},
   "source": [
    "$V(O)$ is the estimated variance of the overall accuracy"
   ]
  },
  {
   "cell_type": "code",
   "execution_count": null,
   "id": "7141543d",
   "metadata": {},
   "outputs": [],
   "source": [
    "v_acc = wh_crop**2 * u_crop * (1-u_crop) / (tp + fp - 1) + \\\n",
    "        wh_noncrop**2 * u_noncrop * (1-u_noncrop) / (fn + tn - 1)\n",
    "print('V(O) = %f' % v_acc)"
   ]
  },
  {
   "cell_type": "markdown",
   "id": "c5d0abba",
   "metadata": {},
   "source": [
    "$S(O)$ is the estimated standard error of the overall accuracy"
   ]
  },
  {
   "cell_type": "code",
   "execution_count": null,
   "id": "8cc17d2b",
   "metadata": {},
   "outputs": [],
   "source": [
    "s_acc = np.sqrt(v_acc)\n",
    "print('S(O) = %f' % s_acc)"
   ]
  },
  {
   "cell_type": "markdown",
   "id": "c9747226",
   "metadata": {},
   "source": [
    "Get the 95% confidence interval for overall accuracy"
   ]
  },
  {
   "cell_type": "code",
   "execution_count": null,
   "id": "f2f9249e",
   "metadata": {},
   "outputs": [],
   "source": [
    "acc_err = s_acc * 1.96\n",
    "print('95%% CI of overall accuracy = %f' % acc_err)"
   ]
  },
  {
   "cell_type": "markdown",
   "id": "74237afd",
   "metadata": {},
   "source": [
    "$A_{pixels}$ is the adjusted map area in units of pixels"
   ]
  },
  {
   "cell_type": "code",
   "execution_count": null,
   "id": "bdea8a49",
   "metadata": {},
   "outputs": [],
   "source": [
    "a_pixels_crop = tot_area_px * (tp_area + fn_area)\n",
    "print('A^[pixels] crop = %f' % a_pixels_crop)\n",
    "\n",
    "a_pixels_noncrop = tot_area_px * (tn_area + fp_area)\n",
    "print('A^[pixels] noncrop = %f' % a_pixels_noncrop)"
   ]
  },
  {
   "cell_type": "markdown",
   "id": "32c3b2c0",
   "metadata": {},
   "source": [
    "$A_{ha}$ is the adjusted map area in units of hectares"
   ]
  },
  {
   "cell_type": "code",
   "execution_count": null,
   "id": "676ce800",
   "metadata": {},
   "outputs": [],
   "source": [
    "a_ha_crop = a_pixels_crop * (pixel_size*pixel_size) / (100*100)\n",
    "print('A^[ha] crop = %f' % a_ha_crop)\n",
    "\n",
    "a_ha_noncrop = a_pixels_noncrop * (pixel_size*pixel_size) / (100*100)\n",
    "print('A^[ha] noncrop = %f' % a_ha_noncrop)"
   ]
  },
  {
   "cell_type": "markdown",
   "id": "ff926fbc",
   "metadata": {},
   "source": [
    "The following equations are used to estimate the standard error for the area. They are based on the calculations in Olofsson et al., 2014."
   ]
  },
  {
   "cell_type": "code",
   "execution_count": null,
   "id": "f20e8223",
   "metadata": {},
   "outputs": [],
   "source": [
    "S_pk_crop = np.sqrt((wh_crop * tp_area - tp_area**2) / (tp + fp - 1) + \\\n",
    "                     (wh_noncrop * fn_area - fn_area**2) / (fn + tn - 1)) * tot_area_px\n",
    "print('S_pk_crop = %f' % S_pk_crop)\n",
    "\n",
    "S_pk_noncrop = np.sqrt((wh_crop * fp_area - fp_area**2) / (tp + fp - 1) + \\\n",
    "                        (wh_noncrop * tn_area - tn_area**2) / (fn + tn - 1)) * tot_area_px\n",
    "print('S_pk_noncrop = %f' % S_pk_noncrop)"
   ]
  },
  {
   "cell_type": "markdown",
   "id": "75bf4a39",
   "metadata": {},
   "source": [
    "Multiply $S(p_k)$ by 1.96 to get the margin of error for the 95% confidence interval"
   ]
  },
  {
   "cell_type": "code",
   "execution_count": null,
   "id": "a074c771",
   "metadata": {},
   "outputs": [],
   "source": [
    "a_pixels_crop_err = S_pk_crop * 1.96\n",
    "print('Crop area standard error 95%% confidence interval [pixels] = %f' % a_pixels_crop_err)\n",
    "\n",
    "a_pixels_noncrop_err = S_pk_noncrop * 1.96\n",
    "print('Non-crop area standard error 95%% confidence interval [pixels] = %f' % a_pixels_noncrop_err)"
   ]
  },
  {
   "cell_type": "code",
   "execution_count": null,
   "id": "390ba5c1",
   "metadata": {},
   "outputs": [],
   "source": [
    "a_ha_crop_err = a_pixels_crop_err * (pixel_size**2) / (100**2)\n",
    "print('Crop area standard error 95%% confidence interval [ha] = %f' % a_ha_crop_err)\n",
    "\n",
    "a_ha_noncrop_err = a_pixels_noncrop_err * (pixel_size**2) / (100**2)\n",
    "print('Non-crop area standard error 95%% confidence interval [ha] = %f' % a_ha_noncrop_err)"
   ]
  },
  {
   "cell_type": "markdown",
   "id": "dca9c4d6",
   "metadata": {},
   "source": [
    "Summary of the final estimates of accuracy and area with standard error at 95% confidence intervals:"
   ]
  },
  {
   "cell_type": "code",
   "execution_count": null,
   "id": "f1aca8fc",
   "metadata": {},
   "outputs": [],
   "source": [
    "summary = pd.DataFrame([[a_ha_crop, a_ha_noncrop],\n",
    "                        [a_ha_crop_err, a_ha_noncrop_err],\n",
    "                        [u_crop, u_noncrop],\n",
    "                        [u_crop_err, u_noncrop_err],\n",
    "                        [p_crop, p_noncrop],\n",
    "                        [p_crop_err, p_noncrop_err],\n",
    "                        [acc, acc],\n",
    "                        [acc_err, acc_err]\n",
    "                       ],\n",
    "                       index=pd.Index(['Estimated area [ha]', '95% CI of area [ha]', 'User accuracy',\n",
    "                                       '95% CI of user acc', 'Producer accuracy', '95% CI of prod acc',\n",
    "                                       'Overall accuracy', '95% CI of overall acc']),\n",
    "                       columns=['Crop', 'Non-crop'])\n",
    "\n",
    "summary.round(2)"
   ]
  },
  {
   "cell_type": "code",
   "execution_count": null,
   "id": "66710440",
   "metadata": {},
   "outputs": [],
   "source": []
  },
  {
   "cell_type": "code",
   "execution_count": null,
   "id": "11cbe31d",
   "metadata": {},
   "outputs": [],
   "source": []
  }
 ],
 "metadata": {
  "kernelspec": {
   "display_name": "Python 3 (ipykernel)",
   "language": "python",
   "name": "python3"
  },
  "language_info": {
   "codemirror_mode": {
    "name": "ipython",
    "version": 3
   },
   "file_extension": ".py",
   "mimetype": "text/x-python",
   "name": "python",
   "nbconvert_exporter": "python",
   "pygments_lexer": "ipython3",
   "version": "3.7.12"
  }
 },
 "nbformat": 4,
 "nbformat_minor": 5
}
