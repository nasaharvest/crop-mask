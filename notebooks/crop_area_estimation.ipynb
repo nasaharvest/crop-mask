{
 "cells": [
  {
   "cell_type": "markdown",
   "id": "c333c361",
   "metadata": {},
   "source": [
    "## Estimate crop area based on crop mask\n",
    "\n",
    "**Author**: Hannah Kerner (hkerner@umd.edu)\n",
    "\n",
    "**Description**: This notebook contains:\n",
    "1. Code for computing the confusion matrix between the labeled reference sample and the crop mask\n",
    "2. Calculations for the crop and noncrop area and accuracy estimates based on [Olofsson et al., 2014](https://www.sciencedirect.com/science/article/abs/pii/S0034425714000704)\n",
    "\n",
    "To be added in the future:\n",
    "- Code for thresholding the crop mask to a binary mask of 0 (noncrop) or 1 (crop)\n",
    "- Code for clipping the rectangular crop mask to the bounds of a regional shapefile\n",
    "- Code for creating a random stratified sample from the crop mask for labeling in CEO\n",
    "- A separate notebook for estimating area from a change map (based on crop masks from 2 years)\n",
    "- Code for sub-regional estimates (subsetting the reference sample according to admin2 bounds, e.g.), probably as a separate notebook"
   ]
  },
  {
   "cell_type": "code",
   "execution_count": 67,
   "id": "9d8e7086",
   "metadata": {},
   "outputs": [],
   "source": [
    "# Import libraries\n",
    "import numpy as np\n",
    "import pandas as pd\n",
    "import geopandas as gpd\n",
    "import rasterio as rio\n",
    "from sklearn.metrics import confusion_matrix\n",
    "import matplotlib.pyplot as plt"
   ]
  },
  {
   "cell_type": "markdown",
   "id": "c921bff3",
   "metadata": {},
   "source": [
    "## 1. Load the crop mask"
   ]
  },
  {
   "cell_type": "code",
   "execution_count": 13,
   "id": "56e1cdb4",
   "metadata": {},
   "outputs": [],
   "source": [
    "mask_path = '/Users/hkerner/data/china/binary_masks/Liaoning_2017_epsg32651.tif'"
   ]
  },
  {
   "cell_type": "code",
   "execution_count": 14,
   "id": "14ad79ca",
   "metadata": {},
   "outputs": [
    {
     "name": "stdout",
     "output_type": "stream",
     "text": [
      "Map CRS is EPSG:32651. Loading map into memory.\n"
     ]
    }
   ],
   "source": [
    "with rio.open(mask_path) as src:\n",
    "    if src.meta['crs'] == 'epsg:4326':\n",
    "        print('''WARNING: The map CRS is EPSG:4326. This means the map unit is degrees \n",
    "              and the pixel-wise areas will not be in meters. You need to reproject the map\n",
    "              to the projection defined for the map's primary UTM zone (e.g., EPSG:32652).''')\n",
    "    if src.meta['dtype'] != 'uint8':\n",
    "        print('''WARNING: The map data type is %s but should be uint8. Make sure the map has\n",
    "              been thresholded to convert to a binary mask of 0 (noncrop) or 1 (crop).''')\n",
    "    else:\n",
    "        print('Map CRS is %s. Loading map into memory.' % src.crs)\n",
    "        crop_map = src.read(1).astype(np.uint8)"
   ]
  },
  {
   "cell_type": "code",
   "execution_count": 15,
   "id": "4ad8cdff",
   "metadata": {},
   "outputs": [],
   "source": [
    "# Plot the map to make sure it looks as expected\n",
    "# This may take a while depending on the size of the map,\n",
    "# so you may choose not to run this every time.\n",
    "# plt.imshow(crop_map, cmap='YlGn');\n",
    "# plt.axis('off');"
   ]
  },
  {
   "cell_type": "markdown",
   "id": "28f13e66",
   "metadata": {},
   "source": [
    "## 2. Calculate the mapped area for each class"
   ]
  },
  {
   "cell_type": "code",
   "execution_count": 16,
   "id": "b8d09a20",
   "metadata": {},
   "outputs": [
    {
     "name": "stdout",
     "output_type": "stream",
     "text": [
      "The pixel size is 10.000000 meters.\n"
     ]
    }
   ],
   "source": [
    "pixel_size = src.transform[0]\n",
    "print('The pixel size is %f meters.' % pixel_size)"
   ]
  },
  {
   "cell_type": "code",
   "execution_count": 17,
   "id": "af5e29a5",
   "metadata": {},
   "outputs": [],
   "source": [
    "# Function to calculate mapped area in pixels or ha\n",
    "def mapped_area(pred_map, unit='pixels', px_size=10):\n",
    "    crop_px = np.where(pred_map.flatten() == 1)\n",
    "    noncrop_px = np.where(pred_map.flatten() == 0)\n",
    "    if unit == 'ha':\n",
    "        # Multiply pixels by area per pixel and convert m to hectares\n",
    "        crop_area = crop_px[0].shape[0] * (px_size*px_size) / 100000\n",
    "        noncrop_area = noncrop_px[0].shape[0] * (px_size*px_size) / 100000\n",
    "    elif unit == 'pixels':\n",
    "        crop_area = int(crop_px[0].shape[0])\n",
    "        noncrop_area = int(noncrop_px[0].shape[0])\n",
    "    return crop_area, noncrop_area"
   ]
  },
  {
   "cell_type": "code",
   "execution_count": 18,
   "id": "992b463b",
   "metadata": {},
   "outputs": [
    {
     "name": "stdout",
     "output_type": "stream",
     "text": [
      "Crop area [pixels] = 556725045\n",
      "Non-crop area [pixels] = 909501053\n"
     ]
    }
   ],
   "source": [
    "crop_area_px, noncrop_area_px = mapped_area(crop_map)\n",
    "\n",
    "print('Crop area [pixels] = %d' % crop_area_px)\n",
    "print('Non-crop area [pixels] = %d' % noncrop_area_px)"
   ]
  },
  {
   "cell_type": "code",
   "execution_count": 97,
   "id": "4176a012",
   "metadata": {},
   "outputs": [
    {
     "name": "stdout",
     "output_type": "stream",
     "text": [
      "Total area [pixels] = 1466226098\n"
     ]
    }
   ],
   "source": [
    "tot_area_px = crop_area_px + noncrop_area_px\n",
    "print('Total area [pixels] = %d' % tot_area_px)"
   ]
  },
  {
   "cell_type": "code",
   "execution_count": 19,
   "id": "79c423b8",
   "metadata": {},
   "outputs": [
    {
     "name": "stdout",
     "output_type": "stream",
     "text": [
      "Crop area [ha] = 556725\n",
      "Non-crop area [ha] = 909501\n"
     ]
    }
   ],
   "source": [
    "crop_area_ha, noncrop_area_ha = mapped_area(crop_map, unit='ha', px_size=pixel_size)\n",
    "\n",
    "print('Crop area [ha] = %d' % crop_area_ha)\n",
    "print('Non-crop area [ha] = %d' % noncrop_area_ha)"
   ]
  },
  {
   "cell_type": "markdown",
   "id": "d0120fd7",
   "metadata": {},
   "source": [
    "## 3. Load the labeled reference samples\n",
    "\n",
    "There should be two sets of labels for the reference sample. We compare the labels from each set to filter out labels for which the labelers did not agree and thus we can't be confident about the true label."
   ]
  },
  {
   "cell_type": "code",
   "execution_count": 24,
   "id": "383188f9",
   "metadata": {},
   "outputs": [
    {
     "data": {
      "text/html": [
       "<div>\n",
       "<style scoped>\n",
       "    .dataframe tbody tr th:only-of-type {\n",
       "        vertical-align: middle;\n",
       "    }\n",
       "\n",
       "    .dataframe tbody tr th {\n",
       "        vertical-align: top;\n",
       "    }\n",
       "\n",
       "    .dataframe thead th {\n",
       "        text-align: right;\n",
       "    }\n",
       "</style>\n",
       "<table border=\"1\" class=\"dataframe\">\n",
       "  <thead>\n",
       "    <tr style=\"text-align: right;\">\n",
       "      <th></th>\n",
       "      <th>plot_id</th>\n",
       "      <th>sample_id</th>\n",
       "      <th>lon</th>\n",
       "      <th>lat</th>\n",
       "      <th>email</th>\n",
       "      <th>flagged</th>\n",
       "      <th>collection_time</th>\n",
       "      <th>analysis_duration</th>\n",
       "      <th>imagery_title</th>\n",
       "      <th>imagery_attributions</th>\n",
       "      <th>sample_geom</th>\n",
       "      <th>pl_plotid</th>\n",
       "      <th>Does this point fall within active cropland?</th>\n",
       "    </tr>\n",
       "  </thead>\n",
       "  <tbody>\n",
       "    <tr>\n",
       "      <th>0</th>\n",
       "      <td>139406454</td>\n",
       "      <td>543184480</td>\n",
       "      <td>121.672992</td>\n",
       "      <td>39.506624</td>\n",
       "      <td>NaN</td>\n",
       "      <td>NaN</td>\n",
       "      <td>NaN</td>\n",
       "      <td>NaN</td>\n",
       "      <td>NaN</td>\n",
       "      <td>NaN</td>\n",
       "      <td>POINT(121.672992236843 39.5066237413178)</td>\n",
       "      <td>0</td>\n",
       "      <td>NaN</td>\n",
       "    </tr>\n",
       "    <tr>\n",
       "      <th>1</th>\n",
       "      <td>139406455</td>\n",
       "      <td>543184481</td>\n",
       "      <td>122.626644</td>\n",
       "      <td>42.312242</td>\n",
       "      <td>hkerner@umd.edu</td>\n",
       "      <td>False</td>\n",
       "      <td>2021-03-28 23:40</td>\n",
       "      <td>184.6 secs</td>\n",
       "      <td>Sentinel-2</td>\n",
       "      <td>NaN</td>\n",
       "      <td>POINT(122.626643742464 42.3122420366798)</td>\n",
       "      <td>1</td>\n",
       "      <td>Crop</td>\n",
       "    </tr>\n",
       "    <tr>\n",
       "      <th>2</th>\n",
       "      <td>139406456</td>\n",
       "      <td>543184482</td>\n",
       "      <td>120.931343</td>\n",
       "      <td>42.112457</td>\n",
       "      <td>bev@jjjbsa.com</td>\n",
       "      <td>False</td>\n",
       "      <td>2021-03-28 23:42</td>\n",
       "      <td>111.8 secs</td>\n",
       "      <td>Sentinel-2</td>\n",
       "      <td>NaN</td>\n",
       "      <td>POINT(120.931343138274 42.1124567174916)</td>\n",
       "      <td>2</td>\n",
       "      <td>Crop</td>\n",
       "    </tr>\n",
       "    <tr>\n",
       "      <th>3</th>\n",
       "      <td>139406457</td>\n",
       "      <td>543184483</td>\n",
       "      <td>119.447686</td>\n",
       "      <td>41.042653</td>\n",
       "      <td>hkerner@umd.edu</td>\n",
       "      <td>False</td>\n",
       "      <td>2021-03-30 00:07</td>\n",
       "      <td>56.2 secs</td>\n",
       "      <td>Planet Monthly Mosaics</td>\n",
       "      <td>NaN</td>\n",
       "      <td>POINT(119.447685615022 41.0426530456337)</td>\n",
       "      <td>3</td>\n",
       "      <td>Non-crop</td>\n",
       "    </tr>\n",
       "    <tr>\n",
       "      <th>4</th>\n",
       "      <td>139406458</td>\n",
       "      <td>543184484</td>\n",
       "      <td>123.682973</td>\n",
       "      <td>43.058922</td>\n",
       "      <td>bev@jjjbsa.com</td>\n",
       "      <td>False</td>\n",
       "      <td>2021-03-28 23:43</td>\n",
       "      <td>46.4 secs</td>\n",
       "      <td>Sentinel-2</td>\n",
       "      <td>NaN</td>\n",
       "      <td>POINT(123.68297268506 43.0589217008399)</td>\n",
       "      <td>4</td>\n",
       "      <td>Crop</td>\n",
       "    </tr>\n",
       "  </tbody>\n",
       "</table>\n",
       "</div>"
      ],
      "text/plain": [
       "     plot_id  sample_id         lon        lat            email flagged  \\\n",
       "0  139406454  543184480  121.672992  39.506624              NaN     NaN   \n",
       "1  139406455  543184481  122.626644  42.312242  hkerner@umd.edu   False   \n",
       "2  139406456  543184482  120.931343  42.112457   bev@jjjbsa.com   False   \n",
       "3  139406457  543184483  119.447686  41.042653  hkerner@umd.edu   False   \n",
       "4  139406458  543184484  123.682973  43.058922   bev@jjjbsa.com   False   \n",
       "\n",
       "    collection_time analysis_duration           imagery_title  \\\n",
       "0               NaN               NaN                     NaN   \n",
       "1  2021-03-28 23:40        184.6 secs              Sentinel-2   \n",
       "2  2021-03-28 23:42        111.8 secs              Sentinel-2   \n",
       "3  2021-03-30 00:07         56.2 secs  Planet Monthly Mosaics   \n",
       "4  2021-03-28 23:43         46.4 secs              Sentinel-2   \n",
       "\n",
       "   imagery_attributions                               sample_geom  pl_plotid  \\\n",
       "0                   NaN  POINT(121.672992236843 39.5066237413178)          0   \n",
       "1                   NaN  POINT(122.626643742464 42.3122420366798)          1   \n",
       "2                   NaN  POINT(120.931343138274 42.1124567174916)          2   \n",
       "3                   NaN  POINT(119.447685615022 41.0426530456337)          3   \n",
       "4                   NaN   POINT(123.68297268506 43.0589217008399)          4   \n",
       "\n",
       "  Does this point fall within active cropland?  \n",
       "0                                          NaN  \n",
       "1                                         Crop  \n",
       "2                                         Crop  \n",
       "3                                     Non-crop  \n",
       "4                                         Crop  "
      ]
     },
     "execution_count": 24,
     "metadata": {},
     "output_type": "execute_result"
    }
   ],
   "source": [
    "ceo_set1 = pd.read_csv('/Users/hkerner/src/china-crop-mask/area_estimation/reference_samples/labeled_ceo/ceo-Liaoning-2017-(Set-1)-sample-data-2021-04-09.csv')\n",
    "ceo_set1.head()"
   ]
  },
  {
   "cell_type": "code",
   "execution_count": 25,
   "id": "c818dfae",
   "metadata": {},
   "outputs": [
    {
     "data": {
      "text/html": [
       "<div>\n",
       "<style scoped>\n",
       "    .dataframe tbody tr th:only-of-type {\n",
       "        vertical-align: middle;\n",
       "    }\n",
       "\n",
       "    .dataframe tbody tr th {\n",
       "        vertical-align: top;\n",
       "    }\n",
       "\n",
       "    .dataframe thead th {\n",
       "        text-align: right;\n",
       "    }\n",
       "</style>\n",
       "<table border=\"1\" class=\"dataframe\">\n",
       "  <thead>\n",
       "    <tr style=\"text-align: right;\">\n",
       "      <th></th>\n",
       "      <th>plot_id</th>\n",
       "      <th>sample_id</th>\n",
       "      <th>lon</th>\n",
       "      <th>lat</th>\n",
       "      <th>email</th>\n",
       "      <th>flagged</th>\n",
       "      <th>collection_time</th>\n",
       "      <th>analysis_duration</th>\n",
       "      <th>imagery_title</th>\n",
       "      <th>imagery_attributions</th>\n",
       "      <th>sample_geom</th>\n",
       "      <th>pl_plotid</th>\n",
       "      <th>Does this point fall within active cropland?</th>\n",
       "    </tr>\n",
       "  </thead>\n",
       "  <tbody>\n",
       "    <tr>\n",
       "      <th>0</th>\n",
       "      <td>139417122</td>\n",
       "      <td>543272740</td>\n",
       "      <td>121.672992</td>\n",
       "      <td>39.506624</td>\n",
       "      <td>NaN</td>\n",
       "      <td>NaN</td>\n",
       "      <td>NaN</td>\n",
       "      <td>NaN</td>\n",
       "      <td>NaN</td>\n",
       "      <td>NaN</td>\n",
       "      <td>POINT(121.672992236843 39.5066237413178)</td>\n",
       "      <td>0</td>\n",
       "      <td>NaN</td>\n",
       "    </tr>\n",
       "    <tr>\n",
       "      <th>1</th>\n",
       "      <td>139417123</td>\n",
       "      <td>543272741</td>\n",
       "      <td>122.626644</td>\n",
       "      <td>42.312242</td>\n",
       "      <td>bbarker1@umd.edu</td>\n",
       "      <td>False</td>\n",
       "      <td>2021-03-29 17:39</td>\n",
       "      <td>13.6 secs</td>\n",
       "      <td>Planet Monthly Mosaics</td>\n",
       "      <td>NaN</td>\n",
       "      <td>POINT(122.626643742464 42.3122420366798)</td>\n",
       "      <td>1</td>\n",
       "      <td>Crop</td>\n",
       "    </tr>\n",
       "    <tr>\n",
       "      <th>2</th>\n",
       "      <td>139417124</td>\n",
       "      <td>543272742</td>\n",
       "      <td>120.931343</td>\n",
       "      <td>42.112457</td>\n",
       "      <td>bbarker1@umd.edu</td>\n",
       "      <td>False</td>\n",
       "      <td>2021-03-29 17:39</td>\n",
       "      <td>12.4 secs</td>\n",
       "      <td>Planet Monthly Mosaics</td>\n",
       "      <td>NaN</td>\n",
       "      <td>POINT(120.931343138274 42.1124567174916)</td>\n",
       "      <td>2</td>\n",
       "      <td>Crop</td>\n",
       "    </tr>\n",
       "    <tr>\n",
       "      <th>3</th>\n",
       "      <td>139417125</td>\n",
       "      <td>543272743</td>\n",
       "      <td>119.447686</td>\n",
       "      <td>41.042653</td>\n",
       "      <td>bbarker1@umd.edu</td>\n",
       "      <td>False</td>\n",
       "      <td>2021-03-29 17:39</td>\n",
       "      <td>10.3 secs</td>\n",
       "      <td>Planet Monthly Mosaics</td>\n",
       "      <td>NaN</td>\n",
       "      <td>POINT(119.447685615022 41.0426530456337)</td>\n",
       "      <td>3</td>\n",
       "      <td>Non-crop</td>\n",
       "    </tr>\n",
       "    <tr>\n",
       "      <th>4</th>\n",
       "      <td>139417126</td>\n",
       "      <td>543272744</td>\n",
       "      <td>123.682973</td>\n",
       "      <td>43.058922</td>\n",
       "      <td>bbarker1@umd.edu</td>\n",
       "      <td>False</td>\n",
       "      <td>2021-03-29 17:39</td>\n",
       "      <td>11.4 secs</td>\n",
       "      <td>Planet Monthly Mosaics</td>\n",
       "      <td>NaN</td>\n",
       "      <td>POINT(123.68297268506 43.0589217008399)</td>\n",
       "      <td>4</td>\n",
       "      <td>Crop</td>\n",
       "    </tr>\n",
       "  </tbody>\n",
       "</table>\n",
       "</div>"
      ],
      "text/plain": [
       "     plot_id  sample_id         lon        lat             email flagged  \\\n",
       "0  139417122  543272740  121.672992  39.506624               NaN     NaN   \n",
       "1  139417123  543272741  122.626644  42.312242  bbarker1@umd.edu   False   \n",
       "2  139417124  543272742  120.931343  42.112457  bbarker1@umd.edu   False   \n",
       "3  139417125  543272743  119.447686  41.042653  bbarker1@umd.edu   False   \n",
       "4  139417126  543272744  123.682973  43.058922  bbarker1@umd.edu   False   \n",
       "\n",
       "    collection_time analysis_duration           imagery_title  \\\n",
       "0               NaN               NaN                     NaN   \n",
       "1  2021-03-29 17:39         13.6 secs  Planet Monthly Mosaics   \n",
       "2  2021-03-29 17:39         12.4 secs  Planet Monthly Mosaics   \n",
       "3  2021-03-29 17:39         10.3 secs  Planet Monthly Mosaics   \n",
       "4  2021-03-29 17:39         11.4 secs  Planet Monthly Mosaics   \n",
       "\n",
       "   imagery_attributions                               sample_geom  pl_plotid  \\\n",
       "0                   NaN  POINT(121.672992236843 39.5066237413178)          0   \n",
       "1                   NaN  POINT(122.626643742464 42.3122420366798)          1   \n",
       "2                   NaN  POINT(120.931343138274 42.1124567174916)          2   \n",
       "3                   NaN  POINT(119.447685615022 41.0426530456337)          3   \n",
       "4                   NaN   POINT(123.68297268506 43.0589217008399)          4   \n",
       "\n",
       "  Does this point fall within active cropland?  \n",
       "0                                          NaN  \n",
       "1                                         Crop  \n",
       "2                                         Crop  \n",
       "3                                     Non-crop  \n",
       "4                                         Crop  "
      ]
     },
     "execution_count": 25,
     "metadata": {},
     "output_type": "execute_result"
    }
   ],
   "source": [
    "ceo_set2 = pd.read_csv('/Users/hkerner/src/china-crop-mask/area_estimation/reference_samples/labeled_ceo/ceo-Liaoning-2017-(Set-2)-sample-data-2021-04-09.csv')\n",
    "ceo_set2.head()"
   ]
  },
  {
   "cell_type": "code",
   "execution_count": 29,
   "id": "716b7df4",
   "metadata": {},
   "outputs": [
    {
     "name": "stdout",
     "output_type": "stream",
     "text": [
      "Number of samples that are in agreement: 468 out of 525 (89.14%)\n"
     ]
    }
   ],
   "source": [
    "# Make sure the question and thus column name is correct for the project you are working on\n",
    "ceo_agree = ceo_set1[ceo_set1['Does this point fall within active cropland?'] == \n",
    "                         ceo_set2['Does this point fall within active cropland?']]\n",
    "\n",
    "print('Number of samples that are in agreement: %d out of %d (%.2f%%)' % \n",
    "          (ceo_agree.shape[0], ceo_set1.shape[0], ceo_agree.shape[0]/ceo_set1.shape[0]*100))"
   ]
  },
  {
   "cell_type": "code",
   "execution_count": 46,
   "id": "173fe924",
   "metadata": {},
   "outputs": [],
   "source": [
    "# Convert the pandas dataframe to a geodataframe\n",
    "ceo_agree_geom = gpd.GeoDataFrame(ceo_agree, geometry=gpd.points_from_xy(ceo_agree.lon, ceo_agree.lat, crs='EPSG:4326'))"
   ]
  },
  {
   "cell_type": "code",
   "execution_count": 47,
   "id": "a436f57b",
   "metadata": {},
   "outputs": [],
   "source": [
    "# The labeling platform CEO requires points to be in EPSG:4326. \n",
    "# Reproject to the same crs as the map.\n",
    "ceo_agree_geom = ceo_agree_geom.to_crs(src.crs)"
   ]
  },
  {
   "cell_type": "code",
   "execution_count": 55,
   "id": "31b2188f",
   "metadata": {},
   "outputs": [
    {
     "data": {
      "image/png": "[encoded data removed]",
      "text/plain": [
       "<Figure size 432x288 with 1 Axes>"
      ]
     },
     "metadata": {
      "needs_background": "light"
     },
     "output_type": "display_data"
    }
   ],
   "source": [
    "# Plot them to make sure they look as expected\n",
    "ceo_agree_geom.plot();"
   ]
  },
  {
   "cell_type": "markdown",
   "id": "69064fac",
   "metadata": {},
   "source": [
    "## 4. Get the mapped class for each of the reference samples"
   ]
  },
  {
   "cell_type": "code",
   "execution_count": 62,
   "id": "3affebb1",
   "metadata": {},
   "outputs": [],
   "source": [
    "for r, row in ceo_agree_geom.iterrows():\n",
    "    # transform lon, lat to pixel coordinates\n",
    "    lon, lat = row['geometry'].y, row['geometry'].x\n",
    "    px, py = src.index(lat, lon)\n",
    "    ceo_agree_geom.loc[r,'Mapped class'] = crop_map[px, py]"
   ]
  },
  {
   "cell_type": "code",
   "execution_count": 63,
   "id": "9d6798d4",
   "metadata": {},
   "outputs": [
    {
     "data": {
      "text/html": [
       "<div>\n",
       "<style scoped>\n",
       "    .dataframe tbody tr th:only-of-type {\n",
       "        vertical-align: middle;\n",
       "    }\n",
       "\n",
       "    .dataframe tbody tr th {\n",
       "        vertical-align: top;\n",
       "    }\n",
       "\n",
       "    .dataframe thead th {\n",
       "        text-align: right;\n",
       "    }\n",
       "</style>\n",
       "<table border=\"1\" class=\"dataframe\">\n",
       "  <thead>\n",
       "    <tr style=\"text-align: right;\">\n",
       "      <th></th>\n",
       "      <th>plot_id</th>\n",
       "      <th>sample_id</th>\n",
       "      <th>lon</th>\n",
       "      <th>lat</th>\n",
       "      <th>email</th>\n",
       "      <th>flagged</th>\n",
       "      <th>collection_time</th>\n",
       "      <th>analysis_duration</th>\n",
       "      <th>imagery_title</th>\n",
       "      <th>imagery_attributions</th>\n",
       "      <th>sample_geom</th>\n",
       "      <th>pl_plotid</th>\n",
       "      <th>Does this point fall within active cropland?</th>\n",
       "      <th>Mapped class</th>\n",
       "      <th>geometry</th>\n",
       "    </tr>\n",
       "  </thead>\n",
       "  <tbody>\n",
       "    <tr>\n",
       "      <th>1</th>\n",
       "      <td>139406455</td>\n",
       "      <td>543184481</td>\n",
       "      <td>122.626644</td>\n",
       "      <td>42.312242</td>\n",
       "      <td>hkerner@umd.edu</td>\n",
       "      <td>False</td>\n",
       "      <td>2021-03-28 23:40</td>\n",
       "      <td>184.6 secs</td>\n",
       "      <td>Sentinel-2</td>\n",
       "      <td>NaN</td>\n",
       "      <td>POINT(122.626643742464 42.3122420366798)</td>\n",
       "      <td>1</td>\n",
       "      <td>Crop</td>\n",
       "      <td>1</td>\n",
       "      <td>POINT (469231.124 4684512.533)</td>\n",
       "    </tr>\n",
       "    <tr>\n",
       "      <th>2</th>\n",
       "      <td>139406456</td>\n",
       "      <td>543184482</td>\n",
       "      <td>120.931343</td>\n",
       "      <td>42.112457</td>\n",
       "      <td>bev@jjjbsa.com</td>\n",
       "      <td>False</td>\n",
       "      <td>2021-03-28 23:42</td>\n",
       "      <td>111.8 secs</td>\n",
       "      <td>Sentinel-2</td>\n",
       "      <td>NaN</td>\n",
       "      <td>POINT(120.931343138274 42.1124567174916)</td>\n",
       "      <td>2</td>\n",
       "      <td>Crop</td>\n",
       "      <td>1</td>\n",
       "      <td>POINT (328976.929 4664333.126)</td>\n",
       "    </tr>\n",
       "    <tr>\n",
       "      <th>3</th>\n",
       "      <td>139406457</td>\n",
       "      <td>543184483</td>\n",
       "      <td>119.447686</td>\n",
       "      <td>41.042653</td>\n",
       "      <td>hkerner@umd.edu</td>\n",
       "      <td>False</td>\n",
       "      <td>2021-03-30 00:07</td>\n",
       "      <td>56.2 secs</td>\n",
       "      <td>Planet Monthly Mosaics</td>\n",
       "      <td>NaN</td>\n",
       "      <td>POINT(119.447685615022 41.0426530456337)</td>\n",
       "      <td>3</td>\n",
       "      <td>Non-crop</td>\n",
       "      <td>0</td>\n",
       "      <td>POINT (201410.940 4549573.978)</td>\n",
       "    </tr>\n",
       "    <tr>\n",
       "      <th>4</th>\n",
       "      <td>139406458</td>\n",
       "      <td>543184484</td>\n",
       "      <td>123.682973</td>\n",
       "      <td>43.058922</td>\n",
       "      <td>bev@jjjbsa.com</td>\n",
       "      <td>False</td>\n",
       "      <td>2021-03-28 23:43</td>\n",
       "      <td>46.4 secs</td>\n",
       "      <td>Sentinel-2</td>\n",
       "      <td>NaN</td>\n",
       "      <td>POINT(123.68297268506 43.0589217008399)</td>\n",
       "      <td>4</td>\n",
       "      <td>Crop</td>\n",
       "      <td>1</td>\n",
       "      <td>POINT (555614.847 4767584.300)</td>\n",
       "    </tr>\n",
       "    <tr>\n",
       "      <th>5</th>\n",
       "      <td>139406459</td>\n",
       "      <td>543184485</td>\n",
       "      <td>124.889949</td>\n",
       "      <td>42.546074</td>\n",
       "      <td>bev@jjjbsa.com</td>\n",
       "      <td>False</td>\n",
       "      <td>2021-03-28 23:45</td>\n",
       "      <td>99.6 secs</td>\n",
       "      <td>Mapbox Satellite</td>\n",
       "      <td>NaN</td>\n",
       "      <td>POINT(124.889949100803 42.5460735051361)</td>\n",
       "      <td>5</td>\n",
       "      <td>Non-crop</td>\n",
       "      <td>0</td>\n",
       "      <td>POINT (655178.208 4712139.949)</td>\n",
       "    </tr>\n",
       "  </tbody>\n",
       "</table>\n",
       "</div>"
      ],
      "text/plain": [
       "     plot_id  sample_id         lon        lat            email flagged  \\\n",
       "1  139406455  543184481  122.626644  42.312242  hkerner@umd.edu   False   \n",
       "2  139406456  543184482  120.931343  42.112457   bev@jjjbsa.com   False   \n",
       "3  139406457  543184483  119.447686  41.042653  hkerner@umd.edu   False   \n",
       "4  139406458  543184484  123.682973  43.058922   bev@jjjbsa.com   False   \n",
       "5  139406459  543184485  124.889949  42.546074   bev@jjjbsa.com   False   \n",
       "\n",
       "    collection_time analysis_duration           imagery_title  \\\n",
       "1  2021-03-28 23:40        184.6 secs              Sentinel-2   \n",
       "2  2021-03-28 23:42        111.8 secs              Sentinel-2   \n",
       "3  2021-03-30 00:07         56.2 secs  Planet Monthly Mosaics   \n",
       "4  2021-03-28 23:43         46.4 secs              Sentinel-2   \n",
       "5  2021-03-28 23:45         99.6 secs        Mapbox Satellite   \n",
       "\n",
       "   imagery_attributions                               sample_geom  pl_plotid  \\\n",
       "1                   NaN  POINT(122.626643742464 42.3122420366798)          1   \n",
       "2                   NaN  POINT(120.931343138274 42.1124567174916)          2   \n",
       "3                   NaN  POINT(119.447685615022 41.0426530456337)          3   \n",
       "4                   NaN   POINT(123.68297268506 43.0589217008399)          4   \n",
       "5                   NaN  POINT(124.889949100803 42.5460735051361)          5   \n",
       "\n",
       "  Does this point fall within active cropland? Mapped class  \\\n",
       "1                                         Crop            1   \n",
       "2                                         Crop            1   \n",
       "3                                     Non-crop            0   \n",
       "4                                         Crop            1   \n",
       "5                                     Non-crop            0   \n",
       "\n",
       "                         geometry  \n",
       "1  POINT (469231.124 4684512.533)  \n",
       "2  POINT (328976.929 4664333.126)  \n",
       "3  POINT (201410.940 4549573.978)  \n",
       "4  POINT (555614.847 4767584.300)  \n",
       "5  POINT (655178.208 4712139.949)  "
      ]
     },
     "execution_count": 63,
     "metadata": {},
     "output_type": "execute_result"
    }
   ],
   "source": [
    "ceo_agree_geom.head()"
   ]
  },
  {
   "cell_type": "code",
   "execution_count": 65,
   "id": "5c5f51fb",
   "metadata": {},
   "outputs": [
    {
     "data": {
      "text/html": [
       "<div>\n",
       "<style scoped>\n",
       "    .dataframe tbody tr th:only-of-type {\n",
       "        vertical-align: middle;\n",
       "    }\n",
       "\n",
       "    .dataframe tbody tr th {\n",
       "        vertical-align: top;\n",
       "    }\n",
       "\n",
       "    .dataframe thead th {\n",
       "        text-align: right;\n",
       "    }\n",
       "</style>\n",
       "<table border=\"1\" class=\"dataframe\">\n",
       "  <thead>\n",
       "    <tr style=\"text-align: right;\">\n",
       "      <th></th>\n",
       "      <th>plot_id</th>\n",
       "      <th>sample_id</th>\n",
       "      <th>lon</th>\n",
       "      <th>lat</th>\n",
       "      <th>email</th>\n",
       "      <th>flagged</th>\n",
       "      <th>collection_time</th>\n",
       "      <th>analysis_duration</th>\n",
       "      <th>imagery_title</th>\n",
       "      <th>imagery_attributions</th>\n",
       "      <th>sample_geom</th>\n",
       "      <th>pl_plotid</th>\n",
       "      <th>Does this point fall within active cropland?</th>\n",
       "      <th>Mapped class</th>\n",
       "      <th>geometry</th>\n",
       "    </tr>\n",
       "  </thead>\n",
       "  <tbody>\n",
       "  </tbody>\n",
       "</table>\n",
       "</div>"
      ],
      "text/plain": [
       "Empty DataFrame\n",
       "Columns: [plot_id, sample_id, lon, lat, email, flagged, collection_time, analysis_duration, imagery_title, imagery_attributions, sample_geom, pl_plotid, Does this point fall within active cropland?, Mapped class, geometry]\n",
       "Index: []"
      ]
     },
     "execution_count": 65,
     "metadata": {},
     "output_type": "execute_result"
    }
   ],
   "source": [
    "# Make sure none of them are nodata\n",
    "ceo_agree[ceo_agree_geom['Mapped class'] == 3]"
   ]
  },
  {
   "cell_type": "markdown",
   "id": "541591ce",
   "metadata": {},
   "source": [
    "## 5. Compute the confusion matrix between the mapped classes and reference labels"
   ]
  },
  {
   "cell_type": "code",
   "execution_count": 66,
   "id": "6d7ae8fd",
   "metadata": {},
   "outputs": [
    {
     "data": {
      "text/html": [
       "<div>\n",
       "<style scoped>\n",
       "    .dataframe tbody tr th:only-of-type {\n",
       "        vertical-align: middle;\n",
       "    }\n",
       "\n",
       "    .dataframe tbody tr th {\n",
       "        vertical-align: top;\n",
       "    }\n",
       "\n",
       "    .dataframe thead th {\n",
       "        text-align: right;\n",
       "    }\n",
       "</style>\n",
       "<table border=\"1\" class=\"dataframe\">\n",
       "  <thead>\n",
       "    <tr style=\"text-align: right;\">\n",
       "      <th></th>\n",
       "      <th>plot_id</th>\n",
       "      <th>sample_id</th>\n",
       "      <th>lon</th>\n",
       "      <th>lat</th>\n",
       "      <th>email</th>\n",
       "      <th>flagged</th>\n",
       "      <th>collection_time</th>\n",
       "      <th>analysis_duration</th>\n",
       "      <th>imagery_title</th>\n",
       "      <th>imagery_attributions</th>\n",
       "      <th>sample_geom</th>\n",
       "      <th>pl_plotid</th>\n",
       "      <th>Does this point fall within active cropland?</th>\n",
       "      <th>Mapped class</th>\n",
       "      <th>geometry</th>\n",
       "      <th>Reference label</th>\n",
       "    </tr>\n",
       "  </thead>\n",
       "  <tbody>\n",
       "    <tr>\n",
       "      <th>1</th>\n",
       "      <td>139406455</td>\n",
       "      <td>543184481</td>\n",
       "      <td>122.626644</td>\n",
       "      <td>42.312242</td>\n",
       "      <td>hkerner@umd.edu</td>\n",
       "      <td>False</td>\n",
       "      <td>2021-03-28 23:40</td>\n",
       "      <td>184.6 secs</td>\n",
       "      <td>Sentinel-2</td>\n",
       "      <td>NaN</td>\n",
       "      <td>POINT(122.626643742464 42.3122420366798)</td>\n",
       "      <td>1</td>\n",
       "      <td>Crop</td>\n",
       "      <td>1</td>\n",
       "      <td>POINT (469231.124 4684512.533)</td>\n",
       "      <td>1</td>\n",
       "    </tr>\n",
       "    <tr>\n",
       "      <th>2</th>\n",
       "      <td>139406456</td>\n",
       "      <td>543184482</td>\n",
       "      <td>120.931343</td>\n",
       "      <td>42.112457</td>\n",
       "      <td>bev@jjjbsa.com</td>\n",
       "      <td>False</td>\n",
       "      <td>2021-03-28 23:42</td>\n",
       "      <td>111.8 secs</td>\n",
       "      <td>Sentinel-2</td>\n",
       "      <td>NaN</td>\n",
       "      <td>POINT(120.931343138274 42.1124567174916)</td>\n",
       "      <td>2</td>\n",
       "      <td>Crop</td>\n",
       "      <td>1</td>\n",
       "      <td>POINT (328976.929 4664333.126)</td>\n",
       "      <td>1</td>\n",
       "    </tr>\n",
       "    <tr>\n",
       "      <th>3</th>\n",
       "      <td>139406457</td>\n",
       "      <td>543184483</td>\n",
       "      <td>119.447686</td>\n",
       "      <td>41.042653</td>\n",
       "      <td>hkerner@umd.edu</td>\n",
       "      <td>False</td>\n",
       "      <td>2021-03-30 00:07</td>\n",
       "      <td>56.2 secs</td>\n",
       "      <td>Planet Monthly Mosaics</td>\n",
       "      <td>NaN</td>\n",
       "      <td>POINT(119.447685615022 41.0426530456337)</td>\n",
       "      <td>3</td>\n",
       "      <td>Non-crop</td>\n",
       "      <td>0</td>\n",
       "      <td>POINT (201410.940 4549573.978)</td>\n",
       "      <td>0</td>\n",
       "    </tr>\n",
       "    <tr>\n",
       "      <th>4</th>\n",
       "      <td>139406458</td>\n",
       "      <td>543184484</td>\n",
       "      <td>123.682973</td>\n",
       "      <td>43.058922</td>\n",
       "      <td>bev@jjjbsa.com</td>\n",
       "      <td>False</td>\n",
       "      <td>2021-03-28 23:43</td>\n",
       "      <td>46.4 secs</td>\n",
       "      <td>Sentinel-2</td>\n",
       "      <td>NaN</td>\n",
       "      <td>POINT(123.68297268506 43.0589217008399)</td>\n",
       "      <td>4</td>\n",
       "      <td>Crop</td>\n",
       "      <td>1</td>\n",
       "      <td>POINT (555614.847 4767584.300)</td>\n",
       "      <td>1</td>\n",
       "    </tr>\n",
       "    <tr>\n",
       "      <th>5</th>\n",
       "      <td>139406459</td>\n",
       "      <td>543184485</td>\n",
       "      <td>124.889949</td>\n",
       "      <td>42.546074</td>\n",
       "      <td>bev@jjjbsa.com</td>\n",
       "      <td>False</td>\n",
       "      <td>2021-03-28 23:45</td>\n",
       "      <td>99.6 secs</td>\n",
       "      <td>Mapbox Satellite</td>\n",
       "      <td>NaN</td>\n",
       "      <td>POINT(124.889949100803 42.5460735051361)</td>\n",
       "      <td>5</td>\n",
       "      <td>Non-crop</td>\n",
       "      <td>0</td>\n",
       "      <td>POINT (655178.208 4712139.949)</td>\n",
       "      <td>0</td>\n",
       "    </tr>\n",
       "  </tbody>\n",
       "</table>\n",
       "</div>"
      ],
      "text/plain": [
       "     plot_id  sample_id         lon        lat            email flagged  \\\n",
       "1  139406455  543184481  122.626644  42.312242  hkerner@umd.edu   False   \n",
       "2  139406456  543184482  120.931343  42.112457   bev@jjjbsa.com   False   \n",
       "3  139406457  543184483  119.447686  41.042653  hkerner@umd.edu   False   \n",
       "4  139406458  543184484  123.682973  43.058922   bev@jjjbsa.com   False   \n",
       "5  139406459  543184485  124.889949  42.546074   bev@jjjbsa.com   False   \n",
       "\n",
       "    collection_time analysis_duration           imagery_title  \\\n",
       "1  2021-03-28 23:40        184.6 secs              Sentinel-2   \n",
       "2  2021-03-28 23:42        111.8 secs              Sentinel-2   \n",
       "3  2021-03-30 00:07         56.2 secs  Planet Monthly Mosaics   \n",
       "4  2021-03-28 23:43         46.4 secs              Sentinel-2   \n",
       "5  2021-03-28 23:45         99.6 secs        Mapbox Satellite   \n",
       "\n",
       "   imagery_attributions                               sample_geom  pl_plotid  \\\n",
       "1                   NaN  POINT(122.626643742464 42.3122420366798)          1   \n",
       "2                   NaN  POINT(120.931343138274 42.1124567174916)          2   \n",
       "3                   NaN  POINT(119.447685615022 41.0426530456337)          3   \n",
       "4                   NaN   POINT(123.68297268506 43.0589217008399)          4   \n",
       "5                   NaN  POINT(124.889949100803 42.5460735051361)          5   \n",
       "\n",
       "  Does this point fall within active cropland? Mapped class  \\\n",
       "1                                         Crop            1   \n",
       "2                                         Crop            1   \n",
       "3                                     Non-crop            0   \n",
       "4                                         Crop            1   \n",
       "5                                     Non-crop            0   \n",
       "\n",
       "                         geometry  Reference label  \n",
       "1  POINT (469231.124 4684512.533)                1  \n",
       "2  POINT (328976.929 4664333.126)                1  \n",
       "3  POINT (201410.940 4549573.978)                0  \n",
       "4  POINT (555614.847 4767584.300)                1  \n",
       "5  POINT (655178.208 4712139.949)                0  "
      ]
     },
     "execution_count": 66,
     "metadata": {},
     "output_type": "execute_result"
    }
   ],
   "source": [
    "# Convert the CEO string label to an integer label\n",
    "ceo_agree_geom.loc[ceo_agree_geom['Does this point fall within active cropland?'] == 'Crop', 'Reference label'] = 1\n",
    "ceo_agree_geom.loc[ceo_agree_geom['Does this point fall within active cropland?'] == 'Non-crop', 'Reference label'] = 0\n",
    "ceo_agree_geom['Reference label'] = ceo_agree_geom['Reference label'].astype(np.uint8)\n",
    "ceo_agree_geom.head()"
   ]
  },
  {
   "cell_type": "code",
   "execution_count": 72,
   "id": "ef273899",
   "metadata": {},
   "outputs": [
    {
     "data": {
      "text/plain": [
       "array([[179,  26],\n",
       "       [ 15, 248]])"
      ]
     },
     "execution_count": 72,
     "metadata": {},
     "output_type": "execute_result"
    }
   ],
   "source": [
    "# Compute confusion matrix\n",
    "y_true = np.array(ceo_agree_geom['Reference label']).astype(np.uint8)\n",
    "y_pred = np.array(ceo_agree_geom['Mapped class']).astype(np.uint8)\n",
    "confusion_matrix(y_true, y_pred)"
   ]
  },
  {
   "cell_type": "code",
   "execution_count": 69,
   "id": "0e9d04ef",
   "metadata": {},
   "outputs": [
    {
     "name": "stdout",
     "output_type": "stream",
     "text": [
      "True negatives: 179\n",
      "False positives: 26\n",
      "False negatives: 15\n",
      "True positives: 248\n"
     ]
    }
   ],
   "source": [
    "# Extract and print confusion matrix values with element descriptions\n",
    "tn, fp, fn, tp = confusion_matrix(y_true, y_pred).ravel()\n",
    "print('True negatives: %d' % tn)\n",
    "print('False positives: %d' % fp)\n",
    "print('False negatives: %d' % fn)\n",
    "print('True positives: %d' % tp)"
   ]
  },
  {
   "cell_type": "markdown",
   "id": "f04d2bdb",
   "metadata": {},
   "source": [
    "## 6. Adjust mapped area using confusion matrix to compute area estimates"
   ]
  },
  {
   "cell_type": "markdown",
   "id": "e1f87ff1",
   "metadata": {},
   "source": [
    "$W_h$ is the proportion of mapped area for each class "
   ]
  },
  {
   "cell_type": "code",
   "execution_count": 98,
   "id": "25413db1",
   "metadata": {},
   "outputs": [
    {
     "name": "stdout",
     "output_type": "stream",
     "text": [
      "Wh_crop = 0.379699\n",
      "Wh_noncrop = 0.620301\n"
     ]
    }
   ],
   "source": [
    "wh_crop = crop_area_px / tot_area_px\n",
    "print('Wh_crop = %f' % wh_crop)\n",
    "\n",
    "wh_noncrop = noncrop_area_px / tot_area_px\n",
    "print('Wh_noncrop = %f' % wh_noncrop)"
   ]
  },
  {
   "cell_type": "markdown",
   "id": "f9d2bc03",
   "metadata": {},
   "source": [
    "Compute the fraction of the proportional area of each class that was mapped as each category in the confusion matrix"
   ]
  },
  {
   "cell_type": "code",
   "execution_count": 99,
   "id": "9903d1d0",
   "metadata": {},
   "outputs": [
    {
     "name": "stdout",
     "output_type": "stream",
     "text": [
      "0.343669 \t 0.036030 \n",
      " 0.047961 \t 0.572339\n"
     ]
    }
   ],
   "source": [
    "tp_area = tp / (tp + fp) * wh_crop\n",
    "fp_area = fp / (tp + fp) * wh_crop\n",
    "fn_area = fn / (fn + tn) * wh_noncrop\n",
    "tn_area = tn / (fn + tn) * wh_noncrop\n",
    "\n",
    "print('%f \\t %f \\n %f \\t %f' % (tp_area, fp_area, fn_area, tn_area))"
   ]
  },
  {
   "cell_type": "markdown",
   "id": "ecdbea25",
   "metadata": {},
   "source": [
    "$U_i$ is the user's accuracy (i.e., precision) for each mapped class. We calculate it here in terms of proportion of area computed in the last cell."
   ]
  },
  {
   "cell_type": "code",
   "execution_count": 100,
   "id": "3464d8f5",
   "metadata": {},
   "outputs": [
    {
     "name": "stdout",
     "output_type": "stream",
     "text": [
      "U_crop = 0.905109\n",
      "U_noncrop = 0.922680\n"
     ]
    }
   ],
   "source": [
    "u_crop = tp_area / (tp_area + fp_area)\n",
    "print('U_crop = %f' % u_crop)\n",
    "\n",
    "u_noncrop = tn_area / (tn_area + fn_area)\n",
    "print('U_noncrop = %f' % u_noncrop)"
   ]
  },
  {
   "cell_type": "markdown",
   "id": "bb9db289",
   "metadata": {},
   "source": [
    "$V(U_i)$ is the estimated variance of user accuracy for each mapped class."
   ]
  },
  {
   "cell_type": "code",
   "execution_count": 127,
   "id": "cb93c95b",
   "metadata": {},
   "outputs": [
    {
     "name": "stdout",
     "output_type": "stream",
     "text": [
      "V(U)_crop = 0.000313\n",
      "V(U)_noncrop = 0.000368\n"
     ]
    }
   ],
   "source": [
    "v_u_crop = u_crop * (1-u_crop) / (tp + fp)\n",
    "print('V(U)_crop = %f' % v_u_crop)\n",
    "\n",
    "v_u_noncrop = u_noncrop * (1-u_noncrop) / (fn + tn)\n",
    "print('V(U)_noncrop = %f' % v_u_noncrop)"
   ]
  },
  {
   "cell_type": "markdown",
   "id": "ce58e47f",
   "metadata": {},
   "source": [
    "$S(U_i)$ is the estimated standard error of user accuracy for each mapped class."
   ]
  },
  {
   "cell_type": "code",
   "execution_count": 128,
   "id": "161945fc",
   "metadata": {},
   "outputs": [
    {
     "name": "stdout",
     "output_type": "stream",
     "text": [
      "S(U)_crop = 0.017705\n",
      "S(U)_noncrop = 0.019177\n"
     ]
    }
   ],
   "source": [
    "s_u_crop = np.sqrt(v_u_crop)\n",
    "print('S(U)_crop = %f' % s_u_crop)\n",
    "\n",
    "s_u_noncrop = np.sqrt(v_u_noncrop)\n",
    "print('S(U)_noncrop = %f' % s_u_noncrop)"
   ]
  },
  {
   "cell_type": "markdown",
   "id": "69157be1",
   "metadata": {},
   "source": [
    "Get the 95% confidence interval for User's accuracy"
   ]
  },
  {
   "cell_type": "code",
   "execution_count": 130,
   "id": "605b6dcd",
   "metadata": {},
   "outputs": [
    {
     "name": "stdout",
     "output_type": "stream",
     "text": [
      "95% CI of User accuracy for crop = 0.034701\n",
      "95% CI of User accuracy for noncrop = 0.037586\n"
     ]
    }
   ],
   "source": [
    "u_crop_err = s_u_crop * 1.96\n",
    "print('95%% CI of User accuracy for crop = %f' % u_crop_err)\n",
    "\n",
    "u_noncrop_err = s_u_noncrop * 1.96\n",
    "print('95%% CI of User accuracy for noncrop = %f' % u_noncrop_err)"
   ]
  },
  {
   "cell_type": "markdown",
   "id": "9ffefeaa",
   "metadata": {},
   "source": [
    "$P$ is the producer's accuracy (i.e., recall). We calculate it here in terms of proportion of area."
   ]
  },
  {
   "cell_type": "code",
   "execution_count": 101,
   "id": "e9bc08f2",
   "metadata": {},
   "outputs": [
    {
     "name": "stdout",
     "output_type": "stream",
     "text": [
      "P_crop = 0.877534\n",
      "P_noncrop = 0.940776\n"
     ]
    }
   ],
   "source": [
    "p_crop = tp_area / (tp_area + fn_area)\n",
    "print('P_crop = %f' % p_crop)\n",
    "\n",
    "p_noncrop = tn_area / (tn_area + fp_area)\n",
    "print('P_noncrop = %f' % p_noncrop)"
   ]
  },
  {
   "cell_type": "markdown",
   "id": "c6acf266",
   "metadata": {},
   "source": [
    "$N_j$ is the estimated marginal total number of pixels of each reference class $j$"
   ]
  },
  {
   "cell_type": "code",
   "execution_count": 140,
   "id": "7614c7d6",
   "metadata": {},
   "outputs": [
    {
     "name": "stdout",
     "output_type": "stream",
     "text": [
      "N_j_crop = 574219367.387877\n",
      "N_j_crop = 892006730.612123\n"
     ]
    }
   ],
   "source": [
    "n_j_crop = (crop_area_px * tp) / (tp + fp) + (noncrop_area_px * fn) / (fn + tn)\n",
    "print('N_j_crop = %f' % n_j_crop)\n",
    "\n",
    "n_j_noncrop = (crop_area_px * fp) / (tp + fp) + (noncrop_area_px * tn) / (fn + tn)\n",
    "print('N_j_crop = %f' % n_j_noncrop)"
   ]
  },
  {
   "cell_type": "code",
   "execution_count": 143,
   "id": "067e8a33",
   "metadata": {},
   "outputs": [
    {
     "name": "stdout",
     "output_type": "stream",
     "text": [
      "expr1 crop = 1462421529819.369141\n",
      "expr1 noncrop = 1014630471333.606812\n"
     ]
    }
   ],
   "source": [
    "expr1_crop = crop_area_px**2 * (1-p_crop)**2 * u_crop * (1-u_crop) / (tp + fp - 1)\n",
    "print('expr1 crop = %f' % expr1_crop)\n",
    "\n",
    "expr1_noncrop = noncrop_area_px**2 * (1-p_noncrop)**2 * u_noncrop * (1-u_noncrop) / (fp + tn - 1)\n",
    "print('expr1 noncrop = %f' % expr1_noncrop)"
   ]
  },
  {
   "cell_type": "code",
   "execution_count": 152,
   "id": "87470961",
   "metadata": {},
   "outputs": [
    {
     "name": "stdout",
     "output_type": "stream",
     "text": [
      "expr2 crop = -114597572828040.062500\n",
      "expr2 noncrop = 75088055100658.218750\n"
     ]
    },
    {
     "name": "stderr",
     "output_type": "stream",
     "text": [
      "/Users/hkerner/anaconda3/envs/area_estimation/lib/python3.7/site-packages/ipykernel_launcher.py:4: RuntimeWarning: overflow encountered in long_scalars\n",
      "  after removing the cwd from sys.path.\n"
     ]
    }
   ],
   "source": [
    "# Warning: depending on the size of your map, you may get an overflow warning here, e.g.\n",
    "# RuntimeWarning: overflow encountered in long_scalars\n",
    "# Need to figure out if we can correct this...\n",
    "expr2_crop = p_crop**2 * (noncrop_area_px**2 * fn / (fn + tn) * (1 - fn / (fn + tn)) / (fn + tn - 1))\n",
    "print('expr2 crop = %f' % expr2_crop)\n",
    "\n",
    "expr2_noncrop = p_crop**2 * (crop_area_px**2 * fp / (fp + tp) * (1 - fp / (fp + tp)) / (fp + tp - 1))\n",
    "print('expr2 noncrop = %f' % expr2_noncrop)"
   ]
  },
  {
   "cell_type": "markdown",
   "id": "f1477e88",
   "metadata": {},
   "source": [
    "$V(P_i)$ is the estimated variance of producer's accuracy for each mapped class."
   ]
  },
  {
   "cell_type": "code",
   "execution_count": 153,
   "id": "41705ea5",
   "metadata": {},
   "outputs": [
    {
     "name": "stdout",
     "output_type": "stream",
     "text": [
      "V(P) crop = -0.000343\n",
      "V(P) noncrop = 0.000096\n"
     ]
    }
   ],
   "source": [
    "v_p_crop = (1 / n_j_crop**2) * (expr1_crop + expr2_crop)\n",
    "print('V(P) crop = %f' % v_p_crop)\n",
    "\n",
    "v_p_noncrop = (1 / n_j_noncrop**2) * (expr1_noncrop + expr2_noncrop)\n",
    "print('V(P) noncrop = %f' % v_p_noncrop)"
   ]
  },
  {
   "cell_type": "markdown",
   "id": "f389ddf9",
   "metadata": {},
   "source": [
    "$S(P_i)$ is the estimated standard error of producer accuracy for each mapped class."
   ]
  },
  {
   "cell_type": "code",
   "execution_count": 154,
   "id": "e93313ab",
   "metadata": {},
   "outputs": [
    {
     "name": "stdout",
     "output_type": "stream",
     "text": [
      "S(P) crop = nan\n",
      "S(P) noncrop = 0.009780\n"
     ]
    },
    {
     "name": "stderr",
     "output_type": "stream",
     "text": [
      "/Users/hkerner/anaconda3/envs/area_estimation/lib/python3.7/site-packages/ipykernel_launcher.py:1: RuntimeWarning: invalid value encountered in sqrt\n",
      "  \"\"\"Entry point for launching an IPython kernel.\n"
     ]
    }
   ],
   "source": [
    "# Warning: depending on the size of your map, you may get an overflow warning here, e.g.\n",
    "# RuntimeWarning: overflow encountered in long_scalars\n",
    "# Need to figure out if we can correct this...\n",
    "s_p_crop = np.sqrt(v_p_crop)\n",
    "print('S(P) crop = %f' % s_p_crop)\n",
    "\n",
    "s_p_noncrop = np.sqrt(v_p_noncrop)\n",
    "print('S(P) noncrop = %f' % s_p_noncrop)"
   ]
  },
  {
   "cell_type": "markdown",
   "id": "b1235e83",
   "metadata": {},
   "source": [
    "Get the 95% confidence interval for Producer's accuracy"
   ]
  },
  {
   "cell_type": "code",
   "execution_count": 155,
   "id": "de8b6e40",
   "metadata": {},
   "outputs": [
    {
     "name": "stdout",
     "output_type": "stream",
     "text": [
      "95% CI of Producer accuracy for crop = nan\n",
      "95% CI of Producer accuracy for noncrop = 0.019168\n"
     ]
    }
   ],
   "source": [
    "p_crop_err = s_p_crop * 1.96\n",
    "print('95%% CI of Producer accuracy for crop = %f' % p_crop_err)\n",
    "\n",
    "p_noncrop_err = s_p_noncrop * 1.96\n",
    "print('95%% CI of Producer accuracy for noncrop = %f' % p_noncrop_err)"
   ]
  },
  {
   "cell_type": "markdown",
   "id": "14608099",
   "metadata": {},
   "source": [
    "$O$ is the overall accuracy. We calculate it here in terms of proportion of area."
   ]
  },
  {
   "cell_type": "code",
   "execution_count": 102,
   "id": "c8bd0c31",
   "metadata": {},
   "outputs": [
    {
     "name": "stdout",
     "output_type": "stream",
     "text": [
      "Overall accuracy = 0.916009\n"
     ]
    }
   ],
   "source": [
    "acc = tp_area + tn_area\n",
    "print('Overall accuracy = %f' % acc)"
   ]
  },
  {
   "cell_type": "markdown",
   "id": "64935a9f",
   "metadata": {},
   "source": [
    "$V(O)$ is the estimated variance of the overall accuracy"
   ]
  },
  {
   "cell_type": "code",
   "execution_count": 157,
   "id": "7141543d",
   "metadata": {},
   "outputs": [
    {
     "name": "stdout",
     "output_type": "stream",
     "text": [
      "V(O) = 0.000188\n"
     ]
    }
   ],
   "source": [
    "v_acc = wh_crop**2 * u_crop * (1-u_crop) / (tp + fp - 1) + \\\n",
    "        wh_noncrop**2 * u_noncrop * (1-u_noncrop) / (fn + tn - 1)\n",
    "print('V(O) = %f' % v_acc)"
   ]
  },
  {
   "cell_type": "markdown",
   "id": "c5d0abba",
   "metadata": {},
   "source": [
    "$S(O)$ is the estimated standard error of the overall accuracy"
   ]
  },
  {
   "cell_type": "code",
   "execution_count": 158,
   "id": "8cc17d2b",
   "metadata": {},
   "outputs": [
    {
     "name": "stdout",
     "output_type": "stream",
     "text": [
      "S(O) = 0.013696\n"
     ]
    }
   ],
   "source": [
    "s_acc = np.sqrt(v_acc)\n",
    "print('S(O) = %f' % s_acc)"
   ]
  },
  {
   "cell_type": "markdown",
   "id": "c9747226",
   "metadata": {},
   "source": [
    "Get the 95% confidence interval for overall accuracy"
   ]
  },
  {
   "cell_type": "code",
   "execution_count": 160,
   "id": "f2f9249e",
   "metadata": {},
   "outputs": [
    {
     "name": "stdout",
     "output_type": "stream",
     "text": [
      "95% CI of overall accuracy = 0.026845\n"
     ]
    }
   ],
   "source": [
    "acc_err = s_acc * 1.96\n",
    "print('95%% CI of overall accuracy = %f' % acc_err)"
   ]
  },
  {
   "cell_type": "markdown",
   "id": "74237afd",
   "metadata": {},
   "source": [
    "$A_{pixels}$ is the adjusted map area in units of pixels"
   ]
  },
  {
   "cell_type": "code",
   "execution_count": 103,
   "id": "bdea8a49",
   "metadata": {},
   "outputs": [
    {
     "name": "stdout",
     "output_type": "stream",
     "text": [
      "A^[pixels] crop = 574219367.387877\n",
      "A^[pixels] noncrop = 892006730.612123\n"
     ]
    }
   ],
   "source": [
    "a_pixels_crop = tot_area_px * (tp_area + fn_area)\n",
    "print('A^[pixels] crop = %f' % a_pixels_crop)\n",
    "\n",
    "a_pixels_noncrop = tot_area_px * (tn_area + fp_area)\n",
    "print('A^[pixels] noncrop = %f' % a_pixels_noncrop)"
   ]
  },
  {
   "cell_type": "markdown",
   "id": "32c3b2c0",
   "metadata": {},
   "source": [
    "$A_{ha}$ is the adjusted map area in units of hectares"
   ]
  },
  {
   "cell_type": "code",
   "execution_count": 91,
   "id": "676ce800",
   "metadata": {},
   "outputs": [
    {
     "name": "stdout",
     "output_type": "stream",
     "text": [
      "A^[ha] crop = 5742193.673879\n",
      "A^[ha] noncrop = 8920067.306121\n"
     ]
    }
   ],
   "source": [
    "a_ha_crop = a_pixels_crop * (pixel_size*pixel_size) / (100*100)\n",
    "print('A^[ha] crop = %f' % a_ha_crop)\n",
    "\n",
    "a_ha_noncrop = a_pixels_noncrop * (pixel_size*pixel_size) / (100*100)\n",
    "print('A^[ha] noncrop = %f' % a_ha_noncrop)"
   ]
  },
  {
   "cell_type": "markdown",
   "id": "ff926fbc",
   "metadata": {},
   "source": [
    "The following equations are used to estimate the standard error for the area. They are based on the calculations in Olofsson et al., 2014."
   ]
  },
  {
   "cell_type": "code",
   "execution_count": 107,
   "id": "f20e8223",
   "metadata": {},
   "outputs": [
    {
     "name": "stdout",
     "output_type": "stream",
     "text": [
      "S_pk_crop = 20081710.316704\n",
      "S_pk_noncrop = 20081710.316704\n"
     ]
    }
   ],
   "source": [
    "S_pk_crop = np.sqrt((wh_crop * tp_area - tp_area**2) / (tp + fp - 1) + \\\n",
    "                     (wh_noncrop * fn_area - fn_area**2) / (fn + tn - 1)) * tot_area_px\n",
    "print('S_pk_crop = %f' % S_pk_crop)\n",
    "\n",
    "S_pk_noncrop = np.sqrt((wh_crop * fp_area - fp_area**2) / (tp + fp - 1) + \\\n",
    "                        (wh_noncrop * tn_area - tn_area**2) / (fn + tn - 1)) * tot_area_px\n",
    "print('S_pk_noncrop = %f' % S_pk_noncrop)"
   ]
  },
  {
   "cell_type": "markdown",
   "id": "75bf4a39",
   "metadata": {},
   "source": [
    "Multiply $S(p_k)$ by 1.96 to get the margin of error for the 95% confidence interval"
   ]
  },
  {
   "cell_type": "code",
   "execution_count": 111,
   "id": "a074c771",
   "metadata": {},
   "outputs": [
    {
     "name": "stdout",
     "output_type": "stream",
     "text": [
      "Crop area standard error 95% confidence interval [pixels] = 39360152.220740\n",
      "Non-crop area standard error 95% confidence interval [pixels] = 39360152.220740\n"
     ]
    }
   ],
   "source": [
    "a_pixels_crop_err = S_pk_crop * 1.96\n",
    "print('Crop area standard error 95%% confidence interval [pixels] = %f' % a_pixels_crop_err)\n",
    "\n",
    "a_pixels_noncrop_err = S_pk_noncrop * 1.96\n",
    "print('Non-crop area standard error 95%% confidence interval [pixels] = %f' % a_pixels_noncrop_err)"
   ]
  },
  {
   "cell_type": "code",
   "execution_count": 112,
   "id": "390ba5c1",
   "metadata": {},
   "outputs": [
    {
     "name": "stdout",
     "output_type": "stream",
     "text": [
      "Crop area standard error 95% confidence interval [ha] = 393601.522207\n",
      "Non-crop area standard error 95% confidence interval [ha] = 393601.522207\n"
     ]
    }
   ],
   "source": [
    "a_ha_crop_err = a_pixels_crop_err * (pixel_size**2) / (100**2)\n",
    "print('Crop area standard error 95%% confidence interval [ha] = %f' % a_ha_crop_err)\n",
    "\n",
    "a_ha_noncrop_err = a_pixels_noncrop_err * (pixel_size**2) / (100**2)\n",
    "print('Non-crop area standard error 95%% confidence interval [ha] = %f' % a_ha_noncrop_err)"
   ]
  },
  {
   "cell_type": "markdown",
   "id": "dca9c4d6",
   "metadata": {},
   "source": [
    "Summary of the final estimates of accuracy and area with standard error at 95% confidence intervals:"
   ]
  },
  {
   "cell_type": "code",
   "execution_count": 163,
   "id": "f1aca8fc",
   "metadata": {},
   "outputs": [
    {
     "data": {
      "text/html": [
       "<div>\n",
       "<style scoped>\n",
       "    .dataframe tbody tr th:only-of-type {\n",
       "        vertical-align: middle;\n",
       "    }\n",
       "\n",
       "    .dataframe tbody tr th {\n",
       "        vertical-align: top;\n",
       "    }\n",
       "\n",
       "    .dataframe thead th {\n",
       "        text-align: right;\n",
       "    }\n",
       "</style>\n",
       "<table border=\"1\" class=\"dataframe\">\n",
       "  <thead>\n",
       "    <tr style=\"text-align: right;\">\n",
       "      <th></th>\n",
       "      <th>Crop</th>\n",
       "      <th>Non-crop</th>\n",
       "    </tr>\n",
       "  </thead>\n",
       "  <tbody>\n",
       "    <tr>\n",
       "      <th>Estimated area [ha]</th>\n",
       "      <td>5742193.67</td>\n",
       "      <td>8920067.31</td>\n",
       "    </tr>\n",
       "    <tr>\n",
       "      <th>95% CI of area [ha]</th>\n",
       "      <td>393601.52</td>\n",
       "      <td>393601.52</td>\n",
       "    </tr>\n",
       "    <tr>\n",
       "      <th>User accuracy</th>\n",
       "      <td>0.91</td>\n",
       "      <td>0.92</td>\n",
       "    </tr>\n",
       "    <tr>\n",
       "      <th>95% CI of user acc</th>\n",
       "      <td>0.03</td>\n",
       "      <td>0.04</td>\n",
       "    </tr>\n",
       "    <tr>\n",
       "      <th>Producer accuracy</th>\n",
       "      <td>0.88</td>\n",
       "      <td>0.94</td>\n",
       "    </tr>\n",
       "    <tr>\n",
       "      <th>95% CI of prod acc</th>\n",
       "      <td>NaN</td>\n",
       "      <td>0.02</td>\n",
       "    </tr>\n",
       "    <tr>\n",
       "      <th>Overall accuracy</th>\n",
       "      <td>0.92</td>\n",
       "      <td>0.92</td>\n",
       "    </tr>\n",
       "    <tr>\n",
       "      <th>95% CI of overall acc</th>\n",
       "      <td>0.03</td>\n",
       "      <td>0.03</td>\n",
       "    </tr>\n",
       "  </tbody>\n",
       "</table>\n",
       "</div>"
      ],
      "text/plain": [
       "                             Crop    Non-crop\n",
       "Estimated area [ha]    5742193.67  8920067.31\n",
       "95% CI of area [ha]     393601.52   393601.52\n",
       "User accuracy                0.91        0.92\n",
       "95% CI of user acc           0.03        0.04\n",
       "Producer accuracy            0.88        0.94\n",
       "95% CI of prod acc            NaN        0.02\n",
       "Overall accuracy             0.92        0.92\n",
       "95% CI of overall acc        0.03        0.03"
      ]
     },
     "execution_count": 163,
     "metadata": {},
     "output_type": "execute_result"
    }
   ],
   "source": [
    "summary = pd.DataFrame([[a_ha_crop, a_ha_noncrop],\n",
    "                        [a_ha_crop_err, a_ha_noncrop_err],\n",
    "                        [u_crop, u_noncrop],\n",
    "                        [u_crop_err, u_noncrop_err],\n",
    "                        [p_crop, p_noncrop],\n",
    "                        [p_crop_err, p_noncrop_err],\n",
    "                        [acc, acc],\n",
    "                        [acc_err, acc_err]\n",
    "                       ],\n",
    "                       index=pd.Index(['Estimated area [ha]', '95% CI of area [ha]', 'User accuracy',\n",
    "                                       '95% CI of user acc', 'Producer accuracy', '95% CI of prod acc',\n",
    "                                       'Overall accuracy', '95% CI of overall acc']),\n",
    "                       columns=['Crop', 'Non-crop'])\n",
    "\n",
    "summary.round(2)"
   ]
  },
  {
   "cell_type": "code",
   "execution_count": null,
   "id": "66710440",
   "metadata": {},
   "outputs": [],
   "source": []
  }
 ],
 "metadata": {
  "kernelspec": {
   "display_name": "Python 3 (ipykernel)",
   "language": "python",
   "name": "python3"
  },
  "language_info": {
   "codemirror_mode": {
    "name": "ipython",
    "version": 3
   },
   "file_extension": ".py",
   "mimetype": "text/x-python",
   "name": "python",
   "nbconvert_exporter": "python",
   "pygments_lexer": "ipython3",
   "version": "3.7.12"
  }
 },
 "nbformat": 4,
 "nbformat_minor": 5
}
