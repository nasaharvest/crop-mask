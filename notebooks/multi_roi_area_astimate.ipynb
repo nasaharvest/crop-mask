{
 "cells": [
  {
   "cell_type": "code",
   "execution_count": null,
   "metadata": {},
   "outputs": [],
   "source": [
    "!git clone https://github.com/nasaharvest/crop-mask.git"
   ]
  },
  {
   "cell_type": "markdown",
   "metadata": {},
   "source": [
    "#### Create a Config file with these steps\n",
    "\n",
    "1. Create a file `config.yaml`\n",
    "2. Follow this template to provide RoI names, and necessary file paths in your config file.\n",
    "\n",
    "```\n",
    "rois: \n",
    "  - roi_name: AlGedaref\n",
    "    roi_boundary_path: '../data/roi/alqadarif_boundary.shp'\n",
    "    samples_and_cropmap:\n",
    "      - year: 2022\n",
    "        set1_labels_path: '../data/ceo/rechecked_processed_Feb-2022---Feb-2023_ceo_samples.csv'\n",
    "        set2_labels_path: '../data/ceo/rechecked_processed_Feb-2022---Feb-2023_ceo_samples.csv'\n",
    "        crop_mask_path: '../data/rasters/AlQadarif_AlJazirah_2022_cropmask_epsg32636_v5_pp.tif'\n",
    "      - year: 2023\n",
    "        set1_labels_path: '../data/ceo/rechecked_processed_Feb-2023---Feb-2024_ceo_samples.csv'\n",
    "        set2_labels_path: '../data/ceo/rechecked_processed_Feb-2023---Feb-2024_ceo_samples.csv'\n",
    "        crop_mask_path: '../data/rasters/AlQadarif_AlJazirah_2023_cropmask_epsg32636_v5_pp.tif'\n",
    "\n",
    "  - roi_name: AlJazirah\n",
    "    roi_boundary_path: '../data/roi/aljazirah_boundary.shp'\n",
    "    samples_and_cropmap:\n",
    "      - year: 2022\n",
    "        set1_labels_path: '../data/ceo/rechecked_processed_Feb-2022---Feb-2023_ceo_samples.csv'\n",
    "        set2_labels_path: '../data/ceo/rechecked_processed_Feb-2022---Feb-2023_ceo_samples.csv'\n",
    "        crop_mask_path: '../data/rasters/AlQadarif_AlJazirah_2022_cropmask_epsg32636_v5_pp.tif'\n",
    "      - year: 2023\n",
    "        set1_labels_path: '../data/ceo/rechecked_processed_Feb-2023---Feb-2024_ceo_samples.csv'\n",
    "        set2_labels_path: '../data/ceo/rechecked_processed_Feb-2023---Feb-2024_ceo_samples.csv'\n",
    "        crop_mask_path: '../data/rasters/AlQadarif_AlJazirah_2023_cropmask_epsg32636_v5_pp.tif'\n",
    "  \n",
    "output_path: '../results.csv'    \n",
    "```"
   ]
  },
  {
   "cell_type": "code",
   "execution_count": null,
   "metadata": {},
   "outputs": [],
   "source": [
    "# Install required packages\n",
    "# Skip this step if you have already installed the packages in your local environment\n",
    "!pip install geopandas -q\n",
    "!pip install seaborn -q\n",
    "!pip install rasterio -q\n",
    "!pip install cartopy -q"
   ]
  },
  {
   "cell_type": "code",
   "execution_count": null,
   "metadata": {},
   "outputs": [],
   "source": [
    "import os\n",
    "import sys\n",
    "import yaml"
   ]
  },
  {
   "cell_type": "code",
   "execution_count": null,
   "metadata": {},
   "outputs": [],
   "source": [
    "module_path = os.path.abspath(os.path.join('..'))\n",
    "if module_path not in sys.path:\n",
    "    sys.path.append(module_path)"
   ]
  },
  {
   "cell_type": "code",
   "execution_count": null,
   "metadata": {},
   "outputs": [],
   "source": [
    "%cd crop-mask"
   ]
  },
  {
   "cell_type": "code",
   "execution_count": null,
   "metadata": {},
   "outputs": [],
   "source": [
    "from src.area_utils import (\n",
    "    run_area_estimates_config\n",
    ")"
   ]
  },
  {
   "cell_type": "code",
   "execution_count": null,
   "metadata": {},
   "outputs": [],
   "source": [
    "config_paths = \"../config.yaml\"\n",
    "with open(config_paths, 'r') as file:\n",
    "      config = yaml.safe_load(file)"
   ]
  },
  {
   "cell_type": "code",
   "execution_count": null,
   "metadata": {},
   "outputs": [],
   "source": [
    "anual_estimates = run_area_estimates_config(config, show_output_charts=True)"
   ]
  },
  {
   "cell_type": "code",
   "execution_count": null,
   "metadata": {},
   "outputs": [],
   "source": [
    "import matplotlib.pyplot as plt\n",
    "import numpy as np\n",
    "\n",
    "def plot_crop_area_with_confidence(anual_estimates):\n",
    "    \"\"\"\n",
    "    This function takes in a dictionary with crop area data and plots a bar chart \n",
    "    with 95% confidence intervals for each region and year.\n",
    "\n",
    "    Parameters:\n",
    "    data (dict): A dictionary where keys are region names and values contain \n",
    "                 crop area data, confidence intervals, and years.\n",
    "    \"\"\"\n",
    "    regions = list(anual_estimates.keys())\n",
    "    years = [2022, 2023]\n",
    "\n",
    "    crop_areas = np.array([anual_estimates[region]['crop area'] for region in regions])\n",
    "    crop_ci = np.array([anual_estimates[region]['95%CI crop'] for region in regions])\n",
    "\n",
    "    fig, ax = plt.subplots(figsize=(10, 6))\n",
    "\n",
    "    bar_width = 0.35\n",
    "    index = np.arange(len(regions))\n",
    "\n",
    "    for i, year in enumerate(years):\n",
    "        ax.bar(index + i * bar_width, crop_areas[:, i], bar_width,\n",
    "               yerr=crop_ci[:, i], label=f'Year {year}', capsize=5)\n",
    "\n",
    "    ax.set_xlabel('Region')\n",
    "    ax.set_ylabel('Crop Area (hectares)')\n",
    "    ax.set_title('Crop Area by Region with 95% Confidence Intervals (2022 vs 2023)')\n",
    "    ax.set_xticks(index + bar_width / 2)\n",
    "    ax.set_xticklabels(regions)\n",
    "    ax.legend()\n",
    "\n",
    "    ax.set_axisbelow(True)\n",
    "    ax.grid(True, which='both', axis='y', linestyle='--', linewidth=0.7)\n",
    "\n",
    "    plt.tight_layout()\n",
    "    plt.show()"
   ]
  },
  {
   "cell_type": "code",
   "execution_count": null,
   "metadata": {},
   "outputs": [],
   "source": [
    "plot_crop_area_with_confidence(anual_estimates)"
   ]
  }
 ],
 "metadata": {
  "kernelspec": {
   "display_name": "cropmask",
   "language": "python",
   "name": "python3"
  },
  "language_info": {
   "codemirror_mode": {
    "name": "ipython",
    "version": 3
   },
   "file_extension": ".py",
   "mimetype": "text/x-python",
   "name": "python",
   "nbconvert_exporter": "python",
   "pygments_lexer": "ipython3",
   "version": "3.12.0"
  }
 },
 "nbformat": 4,
 "nbformat_minor": 2
}
