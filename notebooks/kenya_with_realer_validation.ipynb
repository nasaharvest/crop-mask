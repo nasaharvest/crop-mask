{
 "cells": [
  {
   "cell_type": "code",
   "execution_count": 110,
   "id": "81253612",
   "metadata": {},
   "outputs": [],
   "source": [
    "from pathlib import Path\n",
    "from sklearn.metrics import f1_score, accuracy_score\n",
    "from tqdm.notebook import tqdm\n",
    "\n",
    "import matplotlib.pyplot as plt\n",
    "import numpy as np\n",
    "import pandas as pd\n",
    "import pickle\n",
    "import pytorch_lightning as pl\n",
    "import sys \n",
    "import torch\n",
    "\n",
    "sys.path.append(\"..\")\n",
    "from src.models import Model\n",
    "from src.models.data import CropDataset, BoundingBox\n",
    "from src.datasets_labeled import labeled_datasets"
   ]
  },
  {
   "cell_type": "code",
   "execution_count": 156,
   "id": "edc6d572",
   "metadata": {},
   "outputs": [
    {
     "name": "stderr",
     "output_type": "stream",
     "text": [
      "100%|██████████| 63186/63186 [00:08<00:00, 7267.96it/s]\n",
      "100%|██████████| 861/861 [00:00<00:00, 17863.11it/s]"
     ]
    },
    {
     "name": "stdout",
     "output_type": "stream",
     "text": [
      "BEFORE UPSAMPLING: pickle_files: 63186\n",
      "Upsampling: local training crop: 5920 to non-crop: 8447\n",
      "AFTER UPSAMPLING: pickle_files: 65713\n"
     ]
    },
    {
     "name": "stderr",
     "output_type": "stream",
     "text": [
      "\n"
     ]
    },
    {
     "data": {
      "application/vnd.jupyter.widget-view+json": {
       "model_id": "2b77a7417acf48fab96bb921f474802d",
       "version_major": 2,
       "version_minor": 0
      },
      "text/plain": [
       "0it [00:00, ?it/s]"
      ]
     },
     "metadata": {},
     "output_type": "display_data"
    },
    {
     "name": "stderr",
     "output_type": "stream",
     "text": [
      "100%|██████████| 63186/63186 [00:08<00:00, 7302.71it/s]\n",
      "100%|██████████| 277/277 [00:00<00:00, 3233.11it/s]"
     ]
    },
    {
     "name": "stdout",
     "output_type": "stream",
     "text": [
      "BEFORE UPSAMPLING: pickle_files: 63186\n",
      "Upsampling: local training crop: 532 to non-crop: 508\n",
      "AFTER UPSAMPLING: pickle_files: 63210\n"
     ]
    },
    {
     "name": "stderr",
     "output_type": "stream",
     "text": [
      "\n"
     ]
    },
    {
     "data": {
      "application/vnd.jupyter.widget-view+json": {
       "model_id": "67aa2ca5e25a403c812cee1a4060e4e0",
       "version_major": 2,
       "version_minor": 0
      },
      "text/plain": [
       "0it [00:00, ?it/s]"
      ]
     },
     "metadata": {},
     "output_type": "display_data"
    }
   ],
   "source": [
    "prediction_dfs = {}\n",
    "for model_name in [\"Kenya\", \"Togo\"]:\n",
    "    model = Model.load_from_checkpoint(f\"../data/models/{model_name}.ckpt\")\n",
    "    model = model.eval()\n",
    "    datasets = [d for d in labeled_datasets if d.dataset == model_name]\n",
    "    val = CropDataset(\n",
    "        data_folder=Path(\"../data\"),\n",
    "        subset=\"validation\",\n",
    "        datasets=datasets,\n",
    "        cache=None,\n",
    "        noise_factor=0.1,\n",
    "        probability_threshold=0.5,\n",
    "        remove_b1_b10=True,\n",
    "        normalizing_dict=model.normalizing_dict,\n",
    "        upsample=False,\n",
    "        target_bbox=model.target_bbox,\n",
    "        is_local_only=True,\n",
    "        is_global_only=False,\n",
    "    )\n",
    "    \n",
    "    # Load validation dataset (python objects)\n",
    "    instances = []\n",
    "    for i, target_file in tqdm(enumerate(val.pickle_files)):\n",
    "        with target_file.open(\"rb\") as f:\n",
    "            instance = pickle.load(f)\n",
    "            assert val[i][1].numpy() == instance.crop_probability\n",
    "            instances.append(instance)\n",
    "    \n",
    "    # Make predictions\n",
    "    def tensor_to_pred(y, threshold=0.5):\n",
    "        y = y.numpy().flatten()\n",
    "        y[y > threshold] = 1\n",
    "        y[y <= threshold] = 0\n",
    "        return y\n",
    "\n",
    "    x = torch.stack([v[0] for v in val])\n",
    "    #x = model.add_noise(x, training=False)\n",
    "    with torch.no_grad():\n",
    "        y_global_tensor, y_local_tensor = model(x)\n",
    "\n",
    "    y_true = np.array([1 if inst.crop_probability > 0.5 else 0 for inst in instances])\n",
    "    y_local = tensor_to_pred(y_local_tensor, threshold=0.5)\n",
    "    assert len(y_true) == len(y_local)\n",
    "    \n",
    "    df = pd.DataFrame({\"preds\": y_local, \"label\": y_true})\n",
    "    \n",
    "    prediction_dfs[model_name] = df\n",
    "    "
   ]
  },
  {
   "cell_type": "code",
   "execution_count": 159,
   "id": "79248c0d",
   "metadata": {},
   "outputs": [
    {
     "data": {
      "image/png": "[encoded data removed]",
      "text/plain": [
       "<Figure size 432x288 with 1 Axes>"
      ]
     },
     "metadata": {
      "needs_background": "light"
     },
     "output_type": "display_data"
    }
   ],
   "source": [
    "# Downsampling crop\n",
    "for model_name, df in prediction_dfs.items():\n",
    "    total_crop_amount = len(df[df[\"label\"] == 1])\n",
    "\n",
    "    crop_pcts = []\n",
    "    f1_scores = []\n",
    "    for n in np.arange(0, total_crop_amount, 10):\n",
    "        different_validation_set = pd.concat([\n",
    "             df[df[\"label\"] == 1].sample(n=n, replace=True),\n",
    "            df[df[\"label\"] == 0]\n",
    "        ])\n",
    "        crop_pcts.append(n / len(different_validation_set))\n",
    "        score = f1_score(different_validation_set[\"label\"], different_validation_set[\"preds\"])\n",
    "        f1_scores.append(score)\n",
    "        \n",
    "    plt.plot(crop_pcts, f1_scores, label=model_name)\n",
    "    plt.legend()\n",
    "    plt.xlabel(\"Crop Percentage\")\n",
    "    plt.ylabel(\"F1 Score\")\n",
    "    plt.title(f\"Downsampling crop in Validation set\");"
   ]
  },
  {
   "cell_type": "code",
   "execution_count": null,
   "id": "612381d4",
   "metadata": {},
   "outputs": [],
   "source": []
  }
 ],
 "metadata": {
  "kernelspec": {
   "display_name": "Python 3",
   "language": "python",
   "name": "python3"
  },
  "language_info": {
   "codemirror_mode": {
    "name": "ipython",
    "version": 3
   },
   "file_extension": ".py",
   "mimetype": "text/x-python",
   "name": "python",
   "nbconvert_exporter": "python",
   "pygments_lexer": "ipython3",
   "version": "3.6.13"
  }
 },
 "nbformat": 4,
 "nbformat_minor": 5
}
