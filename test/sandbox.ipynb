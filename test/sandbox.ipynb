{
 "cells": [
  {
   "cell_type": "code",
   "execution_count": 1,
   "id": "e8d4a037",
   "metadata": {},
   "outputs": [],
   "source": [
    "!pip install -q intake sat-search"
   ]
  },
  {
   "cell_type": "code",
   "execution_count": 2,
   "id": "married-devices",
   "metadata": {},
   "outputs": [],
   "source": [
    "from pathlib import Path\n",
    "\n",
    "import geopandas\n",
    "import pandas as pd\n",
    "\n",
    "import intake\n",
    "import satsearch"
   ]
  },
  {
   "cell_type": "code",
   "execution_count": 3,
   "id": "dd885034",
   "metadata": {},
   "outputs": [],
   "source": [
    "df = pd.read_csv(\"../data/processed/Kenya.csv\")"
   ]
  },
  {
   "cell_type": "code",
   "execution_count": 10,
   "id": "e4b44e7c",
   "metadata": {},
   "outputs": [],
   "source": [
    "df['year'] = pd.to_datetime(df['start_date']).dt.year"
   ]
  },
  {
   "cell_type": "code",
   "execution_count": 13,
   "id": "afe437c4",
   "metadata": {},
   "outputs": [],
   "source": [
    "df = df.drop([\"start_date\", \"end_date\", \"subset\"], axis=1)"
   ]
  },
  {
   "cell_type": "code",
   "execution_count": 14,
   "id": "f56cc751",
   "metadata": {},
   "outputs": [],
   "source": [
    "df.to_csv(\"~/Desktop/example.csv\")"
   ]
  },
  {
   "cell_type": "code",
   "execution_count": 55,
   "id": "a784e7be",
   "metadata": {},
   "outputs": [],
   "source": [
    "bbox = [30.377, -2.251, 30.404, -2.226]\n",
    "dates = '2020-04-01/2021-04-01'\n",
    "\n",
    "URL='https://earth-search.aws.element84.com/v0'\n",
    "results = satsearch.Search(url=URL,\n",
    "                           collections=['sentinel-s2-l2a-cogs'],\n",
    "                           datetime=dates,\n",
    "                           bbox=bbox,    \n",
    "                           sort=['<datetime'])\n",
    "results.found()"
   ]
  },
  {
   "cell_type": "code",
   "execution_count": 59,
   "id": "a41614ab",
   "metadata": {},
   "outputs": [
    {
     "data": {
      "text/plain": [
       "150"
      ]
     },
     "execution_count": 59,
     "metadata": {},
     "output_type": "execute_result"
    }
   ],
   "source": [
    "items = results.items()\n",
    "len(items)"
   ]
  },
  {
   "cell_type": "code",
   "execution_count": 60,
   "id": "75907424",
   "metadata": {},
   "outputs": [
    {
     "data": {
      "text/plain": [
       "[sentinel-s2-l2a-cogs]"
      ]
     },
     "execution_count": 60,
     "metadata": {},
     "output_type": "execute_result"
    }
   ],
   "source": [
    "items._collections"
   ]
  },
  {
   "cell_type": "code",
   "execution_count": 62,
   "id": "ba0d8a52",
   "metadata": {},
   "outputs": [
    {
     "name": "stdout",
     "output_type": "stream",
     "text": [
      "Items (150):\n",
      "date                      id                        eo:cloud_cover            \n",
      "2021-03-28                S2A_35MRT_20210328_0_L2A  41.27                     \n",
      "2021-03-28                S2A_36MTC_20210328_0_L2A  44.34                     \n",
      "2021-03-23                S2B_35MRT_20210323_0_L2A  88.89                     \n",
      "2021-03-23                S2B_36MTC_20210323_0_L2A  88.09                     \n",
      "2021-03-18                S2A_35MRT_20210318_0_L2A  95.64                     \n",
      "2021-03-18                S2A_36MTC_20210318_0_L2A  92.57                     \n",
      "2021-03-13                S2B_35MRT_20210313_0_L2A  98.85                     \n",
      "2021-03-13                S2B_36MTC_20210313_0_L2A  99.51                     \n",
      "2021-03-08                S2A_35MRT_20210308_0_L2A  100                       \n",
      "2021-03-08                S2A_36MTC_20210308_0_L2A  100                       \n",
      "2021-03-03                S2B_35MRT_20210303_0_L2A  100                       \n",
      "2021-03-03                S2B_36MTC_20210303_0_L2A  100                       \n",
      "2021-02-26                S2A_35MRT_20210226_0_L2A  33.63                     \n",
      "2021-02-26                S2A_36MTC_20210226_0_L2A  44.25                     \n",
      "2021-02-21                S2B_35MRT_20210221_0_L2A  73.92                     \n",
      "2021-02-21                S2B_36MTC_20210221_0_L2A  57.77                     \n",
      "2021-02-16                S2A_35MRT_20210216_0_L2A  99.69                     \n",
      "2021-02-16                S2A_36MTC_20210216_0_L2A  99.91                     \n",
      "2021-02-11                S2B_35MRT_20210211_0_L2A  91.67                     \n",
      "2021-02-11                S2B_36MTC_20210211_0_L2A  92.22                     \n",
      "2021-02-06                S2A_35MRT_20210206_0_L2A  43.86                     \n",
      "2021-02-06                S2A_36MTC_20210206_0_L2A  16.19                     \n",
      "2021-02-01                S2B_35MRT_20210201_0_L2A  94.06                     \n",
      "2021-02-01                S2B_36MTC_20210201_0_L2A  95.56                     \n",
      "2021-01-27                S2A_35MRT_20210127_0_L2A  8.31                      \n",
      "2021-01-27                S2A_36MTC_20210127_0_L2A  10.16                     \n",
      "2021-01-22                S2B_35MRT_20210122_0_L2A  44.47                     \n",
      "2021-01-22                S2B_36MTC_20210122_0_L2A  35.73                     \n",
      "2021-01-17                S2A_35MRT_20210117_0_L2A  50.11                     \n",
      "2021-01-17                S2A_36MTC_20210117_0_L2A  21.97                     \n",
      "2021-01-12                S2B_35MRT_20210112_0_L2A  91.5                      \n",
      "2021-01-12                S2B_36MTC_20210112_0_L2A  95.61                     \n",
      "2021-01-07                S2A_35MRT_20210107_0_L2A  33.67                     \n",
      "2021-01-07                S2A_36MTC_20210107_0_L2A  30.28                     \n",
      "2021-01-02                S2B_35MRT_20210102_0_L2A  93.06                     \n",
      "2021-01-02                S2B_36MTC_20210102_0_L2A  92.92                     \n",
      "2020-12-28                S2A_35MRT_20201228_0_L2A  25.32                     \n",
      "2020-12-28                S2A_36MTC_20201228_0_L2A  16.35                     \n",
      "2020-12-23                S2B_35MRT_20201223_0_L2A  66.36                     \n",
      "2020-12-23                S2B_36MTC_20201223_0_L2A  74.79                     \n",
      "2020-12-18                S2A_35MRT_20201218_0_L2A  81.85                     \n",
      "2020-12-18                S2A_36MTC_20201218_0_L2A  84.23                     \n",
      "2020-12-13                S2B_35MRT_20201213_0_L2A  20.37                     \n",
      "2020-12-13                S2B_36MTC_20201213_0_L2A  16.08                     \n",
      "2020-12-08                S2A_35MRT_20201208_0_L2A  59.22                     \n",
      "2020-12-08                S2A_36MTC_20201208_0_L2A  64.65                     \n",
      "2020-12-03                S2B_35MRT_20201203_0_L2A  92.43                     \n",
      "2020-12-03                S2B_36MTC_20201203_0_L2A  99.15                     \n",
      "2020-11-28                S2A_35MRT_20201128_0_L2A  63.21                     \n",
      "2020-11-28                S2A_36MTC_20201128_0_L2A  66.86                     \n",
      "2020-11-23                S2B_35MRT_20201123_0_L2A  10.61                     \n",
      "2020-11-23                S2B_36MTC_20201123_0_L2A  16.08                     \n",
      "2020-11-18                S2A_35MRT_20201118_0_L2A  0                         \n",
      "2020-11-18                S2A_36MTC_20201118_0_L2A  0                         \n",
      "2020-11-13                S2B_35MRT_20201113_0_L2A  53.56                     \n",
      "2020-11-13                S2B_36MTC_20201113_0_L2A  71.5                      \n",
      "2020-11-08                S2A_35MRT_20201108_0_L2A  57.32                     \n",
      "2020-11-08                S2A_36MTC_20201108_0_L2A  49.69                     \n",
      "2020-11-03                S2B_35MRT_20201103_0_L2A  38.7                      \n",
      "2020-11-03                S2B_36MTC_20201103_0_L2A  51.83                     \n",
      "2020-10-29                S2A_35MRT_20201029_0_L2A  94.97                     \n",
      "2020-10-29                S2A_36MTC_20201029_0_L2A  97.23                     \n",
      "2020-10-24                S2B_35MRT_20201024_0_L2A  9.15                      \n",
      "2020-10-24                S2B_36MTC_20201024_0_L2A  12.61                     \n",
      "2020-10-19                S2A_35MRT_20201019_0_L2A  15.86                     \n",
      "2020-10-19                S2A_36MTC_20201019_0_L2A  25.16                     \n",
      "2020-10-14                S2B_35MRT_20201014_0_L2A  99.49                     \n",
      "2020-10-14                S2B_36MTC_20201014_0_L2A  100                       \n",
      "2020-10-09                S2A_35MRT_20201009_0_L2A  44.29                     \n",
      "2020-10-09                S2A_36MTC_20201009_0_L2A  43.32                     \n",
      "2020-10-04                S2B_35MRT_20201004_0_L2A  76.64                     \n",
      "2020-10-04                S2B_36MTC_20201004_1_L2A  85.06                     \n",
      "2020-09-29                S2A_35MRT_20200929_0_L2A  96.43                     \n",
      "2020-09-29                S2A_36MTC_20200929_0_L2A  88.26                     \n",
      "2020-09-24                S2B_35MRT_20200924_0_L2A  22.42                     \n",
      "2020-09-24                S2B_36MTC_20200924_0_L2A  25.02                     \n",
      "2020-09-19                S2A_35MRT_20200919_0_L2A  33.2                      \n",
      "2020-09-19                S2A_36MTC_20200919_0_L2A  12.55                     \n",
      "2020-09-14                S2B_35MRT_20200914_0_L2A  12.8                      \n",
      "2020-09-14                S2B_36MTC_20200914_0_L2A  92.63                     \n",
      "2020-09-09                S2A_35MRT_20200909_0_L2A  60.04                     \n",
      "2020-09-09                S2A_36MTC_20200909_0_L2A  40.27                     \n",
      "2020-09-04                S2B_35MRT_20200904_0_L2A  0                         \n",
      "2020-09-04                S2B_36MTC_20200904_0_L2A  0                         \n",
      "2020-08-30                S2A_35MRT_20200830_0_L2A  18.68                     \n",
      "2020-08-30                S2A_36MTC_20200830_0_L2A  25.12                     \n",
      "2020-08-25                S2B_35MRT_20200825_0_L2A  96.14                     \n",
      "2020-08-25                S2B_36MTC_20200825_0_L2A  98.69                     \n",
      "2020-08-20                S2A_35MRT_20200820_0_L2A  0                         \n",
      "2020-08-20                S2A_36MTC_20200820_0_L2A  0                         \n",
      "2020-08-15                S2B_35MRT_20200815_0_L2A  45.16                     \n",
      "2020-08-15                S2B_36MTC_20200815_0_L2A  96.42                     \n",
      "2020-08-10                S2A_35MRT_20200810_0_L2A  54.88                     \n",
      "2020-08-10                S2A_36MTC_20200810_0_L2A  38.27                     \n",
      "2020-08-05                S2B_35MRT_20200805_0_L2A  0.43                      \n",
      "2020-08-05                S2B_36MTC_20200805_0_L2A  0.06                      \n",
      "2020-07-31                S2A_35MRT_20200731_0_L2A  3.29                      \n",
      "2020-07-31                S2A_36MTC_20200731_0_L2A  2.77                      \n",
      "2020-07-26                S2B_35MRT_20200726_0_L2A  0.8                       \n",
      "2020-07-26                S2B_36MTC_20200726_0_L2A  0                         \n",
      "2020-07-21                S2A_35MRT_20200721_0_L2A  15.18                     \n",
      "2020-07-21                S2A_36MTC_20200721_0_L2A  0.59                      \n",
      "2020-07-16                S2B_35MRT_20200716_0_L2A  95.4                      \n",
      "2020-07-16                S2B_36MTC_20200716_0_L2A  89.73                     \n",
      "2020-07-11                S2A_35MRT_20200711_0_L2A  82.33                     \n",
      "2020-07-11                S2A_36MTC_20200711_0_L2A  70.74                     \n",
      "2020-07-06                S2B_35MRT_20200706_1_L2A  23.92                     \n",
      "2020-07-06                S2B_36MTC_20200706_0_L2A  19.32                     \n",
      "2020-07-01                S2A_35MRT_20200701_0_L2A  98.84                     \n",
      "2020-07-01                S2A_36MTC_20200701_0_L2A  99.83                     \n",
      "2020-06-26                S2B_35MRT_20200626_0_L2A  51.85                     \n",
      "2020-06-26                S2B_36MTC_20200626_0_L2A  16.45                     \n",
      "2020-06-21                S2A_35MRT_20200621_0_L2A  29.63                     \n",
      "2020-06-21                S2A_36MTC_20200621_0_L2A  24.67                     \n",
      "2020-06-16                S2B_35MRT_20200616_0_L2A  53.22                     \n",
      "2020-06-16                S2B_36MTC_20200616_0_L2A  15.16                     \n",
      "2020-06-11                S2A_35MRT_20200611_0_L2A  94.55                     \n",
      "2020-06-11                S2A_36MTC_20200611_0_L2A  91.95                     \n",
      "2020-06-06                S2B_35MRT_20200606_1_L2A  3.32                      \n",
      "2020-06-06                S2B_36MTC_20200606_1_L2A  4.12                      \n",
      "2020-06-01                S2A_35MRT_20200601_0_L2A  5.15                      \n",
      "2020-06-01                S2A_36MTC_20200601_0_L2A  1.65                      \n",
      "2020-05-27                S2B_35MRT_20200527_1_L2A  9.93                      \n",
      "2020-05-27                S2B_36MTC_20200527_1_L2A  4.03                      \n",
      "2020-05-27                S2B_35MRT_20200527_0_L2A  6.83                      \n",
      "2020-05-27                S2B_36MTC_20200527_0_L2A  3.54                      \n",
      "2020-05-22                S2A_35MRT_20200522_0_L2A  57.68                     \n",
      "2020-05-22                S2A_36MTC_20200522_0_L2A  55.46                     \n",
      "2020-05-17                S2B_35MRT_20200517_0_L2A  72.73                     \n",
      "2020-05-17                S2B_36MTC_20200517_0_L2A  50.69                     \n",
      "2020-05-12                S2A_35MRT_20200512_0_L2A  87.78                     \n",
      "2020-05-12                S2A_36MTC_20200512_0_L2A  84.13                     \n",
      "2020-05-07                S2B_35MRT_20200507_1_L2A  61.28                     \n",
      "2020-05-07                S2B_36MTC_20200507_0_L2A  25.55                     \n",
      "2020-05-07                S2B_35MRT_20200507_0_L2A  42.85                     \n",
      "2020-05-07                S2B_36MTC_20200507_1_L2A  49.64                     \n",
      "2020-05-02                S2A_35MRT_20200502_0_L2A  92.45                     \n",
      "2020-05-02                S2A_36MTC_20200502_0_L2A  88.62                     \n",
      "2020-04-27                S2B_35MRT_20200427_0_L2A  93.81                     \n",
      "2020-04-27                S2B_36MTC_20200427_0_L2A  95.99                     \n",
      "2020-04-22                S2A_35MRT_20200422_0_L2A  99.56                     \n",
      "2020-04-22                S2A_36MTC_20200422_0_L2A  99.05                     \n",
      "2020-04-17                S2B_35MRT_20200417_0_L2A  93.82                     \n",
      "2020-04-17                S2B_36MTC_20200417_0_L2A  94.87                     \n",
      "2020-04-12                S2A_35MRT_20200412_0_L2A  97.65                     \n",
      "2020-04-12                S2A_36MTC_20200412_0_L2A  97.89                     \n",
      "2020-04-07                S2B_35MRT_20200407_0_L2A  38.91                     \n",
      "2020-04-07                S2B_36MTC_20200407_0_L2A  13.95                     \n",
      "2020-04-02                S2A_35MRT_20200402_0_L2A  48.44                     \n",
      "2020-04-02                S2A_36MTC_20200402_0_L2A  43.91                     \n",
      "\n"
     ]
    }
   ],
   "source": [
    "print(items.summary(['date', 'id', 'eo:cloud_cover']))"
   ]
  },
  {
   "cell_type": "code",
   "execution_count": 65,
   "id": "d4c7be86",
   "metadata": {},
   "outputs": [
    {
     "data": {
      "text/plain": [
       "{'title': 'Band 4 (red)',\n",
       " 'type': 'image/tiff; application=geotiff; profile=cloud-optimized',\n",
       " 'roles': ['data'],\n",
       " 'gsd': 10,\n",
       " 'eo:bands': [{'name': 'B04',\n",
       "   'common_name': 'red',\n",
       "   'center_wavelength': 0.6645,\n",
       "   'full_width_half_max': 0.038}],\n",
       " 'href': 'https://sentinel-cogs.s3.us-west-2.amazonaws.com/sentinel-s2-l2a-cogs/35/M/RT/2021/3/S2A_35MRT_20210328_0_L2A/B04.tif',\n",
       " 'proj:shape': [10980, 10980],\n",
       " 'proj:transform': [10, 0, 799980, 0, -10, 9800020, 0, 0, 1]}"
      ]
     },
     "execution_count": 65,
     "metadata": {},
     "output_type": "execute_result"
    }
   ],
   "source": [
    "items[0].asset('red')"
   ]
  },
  {
   "cell_type": "code",
   "execution_count": null,
   "id": "739344c5",
   "metadata": {},
   "outputs": [],
   "source": []
  }
 ],
 "metadata": {
  "kernelspec": {
   "display_name": "Python 3",
   "language": "python",
   "name": "python3"
  },
  "language_info": {
   "codemirror_mode": {
    "name": "ipython",
    "version": 3
   },
   "file_extension": ".py",
   "mimetype": "text/x-python",
   "name": "python",
   "nbconvert_exporter": "python",
   "pygments_lexer": "ipython3",
   "version": "3.6.13"
  }
 },
 "nbformat": 4,
 "nbformat_minor": 5
}
