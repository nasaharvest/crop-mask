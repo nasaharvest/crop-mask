{
 "cells": [
  {
   "cell_type": "code",
   "execution_count": 3,
   "id": "married-devices",
   "metadata": {},
   "outputs": [],
   "source": [
    "from pathlib import Path\n",
    "\n",
    "import pandas as pd"
   ]
  },
  {
   "cell_type": "code",
   "execution_count": 7,
   "id": "gorgeous-confidence",
   "metadata": {},
   "outputs": [],
   "source": [
    "dfs = []\n",
    "for f in Path(\"/Users/izvonkov/nasaharvest/crop-mask/data/raw/Rwanda\").iterdir():\n",
    "    if f.suffix == '.csv':\n",
    "        dfs.append(pd.read_csv(f))"
   ]
  },
  {
   "cell_type": "code",
   "execution_count": 10,
   "id": "assumed-connectivity",
   "metadata": {},
   "outputs": [
    {
     "data": {
      "text/plain": [
       "PosixPath('/Users/izvonkov/nasaharvest/crop-mask/data/raw/Rwanda/ceo-2019-Rwanda-Cropland-sample-data-2021-04-20.csv')"
      ]
     },
     "execution_count": 10,
     "metadata": {},
     "output_type": "execute_result"
    }
   ],
   "source": []
  },
  {
   "cell_type": "code",
   "execution_count": 8,
   "id": "lucky-sharp",
   "metadata": {},
   "outputs": [],
   "source": [
    "df = pd.concat(dfs)"
   ]
  },
  {
   "cell_type": "code",
   "execution_count": 13,
   "id": "inappropriate-coach",
   "metadata": {},
   "outputs": [
    {
     "data": {
      "text/plain": [
       "Non-crop    2326\n",
       "Cropland    1263\n",
       "Name: Crop/ or not, dtype: int64"
      ]
     },
     "execution_count": 13,
     "metadata": {},
     "output_type": "execute_result"
    }
   ],
   "source": [
    "df['Crop/ or not'].value_counts()"
   ]
  },
  {
   "cell_type": "code",
   "execution_count": 14,
   "id": "corrected-place",
   "metadata": {},
   "outputs": [
    {
     "data": {
      "text/plain": [
       "0       False\n",
       "1       False\n",
       "2       False\n",
       "3       False\n",
       "4       False\n",
       "        ...  \n",
       "1197     True\n",
       "1198    False\n",
       "1199    False\n",
       "1200    False\n",
       "1201    False\n",
       "Name: Crop/ or not, Length: 3609, dtype: bool"
      ]
     },
     "execution_count": 14,
     "metadata": {},
     "output_type": "execute_result"
    }
   ],
   "source": [
    "df['Crop/ or not'] == 'Cropland'"
   ]
  },
  {
   "cell_type": "code",
   "execution_count": null,
   "id": "fuzzy-wildlife",
   "metadata": {},
   "outputs": [],
   "source": []
  }
 ],
 "metadata": {
  "kernelspec": {
   "display_name": "Python 3",
   "language": "python",
   "name": "python3"
  },
  "language_info": {
   "codemirror_mode": {
    "name": "ipython",
    "version": 3
   },
   "file_extension": ".py",
   "mimetype": "text/x-python",
   "name": "python",
   "nbconvert_exporter": "python",
   "pygments_lexer": "ipython3",
   "version": "3.6.13"
  }
 },
 "nbformat": 4,
 "nbformat_minor": 5
}
