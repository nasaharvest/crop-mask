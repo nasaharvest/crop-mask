{
 "cells": [
  {
   "cell_type": "code",
   "execution_count": 79,
   "id": "739344c5",
   "metadata": {},
   "outputs": [],
   "source": [
    "from pathlib import Path\n",
    "\n",
    "import sys\n",
    "sys.path.append(\"..\")\n",
    "\n",
    "from src.models import Model"
   ]
  },
  {
   "cell_type": "code",
   "execution_count": null,
   "id": "db9055c8",
   "metadata": {},
   "outputs": [],
   "source": []
  },
  {
   "cell_type": "markdown",
   "id": "0a26baf3",
   "metadata": {},
   "source": [
    "## Load in data (used for Kenya model)"
   ]
  },
  {
   "cell_type": "code",
   "execution_count": 5,
   "id": "6f3b4938",
   "metadata": {},
   "outputs": [],
   "source": [
    "m = Model.load_from_checkpoint(\"../data/models/Kenya.ckpt\")"
   ]
  },
  {
   "cell_type": "code",
   "execution_count": 53,
   "id": "32610fe7",
   "metadata": {},
   "outputs": [
    {
     "name": "stderr",
     "output_type": "stream",
     "text": [
      "100%|██████████| 37943/37943 [00:04<00:00, 7865.85it/s]\n",
      "100%|██████████| 8241/8241 [00:00<00:00, 8708.55it/s]\n",
      "Directory: ../data/features/geowiki_landcover_2017/testing not found. Use command: `dvc pull` to get the latest data.\n",
      "100%|██████████| 884/884 [00:00<00:00, 2671.95it/s]\n"
     ]
    }
   ],
   "source": [
    "train, val, test = [m.get_dataset(subset).x for subset in [\"training\", \"validation\", \"testing\"]]"
   ]
  },
  {
   "cell_type": "code",
   "execution_count": 55,
   "id": "7bc2f49f",
   "metadata": {},
   "outputs": [
    {
     "data": {
      "text/plain": [
       "torch.Size([37943, 12, 12])"
      ]
     },
     "execution_count": 55,
     "metadata": {},
     "output_type": "execute_result"
    }
   ],
   "source": [
    "# (examples, timesteps, bands)\n",
    "train.shape"
   ]
  },
  {
   "cell_type": "markdown",
   "id": "511d05f9",
   "metadata": {},
   "source": [
    "## Create forecasting dataset"
   ]
  },
  {
   "cell_type": "code",
   "execution_count": 61,
   "id": "28f35810",
   "metadata": {},
   "outputs": [],
   "source": [
    "forecast_timesteps = 7\n",
    "input_timesteps = 12 - forecast_timesteps\n",
    "\n",
    "def create_X_Y(dataset):\n",
    "    X = dataset[:, :input_timesteps, :]\n",
    "    Y = dataset[:, input_timesteps:, :]\n",
    "    return X, Y"
   ]
  },
  {
   "cell_type": "code",
   "execution_count": 64,
   "id": "ee1a9434",
   "metadata": {},
   "outputs": [],
   "source": [
    "X_train, Y_train = create_X_Y(train)\n",
    "X_val, Y_val = create_X_Y(val)\n",
    "X_test, Y_test = create_X_Y(test)"
   ]
  },
  {
   "cell_type": "markdown",
   "id": "12bf3e27",
   "metadata": {},
   "source": [
    "## Info about the forecaster"
   ]
  },
  {
   "cell_type": "code",
   "execution_count": 88,
   "id": "05224f32",
   "metadata": {},
   "outputs": [
    {
     "data": {
      "text/plain": [
       "Forecaster(\n",
       "  (lstm): UnrolledLSTM(\n",
       "    (rnn): UnrolledLSTMCell(\n",
       "      (forget_gate): Sequential(\n",
       "        (0): Linear(in_features=268, out_features=256, bias=True)\n",
       "        (1): Sigmoid()\n",
       "      )\n",
       "      (update_gate): Sequential(\n",
       "        (0): Linear(in_features=268, out_features=256, bias=True)\n",
       "        (1): Sigmoid()\n",
       "      )\n",
       "      (update_candidates): Sequential(\n",
       "        (0): Linear(in_features=268, out_features=256, bias=True)\n",
       "        (1): Tanh()\n",
       "      )\n",
       "      (output_gate): Sequential(\n",
       "        (0): Linear(in_features=268, out_features=256, bias=True)\n",
       "        (1): Sigmoid()\n",
       "      )\n",
       "      (cell_state_activation): Tanh()\n",
       "    )\n",
       "    (dropout): VariationalDropout()\n",
       "  )\n",
       "  (to_bands): Linear(in_features=256, out_features=12, bias=True)\n",
       ")"
      ]
     },
     "execution_count": 88,
     "metadata": {},
     "output_type": "execute_result"
    }
   ],
   "source": [
    "# How it looks\n",
    "m.forecaster"
   ]
  },
  {
   "cell_type": "markdown",
   "id": "04b46976",
   "metadata": {},
   "source": [
    "## Use forecaster (from Kenya model) to make predictions and computer loss"
   ]
  },
  {
   "cell_type": "code",
   "execution_count": 86,
   "id": "3ec78c99",
   "metadata": {},
   "outputs": [],
   "source": [
    "def predict(X):\n",
    "    Y_pred_unprocessed = m.forecaster(X) # predicts every month except first\n",
    "    Y_pred = Y_pred_unprocessed[:, -forecast_timesteps:, :] # We only need last 7\n",
    "    return Y_pred\n",
    "\n",
    "def compute_loss(Y, Y_pred):\n",
    "    assert Y.shape == Y_pred.shape\n",
    "    return m.forecaster_loss(Y, Y_pred)"
   ]
  },
  {
   "cell_type": "code",
   "execution_count": 84,
   "id": "7d32a980",
   "metadata": {},
   "outputs": [
    {
     "data": {
      "text/plain": [
       "tensor(0.2254, grad_fn=<MeanBackward0>)"
      ]
     },
     "execution_count": 84,
     "metadata": {},
     "output_type": "execute_result"
    }
   ],
   "source": [
    "Y_train_pred = predict(X_train)\n",
    "compute_loss(Y_train, Y_train_pred)"
   ]
  },
  {
   "cell_type": "code",
   "execution_count": 87,
   "id": "9323dfe1",
   "metadata": {},
   "outputs": [
    {
     "data": {
      "text/plain": [
       "tensor(0.2446, grad_fn=<MeanBackward0>)"
      ]
     },
     "execution_count": 87,
     "metadata": {},
     "output_type": "execute_result"
    }
   ],
   "source": [
    "Y_val_pred = predict(X_val)\n",
    "compute_loss(Y_val, Y_val_pred)"
   ]
  },
  {
   "cell_type": "code",
   "execution_count": null,
   "id": "dad3092b",
   "metadata": {},
   "outputs": [],
   "source": []
  }
 ],
 "metadata": {
  "kernelspec": {
   "display_name": "Python 3",
   "language": "python",
   "name": "python3"
  },
  "language_info": {
   "codemirror_mode": {
    "name": "ipython",
    "version": 3
   },
   "file_extension": ".py",
   "mimetype": "text/x-python",
   "name": "python",
   "nbconvert_exporter": "python",
   "pygments_lexer": "ipython3",
   "version": "3.6.13"
  }
 },
 "nbformat": 4,
 "nbformat_minor": 5
}
