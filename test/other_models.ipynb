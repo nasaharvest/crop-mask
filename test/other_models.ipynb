{
 "cells": [
  {
   "cell_type": "markdown",
   "id": "d3d231d9",
   "metadata": {},
   "source": [
    "# Testing with sklearn models"
   ]
  },
  {
   "cell_type": "code",
   "execution_count": 66,
   "id": "0b4a0417",
   "metadata": {},
   "outputs": [],
   "source": [
    "from sklearn.metrics import f1_score, accuracy_score, confusion_matrix, ConfusionMatrixDisplay, precision_score, recall_score\n",
    "from sklearn.ensemble import RandomForestClassifier\n",
    "from sklearn.linear_model import SGDClassifier\n",
    "from sklearn.neighbors import KNeighborsClassifier\n",
    "from sklearn.svm import SVC, LinearSVC\n",
    "from tqdm.notebook import tqdm\n",
    "\n",
    "import numpy as np\n",
    "\n",
    "sys.path.append(\"..\")\n",
    "from src.models.data import CropDataset, BoundingBox\n",
    "from src.datasets_labeled import labeled_datasets"
   ]
  },
  {
   "cell_type": "code",
   "execution_count": 7,
   "id": "64c51591",
   "metadata": {},
   "outputs": [
    {
     "name": "stderr",
     "output_type": "stream",
     "text": [
      "100%|██████████| 61818/61818 [00:15<00:00, 4085.72it/s]\n"
     ]
    }
   ],
   "source": [
    "# Load validation dataset (tensors)\n",
    "datasets = [d for d in labeled_datasets]\n",
    "train = CropDataset(\n",
    "    data_folder=Path(\"../data\"),\n",
    "    subset=\"training\",\n",
    "    datasets=datasets,\n",
    "    cache=None,\n",
    "    noise_factor=0,\n",
    "    probability_threshold=0.5,\n",
    "    remove_b1_b10=True,\n",
    "    upsample=False,\n",
    "    target_bbox=BoundingBox(min_lon=-180, max_lon=180, min_lat=-90, max_lat=90),\n",
    "    is_local_only=False,\n",
    "    is_global_only=False,\n",
    ")"
   ]
  },
  {
   "cell_type": "code",
   "execution_count": 19,
   "id": "2e3aac60",
   "metadata": {},
   "outputs": [
    {
     "name": "stderr",
     "output_type": "stream",
     "text": [
      "100%|██████████| 458/458 [00:00<00:00, 3785.63it/s]\n"
     ]
    }
   ],
   "source": [
    "# Load validation dataset (tensors)\n",
    "dataset_name = \"Uganda\"\n",
    "datasets = [d for d in labeled_datasets if d.dataset == dataset_name]\n",
    "val = CropDataset(\n",
    "    data_folder=Path(\"../data\"),\n",
    "    subset=\"validation\",\n",
    "    datasets=datasets,\n",
    "    cache=None,\n",
    "    noise_factor=0,\n",
    "    probability_threshold=0.5,\n",
    "    remove_b1_b10=True,\n",
    "    normalizing_dict=train.normalizing_dict,\n",
    "    upsample=False,\n",
    "    target_bbox=BoundingBox(min_lon=-180, max_lon=180, min_lat=-90, max_lat=90),\n",
    "    is_local_only=True,\n",
    "    is_global_only=False,\n",
    ")"
   ]
  },
  {
   "cell_type": "code",
   "execution_count": 31,
   "id": "e92407bc",
   "metadata": {},
   "outputs": [
    {
     "data": {
      "application/vnd.jupyter.widget-view+json": {
       "model_id": "1e858aa73a1d4038bd000e9a229859cc",
       "version_major": 2,
       "version_minor": 0
      },
      "text/plain": [
       "  0%|          | 0/61818 [00:00<?, ?it/s]"
      ]
     },
     "metadata": {},
     "output_type": "display_data"
    },
    {
     "data": {
      "application/vnd.jupyter.widget-view+json": {
       "model_id": "d5c08692d1df473cad21c54e61c39caf",
       "version_major": 2,
       "version_minor": 0
      },
      "text/plain": [
       "  0%|          | 0/61818 [00:00<?, ?it/s]"
      ]
     },
     "metadata": {},
     "output_type": "display_data"
    }
   ],
   "source": [
    "X_train = [t[0].numpy().flatten() for t in tqdm(train)]\n",
    "y_train = [float(t[1]) for t in tqdm(train)]"
   ]
  },
  {
   "cell_type": "code",
   "execution_count": 32,
   "id": "6d05df10",
   "metadata": {},
   "outputs": [
    {
     "data": {
      "application/vnd.jupyter.widget-view+json": {
       "model_id": "36e7318e64824896b8bcd8e9593a4af1",
       "version_major": 2,
       "version_minor": 0
      },
      "text/plain": [
       "  0%|          | 0/458 [00:00<?, ?it/s]"
      ]
     },
     "metadata": {},
     "output_type": "display_data"
    },
    {
     "data": {
      "application/vnd.jupyter.widget-view+json": {
       "model_id": "8b8d53f085e0408eb25e235753fdf736",
       "version_major": 2,
       "version_minor": 0
      },
      "text/plain": [
       "  0%|          | 0/458 [00:00<?, ?it/s]"
      ]
     },
     "metadata": {},
     "output_type": "display_data"
    }
   ],
   "source": [
    "X_val = [v[0].numpy().flatten() for v in tqdm(val)]\n",
    "y_val = [float(v[1]) for v in tqdm(val)]"
   ]
  },
  {
   "cell_type": "code",
   "execution_count": 48,
   "id": "f5f6f8b5",
   "metadata": {},
   "outputs": [
    {
     "data": {
      "text/plain": [
       "0.3102009123556246"
      ]
     },
     "execution_count": 48,
     "metadata": {},
     "output_type": "execute_result"
    }
   ],
   "source": [
    "y_train.count(1.0) / len(y_train)"
   ]
  },
  {
   "cell_type": "code",
   "execution_count": 49,
   "id": "72072358",
   "metadata": {},
   "outputs": [
    {
     "data": {
      "text/plain": [
       "0.6897990876443755"
      ]
     },
     "execution_count": 49,
     "metadata": {},
     "output_type": "execute_result"
    }
   ],
   "source": [
    "y_train.count(0.0) / len(y_train)"
   ]
  },
  {
   "cell_type": "code",
   "execution_count": 54,
   "id": "f7f33c63",
   "metadata": {},
   "outputs": [],
   "source": [
    "def test_classifier(clf):\n",
    "    print(\"Fitting...\")\n",
    "    clf.fit(X_train, y_train)\n",
    "    print(\"Predicting...\")\n",
    "    y_val_pred = clf.predict(X_val)\n",
    "    \n",
    "    print(f\"Accuracy: {accuracy_score(y_val, y_val_pred)}\")\n",
    "    print(f\"Precision: {precision_score(y_val, y_val_pred)}\")\n",
    "    print(f\"Recall: {recall_score(y_val, y_val_pred)}\")\n",
    "    print(f\"F1: {f1_score(y_val, y_val_pred)}\")\n",
    "    return y_val_pred"
   ]
  },
  {
   "cell_type": "code",
   "execution_count": 55,
   "id": "13e536e3",
   "metadata": {},
   "outputs": [
    {
     "name": "stdout",
     "output_type": "stream",
     "text": [
      "Fitting...\n",
      "Predicting...\n",
      "Accuracy: 0.8187772925764192\n",
      "Precision: 0.3333333333333333\n",
      "Recall: 0.38333333333333336\n",
      "F1: 0.3565891472868217\n"
     ]
    }
   ],
   "source": [
    "y_val_rf = test_classifier(RandomForestClassifier())"
   ]
  },
  {
   "cell_type": "code",
   "execution_count": 56,
   "id": "a508c9ad",
   "metadata": {},
   "outputs": [
    {
     "name": "stdout",
     "output_type": "stream",
     "text": [
      "Fitting...\n",
      "Predicting...\n",
      "Accuracy: 0.7947598253275109\n",
      "Precision: 0.3425925925925926\n",
      "Recall: 0.6166666666666667\n",
      "F1: 0.4404761904761905\n"
     ]
    }
   ],
   "source": [
    "y_val_scv = test_classifier(SVC())"
   ]
  },
  {
   "cell_type": "code",
   "execution_count": 59,
   "id": "f2a884ad",
   "metadata": {},
   "outputs": [
    {
     "name": "stdout",
     "output_type": "stream",
     "text": [
      "Fitting...\n",
      "Predicting...\n",
      "Accuracy: 0.759825327510917\n",
      "Precision: 0.2767857142857143\n",
      "Recall: 0.5166666666666667\n",
      "F1: 0.3604651162790698\n"
     ]
    }
   ],
   "source": [
    "y_val_knn = test_classifier(KNeighborsClassifier())"
   ]
  },
  {
   "cell_type": "code",
   "execution_count": 63,
   "id": "7a344cc4",
   "metadata": {},
   "outputs": [
    {
     "name": "stdout",
     "output_type": "stream",
     "text": [
      "Fitting...\n",
      "Predicting...\n",
      "Accuracy: 0.7270742358078602\n",
      "Precision: 0.24806201550387597\n",
      "Recall: 0.5333333333333333\n",
      "F1: 0.3386243386243386\n"
     ]
    },
    {
     "name": "stderr",
     "output_type": "stream",
     "text": [
      "/opt/anaconda3/envs/landcover-mapping/lib/python3.6/site-packages/sklearn/svm/_base.py:986: ConvergenceWarning: Liblinear failed to converge, increase the number of iterations.\n",
      "  \"the number of iterations.\", ConvergenceWarning)\n"
     ]
    }
   ],
   "source": [
    "y_val_linear_svc = test_classifier(LinearSVC())"
   ]
  },
  {
   "cell_type": "code",
   "execution_count": 64,
   "id": "672dd205",
   "metadata": {},
   "outputs": [
    {
     "name": "stdout",
     "output_type": "stream",
     "text": [
      "Fitting...\n",
      "Predicting...\n",
      "Accuracy: 0.648471615720524\n",
      "Precision: 0.22099447513812154\n",
      "Recall: 0.6666666666666666\n",
      "F1: 0.33195020746887965\n"
     ]
    }
   ],
   "source": [
    "y_val_sgd = test_classifier(SGDClassifier())"
   ]
  },
  {
   "cell_type": "code",
   "execution_count": 69,
   "id": "2235a983",
   "metadata": {},
   "outputs": [],
   "source": [
    "y_val_ensemble = np.array([np.array(y) for y in [y_val_sgd, y_val_linear_svc, y_val_knn, y_val_scv, y_val_rf]])"
   ]
  },
  {
   "cell_type": "code",
   "execution_count": 76,
   "id": "f23244bd",
   "metadata": {},
   "outputs": [],
   "source": [
    "y_val_ensemble_pred = (y_val_ensemble.mean(axis=0) > 0.5).astype(int)"
   ]
  },
  {
   "cell_type": "code",
   "execution_count": 77,
   "id": "860b344c",
   "metadata": {},
   "outputs": [
    {
     "data": {
      "text/plain": [
       "0.43037974683544306"
      ]
     },
     "execution_count": 77,
     "metadata": {},
     "output_type": "execute_result"
    }
   ],
   "source": [
    "# SVC is still better\n",
    "f1_score(y_val, y_val_ensemble_pred)"
   ]
  },
  {
   "cell_type": "code",
   "execution_count": null,
   "id": "02666cc4",
   "metadata": {},
   "outputs": [],
   "source": []
  }
 ],
 "metadata": {
  "kernelspec": {
   "display_name": "Python 3",
   "language": "python",
   "name": "python3"
  },
  "language_info": {
   "codemirror_mode": {
    "name": "ipython",
    "version": 3
   },
   "file_extension": ".py",
   "mimetype": "text/x-python",
   "name": "python",
   "nbconvert_exporter": "python",
   "pygments_lexer": "ipython3",
   "version": "3.6.13"
  }
 },
 "nbformat": 4,
 "nbformat_minor": 5
}
