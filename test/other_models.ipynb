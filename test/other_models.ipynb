{
 "cells": [
  {
   "cell_type": "markdown",
   "id": "d3d231d9",
   "metadata": {},
   "source": [
    "# Testing with sklearn models"
   ]
  },
  {
   "cell_type": "code",
   "execution_count": 29,
   "id": "0b4a0417",
   "metadata": {},
   "outputs": [],
   "source": [
    "from pathlib import Path\n",
    "from sklearn.metrics import f1_score, accuracy_score, confusion_matrix, ConfusionMatrixDisplay, precision_score, recall_score\n",
    "from sklearn.ensemble import RandomForestClassifier\n",
    "from sklearn.linear_model import SGDClassifier\n",
    "from sklearn.neighbors import KNeighborsClassifier\n",
    "from sklearn.svm import SVC, LinearSVC\n",
    "from tqdm.notebook import tqdm\n",
    "\n",
    "import numpy as np\n",
    "import pandas as pd\n",
    "import sys \n",
    "\n",
    "sys.path.append(\"..\")\n",
    "from src.models.data import CropDataset, BoundingBox\n",
    "from src.datasets_labeled import labeled_datasets"
   ]
  },
  {
   "cell_type": "code",
   "execution_count": 6,
   "id": "64c51591",
   "metadata": {},
   "outputs": [
    {
     "name": "stderr",
     "output_type": "stream",
     "text": [
      "100%|██████████| 61818/61818 [00:20<00:00, 3050.19it/s]\n"
     ]
    }
   ],
   "source": [
    "# Load validation dataset (tensors)\n",
    "datasets = [d for d in labeled_datasets if d.dataset != \"Ethiopia\"]\n",
    "train = CropDataset(\n",
    "    data_folder=Path(\"../data\"),\n",
    "    subset=\"training\",\n",
    "    datasets=datasets,\n",
    "    cache=None,\n",
    "    noise_factor=0,\n",
    "    probability_threshold=0.5,\n",
    "    remove_b1_b10=True,\n",
    "    upsample=False,\n",
    "    target_bbox=BoundingBox(min_lon=-180, max_lon=180, min_lat=-90, max_lat=90),\n",
    "    is_local_only=False,\n",
    "    is_global_only=False,\n",
    ")"
   ]
  },
  {
   "cell_type": "code",
   "execution_count": 24,
   "id": "4b9b9e8f",
   "metadata": {},
   "outputs": [],
   "source": [
    "def generate_validation_X_y(labeled_dataset):\n",
    "    val = CropDataset(\n",
    "        data_folder=Path(\"../data\"),\n",
    "        subset=\"validation\",\n",
    "        datasets=[labeled_dataset],\n",
    "        cache=None,\n",
    "        noise_factor=0,\n",
    "        probability_threshold=0.5,\n",
    "        remove_b1_b10=True,\n",
    "        normalizing_dict=train.normalizing_dict,\n",
    "        upsample=False,\n",
    "        target_bbox=BoundingBox(min_lon=-180, max_lon=180, min_lat=-90, max_lat=90),\n",
    "        is_local_only=False,\n",
    "        is_global_only=False,\n",
    "    )\n",
    "    return generate_X_y(val)"
   ]
  },
  {
   "cell_type": "code",
   "execution_count": 9,
   "id": "4f67a2a5",
   "metadata": {},
   "outputs": [],
   "source": [
    "def generate_X_y(dataset):\n",
    "    X = [t[0].numpy().flatten() for t in tqdm(dataset)]\n",
    "    y = [float(t[1]) for t in tqdm(dataset)]\n",
    "    return X, y"
   ]
  },
  {
   "cell_type": "code",
   "execution_count": 8,
   "id": "e92407bc",
   "metadata": {},
   "outputs": [
    {
     "data": {
      "application/vnd.jupyter.widget-view+json": {
       "model_id": "5ebbea2394f34eacafbc0ccabf207323",
       "version_major": 2,
       "version_minor": 0
      },
      "text/plain": [
       "  0%|          | 0/61818 [00:00<?, ?it/s]"
      ]
     },
     "metadata": {},
     "output_type": "display_data"
    },
    {
     "data": {
      "application/vnd.jupyter.widget-view+json": {
       "model_id": "26e23b96c4dc4b6fb1311371116090f1",
       "version_major": 2,
       "version_minor": 0
      },
      "text/plain": [
       "  0%|          | 0/61818 [00:00<?, ?it/s]"
      ]
     },
     "metadata": {},
     "output_type": "display_data"
    }
   ],
   "source": [
    "X_train, y_train = generate_X_y(train)"
   ]
  },
  {
   "cell_type": "code",
   "execution_count": 10,
   "id": "6d05df10",
   "metadata": {},
   "outputs": [
    {
     "data": {
      "application/vnd.jupyter.widget-view+json": {
       "model_id": "e6579dddcfc24d7f9ee40cf50276fdf6",
       "version_major": 2,
       "version_minor": 0
      },
      "text/plain": [
       "  0%|          | 0/458 [00:00<?, ?it/s]"
      ]
     },
     "metadata": {},
     "output_type": "display_data"
    },
    {
     "data": {
      "application/vnd.jupyter.widget-view+json": {
       "model_id": "84e0ff3b078e4295a70543ffda7bd4c1",
       "version_major": 2,
       "version_minor": 0
      },
      "text/plain": [
       "  0%|          | 0/458 [00:00<?, ?it/s]"
      ]
     },
     "metadata": {},
     "output_type": "display_data"
    }
   ],
   "source": [
    "X_val, y_val = generate_X_y(val)"
   ]
  },
  {
   "cell_type": "code",
   "execution_count": 16,
   "id": "49872c41",
   "metadata": {},
   "outputs": [
    {
     "name": "stdout",
     "output_type": "stream",
     "text": [
      "RandomForest\n",
      "SVC\n"
     ]
    }
   ],
   "source": [
    "classifiers = {\n",
    "    \"RandomForest\": RandomForestClassifier(),\n",
    "    \"SVC\": SVC(),\n",
    "}\n",
    "\n",
    "# Fit classifiers\n",
    "for name, clf in classifiers.items():\n",
    "    print(f\"Fitting: {name}\")\n",
    "    clf.fit(X_train, y_train)"
   ]
  },
  {
   "cell_type": "code",
   "execution_count": 26,
   "id": "c6a9dab4",
   "metadata": {},
   "outputs": [
    {
     "data": {
      "application/vnd.jupyter.widget-view+json": {
       "model_id": "31f2428239dc4f1783e93b32b040cce7",
       "version_major": 2,
       "version_minor": 0
      },
      "text/plain": [
       "  0%|          | 0/861 [00:00<?, ?it/s]"
      ]
     },
     "metadata": {},
     "output_type": "display_data"
    },
    {
     "data": {
      "application/vnd.jupyter.widget-view+json": {
       "model_id": "243772f970a14883bce5761bc306a74e",
       "version_major": 2,
       "version_minor": 0
      },
      "text/plain": [
       "  0%|          | 0/861 [00:00<?, ?it/s]"
      ]
     },
     "metadata": {},
     "output_type": "display_data"
    },
    {
     "data": {
      "application/vnd.jupyter.widget-view+json": {
       "model_id": "3bc1946dec314348a32fc7bf00e5b128",
       "version_major": 2,
       "version_minor": 0
      },
      "text/plain": [
       "  0%|          | 0/277 [00:00<?, ?it/s]"
      ]
     },
     "metadata": {},
     "output_type": "display_data"
    },
    {
     "data": {
      "application/vnd.jupyter.widget-view+json": {
       "model_id": "b9386c012ac6453092da71141bfa6339",
       "version_major": 2,
       "version_minor": 0
      },
      "text/plain": [
       "  0%|          | 0/277 [00:00<?, ?it/s]"
      ]
     },
     "metadata": {},
     "output_type": "display_data"
    },
    {
     "data": {
      "application/vnd.jupyter.widget-view+json": {
       "model_id": "2128f67e7ad5402baf6c2355135a2ae1",
       "version_major": 2,
       "version_minor": 0
      },
      "text/plain": [
       "  0%|          | 0/538 [00:00<?, ?it/s]"
      ]
     },
     "metadata": {},
     "output_type": "display_data"
    },
    {
     "data": {
      "application/vnd.jupyter.widget-view+json": {
       "model_id": "454272e21cc84c5292b2c3bc309a448a",
       "version_major": 2,
       "version_minor": 0
      },
      "text/plain": [
       "  0%|          | 0/538 [00:00<?, ?it/s]"
      ]
     },
     "metadata": {},
     "output_type": "display_data"
    },
    {
     "data": {
      "application/vnd.jupyter.widget-view+json": {
       "model_id": "22ae20c8374c4434877225c00e8819e3",
       "version_major": 2,
       "version_minor": 0
      },
      "text/plain": [
       "  0%|          | 0/458 [00:00<?, ?it/s]"
      ]
     },
     "metadata": {},
     "output_type": "display_data"
    },
    {
     "data": {
      "application/vnd.jupyter.widget-view+json": {
       "model_id": "e21701038dcc4a2b87197436592e7260",
       "version_major": 2,
       "version_minor": 0
      },
      "text/plain": [
       "  0%|          | 0/458 [00:00<?, ?it/s]"
      ]
     },
     "metadata": {},
     "output_type": "display_data"
    }
   ],
   "source": [
    "results = {}\n",
    "for d in labeled_datasets:\n",
    "    if d.dataset not in [\"Kenya\", \"Togo\", \"Uganda\", \"Rwanda\"]:\n",
    "        continue\n",
    "    results[d.dataset] = {}\n",
    "    X_val, y_val = generate_validation_X_y(d)\n",
    "    for name, clf in classifiers.items():\n",
    "        y_pred = clf.predict(X_val)\n",
    "        results[d.dataset][name] = f1_score(y_val, y_pred)\n",
    "\n",
    "        "
   ]
  },
  {
   "cell_type": "code",
   "execution_count": 30,
   "id": "5b02a42e",
   "metadata": {},
   "outputs": [
    {
     "data": {
      "text/html": [
       "<div>\n",
       "<style scoped>\n",
       "    .dataframe tbody tr th:only-of-type {\n",
       "        vertical-align: middle;\n",
       "    }\n",
       "\n",
       "    .dataframe tbody tr th {\n",
       "        vertical-align: top;\n",
       "    }\n",
       "\n",
       "    .dataframe thead th {\n",
       "        text-align: right;\n",
       "    }\n",
       "</style>\n",
       "<table border=\"1\" class=\"dataframe\">\n",
       "  <thead>\n",
       "    <tr style=\"text-align: right;\">\n",
       "      <th></th>\n",
       "      <th>Kenya</th>\n",
       "      <th>Togo</th>\n",
       "      <th>Rwanda</th>\n",
       "      <th>Uganda</th>\n",
       "    </tr>\n",
       "  </thead>\n",
       "  <tbody>\n",
       "    <tr>\n",
       "      <th>RandomForest</th>\n",
       "      <td>0.929553</td>\n",
       "      <td>0.669231</td>\n",
       "      <td>0.514793</td>\n",
       "      <td>0.375000</td>\n",
       "    </tr>\n",
       "    <tr>\n",
       "      <th>SVC</th>\n",
       "      <td>0.925226</td>\n",
       "      <td>0.602410</td>\n",
       "      <td>0.578431</td>\n",
       "      <td>0.440476</td>\n",
       "    </tr>\n",
       "  </tbody>\n",
       "</table>\n",
       "</div>"
      ],
      "text/plain": [
       "                 Kenya      Togo    Rwanda    Uganda\n",
       "RandomForest  0.929553  0.669231  0.514793  0.375000\n",
       "SVC           0.925226  0.602410  0.578431  0.440476"
      ]
     },
     "execution_count": 30,
     "metadata": {},
     "output_type": "execute_result"
    }
   ],
   "source": [
    "pd.DataFrame(results)"
   ]
  },
  {
   "cell_type": "code",
   "execution_count": null,
   "id": "02666cc4",
   "metadata": {},
   "outputs": [],
   "source": []
  }
 ],
 "metadata": {
  "kernelspec": {
   "display_name": "Python 3",
   "language": "python",
   "name": "python3"
  },
  "language_info": {
   "codemirror_mode": {
    "name": "ipython",
    "version": 3
   },
   "file_extension": ".py",
   "mimetype": "text/x-python",
   "name": "python",
   "nbconvert_exporter": "python",
   "pygments_lexer": "ipython3",
   "version": "3.6.13"
  }
 },
 "nbformat": 4,
 "nbformat_minor": 5
}
